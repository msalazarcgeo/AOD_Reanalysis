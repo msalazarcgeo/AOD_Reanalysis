{
 "cells": [
  {
   "cell_type": "markdown",
   "id": "85eb6352-4c0e-4ad7-8f36-64b3c6ccfd1a",
   "metadata": {},
   "source": [
    "# Download data from Google Earth Engine\n",
    "\n",
    "The following notebook is an example to download data from Google Earth Engine (GEE). This is a copy from the original, some code has change to be in acordance with the most recent libraries changes and the changes in GEE. \n",
    "\n",
    "This should be run on a jupyterlab, the use of this notebook on something like visualstudio code is not granted, the Authenticate by Earth Engine is not posible since the output of the cell somethimes can't been seen. This error is not constant an is time consuming to try to fixed therefore the use of jupyterlab is preferd. "
   ]
  },
  {
   "cell_type": "code",
   "execution_count": null,
   "id": "f258139e-d028-4928-89ac-f6c1a853e485",
   "metadata": {},
   "outputs": [],
   "source": [
    "import ee\n",
    "import geemap\n",
    "import folium\n",
    "import os \n",
    "import rasterio\n",
    "import numpy as np\n",
    "import requests \n",
    "import zipfile\n",
    "import time"
   ]
  },
  {
   "cell_type": "code",
   "execution_count": null,
   "id": "9064724e-75f1-426b-a547-e222237de8d2",
   "metadata": {},
   "outputs": [
    {
     "data": {
      "text/html": [
       "\n",
       "            <style>\n",
       "                .geemap-dark {\n",
       "                    --jp-widgets-color: white;\n",
       "                    --jp-widgets-label-color: white;\n",
       "                    --jp-ui-font-color1: white;\n",
       "                    --jp-layout-color2: #454545;\n",
       "                    background-color: #383838;\n",
       "                }\n",
       "\n",
       "                .geemap-dark .jupyter-button {\n",
       "                    --jp-layout-color3: #383838;\n",
       "                }\n",
       "\n",
       "                .geemap-colab {\n",
       "                    background-color: var(--colab-primary-surface-color, white);\n",
       "                }\n",
       "\n",
       "                .geemap-colab .jupyter-button {\n",
       "                    --jp-layout-color3: var(--colab-primary-surface-color, white);\n",
       "                }\n",
       "            </style>\n",
       "            "
      ],
      "text/plain": [
       "<IPython.core.display.HTML object>"
      ]
     },
     "metadata": {},
     "output_type": "display_data"
    },
    {
     "data": {
      "text/plain": [
       "True"
      ]
     },
     "execution_count": null,
     "metadata": {},
     "output_type": "execute_result"
    }
   ],
   "source": [
    "ee.Authenticate()"
   ]
  },
  {
   "cell_type": "code",
   "execution_count": null,
   "id": "cd1f41ad-38c8-41d8-96da-3c1c946392f5",
   "metadata": {},
   "outputs": [
    {
     "data": {
      "text/html": [
       "\n",
       "            <style>\n",
       "                .geemap-dark {\n",
       "                    --jp-widgets-color: white;\n",
       "                    --jp-widgets-label-color: white;\n",
       "                    --jp-ui-font-color1: white;\n",
       "                    --jp-layout-color2: #454545;\n",
       "                    background-color: #383838;\n",
       "                }\n",
       "\n",
       "                .geemap-dark .jupyter-button {\n",
       "                    --jp-layout-color3: #383838;\n",
       "                }\n",
       "\n",
       "                .geemap-colab {\n",
       "                    background-color: var(--colab-primary-surface-color, white);\n",
       "                }\n",
       "\n",
       "                .geemap-colab .jupyter-button {\n",
       "                    --jp-layout-color3: var(--colab-primary-surface-color, white);\n",
       "                }\n",
       "            </style>\n",
       "            "
      ],
      "text/plain": [
       "<IPython.core.display.HTML object>"
      ]
     },
     "metadata": {},
     "output_type": "display_data"
    },
    {
     "name": "stderr",
     "output_type": "stream",
     "text": [
      "*** Earth Engine *** Share your feedback by taking our Annual Developer Satisfaction Survey: https://google.qualtrics.com/jfe/form/SV_7TDKVSyKvBdmMqW?ref=4i2o6\n"
     ]
    }
   ],
   "source": [
    "ee.Initialize()\n"
   ]
  },
  {
   "cell_type": "code",
   "execution_count": null,
   "id": "2ecc17c0-17b3-4a29-992d-9822c6883bd8",
   "metadata": {},
   "outputs": [
    {
     "data": {
      "text/html": [
       "\n",
       "            <style>\n",
       "                .geemap-dark {\n",
       "                    --jp-widgets-color: white;\n",
       "                    --jp-widgets-label-color: white;\n",
       "                    --jp-ui-font-color1: white;\n",
       "                    --jp-layout-color2: #454545;\n",
       "                    background-color: #383838;\n",
       "                }\n",
       "\n",
       "                .geemap-dark .jupyter-button {\n",
       "                    --jp-layout-color3: #383838;\n",
       "                }\n",
       "\n",
       "                .geemap-colab {\n",
       "                    background-color: var(--colab-primary-surface-color, white);\n",
       "                }\n",
       "\n",
       "                .geemap-colab .jupyter-button {\n",
       "                    --jp-layout-color3: var(--colab-primary-surface-color, white);\n",
       "                }\n",
       "            </style>\n",
       "            "
      ],
      "text/plain": [
       "<IPython.core.display.HTML object>"
      ]
     },
     "metadata": {},
     "output_type": "display_data"
    }
   ],
   "source": [
    "#| export\n",
    "def humedad_relativa(image):\n",
    "    # Se utiliza la siguiente formula \n",
    "      # e = 6.1078 *math.exp((17.1*Tem_dew)/(235+Tem_dew) )\n",
    "      # e_s = 6.1078 *math.exp((17.1*Temp)/(235+Temp) )\n",
    "      # HR = (e/e_s)*100\n",
    "   \n",
    "    lambda_i = 240.97\n",
    "    beta_i = 17.502 #### #17.1; #17.625;\n",
    "    coef= 611.21; ####// reference level water vapor pressure at 273.15 K\n",
    "    dew_point =  image.select('dewpoint_temperature_2m')\n",
    "    temp_2m =  image.select('temperature_2m')\n",
    "    evap = image.select('total_evaporation')\n",
    "    tot_pre_h = image.select('total_precipitation_hourly')\n",
    "    tot_pre = image.select('total_precipitation')\n",
    "    e_up  =  dew_point.multiply(beta_i)\n",
    "    e_dow =   dew_point.add(lambda_i)\n",
    "    e = ((e_up.divide(e_dow)).exp()).multiply(coef)\n",
    "    e_s_up  =  temp_2m.multiply(beta_i)\n",
    "    e_s_dow =   temp_2m.add(lambda_i);\n",
    "    e_s   = ((e_s_up.divide(e_s_dow)).exp()).multiply(coef);\n",
    "    rel_hum = (e.divide(e_s)).multiply(100);\n",
    "    \n",
    "    rel_hum = rel_hum.select(['dewpoint_temperature_2m']).rename(['relative_humidity']);\n",
    "      \n",
    "    evap_mul = evap.multiply(lambda_i);\n",
    "    tot_pre_h_mul = tot_pre_h.multiply(beta_i);\n",
    "    tot_pre_mul =   tot_pre.multiply(coef);\n",
    "    tonteria = (evap_mul.add(tot_pre_h_mul)).add(tot_pre_mul)\n",
    "    tonteria = tonteria.select(['total_evaporation']).rename(['tonteria']);\n",
    "    rel_hum.select(['dewpoint_temperature_2m']).rename(['relative_humidity']);\n",
    "    \n",
    "    image = image.addBands([rel_hum, tonteria]);\n",
    "    \n",
    "    return image\n"
   ]
  },
  {
   "cell_type": "code",
   "execution_count": null,
   "id": "0aca0070-971b-4bc3-8ebb-4e45e71d1e55",
   "metadata": {},
   "outputs": [
    {
     "data": {
      "text/html": [
       "\n",
       "            <style>\n",
       "                .geemap-dark {\n",
       "                    --jp-widgets-color: white;\n",
       "                    --jp-widgets-label-color: white;\n",
       "                    --jp-ui-font-color1: white;\n",
       "                    --jp-layout-color2: #454545;\n",
       "                    background-color: #383838;\n",
       "                }\n",
       "\n",
       "                .geemap-dark .jupyter-button {\n",
       "                    --jp-layout-color3: #383838;\n",
       "                }\n",
       "\n",
       "                .geemap-colab {\n",
       "                    background-color: var(--colab-primary-surface-color, white);\n",
       "                }\n",
       "\n",
       "                .geemap-colab .jupyter-button {\n",
       "                    --jp-layout-color3: var(--colab-primary-surface-color, white);\n",
       "                }\n",
       "            </style>\n",
       "            "
      ],
      "text/plain": [
       "<IPython.core.display.HTML object>"
      ]
     },
     "metadata": {},
     "output_type": "display_data"
    }
   ],
   "source": [
    "def  get_image_raster_mean(collection, start_date, end_date):\n",
    "    \n",
    "    \n",
    "    numberOfDays = end_date.difference(start_date, 'days')\n",
    "    lapse = ee.List.sequence(0, numberOfDays.subtract(1)) \n",
    "    def next_day(day):\n",
    "        return ee.Date(start_date).advance(day, 'day')\n",
    "    \n",
    "    listdates = lapse.map(next_day)\n",
    "    def mean_day(day):\n",
    "        day_collection = collection.filter(ee.Filter.date(day,ee.Date(day).advance(1, 'day') ))\n",
    "        mean_day=  day_collection.mean();\n",
    "        mean_day= mean_day.set('day' , day)\n",
    "        return mean_day\n",
    "    \n",
    "    image_means = listdates.map(mean_day)\n",
    "    \n",
    "    return ee.ImageCollection(image_means);\n",
    "\n"
   ]
  },
  {
   "cell_type": "code",
   "execution_count": null,
   "id": "629a8f22-2323-4f28-8d3d-bacef31d1aea",
   "metadata": {},
   "outputs": [
    {
     "data": {
      "text/html": [
       "\n",
       "            <style>\n",
       "                .geemap-dark {\n",
       "                    --jp-widgets-color: white;\n",
       "                    --jp-widgets-label-color: white;\n",
       "                    --jp-ui-font-color1: white;\n",
       "                    --jp-layout-color2: #454545;\n",
       "                    background-color: #383838;\n",
       "                }\n",
       "\n",
       "                .geemap-dark .jupyter-button {\n",
       "                    --jp-layout-color3: #383838;\n",
       "                }\n",
       "\n",
       "                .geemap-colab {\n",
       "                    background-color: var(--colab-primary-surface-color, white);\n",
       "                }\n",
       "\n",
       "                .geemap-colab .jupyter-button {\n",
       "                    --jp-layout-color3: var(--colab-primary-surface-color, white);\n",
       "                }\n",
       "            </style>\n",
       "            "
      ],
      "text/plain": [
       "<IPython.core.display.HTML object>"
      ]
     },
     "metadata": {},
     "output_type": "display_data"
    }
   ],
   "source": [
    "\n",
    "def ima_land_reproject (image_col, reproject_pro ):\n",
    "    return ee.Image(image_col).resample('bilinear').reproject(crs= reproject_pro, scale=926.625 )\n",
    "    #return ee.Image(image_col).reproject(crs= proj_, scale=926.625 )\n",
    "\n",
    "    \n",
    "    \n",
    "def ima_land_reproject_no_resample(image_col, reproject_pro ):\n",
    "    return ee.Image(image_col).reproject(crs= reproject_pro, scale=926.625 )\n",
    "    #return ee.Image(image_col).reproject(crs= proj_, scale=926.625 )\n",
    "    \n"
   ]
  },
  {
   "cell_type": "code",
   "execution_count": null,
   "id": "9a7eab72-20c8-42f0-aacd-ee9c5f7f5ca2",
   "metadata": {},
   "outputs": [
    {
     "data": {
      "text/html": [
       "\n",
       "            <style>\n",
       "                .geemap-dark {\n",
       "                    --jp-widgets-color: white;\n",
       "                    --jp-widgets-label-color: white;\n",
       "                    --jp-ui-font-color1: white;\n",
       "                    --jp-layout-color2: #454545;\n",
       "                    background-color: #383838;\n",
       "                }\n",
       "\n",
       "                .geemap-dark .jupyter-button {\n",
       "                    --jp-layout-color3: #383838;\n",
       "                }\n",
       "\n",
       "                .geemap-colab {\n",
       "                    background-color: var(--colab-primary-surface-color, white);\n",
       "                }\n",
       "\n",
       "                .geemap-colab .jupyter-button {\n",
       "                    --jp-layout-color3: var(--colab-primary-surface-color, white);\n",
       "                }\n",
       "            </style>\n",
       "            "
      ],
      "text/plain": [
       "<IPython.core.display.HTML object>"
      ]
     },
     "metadata": {},
     "output_type": "display_data"
    }
   ],
   "source": [
    "def get_geo_tif(image,\n",
    "                file_name_tif,\n",
    "                unmask_val = -100, \n",
    "                url_params = None,\n",
    "                re_fill_nan = True,\n",
    "                timeout=300):\n",
    "    \"\"\"Save the image as geotiff\"\"\"\n",
    "    \n",
    "    if url_params is None:\n",
    "        url_params =  {\n",
    "            'bands': [\n",
    "              \"dewpoint_temperature_2m\",\n",
    "              \"total_evaporation\",\n",
    "              \"temperature_2m\",\n",
    "              \"total_precipitation_hourly\",\n",
    "              \"total_precipitation\",\n",
    "              \"relative_humidity\",\n",
    "              \"Optical_Depth_047\",\n",
    "              \"AOD_Uncertainty\"\n",
    "            ],\n",
    "            'format': \"GEO_TIFF\"\n",
    "            }\n",
    "    \n",
    "    try:\n",
    "        url_image = image.unmask(unmask_val).getDownloadUrl(url_params)\n",
    "    except Exception as e:\n",
    "        print(\"An error occurred while downloading.\")\n",
    "        print(e)\n",
    "        return\n",
    "    print('getting url: \\n', url_image)\n",
    "    r= requests.get(url_image, stream=True, timeout=timeout)\n",
    "    if r.status_code != 200:\n",
    "        print(\"An error occurred while downloading.\")\n",
    "        return\n",
    "    \n",
    "    print('Saving at : \\n', file_name_tif)\n",
    "    with open(file_name_tif, \"wb\") as fd:\n",
    "        for chunk in r.iter_content(chunk_size=1024):\n",
    "            fd.write(chunk)\n",
    "        fd.close()\n",
    "    \n",
    "    \n",
    "    if re_fill_nan:\n",
    "        print(\"Fill values with Nan\")\n",
    "        bands_change_nan(file_name_tif)\n",
    "    \n",
    "    \n",
    "    return \n"
   ]
  },
  {
   "cell_type": "code",
   "execution_count": null,
   "id": "208b9275-0f80-4f81-a5c0-d16687c011ea",
   "metadata": {},
   "outputs": [
    {
     "data": {
      "text/html": [
       "\n",
       "            <style>\n",
       "                .geemap-dark {\n",
       "                    --jp-widgets-color: white;\n",
       "                    --jp-widgets-label-color: white;\n",
       "                    --jp-ui-font-color1: white;\n",
       "                    --jp-layout-color2: #454545;\n",
       "                    background-color: #383838;\n",
       "                }\n",
       "\n",
       "                .geemap-dark .jupyter-button {\n",
       "                    --jp-layout-color3: #383838;\n",
       "                }\n",
       "\n",
       "                .geemap-colab {\n",
       "                    background-color: var(--colab-primary-surface-color, white);\n",
       "                }\n",
       "\n",
       "                .geemap-colab .jupyter-button {\n",
       "                    --jp-layout-color3: var(--colab-primary-surface-color, white);\n",
       "                }\n",
       "            </style>\n",
       "            "
      ],
      "text/plain": [
       "<IPython.core.display.HTML object>"
      ]
     },
     "metadata": {},
     "output_type": "display_data"
    }
   ],
   "source": [
    "def get_geo_collection(gee_collection, \n",
    "                       path, \n",
    "                       file_names, \n",
    "                       unmask_value= -100,\n",
    "                       re_fill_nan= True,\n",
    "                       timeout=300,\n",
    "                       ):\n",
    "    \"\"\"Funcion to get all the collection\"\"\"\n",
    "    count = int(gee_collection.size().getInfo())\n",
    "\n",
    "    if file_names is None:\n",
    "        file_names = ee_object.aggregate_array(\"system:index\").getInfo()\n",
    "        \n",
    "    elif isinstance(file_names, int):\n",
    "        file_names = [str(f + file_names) for f in range(0, count)]\n",
    "    \n",
    "    if len(file_names) != count:\n",
    "        raise Exception(\n",
    "            \"The number of filenames must be equal to the number of images.\"\n",
    "        )\n",
    "    file_names = [str(f) + \".tif\" for f in file_names if not str(f).endswith(\".tif\")]\n",
    "    \n",
    "    for i in range(0, count):\n",
    "        image = ee.Image(gee_collection.toList(count).get(i))\n",
    "        filename = os.path.join(path, file_names[i])\n",
    "        print(f\"Exporting {i + 1}/{count}: {filename}\")\n",
    "        get_geo_tif(\n",
    "            image,\n",
    "            file_name_tif = filename,\n",
    "            unmask_val = unmask_value,\n",
    "            re_fill_nan = re_fill_nan,\n",
    "            timeout = timeout\n",
    "        )\n",
    "        print(\"\\n\")\n"
   ]
  },
  {
   "cell_type": "markdown",
   "id": "ea282f06-479d-4dcb-92af-2b614669938c",
   "metadata": {},
   "source": [
    "The use of the GEE collection **'MODIS/061/MCD19A2_GRANULES'** is use insted of **MODIS/006/MCD19A2_GRANULES** this is becauuse the secon one has been discontinued. "
   ]
  },
  {
   "cell_type": "code",
   "execution_count": null,
   "id": "33df13f9-ee22-42cc-86f0-0b8452cf40f0",
   "metadata": {},
   "outputs": [
    {
     "data": {
      "text/html": [
       "\n",
       "            <style>\n",
       "                .geemap-dark {\n",
       "                    --jp-widgets-color: white;\n",
       "                    --jp-widgets-label-color: white;\n",
       "                    --jp-ui-font-color1: white;\n",
       "                    --jp-layout-color2: #454545;\n",
       "                    background-color: #383838;\n",
       "                }\n",
       "\n",
       "                .geemap-dark .jupyter-button {\n",
       "                    --jp-layout-color3: #383838;\n",
       "                }\n",
       "\n",
       "                .geemap-colab {\n",
       "                    background-color: var(--colab-primary-surface-color, white);\n",
       "                }\n",
       "\n",
       "                .geemap-colab .jupyter-button {\n",
       "                    --jp-layout-color3: var(--colab-primary-surface-color, white);\n",
       "                }\n",
       "            </style>\n",
       "            "
      ],
      "text/plain": [
       "<IPython.core.display.HTML object>"
      ]
     },
     "metadata": {},
     "output_type": "display_data"
    }
   ],
   "source": [
    "#| export \n",
    "def get_image_range(start_Date, end_Date, get_zm ):\n",
    "    \"\"\"\n",
    "    Get a image collection with AOD and meteorogical data on the images\n",
    "    \"\"\"\n",
    "    \n",
    "    range_all_images = ee.DateRange(start_Date, end_Date)# Rango de dias\n",
    "    difference_days = range_all_images.end().difference(range_all_images.start() , 'day')\n",
    "    #todos los dias como una secuencia\n",
    "    \n",
    "    bb_get_zm = get_zm.geometry().bounds()\n",
    "    #print(bb_get_zm.getInfo())\n",
    "    def clip_zm_fun(img):\n",
    "        return img.clip(bb_get_zm)\n",
    "    \n",
    "    land_eras_day_f = ee.ImageCollection(\"ECMWF/ERA5_LAND/HOURLY\").filter(\n",
    "            ee.Filter.date(start_Date, end_Date)\n",
    "        ).select([\n",
    "            'dewpoint_temperature_2m',\n",
    "            'total_evaporation',\n",
    "            'temperature_2m',\n",
    "            'total_precipitation_hourly',\n",
    "            'total_precipitation'\n",
    "        ]).map(clip_zm_fun)\n",
    "    \n",
    "    AOD_MODIS_day_f =  ee.ImageCollection(\"MODIS/061/MCD19A2_GRANULES\").filter(\n",
    "        ee.Filter.date(start_Date, end_Date)\n",
    "        ).select([\n",
    "            'Optical_Depth_047',\n",
    "            'AOD_Uncertainty'\n",
    "        ]).map(clip_zm_fun)\n",
    "    \n",
    "    proje_pro = get_zm.first().geometry().projection()\n",
    "    \n",
    "    def ima_land_reproject_wrap(image):\n",
    "        return ima_land_reproject(image,proje_pro)\n",
    "    \n",
    "    def ima_land_no_reproject_wrap(image):\n",
    "        return ima_land_reproject_no_resample(image,proje_pro)\n",
    "    \n",
    "    \n",
    "    land_eras_day_f = land_eras_day_f.map(humedad_relativa)\n",
    "    land_eras_day_f = get_image_raster_mean(land_eras_day_f, start_Date, end_Date)\n",
    "    land_eras_day_f = land_eras_day_f.map(ima_land_reproject_wrap)\n",
    "    \n",
    "    AOD_MODIS_day_f = get_image_raster_mean(AOD_MODIS_day_f,start_Date, end_Date)\n",
    "    AOD_MODIS_day_f = AOD_MODIS_day_f.map(ima_land_no_reproject_wrap)\n",
    "    \n",
    "    \n",
    "    \n",
    "    \n",
    "    \n",
    "    ##### Se unen las collecciones \n",
    "    filter_maps = ee.Filter.equals(leftField= 'day',rightField= 'day')\n",
    "    simpleJoin = ee.Join.inner()\n",
    "    innerJoin = ee.ImageCollection(simpleJoin.apply(land_eras_day_f, AOD_MODIS_day_f, filter_maps))\n",
    "    \n",
    "    def cat_fun(feature):\n",
    "        return ee.Image.cat(feature.get('primary'), feature.get('secondary'))\n",
    "    \n",
    "    \n",
    "    joined_aod_tem = innerJoin.map(cat_fun)\n",
    "    joined_aod_tem = joined_aod_tem.map(clip_zm_fun)\n",
    "    joined_aod_tem = joined_aod_tem.select([\n",
    "                  \"dewpoint_temperature_2m\",\n",
    "                  \"total_evaporation\",\n",
    "                  \"temperature_2m\",\n",
    "                  \"total_precipitation_hourly\",\n",
    "                  \"total_precipitation\",\n",
    "                  \"relative_humidity\",\n",
    "                  \"Optical_Depth_047\",\n",
    "                  \"AOD_Uncertainty\", \n",
    "                  \"tonteria\"\n",
    "                ])\n",
    "    return joined_aod_tem\n"
   ]
  },
  {
   "cell_type": "code",
   "execution_count": null,
   "id": "10f37d2d-c1c7-49a2-be2e-34b29aefd264",
   "metadata": {},
   "outputs": [
    {
     "data": {
      "text/html": [
       "\n",
       "            <style>\n",
       "                .geemap-dark {\n",
       "                    --jp-widgets-color: white;\n",
       "                    --jp-widgets-label-color: white;\n",
       "                    --jp-ui-font-color1: white;\n",
       "                    --jp-layout-color2: #454545;\n",
       "                    background-color: #383838;\n",
       "                }\n",
       "\n",
       "                .geemap-dark .jupyter-button {\n",
       "                    --jp-layout-color3: #383838;\n",
       "                }\n",
       "\n",
       "                .geemap-colab {\n",
       "                    background-color: var(--colab-primary-surface-color, white);\n",
       "                }\n",
       "\n",
       "                .geemap-colab .jupyter-button {\n",
       "                    --jp-layout-color3: var(--colab-primary-surface-color, white);\n",
       "                }\n",
       "            </style>\n",
       "            "
      ],
      "text/plain": [
       "<IPython.core.display.HTML object>"
      ]
     },
     "metadata": {},
     "output_type": "display_data"
    }
   ],
   "source": [
    "def bands_change_nan(file_path):\n",
    "    \"\"\"The function chenche the value of mask for np.nan\"\"\"\n",
    "    src = rasterio.open(file_path, 'r+')\n",
    "    \n",
    "    for band_num in range(1,src.meta['count'] +1 ):\n",
    "        band_arr = src.read(band_num)\n",
    "        band_arr[band_arr==-100] = np.nan\n",
    "        src.write(band_arr,band_num)\n",
    "    src.close()    \n",
    "\n"
   ]
  },
  {
   "cell_type": "code",
   "execution_count": null,
   "id": "56989019-1259-4247-aefc-75f6f7d1b2ca",
   "metadata": {},
   "outputs": [
    {
     "data": {
      "text/html": [
       "\n",
       "            <style>\n",
       "                .geemap-dark {\n",
       "                    --jp-widgets-color: white;\n",
       "                    --jp-widgets-label-color: white;\n",
       "                    --jp-ui-font-color1: white;\n",
       "                    --jp-layout-color2: #454545;\n",
       "                    background-color: #383838;\n",
       "                }\n",
       "\n",
       "                .geemap-dark .jupyter-button {\n",
       "                    --jp-layout-color3: #383838;\n",
       "                }\n",
       "\n",
       "                .geemap-colab {\n",
       "                    background-color: var(--colab-primary-surface-color, white);\n",
       "                }\n",
       "\n",
       "                .geemap-colab .jupyter-button {\n",
       "                    --jp-layout-color3: var(--colab-primary-surface-color, white);\n",
       "                }\n",
       "            </style>\n",
       "            "
      ],
      "text/plain": [
       "<IPython.core.display.HTML object>"
      ]
     },
     "metadata": {},
     "output_type": "display_data"
    }
   ],
   "source": [
    "#| export \n",
    "def get_image_range_no_resample(start_Date, end_Date, get_zm ):\n",
    "    \"\"\"\n",
    "    Get a image collection with AOD and meteorogical data on the images\n",
    "    \"\"\"\n",
    "    \n",
    "    range_all_images = ee.DateRange(start_Date, end_Date)# Rango de dias\n",
    "    difference_days = range_all_images.end().difference(range_all_images.start() , 'day')\n",
    "    #todos los dias como una secuencia\n",
    "    \n",
    "    bb_get_zm = get_zm.geometry().bounds()\n",
    "    #print(bb_get_zm.getInfo())\n",
    "    def clip_zm_fun(img):\n",
    "        return img.clip(bb_get_zm)\n",
    "    \n",
    "    land_eras_day_f = ee.ImageCollection(\"ECMWF/ERA5_LAND/HOURLY\").filter(\n",
    "            ee.Filter.date(start_Date, end_Date)\n",
    "        ).select([\n",
    "            'dewpoint_temperature_2m',\n",
    "            'total_evaporation',\n",
    "            'temperature_2m',\n",
    "            'total_precipitation_hourly',\n",
    "            'total_precipitation'\n",
    "        ]).map(clip_zm_fun)\n",
    "    \n",
    "    AOD_MODIS_day_f =  ee.ImageCollection(\"MODIS/006/MCD19A2_GRANULES\").filter(\n",
    "        ee.Filter.date(start_Date, end_Date)\n",
    "        ).select([\n",
    "            'Optical_Depth_047',\n",
    "            'AOD_Uncertainty'\n",
    "        ]).map(clip_zm_fun)\n",
    "    \n",
    "    proje_pro = get_zm.first().geometry().projection()\n",
    "    \n",
    "    def ima_land_reproject_wrap(image):\n",
    "        return ima_land_reproject(image,proje_pro)\n",
    "    \n",
    "        return ima_land_reproject_no_resample(image,proje_pro)\n",
    "    \n",
    "    \n",
    "    land_eras_day_f = land_eras_day_f.map(humedad_relativa)\n",
    "    land_eras_day_f = get_image_raster_mean(land_eras_day_f, start_Date, end_Date)\n",
    "    land_eras_day_f = land_eras_day_f.map(ima_land_no_reproject_wrap)\n",
    "    \n",
    "    AOD_MODIS_day_f = get_image_raster_mean(AOD_MODIS_day_f,start_Date, end_Date)\n",
    "    AOD_MODIS_day_f = AOD_MODIS_day_f.map(ima_land_no_reproject_wrap)\n",
    "    \n",
    "    \n",
    "    \n",
    "    \n",
    "    \n",
    "    ##### Se unen las collecciones \n",
    "    filter_maps = ee.Filter.equals(leftField= 'day',rightField= 'day')\n",
    "    simpleJoin = ee.Join.inner()\n",
    "    innerJoin = ee.ImageCollection(simpleJoin.apply(land_eras_day_f, AOD_MODIS_day_f, filter_maps))\n",
    "    \n",
    "    def cat_fun(feature):\n",
    "        return ee.Image.cat(feature.get('primary'), feature.get('secondary'))\n",
    "    \n",
    "    \n",
    "    joined_aod_tem = innerJoin.map(cat_fun)\n",
    "    joined_aod_tem = joined_aod_tem.map(clip_zm_fun)\n",
    "    joined_aod_tem = joined_aod_tem.select([\n",
    "                  \"dewpoint_temperature_2m\",\n",
    "                  \"total_evaporation\",\n",
    "                  \"temperature_2m\",\n",
    "                  \"total_precipitation_hourly\",\n",
    "                  \"total_precipitation\",\n",
    "                  \"relative_humidity\",\n",
    "                  \"Optical_Depth_047\",\n",
    "                  \"AOD_Uncertainty\", \n",
    "                  \"tonteria\"\n",
    "                ])\n",
    "    return joined_aod_tem"
   ]
  },
  {
   "cell_type": "code",
   "execution_count": null,
   "id": "2c9511ca-af4e-442d-afe0-5f7c26d32759",
   "metadata": {},
   "outputs": [
    {
     "data": {
      "text/html": [
       "\n",
       "            <style>\n",
       "                .geemap-dark {\n",
       "                    --jp-widgets-color: white;\n",
       "                    --jp-widgets-label-color: white;\n",
       "                    --jp-ui-font-color1: white;\n",
       "                    --jp-layout-color2: #454545;\n",
       "                    background-color: #383838;\n",
       "                }\n",
       "\n",
       "                .geemap-dark .jupyter-button {\n",
       "                    --jp-layout-color3: #383838;\n",
       "                }\n",
       "\n",
       "                .geemap-colab {\n",
       "                    background-color: var(--colab-primary-surface-color, white);\n",
       "                }\n",
       "\n",
       "                .geemap-colab .jupyter-button {\n",
       "                    --jp-layout-color3: var(--colab-primary-surface-color, white);\n",
       "                }\n",
       "            </style>\n",
       "            "
      ],
      "text/plain": [
       "<IPython.core.display.HTML object>"
      ]
     },
     "metadata": {},
     "output_type": "display_data"
    }
   ],
   "source": [
    "dic_met_area = {\n",
    "                    'ZMVM': \"users/msalazar_cgeo/ZMVM\",\n",
    "                    'ZMG': \"users/msalazar_cgeo/ZMG\",\n",
    "                    'ZMVT':\"users/msalazar_cgeo/ZMVT\",\n",
    "                    'AMM': \"users/msalazar_cgeo/AMM\"}\n",
    "ZM_table = ee.FeatureCollection(dic_met_area['ZMVM'])\n",
    "startdate_fun = ee.Date(\"2004-01-21\" )\n",
    "enddate_fun = ee.Date(\"2004-01-22\")\n",
    "merge_join_col = get_image_range(startdate_fun, enddate_fun, ZM_table)"
   ]
  },
  {
   "cell_type": "code",
   "execution_count": null,
   "id": "ec27e017",
   "metadata": {},
   "outputs": [
    {
     "data": {
      "text/html": [
       "\n",
       "            <style>\n",
       "                .geemap-dark {\n",
       "                    --jp-widgets-color: white;\n",
       "                    --jp-widgets-label-color: white;\n",
       "                    --jp-ui-font-color1: white;\n",
       "                    --jp-layout-color2: #454545;\n",
       "                    background-color: #383838;\n",
       "                }\n",
       "\n",
       "                .geemap-dark .jupyter-button {\n",
       "                    --jp-layout-color3: #383838;\n",
       "                }\n",
       "\n",
       "                .geemap-colab {\n",
       "                    background-color: var(--colab-primary-surface-color, white);\n",
       "                }\n",
       "\n",
       "                .geemap-colab .jupyter-button {\n",
       "                    --jp-layout-color3: var(--colab-primary-surface-color, white);\n",
       "                }\n",
       "            </style>\n",
       "            "
      ],
      "text/plain": [
       "<IPython.core.display.HTML object>"
      ]
     },
     "metadata": {},
     "output_type": "display_data"
    }
   ],
   "source": [
    "def get_geo_collection(gee_collection, \n",
    "                       path, \n",
    "                       file_names, \n",
    "                       unmask_value= -100,\n",
    "                       re_fill_nan= True,\n",
    "                       timeout=300,\n",
    "                       ):\n",
    "    \"\"\"Funcion to get all the collection\"\"\"\n",
    "    count = int(gee_collection.size().getInfo())\n",
    "\n",
    "    if file_names is None:\n",
    "        file_names = ee_object.aggregate_array(\"system:index\").getInfo()\n",
    "        \n",
    "    elif isinstance(file_names, int):\n",
    "        file_names = [str(f + file_names) for f in range(0, count)]\n",
    "    \n",
    "    if len(file_names) != count:\n",
    "        raise Exception(\n",
    "            \"The number of filenames must be equal to the number of images.\"\n",
    "        )\n",
    "    file_names = [str(f) + \".tif\" for f in file_names if not str(f).endswith(\".tif\")]\n",
    "    \n",
    "    for i in range(0, count):\n",
    "        image = ee.Image(gee_collection.toList(count).get(i))\n",
    "        filename = os.path.join(path, file_names[i])\n",
    "        print(f\"Exporting {i + 1}/{count}: {filename}\")\n",
    "        get_geo_tif(\n",
    "            image,\n",
    "            file_name_tif = filename,\n",
    "            unmask_val = unmask_value,\n",
    "            re_fill_nan = re_fill_nan,\n",
    "            timeout = timeout\n",
    "        )\n",
    "        print(\"\\n\")\n"
   ]
  },
  {
   "cell_type": "markdown",
   "id": "574b4eba-9e47-464d-8453-a20352a844ed",
   "metadata": {},
   "source": [
    "Once the data can be downloaded we have the issu that the bands names are not saved, this can be fix with a proper function to change them, once all the data is downloaded. \n",
    "\n",
    "Now a full function is made to download a fix year, for \n",
    "\n",
    "\n"
   ]
  },
  {
   "cell_type": "code",
   "execution_count": null,
   "id": "a6dd9928-388c-4f52-bb3f-b7bdacda414b",
   "metadata": {},
   "outputs": [
    {
     "data": {
      "text/html": [
       "\n",
       "            <style>\n",
       "                .geemap-dark {\n",
       "                    --jp-widgets-color: white;\n",
       "                    --jp-widgets-label-color: white;\n",
       "                    --jp-ui-font-color1: white;\n",
       "                    --jp-layout-color2: #454545;\n",
       "                    background-color: #383838;\n",
       "                }\n",
       "\n",
       "                .geemap-dark .jupyter-button {\n",
       "                    --jp-layout-color3: #383838;\n",
       "                }\n",
       "\n",
       "                .geemap-colab {\n",
       "                    background-color: var(--colab-primary-surface-color, white);\n",
       "                }\n",
       "\n",
       "                .geemap-colab .jupyter-button {\n",
       "                    --jp-layout-color3: var(--colab-primary-surface-color, white);\n",
       "                }\n",
       "            </style>\n",
       "            "
      ],
      "text/plain": [
       "<IPython.core.display.HTML object>"
      ]
     },
     "metadata": {},
     "output_type": "display_data"
    }
   ],
   "source": [
    "def get_year_zm(\n",
    "        date_start_str,\n",
    "        date_end_str,\n",
    "        str_ZM,\n",
    "        path_save,\n",
    "        prefix = \"aod_cli_\"):\n",
    "    \n",
    "    \"\"\" The function will get all the data from the metropolitan area between\n",
    "    the interval datess\n",
    "    \"\"\"\n",
    "    dic_met_area = {\n",
    "                    'ZMVM': \"users/msalazar_cgeo/ZMVM\",\n",
    "                    'ZMG': \"users/msalazar_cgeo/ZMG\",\n",
    "                    'ZMVT':\"users/msalazar_cgeo/ZMVT\",\n",
    "                    'AMM': \"users/msalazar_cgeo/AMM\"}\n",
    "    ZM_table = ee.FeatureCollection(dic_met_area[str_ZM])\n",
    "    \n",
    "    \n",
    "    startdate_fun = ee.Date(date_start_str)\n",
    "    enddate_fun = ee.Date(date_end_str)\n",
    "    \n",
    "    merge_join_col = get_image_range(startdate_fun, enddate_fun, ZM_table)\n",
    "    \n",
    "    list_dates = merge_join_col.aggregate_array('day').getInfo()\n",
    "\n",
    "    name_dates_str = [ee.Date(i['value']).format('YYYY_MM_dd').getInfo() for i in list_dates]\n",
    "    names_dates_str  = [prefix + str_ZM+ '_' + na for na in name_dates_str]\n",
    "    print(names_dates_str)\n",
    "    get_geo_collection(\n",
    "        merge_join_col,\n",
    "        path = path_save,\n",
    "        file_names= names_dates_str,\n",
    "        unmask_value= -100\n",
    "    )\n",
    "    \n",
    "    return "
   ]
  },
  {
   "cell_type": "code",
   "execution_count": null,
   "id": "1b201825-ba49-4ba0-b16b-b92af649b6e5",
   "metadata": {},
   "outputs": [
    {
     "data": {
      "text/html": [
       "\n",
       "            <style>\n",
       "                .geemap-dark {\n",
       "                    --jp-widgets-color: white;\n",
       "                    --jp-widgets-label-color: white;\n",
       "                    --jp-ui-font-color1: white;\n",
       "                    --jp-layout-color2: #454545;\n",
       "                    background-color: #383838;\n",
       "                }\n",
       "\n",
       "                .geemap-dark .jupyter-button {\n",
       "                    --jp-layout-color3: #383838;\n",
       "                }\n",
       "\n",
       "                .geemap-colab {\n",
       "                    background-color: var(--colab-primary-surface-color, white);\n",
       "                }\n",
       "\n",
       "                .geemap-colab .jupyter-button {\n",
       "                    --jp-layout-color3: var(--colab-primary-surface-color, white);\n",
       "                }\n",
       "            </style>\n",
       "            "
      ],
      "text/plain": [
       "<IPython.core.display.HTML object>"
      ]
     },
     "metadata": {},
     "output_type": "display_data"
    }
   ],
   "source": [
    "def get_year_zm_no_resample(\n",
    "        date_start_str,\n",
    "        date_end_str,\n",
    "        str_ZM,\n",
    "        path_save,\n",
    "        prefix = \"aod_cli_\"):\n",
    "    \n",
    "    \"\"\" The function will get all the data from the metropolitan area between\n",
    "    the interval dates\n",
    "    \"\"\"\n",
    "    dic_met_area = {\n",
    "                    'ZMVM': \"users/msalazar_cgeo/ZMVM\",\n",
    "                    'ZMG': \"users/msalazar_cgeo/ZMG\",\n",
    "                    'ZMVT':\"users/msalazar_cgeo/ZMVT\",\n",
    "                    'AMM': \"users/msalazar_cgeo/AMM\"}\n",
    "    ZM_table = ee.FeatureCollection(dic_met_area[str_ZM])\n",
    "    \n",
    "    \n",
    "    startdate_fun = ee.Date(date_start_str)\n",
    "    enddate_fun = ee.Date(date_end_str)\n",
    "    \n",
    "    merge_join_col = get_image_range_no_resample(startdate_fun, enddate_fun, ZM_table)\n",
    "    \n",
    "    list_dates = merge_join_col.aggregate_array('day').getInfo()\n",
    "\n",
    "    name_dates_str = [ee.Date(i['value']).format('YYYY_MM_dd').getInfo() for i in list_dates]\n",
    "    names_dates_str  = [prefix + str_ZM+ '_' + na for na in name_dates_str]\n",
    "    print(names_dates_str)\n",
    "    get_geo_collection(\n",
    "        merge_join_col,\n",
    "        path = path_save,\n",
    "        file_names= names_dates_str,\n",
    "        unmask_value= -100\n",
    "    )\n",
    "    \n",
    "    return "
   ]
  },
  {
   "cell_type": "markdown",
   "id": "22f52146-f9e0-4aef-be99-a0568f78c74c",
   "metadata": {},
   "source": [
    "This is how the function is call to get the data from GEE"
   ]
  },
  {
   "cell_type": "code",
   "execution_count": null,
   "id": "bed04609-4839-4196-a584-8fd25878961e",
   "metadata": {},
   "outputs": [
    {
     "data": {
      "text/html": [
       "\n",
       "            <style>\n",
       "                .geemap-dark {\n",
       "                    --jp-widgets-color: white;\n",
       "                    --jp-widgets-label-color: white;\n",
       "                    --jp-ui-font-color1: white;\n",
       "                    --jp-layout-color2: #454545;\n",
       "                    background-color: #383838;\n",
       "                }\n",
       "\n",
       "                .geemap-dark .jupyter-button {\n",
       "                    --jp-layout-color3: #383838;\n",
       "                }\n",
       "\n",
       "                .geemap-colab {\n",
       "                    background-color: var(--colab-primary-surface-color, white);\n",
       "                }\n",
       "\n",
       "                .geemap-colab .jupyter-button {\n",
       "                    --jp-layout-color3: var(--colab-primary-surface-color, white);\n",
       "                }\n",
       "            </style>\n",
       "            "
      ],
      "text/plain": [
       "<IPython.core.display.HTML object>"
      ]
     },
     "metadata": {},
     "output_type": "display_data"
    },
    {
     "name": "stdout",
     "output_type": "stream",
     "text": [
      "['aod_cli_ZMVM_2022_01_01', 'aod_cli_ZMVM_2022_01_02', 'aod_cli_ZMVM_2022_01_03', 'aod_cli_ZMVM_2022_01_04', 'aod_cli_ZMVM_2022_01_05', 'aod_cli_ZMVM_2022_01_06', 'aod_cli_ZMVM_2022_01_07', 'aod_cli_ZMVM_2022_01_08', 'aod_cli_ZMVM_2022_01_09', 'aod_cli_ZMVM_2022_01_10', 'aod_cli_ZMVM_2022_01_11', 'aod_cli_ZMVM_2022_01_12', 'aod_cli_ZMVM_2022_01_13', 'aod_cli_ZMVM_2022_01_14', 'aod_cli_ZMVM_2022_01_15', 'aod_cli_ZMVM_2022_01_16', 'aod_cli_ZMVM_2022_01_17', 'aod_cli_ZMVM_2022_01_18', 'aod_cli_ZMVM_2022_01_19', 'aod_cli_ZMVM_2022_01_20', 'aod_cli_ZMVM_2022_01_21', 'aod_cli_ZMVM_2022_01_22', 'aod_cli_ZMVM_2022_01_23', 'aod_cli_ZMVM_2022_01_24', 'aod_cli_ZMVM_2022_01_25', 'aod_cli_ZMVM_2022_01_26', 'aod_cli_ZMVM_2022_01_27', 'aod_cli_ZMVM_2022_01_28', 'aod_cli_ZMVM_2022_01_29', 'aod_cli_ZMVM_2022_01_30', 'aod_cli_ZMVM_2022_01_31', 'aod_cli_ZMVM_2022_02_01', 'aod_cli_ZMVM_2022_02_02', 'aod_cli_ZMVM_2022_02_03', 'aod_cli_ZMVM_2022_02_04', 'aod_cli_ZMVM_2022_02_05', 'aod_cli_ZMVM_2022_02_06', 'aod_cli_ZMVM_2022_02_07', 'aod_cli_ZMVM_2022_02_08', 'aod_cli_ZMVM_2022_02_09', 'aod_cli_ZMVM_2022_02_10', 'aod_cli_ZMVM_2022_02_11', 'aod_cli_ZMVM_2022_02_12', 'aod_cli_ZMVM_2022_02_13', 'aod_cli_ZMVM_2022_02_14', 'aod_cli_ZMVM_2022_02_15', 'aod_cli_ZMVM_2022_02_16', 'aod_cli_ZMVM_2022_02_17', 'aod_cli_ZMVM_2022_02_18', 'aod_cli_ZMVM_2022_02_19', 'aod_cli_ZMVM_2022_02_20', 'aod_cli_ZMVM_2022_02_21', 'aod_cli_ZMVM_2022_02_22', 'aod_cli_ZMVM_2022_02_23', 'aod_cli_ZMVM_2022_02_24', 'aod_cli_ZMVM_2022_02_25', 'aod_cli_ZMVM_2022_02_26', 'aod_cli_ZMVM_2022_02_27', 'aod_cli_ZMVM_2022_02_28']\n",
      "Exporting 1/59: ../data/raster/AOD_REA_GEE/ZMVM/2022/aod_cli_ZMVM_2022_01_01.tif\n",
      "getting url: \n",
      " https://earthengine.googleapis.com/v1/projects/851206260265/thumbnails/a73b06a751e17de12f1e1ea4dd2943a2-ca63365f413f88fa84519061744dd8fa:getPixels\n",
      "Saving at : \n",
      " ../data/raster/AOD_REA_GEE/ZMVM/2022/aod_cli_ZMVM_2022_01_01.tif\n",
      "Fill values with Nan\n",
      "\n",
      "\n",
      "Exporting 2/59: ../data/raster/AOD_REA_GEE/ZMVM/2022/aod_cli_ZMVM_2022_01_02.tif\n"
     ]
    },
    {
     "name": "stderr",
     "output_type": "stream",
     "text": [
      "Warning 1: TIFFReadDirectory:Sum of Photometric type-related color channels and ExtraSamples doesn't match SamplesPerPixel. Defining non-color channels as ExtraSamples.\n"
     ]
    },
    {
     "name": "stdout",
     "output_type": "stream",
     "text": [
      "getting url: \n",
      " https://earthengine.googleapis.com/v1/projects/851206260265/thumbnails/2a8989ae2a968a6e912082af211db18d-9fb9b19b14d78557e73c9e8522c3d22a:getPixels\n",
      "Saving at : \n",
      " ../data/raster/AOD_REA_GEE/ZMVM/2022/aod_cli_ZMVM_2022_01_02.tif\n",
      "Fill values with Nan\n",
      "\n",
      "\n",
      "Exporting 3/59: ../data/raster/AOD_REA_GEE/ZMVM/2022/aod_cli_ZMVM_2022_01_03.tif\n"
     ]
    },
    {
     "name": "stderr",
     "output_type": "stream",
     "text": [
      "Warning 1: TIFFReadDirectory:Sum of Photometric type-related color channels and ExtraSamples doesn't match SamplesPerPixel. Defining non-color channels as ExtraSamples.\n"
     ]
    },
    {
     "name": "stdout",
     "output_type": "stream",
     "text": [
      "getting url: \n",
      " https://earthengine.googleapis.com/v1/projects/851206260265/thumbnails/f01e97f7d39e3e5da7bd15f380b9041c-6dede571f916de94d3b7f08971957ec8:getPixels\n",
      "Saving at : \n",
      " ../data/raster/AOD_REA_GEE/ZMVM/2022/aod_cli_ZMVM_2022_01_03.tif\n",
      "Fill values with Nan\n",
      "\n",
      "\n",
      "Exporting 4/59: ../data/raster/AOD_REA_GEE/ZMVM/2022/aod_cli_ZMVM_2022_01_04.tif\n"
     ]
    },
    {
     "name": "stderr",
     "output_type": "stream",
     "text": [
      "Warning 1: TIFFReadDirectory:Sum of Photometric type-related color channels and ExtraSamples doesn't match SamplesPerPixel. Defining non-color channels as ExtraSamples.\n"
     ]
    },
    {
     "name": "stdout",
     "output_type": "stream",
     "text": [
      "getting url: \n",
      " https://earthengine.googleapis.com/v1/projects/851206260265/thumbnails/0b35a4667d5b6008b1556abca6564cf4-02789e38d2fb05db641cc6ed86accb6d:getPixels\n",
      "Saving at : \n",
      " ../data/raster/AOD_REA_GEE/ZMVM/2022/aod_cli_ZMVM_2022_01_04.tif\n",
      "Fill values with Nan\n",
      "\n",
      "\n",
      "Exporting 5/59: ../data/raster/AOD_REA_GEE/ZMVM/2022/aod_cli_ZMVM_2022_01_05.tif\n"
     ]
    },
    {
     "name": "stderr",
     "output_type": "stream",
     "text": [
      "Warning 1: TIFFReadDirectory:Sum of Photometric type-related color channels and ExtraSamples doesn't match SamplesPerPixel. Defining non-color channels as ExtraSamples.\n"
     ]
    },
    {
     "name": "stdout",
     "output_type": "stream",
     "text": [
      "getting url: \n",
      " https://earthengine.googleapis.com/v1/projects/851206260265/thumbnails/a3f4f027503770cbd66f0b6c1f0a7022-a2338bdfb28394527c6a3c43d7f46346:getPixels\n",
      "Saving at : \n",
      " ../data/raster/AOD_REA_GEE/ZMVM/2022/aod_cli_ZMVM_2022_01_05.tif\n",
      "Fill values with Nan\n",
      "\n",
      "\n",
      "Exporting 6/59: ../data/raster/AOD_REA_GEE/ZMVM/2022/aod_cli_ZMVM_2022_01_06.tif\n"
     ]
    },
    {
     "name": "stderr",
     "output_type": "stream",
     "text": [
      "Warning 1: TIFFReadDirectory:Sum of Photometric type-related color channels and ExtraSamples doesn't match SamplesPerPixel. Defining non-color channels as ExtraSamples.\n"
     ]
    },
    {
     "name": "stdout",
     "output_type": "stream",
     "text": [
      "getting url: \n",
      " https://earthengine.googleapis.com/v1/projects/851206260265/thumbnails/dacf7527e86d8ee8ad439e394b231821-15013a2d0da88e59fdfa734af210c23d:getPixels\n",
      "Saving at : \n",
      " ../data/raster/AOD_REA_GEE/ZMVM/2022/aod_cli_ZMVM_2022_01_06.tif\n",
      "Fill values with Nan\n",
      "\n",
      "\n",
      "Exporting 7/59: ../data/raster/AOD_REA_GEE/ZMVM/2022/aod_cli_ZMVM_2022_01_07.tif\n"
     ]
    },
    {
     "name": "stderr",
     "output_type": "stream",
     "text": [
      "Warning 1: TIFFReadDirectory:Sum of Photometric type-related color channels and ExtraSamples doesn't match SamplesPerPixel. Defining non-color channels as ExtraSamples.\n"
     ]
    },
    {
     "name": "stdout",
     "output_type": "stream",
     "text": [
      "getting url: \n",
      " https://earthengine.googleapis.com/v1/projects/851206260265/thumbnails/c389db79449afb2f1938618c4650c9cd-4f51e4aaf7fc0ce3275a05acf4ed005c:getPixels\n",
      "Saving at : \n",
      " ../data/raster/AOD_REA_GEE/ZMVM/2022/aod_cli_ZMVM_2022_01_07.tif\n",
      "Fill values with Nan\n",
      "\n",
      "\n",
      "Exporting 8/59: ../data/raster/AOD_REA_GEE/ZMVM/2022/aod_cli_ZMVM_2022_01_08.tif\n"
     ]
    },
    {
     "name": "stderr",
     "output_type": "stream",
     "text": [
      "Warning 1: TIFFReadDirectory:Sum of Photometric type-related color channels and ExtraSamples doesn't match SamplesPerPixel. Defining non-color channels as ExtraSamples.\n"
     ]
    },
    {
     "name": "stdout",
     "output_type": "stream",
     "text": [
      "getting url: \n",
      " https://earthengine.googleapis.com/v1/projects/851206260265/thumbnails/9431eaaa34f2bf187d01c3c366eeb595-841c2be7b9dd13e15f75eeec4a7552c4:getPixels\n",
      "Saving at : \n",
      " ../data/raster/AOD_REA_GEE/ZMVM/2022/aod_cli_ZMVM_2022_01_08.tif\n",
      "Fill values with Nan\n",
      "\n",
      "\n",
      "Exporting 9/59: ../data/raster/AOD_REA_GEE/ZMVM/2022/aod_cli_ZMVM_2022_01_09.tif\n"
     ]
    },
    {
     "name": "stderr",
     "output_type": "stream",
     "text": [
      "Warning 1: TIFFReadDirectory:Sum of Photometric type-related color channels and ExtraSamples doesn't match SamplesPerPixel. Defining non-color channels as ExtraSamples.\n"
     ]
    },
    {
     "name": "stdout",
     "output_type": "stream",
     "text": [
      "getting url: \n",
      " https://earthengine.googleapis.com/v1/projects/851206260265/thumbnails/f1170fd3c29969c16099975d8392deed-77126fb9b4d340be837d1193cdcec797:getPixels\n",
      "Saving at : \n",
      " ../data/raster/AOD_REA_GEE/ZMVM/2022/aod_cli_ZMVM_2022_01_09.tif\n",
      "Fill values with Nan\n"
     ]
    },
    {
     "name": "stderr",
     "output_type": "stream",
     "text": [
      "Warning 1: TIFFReadDirectory:Sum of Photometric type-related color channels and ExtraSamples doesn't match SamplesPerPixel. Defining non-color channels as ExtraSamples.\n"
     ]
    },
    {
     "name": "stdout",
     "output_type": "stream",
     "text": [
      "\n",
      "\n",
      "Exporting 10/59: ../data/raster/AOD_REA_GEE/ZMVM/2022/aod_cli_ZMVM_2022_01_10.tif\n",
      "getting url: \n",
      " https://earthengine.googleapis.com/v1/projects/851206260265/thumbnails/fa3f68b3364c1df92fe649eab09c2a20-1abd8bfd2d398144558a14ea69db0be4:getPixels\n",
      "Saving at : \n",
      " ../data/raster/AOD_REA_GEE/ZMVM/2022/aod_cli_ZMVM_2022_01_10.tif\n",
      "Fill values with Nan\n",
      "\n",
      "\n",
      "Exporting 11/59: ../data/raster/AOD_REA_GEE/ZMVM/2022/aod_cli_ZMVM_2022_01_11.tif\n"
     ]
    },
    {
     "name": "stderr",
     "output_type": "stream",
     "text": [
      "Warning 1: TIFFReadDirectory:Sum of Photometric type-related color channels and ExtraSamples doesn't match SamplesPerPixel. Defining non-color channels as ExtraSamples.\n"
     ]
    },
    {
     "name": "stdout",
     "output_type": "stream",
     "text": [
      "getting url: \n",
      " https://earthengine.googleapis.com/v1/projects/851206260265/thumbnails/86f347ba86551090e7e289d57cbb52bf-3f043b98f1a9c65b60ab7a0e87d3e541:getPixels\n",
      "Saving at : \n",
      " ../data/raster/AOD_REA_GEE/ZMVM/2022/aod_cli_ZMVM_2022_01_11.tif\n",
      "Fill values with Nan\n",
      "\n",
      "\n",
      "Exporting 12/59: ../data/raster/AOD_REA_GEE/ZMVM/2022/aod_cli_ZMVM_2022_01_12.tif\n"
     ]
    },
    {
     "name": "stderr",
     "output_type": "stream",
     "text": [
      "Warning 1: TIFFReadDirectory:Sum of Photometric type-related color channels and ExtraSamples doesn't match SamplesPerPixel. Defining non-color channels as ExtraSamples.\n"
     ]
    },
    {
     "name": "stdout",
     "output_type": "stream",
     "text": [
      "getting url: \n",
      " https://earthengine.googleapis.com/v1/projects/851206260265/thumbnails/bd2a3ad6a728751323e4f4871f79789f-dd01ebdbd3d035b4c8aa1cec5c562f9d:getPixels\n",
      "Saving at : \n",
      " ../data/raster/AOD_REA_GEE/ZMVM/2022/aod_cli_ZMVM_2022_01_12.tif\n",
      "Fill values with Nan\n",
      "\n",
      "\n",
      "Exporting 13/59: ../data/raster/AOD_REA_GEE/ZMVM/2022/aod_cli_ZMVM_2022_01_13.tif\n"
     ]
    },
    {
     "name": "stderr",
     "output_type": "stream",
     "text": [
      "Warning 1: TIFFReadDirectory:Sum of Photometric type-related color channels and ExtraSamples doesn't match SamplesPerPixel. Defining non-color channels as ExtraSamples.\n"
     ]
    },
    {
     "name": "stdout",
     "output_type": "stream",
     "text": [
      "getting url: \n",
      " https://earthengine.googleapis.com/v1/projects/851206260265/thumbnails/dd73aefae638ed7f8562643cd3ec7f70-d470d2904130b7ef9b611a65932ca68f:getPixels\n",
      "Saving at : \n",
      " ../data/raster/AOD_REA_GEE/ZMVM/2022/aod_cli_ZMVM_2022_01_13.tif\n",
      "Fill values with Nan\n",
      "\n",
      "\n",
      "Exporting 14/59: ../data/raster/AOD_REA_GEE/ZMVM/2022/aod_cli_ZMVM_2022_01_14.tif\n"
     ]
    },
    {
     "name": "stderr",
     "output_type": "stream",
     "text": [
      "Warning 1: TIFFReadDirectory:Sum of Photometric type-related color channels and ExtraSamples doesn't match SamplesPerPixel. Defining non-color channels as ExtraSamples.\n"
     ]
    },
    {
     "name": "stdout",
     "output_type": "stream",
     "text": [
      "getting url: \n",
      " https://earthengine.googleapis.com/v1/projects/851206260265/thumbnails/6d550247dc42ddc5199287f66b54ce45-f550d727a5a88948fac72d8423c0c193:getPixels\n",
      "Saving at : \n",
      " ../data/raster/AOD_REA_GEE/ZMVM/2022/aod_cli_ZMVM_2022_01_14.tif\n",
      "Fill values with Nan\n"
     ]
    },
    {
     "name": "stderr",
     "output_type": "stream",
     "text": [
      "Warning 1: TIFFReadDirectory:Sum of Photometric type-related color channels and ExtraSamples doesn't match SamplesPerPixel. Defining non-color channels as ExtraSamples.\n"
     ]
    },
    {
     "name": "stdout",
     "output_type": "stream",
     "text": [
      "\n",
      "\n",
      "Exporting 15/59: ../data/raster/AOD_REA_GEE/ZMVM/2022/aod_cli_ZMVM_2022_01_15.tif\n",
      "getting url: \n",
      " https://earthengine.googleapis.com/v1/projects/851206260265/thumbnails/e5e5467029394eba48c4a297da8a1c5f-67643cd9b8787227140a9ea6505c3df2:getPixels\n",
      "Saving at : \n",
      " ../data/raster/AOD_REA_GEE/ZMVM/2022/aod_cli_ZMVM_2022_01_15.tif\n",
      "Fill values with Nan\n",
      "\n",
      "\n",
      "Exporting 16/59: ../data/raster/AOD_REA_GEE/ZMVM/2022/aod_cli_ZMVM_2022_01_16.tif\n"
     ]
    },
    {
     "name": "stderr",
     "output_type": "stream",
     "text": [
      "Warning 1: TIFFReadDirectory:Sum of Photometric type-related color channels and ExtraSamples doesn't match SamplesPerPixel. Defining non-color channels as ExtraSamples.\n"
     ]
    },
    {
     "name": "stdout",
     "output_type": "stream",
     "text": [
      "getting url: \n",
      " https://earthengine.googleapis.com/v1/projects/851206260265/thumbnails/8d8829abd78adababff8a9d7316d5fa8-7a4cd88d47fc324840fa082ee4fa05d1:getPixels\n",
      "Saving at : \n",
      " ../data/raster/AOD_REA_GEE/ZMVM/2022/aod_cli_ZMVM_2022_01_16.tif\n",
      "Fill values with Nan\n",
      "\n",
      "\n",
      "Exporting 17/59: ../data/raster/AOD_REA_GEE/ZMVM/2022/aod_cli_ZMVM_2022_01_17.tif\n"
     ]
    },
    {
     "name": "stderr",
     "output_type": "stream",
     "text": [
      "Warning 1: TIFFReadDirectory:Sum of Photometric type-related color channels and ExtraSamples doesn't match SamplesPerPixel. Defining non-color channels as ExtraSamples.\n"
     ]
    },
    {
     "name": "stdout",
     "output_type": "stream",
     "text": [
      "getting url: \n",
      " https://earthengine.googleapis.com/v1/projects/851206260265/thumbnails/f82019125aacfb26485c9951e1e26b6c-300fabdd416bbc33ea9482c8650537d5:getPixels\n",
      "Saving at : \n",
      " ../data/raster/AOD_REA_GEE/ZMVM/2022/aod_cli_ZMVM_2022_01_17.tif\n",
      "Fill values with Nan\n",
      "\n",
      "\n",
      "Exporting 18/59: ../data/raster/AOD_REA_GEE/ZMVM/2022/aod_cli_ZMVM_2022_01_18.tif\n"
     ]
    },
    {
     "name": "stderr",
     "output_type": "stream",
     "text": [
      "Warning 1: TIFFReadDirectory:Sum of Photometric type-related color channels and ExtraSamples doesn't match SamplesPerPixel. Defining non-color channels as ExtraSamples.\n"
     ]
    },
    {
     "name": "stdout",
     "output_type": "stream",
     "text": [
      "getting url: \n",
      " https://earthengine.googleapis.com/v1/projects/851206260265/thumbnails/845ab80728e36ffd578534c04e929961-57d894a241675bede154082fe008e2d3:getPixels\n",
      "Saving at : \n",
      " ../data/raster/AOD_REA_GEE/ZMVM/2022/aod_cli_ZMVM_2022_01_18.tif\n",
      "Fill values with Nan\n",
      "\n",
      "\n",
      "Exporting 19/59: ../data/raster/AOD_REA_GEE/ZMVM/2022/aod_cli_ZMVM_2022_01_19.tif\n"
     ]
    },
    {
     "name": "stderr",
     "output_type": "stream",
     "text": [
      "Warning 1: TIFFReadDirectory:Sum of Photometric type-related color channels and ExtraSamples doesn't match SamplesPerPixel. Defining non-color channels as ExtraSamples.\n"
     ]
    },
    {
     "name": "stdout",
     "output_type": "stream",
     "text": [
      "getting url: \n",
      " https://earthengine.googleapis.com/v1/projects/851206260265/thumbnails/501d25f319f97a0da924b90854432662-0768b2e80ab3c2039c50a409b3131c6c:getPixels\n",
      "Saving at : \n",
      " ../data/raster/AOD_REA_GEE/ZMVM/2022/aod_cli_ZMVM_2022_01_19.tif\n",
      "Fill values with Nan\n",
      "\n",
      "\n",
      "Exporting 20/59: ../data/raster/AOD_REA_GEE/ZMVM/2022/aod_cli_ZMVM_2022_01_20.tif\n"
     ]
    },
    {
     "name": "stderr",
     "output_type": "stream",
     "text": [
      "Warning 1: TIFFReadDirectory:Sum of Photometric type-related color channels and ExtraSamples doesn't match SamplesPerPixel. Defining non-color channels as ExtraSamples.\n"
     ]
    },
    {
     "name": "stdout",
     "output_type": "stream",
     "text": [
      "getting url: \n",
      " https://earthengine.googleapis.com/v1/projects/851206260265/thumbnails/cf908d99c6af973e801df81c30e403bb-b7ce5aa28b58c415c299d8498cc967f6:getPixels\n",
      "Saving at : \n",
      " ../data/raster/AOD_REA_GEE/ZMVM/2022/aod_cli_ZMVM_2022_01_20.tif\n",
      "Fill values with Nan\n",
      "\n",
      "\n",
      "Exporting 21/59: ../data/raster/AOD_REA_GEE/ZMVM/2022/aod_cli_ZMVM_2022_01_21.tif\n"
     ]
    },
    {
     "name": "stderr",
     "output_type": "stream",
     "text": [
      "Warning 1: TIFFReadDirectory:Sum of Photometric type-related color channels and ExtraSamples doesn't match SamplesPerPixel. Defining non-color channels as ExtraSamples.\n"
     ]
    },
    {
     "name": "stdout",
     "output_type": "stream",
     "text": [
      "getting url: \n",
      " https://earthengine.googleapis.com/v1/projects/851206260265/thumbnails/108ca519e1c7b9b024332a816ee80554-7573db9dc49f0adffeac69c08a42c1f1:getPixels\n",
      "Saving at : \n",
      " ../data/raster/AOD_REA_GEE/ZMVM/2022/aod_cli_ZMVM_2022_01_21.tif\n",
      "Fill values with Nan\n",
      "\n",
      "\n",
      "Exporting 22/59: ../data/raster/AOD_REA_GEE/ZMVM/2022/aod_cli_ZMVM_2022_01_22.tif\n"
     ]
    },
    {
     "name": "stderr",
     "output_type": "stream",
     "text": [
      "Warning 1: TIFFReadDirectory:Sum of Photometric type-related color channels and ExtraSamples doesn't match SamplesPerPixel. Defining non-color channels as ExtraSamples.\n"
     ]
    },
    {
     "name": "stdout",
     "output_type": "stream",
     "text": [
      "getting url: \n",
      " https://earthengine.googleapis.com/v1/projects/851206260265/thumbnails/81de7d1d923532946ed13bd2ad21d944-618f471fc1aecf24d97943f69efe2a76:getPixels\n",
      "Saving at : \n",
      " ../data/raster/AOD_REA_GEE/ZMVM/2022/aod_cli_ZMVM_2022_01_22.tif\n",
      "Fill values with Nan\n",
      "\n",
      "\n",
      "Exporting 23/59: ../data/raster/AOD_REA_GEE/ZMVM/2022/aod_cli_ZMVM_2022_01_23.tif\n"
     ]
    },
    {
     "name": "stderr",
     "output_type": "stream",
     "text": [
      "Warning 1: TIFFReadDirectory:Sum of Photometric type-related color channels and ExtraSamples doesn't match SamplesPerPixel. Defining non-color channels as ExtraSamples.\n"
     ]
    },
    {
     "name": "stdout",
     "output_type": "stream",
     "text": [
      "getting url: \n",
      " https://earthengine.googleapis.com/v1/projects/851206260265/thumbnails/041717ba26a318cb0e58de22de062d5d-1d6d239659f465cf692ce4c365147910:getPixels\n",
      "Saving at : \n",
      " ../data/raster/AOD_REA_GEE/ZMVM/2022/aod_cli_ZMVM_2022_01_23.tif\n",
      "Fill values with Nan\n",
      "\n",
      "\n",
      "Exporting 24/59: ../data/raster/AOD_REA_GEE/ZMVM/2022/aod_cli_ZMVM_2022_01_24.tif\n"
     ]
    },
    {
     "name": "stderr",
     "output_type": "stream",
     "text": [
      "Warning 1: TIFFReadDirectory:Sum of Photometric type-related color channels and ExtraSamples doesn't match SamplesPerPixel. Defining non-color channels as ExtraSamples.\n"
     ]
    },
    {
     "name": "stdout",
     "output_type": "stream",
     "text": [
      "getting url: \n",
      " https://earthengine.googleapis.com/v1/projects/851206260265/thumbnails/36dd52f8bf1e35a1164ee3fe436d6eac-fe290418a7989fc0a0597cd4c67c7aff:getPixels\n",
      "Saving at : \n",
      " ../data/raster/AOD_REA_GEE/ZMVM/2022/aod_cli_ZMVM_2022_01_24.tif\n",
      "Fill values with Nan\n"
     ]
    },
    {
     "name": "stderr",
     "output_type": "stream",
     "text": [
      "Warning 1: TIFFReadDirectory:Sum of Photometric type-related color channels and ExtraSamples doesn't match SamplesPerPixel. Defining non-color channels as ExtraSamples.\n"
     ]
    },
    {
     "name": "stdout",
     "output_type": "stream",
     "text": [
      "\n",
      "\n",
      "Exporting 25/59: ../data/raster/AOD_REA_GEE/ZMVM/2022/aod_cli_ZMVM_2022_01_25.tif\n",
      "getting url: \n",
      " https://earthengine.googleapis.com/v1/projects/851206260265/thumbnails/e0484d435fd8df2f41a287ddc66d5c18-659783bfc7e21f4c136dc66706984497:getPixels\n",
      "Saving at : \n",
      " ../data/raster/AOD_REA_GEE/ZMVM/2022/aod_cli_ZMVM_2022_01_25.tif\n",
      "Fill values with Nan\n",
      "\n",
      "\n",
      "Exporting 26/59: ../data/raster/AOD_REA_GEE/ZMVM/2022/aod_cli_ZMVM_2022_01_26.tif\n"
     ]
    },
    {
     "name": "stderr",
     "output_type": "stream",
     "text": [
      "Warning 1: TIFFReadDirectory:Sum of Photometric type-related color channels and ExtraSamples doesn't match SamplesPerPixel. Defining non-color channels as ExtraSamples.\n"
     ]
    },
    {
     "name": "stdout",
     "output_type": "stream",
     "text": [
      "getting url: \n",
      " https://earthengine.googleapis.com/v1/projects/851206260265/thumbnails/dd3c48a293e9fd1e8420c64ec4fda4b8-3cc2dd009b07a0790ef1f165bd124a85:getPixels\n",
      "Saving at : \n",
      " ../data/raster/AOD_REA_GEE/ZMVM/2022/aod_cli_ZMVM_2022_01_26.tif\n",
      "Fill values with Nan\n",
      "\n",
      "\n",
      "Exporting 27/59: ../data/raster/AOD_REA_GEE/ZMVM/2022/aod_cli_ZMVM_2022_01_27.tif\n"
     ]
    },
    {
     "name": "stderr",
     "output_type": "stream",
     "text": [
      "Warning 1: TIFFReadDirectory:Sum of Photometric type-related color channels and ExtraSamples doesn't match SamplesPerPixel. Defining non-color channels as ExtraSamples.\n"
     ]
    },
    {
     "name": "stdout",
     "output_type": "stream",
     "text": [
      "getting url: \n",
      " https://earthengine.googleapis.com/v1/projects/851206260265/thumbnails/ac310369b8f6847c9de686d6c7357f92-88ab0d3673e2ae5841fa4e76fbdf2f1e:getPixels\n",
      "Saving at : \n",
      " ../data/raster/AOD_REA_GEE/ZMVM/2022/aod_cli_ZMVM_2022_01_27.tif\n",
      "Fill values with Nan\n",
      "\n",
      "\n",
      "Exporting 28/59: ../data/raster/AOD_REA_GEE/ZMVM/2022/aod_cli_ZMVM_2022_01_28.tif\n"
     ]
    },
    {
     "name": "stderr",
     "output_type": "stream",
     "text": [
      "Warning 1: TIFFReadDirectory:Sum of Photometric type-related color channels and ExtraSamples doesn't match SamplesPerPixel. Defining non-color channels as ExtraSamples.\n"
     ]
    },
    {
     "name": "stdout",
     "output_type": "stream",
     "text": [
      "getting url: \n",
      " https://earthengine.googleapis.com/v1/projects/851206260265/thumbnails/8416e3b177cf0b59c8367db68a785f4f-01c2c01964703bc767a8141a404bf90f:getPixels\n",
      "Saving at : \n",
      " ../data/raster/AOD_REA_GEE/ZMVM/2022/aod_cli_ZMVM_2022_01_28.tif\n",
      "Fill values with Nan\n",
      "\n",
      "\n",
      "Exporting 29/59: ../data/raster/AOD_REA_GEE/ZMVM/2022/aod_cli_ZMVM_2022_01_29.tif\n"
     ]
    },
    {
     "name": "stderr",
     "output_type": "stream",
     "text": [
      "Warning 1: TIFFReadDirectory:Sum of Photometric type-related color channels and ExtraSamples doesn't match SamplesPerPixel. Defining non-color channels as ExtraSamples.\n"
     ]
    },
    {
     "name": "stdout",
     "output_type": "stream",
     "text": [
      "getting url: \n",
      " https://earthengine.googleapis.com/v1/projects/851206260265/thumbnails/cf06e3ff9ca42cc46591beadd33172c0-0042113665fa3684a56fa24d8b6a6bae:getPixels\n",
      "Saving at : \n",
      " ../data/raster/AOD_REA_GEE/ZMVM/2022/aod_cli_ZMVM_2022_01_29.tif\n",
      "Fill values with Nan\n",
      "\n",
      "\n",
      "Exporting 30/59: ../data/raster/AOD_REA_GEE/ZMVM/2022/aod_cli_ZMVM_2022_01_30.tif\n"
     ]
    },
    {
     "name": "stderr",
     "output_type": "stream",
     "text": [
      "Warning 1: TIFFReadDirectory:Sum of Photometric type-related color channels and ExtraSamples doesn't match SamplesPerPixel. Defining non-color channels as ExtraSamples.\n"
     ]
    },
    {
     "name": "stdout",
     "output_type": "stream",
     "text": [
      "getting url: \n",
      " https://earthengine.googleapis.com/v1/projects/851206260265/thumbnails/69cf34986292051b41e99b81980e7983-0ee90d61baa1d364578ad4b8b2805178:getPixels\n",
      "Saving at : \n",
      " ../data/raster/AOD_REA_GEE/ZMVM/2022/aod_cli_ZMVM_2022_01_30.tif\n",
      "Fill values with Nan\n",
      "\n",
      "\n",
      "Exporting 31/59: ../data/raster/AOD_REA_GEE/ZMVM/2022/aod_cli_ZMVM_2022_01_31.tif\n"
     ]
    },
    {
     "name": "stderr",
     "output_type": "stream",
     "text": [
      "Warning 1: TIFFReadDirectory:Sum of Photometric type-related color channels and ExtraSamples doesn't match SamplesPerPixel. Defining non-color channels as ExtraSamples.\n"
     ]
    },
    {
     "name": "stdout",
     "output_type": "stream",
     "text": [
      "getting url: \n",
      " https://earthengine.googleapis.com/v1/projects/851206260265/thumbnails/f5d3182c345008bcb0ba2fbd06ec8619-030c483ccabbd7b225db507a1178f18c:getPixels\n",
      "Saving at : \n",
      " ../data/raster/AOD_REA_GEE/ZMVM/2022/aod_cli_ZMVM_2022_01_31.tif\n",
      "Fill values with Nan\n",
      "\n",
      "\n",
      "Exporting 32/59: ../data/raster/AOD_REA_GEE/ZMVM/2022/aod_cli_ZMVM_2022_02_01.tif\n"
     ]
    },
    {
     "name": "stderr",
     "output_type": "stream",
     "text": [
      "Warning 1: TIFFReadDirectory:Sum of Photometric type-related color channels and ExtraSamples doesn't match SamplesPerPixel. Defining non-color channels as ExtraSamples.\n"
     ]
    },
    {
     "name": "stdout",
     "output_type": "stream",
     "text": [
      "getting url: \n",
      " https://earthengine.googleapis.com/v1/projects/851206260265/thumbnails/8eeba59237f249d8e51c28bbc2ccdb82-79bf53629452121a33a75e764054e12d:getPixels\n",
      "Saving at : \n",
      " ../data/raster/AOD_REA_GEE/ZMVM/2022/aod_cli_ZMVM_2022_02_01.tif\n",
      "Fill values with Nan\n",
      "\n",
      "\n",
      "Exporting 33/59: ../data/raster/AOD_REA_GEE/ZMVM/2022/aod_cli_ZMVM_2022_02_02.tif\n"
     ]
    },
    {
     "name": "stderr",
     "output_type": "stream",
     "text": [
      "Warning 1: TIFFReadDirectory:Sum of Photometric type-related color channels and ExtraSamples doesn't match SamplesPerPixel. Defining non-color channels as ExtraSamples.\n"
     ]
    },
    {
     "name": "stdout",
     "output_type": "stream",
     "text": [
      "getting url: \n",
      " https://earthengine.googleapis.com/v1/projects/851206260265/thumbnails/fdb8cef1d1f7c36dc6986ae25097a7c1-049145da5f4259c3296fdb1c224ae1c4:getPixels\n",
      "Saving at : \n",
      " ../data/raster/AOD_REA_GEE/ZMVM/2022/aod_cli_ZMVM_2022_02_02.tif\n",
      "Fill values with Nan\n",
      "\n",
      "\n",
      "Exporting 34/59: ../data/raster/AOD_REA_GEE/ZMVM/2022/aod_cli_ZMVM_2022_02_03.tif\n"
     ]
    },
    {
     "name": "stderr",
     "output_type": "stream",
     "text": [
      "Warning 1: TIFFReadDirectory:Sum of Photometric type-related color channels and ExtraSamples doesn't match SamplesPerPixel. Defining non-color channels as ExtraSamples.\n"
     ]
    },
    {
     "name": "stdout",
     "output_type": "stream",
     "text": [
      "getting url: \n",
      " https://earthengine.googleapis.com/v1/projects/851206260265/thumbnails/bd900474ab3fc215b96e5ffc213639d5-f055dab7e3171cacd6637b1ef2107080:getPixels\n",
      "Saving at : \n",
      " ../data/raster/AOD_REA_GEE/ZMVM/2022/aod_cli_ZMVM_2022_02_03.tif\n",
      "Fill values with Nan\n",
      "\n",
      "\n",
      "Exporting 35/59: ../data/raster/AOD_REA_GEE/ZMVM/2022/aod_cli_ZMVM_2022_02_04.tif\n"
     ]
    },
    {
     "name": "stderr",
     "output_type": "stream",
     "text": [
      "Warning 1: TIFFReadDirectory:Sum of Photometric type-related color channels and ExtraSamples doesn't match SamplesPerPixel. Defining non-color channels as ExtraSamples.\n"
     ]
    },
    {
     "name": "stdout",
     "output_type": "stream",
     "text": [
      "getting url: \n",
      " https://earthengine.googleapis.com/v1/projects/851206260265/thumbnails/c1f5eabc122856407b1770cb27e23d4b-2ee0c0b0704465a32451ca1f1609763b:getPixels\n",
      "Saving at : \n",
      " ../data/raster/AOD_REA_GEE/ZMVM/2022/aod_cli_ZMVM_2022_02_04.tif\n",
      "Fill values with Nan\n",
      "\n",
      "\n",
      "Exporting 36/59: ../data/raster/AOD_REA_GEE/ZMVM/2022/aod_cli_ZMVM_2022_02_05.tif\n"
     ]
    },
    {
     "name": "stderr",
     "output_type": "stream",
     "text": [
      "Warning 1: TIFFReadDirectory:Sum of Photometric type-related color channels and ExtraSamples doesn't match SamplesPerPixel. Defining non-color channels as ExtraSamples.\n"
     ]
    },
    {
     "name": "stdout",
     "output_type": "stream",
     "text": [
      "getting url: \n",
      " https://earthengine.googleapis.com/v1/projects/851206260265/thumbnails/4fd54b926ca61989e0849b6f24395d8e-6fc3d4b089015b251f3f348cbee5e9f0:getPixels\n",
      "Saving at : \n",
      " ../data/raster/AOD_REA_GEE/ZMVM/2022/aod_cli_ZMVM_2022_02_05.tif\n",
      "Fill values with Nan\n",
      "\n",
      "\n",
      "Exporting 37/59: ../data/raster/AOD_REA_GEE/ZMVM/2022/aod_cli_ZMVM_2022_02_06.tif\n"
     ]
    },
    {
     "name": "stderr",
     "output_type": "stream",
     "text": [
      "Warning 1: TIFFReadDirectory:Sum of Photometric type-related color channels and ExtraSamples doesn't match SamplesPerPixel. Defining non-color channels as ExtraSamples.\n"
     ]
    },
    {
     "name": "stdout",
     "output_type": "stream",
     "text": [
      "getting url: \n",
      " https://earthengine.googleapis.com/v1/projects/851206260265/thumbnails/ac2da3dc8525abbe88ab61e8950fbcd7-c5dcabacafd2754b47f0259cda336e3b:getPixels\n",
      "Saving at : \n",
      " ../data/raster/AOD_REA_GEE/ZMVM/2022/aod_cli_ZMVM_2022_02_06.tif\n",
      "Fill values with Nan\n",
      "\n",
      "\n",
      "Exporting 38/59: ../data/raster/AOD_REA_GEE/ZMVM/2022/aod_cli_ZMVM_2022_02_07.tif\n"
     ]
    },
    {
     "name": "stderr",
     "output_type": "stream",
     "text": [
      "Warning 1: TIFFReadDirectory:Sum of Photometric type-related color channels and ExtraSamples doesn't match SamplesPerPixel. Defining non-color channels as ExtraSamples.\n"
     ]
    },
    {
     "name": "stdout",
     "output_type": "stream",
     "text": [
      "getting url: \n",
      " https://earthengine.googleapis.com/v1/projects/851206260265/thumbnails/8cee3eb0ab3aa4175937efa7c462aadf-8700aa7b4ab7118dda13712d76cbe1a7:getPixels\n",
      "Saving at : \n",
      " ../data/raster/AOD_REA_GEE/ZMVM/2022/aod_cli_ZMVM_2022_02_07.tif\n",
      "Fill values with Nan\n",
      "\n",
      "\n",
      "Exporting 39/59: ../data/raster/AOD_REA_GEE/ZMVM/2022/aod_cli_ZMVM_2022_02_08.tif\n"
     ]
    },
    {
     "name": "stderr",
     "output_type": "stream",
     "text": [
      "Warning 1: TIFFReadDirectory:Sum of Photometric type-related color channels and ExtraSamples doesn't match SamplesPerPixel. Defining non-color channels as ExtraSamples.\n"
     ]
    },
    {
     "name": "stdout",
     "output_type": "stream",
     "text": [
      "getting url: \n",
      " https://earthengine.googleapis.com/v1/projects/851206260265/thumbnails/af44e136116b4995e7b514984052cc39-3ab968f09f38d1e2f56914b9c213c2ad:getPixels\n",
      "Saving at : \n",
      " ../data/raster/AOD_REA_GEE/ZMVM/2022/aod_cli_ZMVM_2022_02_08.tif\n",
      "Fill values with Nan\n",
      "\n",
      "\n",
      "Exporting 40/59: ../data/raster/AOD_REA_GEE/ZMVM/2022/aod_cli_ZMVM_2022_02_09.tif\n"
     ]
    },
    {
     "name": "stderr",
     "output_type": "stream",
     "text": [
      "Warning 1: TIFFReadDirectory:Sum of Photometric type-related color channels and ExtraSamples doesn't match SamplesPerPixel. Defining non-color channels as ExtraSamples.\n"
     ]
    },
    {
     "name": "stdout",
     "output_type": "stream",
     "text": [
      "getting url: \n",
      " https://earthengine.googleapis.com/v1/projects/851206260265/thumbnails/e3a251baa894af81a5f27810fdf9c06f-28e2edb4958f9208034c0cc2a44b02c7:getPixels\n",
      "Saving at : \n",
      " ../data/raster/AOD_REA_GEE/ZMVM/2022/aod_cli_ZMVM_2022_02_09.tif\n",
      "Fill values with Nan\n",
      "\n",
      "\n",
      "Exporting 41/59: ../data/raster/AOD_REA_GEE/ZMVM/2022/aod_cli_ZMVM_2022_02_10.tif\n"
     ]
    },
    {
     "name": "stderr",
     "output_type": "stream",
     "text": [
      "Warning 1: TIFFReadDirectory:Sum of Photometric type-related color channels and ExtraSamples doesn't match SamplesPerPixel. Defining non-color channels as ExtraSamples.\n"
     ]
    },
    {
     "name": "stdout",
     "output_type": "stream",
     "text": [
      "getting url: \n",
      " https://earthengine.googleapis.com/v1/projects/851206260265/thumbnails/67ee256d9f9b6f4cbc5bb733b0327526-0fef07f75bdbff5b3d659629d937ca7a:getPixels\n",
      "Saving at : \n",
      " ../data/raster/AOD_REA_GEE/ZMVM/2022/aod_cli_ZMVM_2022_02_10.tif\n",
      "Fill values with Nan\n",
      "\n",
      "\n",
      "Exporting 42/59: ../data/raster/AOD_REA_GEE/ZMVM/2022/aod_cli_ZMVM_2022_02_11.tif\n"
     ]
    },
    {
     "name": "stderr",
     "output_type": "stream",
     "text": [
      "Warning 1: TIFFReadDirectory:Sum of Photometric type-related color channels and ExtraSamples doesn't match SamplesPerPixel. Defining non-color channels as ExtraSamples.\n"
     ]
    },
    {
     "name": "stdout",
     "output_type": "stream",
     "text": [
      "getting url: \n",
      " https://earthengine.googleapis.com/v1/projects/851206260265/thumbnails/8af5bda62a5523c9dfb91c766c66ce96-3af202513f91ce2f924c91ee0c5d0da7:getPixels\n",
      "Saving at : \n",
      " ../data/raster/AOD_REA_GEE/ZMVM/2022/aod_cli_ZMVM_2022_02_11.tif\n",
      "Fill values with Nan\n",
      "\n",
      "\n",
      "Exporting 43/59: ../data/raster/AOD_REA_GEE/ZMVM/2022/aod_cli_ZMVM_2022_02_12.tif\n"
     ]
    },
    {
     "name": "stderr",
     "output_type": "stream",
     "text": [
      "Warning 1: TIFFReadDirectory:Sum of Photometric type-related color channels and ExtraSamples doesn't match SamplesPerPixel. Defining non-color channels as ExtraSamples.\n"
     ]
    },
    {
     "name": "stdout",
     "output_type": "stream",
     "text": [
      "getting url: \n",
      " https://earthengine.googleapis.com/v1/projects/851206260265/thumbnails/40ef04b279d39fccf03a1b1a83b8a077-5b707ba4b2b6e892c4940a8d163d8dea:getPixels\n",
      "Saving at : \n",
      " ../data/raster/AOD_REA_GEE/ZMVM/2022/aod_cli_ZMVM_2022_02_12.tif\n",
      "Fill values with Nan\n",
      "\n",
      "\n",
      "Exporting 44/59: ../data/raster/AOD_REA_GEE/ZMVM/2022/aod_cli_ZMVM_2022_02_13.tif\n"
     ]
    },
    {
     "name": "stderr",
     "output_type": "stream",
     "text": [
      "Warning 1: TIFFReadDirectory:Sum of Photometric type-related color channels and ExtraSamples doesn't match SamplesPerPixel. Defining non-color channels as ExtraSamples.\n"
     ]
    },
    {
     "name": "stdout",
     "output_type": "stream",
     "text": [
      "getting url: \n",
      " https://earthengine.googleapis.com/v1/projects/851206260265/thumbnails/61a76792e3cca3939b6f298cead4d9bf-bcc91849ddc76e0f04f612879a9c1622:getPixels\n",
      "Saving at : \n",
      " ../data/raster/AOD_REA_GEE/ZMVM/2022/aod_cli_ZMVM_2022_02_13.tif\n",
      "Fill values with Nan\n"
     ]
    },
    {
     "name": "stderr",
     "output_type": "stream",
     "text": [
      "Warning 1: TIFFReadDirectory:Sum of Photometric type-related color channels and ExtraSamples doesn't match SamplesPerPixel. Defining non-color channels as ExtraSamples.\n"
     ]
    },
    {
     "name": "stdout",
     "output_type": "stream",
     "text": [
      "\n",
      "\n",
      "Exporting 45/59: ../data/raster/AOD_REA_GEE/ZMVM/2022/aod_cli_ZMVM_2022_02_14.tif\n",
      "getting url: \n",
      " https://earthengine.googleapis.com/v1/projects/851206260265/thumbnails/b7118a3e0f04ef94efe813f705500f85-8a84b44aca8d035fe42379a4fd8d6ac8:getPixels\n",
      "Saving at : \n",
      " ../data/raster/AOD_REA_GEE/ZMVM/2022/aod_cli_ZMVM_2022_02_14.tif\n",
      "Fill values with Nan\n",
      "\n",
      "\n",
      "Exporting 46/59: ../data/raster/AOD_REA_GEE/ZMVM/2022/aod_cli_ZMVM_2022_02_15.tif\n"
     ]
    },
    {
     "name": "stderr",
     "output_type": "stream",
     "text": [
      "Warning 1: TIFFReadDirectory:Sum of Photometric type-related color channels and ExtraSamples doesn't match SamplesPerPixel. Defining non-color channels as ExtraSamples.\n"
     ]
    },
    {
     "name": "stdout",
     "output_type": "stream",
     "text": [
      "getting url: \n",
      " https://earthengine.googleapis.com/v1/projects/851206260265/thumbnails/90eeff2710a6bc898038f83dc5924555-22f03aea864e9002ea26096439e2ba67:getPixels\n",
      "Saving at : \n",
      " ../data/raster/AOD_REA_GEE/ZMVM/2022/aod_cli_ZMVM_2022_02_15.tif\n",
      "Fill values with Nan\n",
      "\n",
      "\n",
      "Exporting 47/59: ../data/raster/AOD_REA_GEE/ZMVM/2022/aod_cli_ZMVM_2022_02_16.tif\n"
     ]
    },
    {
     "name": "stderr",
     "output_type": "stream",
     "text": [
      "Warning 1: TIFFReadDirectory:Sum of Photometric type-related color channels and ExtraSamples doesn't match SamplesPerPixel. Defining non-color channels as ExtraSamples.\n"
     ]
    },
    {
     "name": "stdout",
     "output_type": "stream",
     "text": [
      "getting url: \n",
      " https://earthengine.googleapis.com/v1/projects/851206260265/thumbnails/315e0e38b408d3bd26d8f9747c6a26fa-c44062620824678ed2f6ac753ba79dc0:getPixels\n",
      "Saving at : \n",
      " ../data/raster/AOD_REA_GEE/ZMVM/2022/aod_cli_ZMVM_2022_02_16.tif\n",
      "Fill values with Nan\n",
      "\n",
      "\n",
      "Exporting 48/59: ../data/raster/AOD_REA_GEE/ZMVM/2022/aod_cli_ZMVM_2022_02_17.tif\n"
     ]
    },
    {
     "name": "stderr",
     "output_type": "stream",
     "text": [
      "Warning 1: TIFFReadDirectory:Sum of Photometric type-related color channels and ExtraSamples doesn't match SamplesPerPixel. Defining non-color channels as ExtraSamples.\n"
     ]
    },
    {
     "name": "stdout",
     "output_type": "stream",
     "text": [
      "getting url: \n",
      " https://earthengine.googleapis.com/v1/projects/851206260265/thumbnails/f84a1eea4839eba28be90d2d3c165d97-1e8d31db907c83628dedddefa34356bd:getPixels\n",
      "Saving at : \n",
      " ../data/raster/AOD_REA_GEE/ZMVM/2022/aod_cli_ZMVM_2022_02_17.tif\n",
      "Fill values with Nan\n",
      "\n",
      "\n",
      "Exporting 49/59: ../data/raster/AOD_REA_GEE/ZMVM/2022/aod_cli_ZMVM_2022_02_18.tif\n"
     ]
    },
    {
     "name": "stderr",
     "output_type": "stream",
     "text": [
      "Warning 1: TIFFReadDirectory:Sum of Photometric type-related color channels and ExtraSamples doesn't match SamplesPerPixel. Defining non-color channels as ExtraSamples.\n"
     ]
    },
    {
     "name": "stdout",
     "output_type": "stream",
     "text": [
      "getting url: \n",
      " https://earthengine.googleapis.com/v1/projects/851206260265/thumbnails/336e0e31292c33042c44efa2dd3ae259-21e5a84a9f9fbc57be829cfbe05207e6:getPixels\n",
      "Saving at : \n",
      " ../data/raster/AOD_REA_GEE/ZMVM/2022/aod_cli_ZMVM_2022_02_18.tif\n",
      "Fill values with Nan\n"
     ]
    },
    {
     "name": "stderr",
     "output_type": "stream",
     "text": [
      "Warning 1: TIFFReadDirectory:Sum of Photometric type-related color channels and ExtraSamples doesn't match SamplesPerPixel. Defining non-color channels as ExtraSamples.\n"
     ]
    },
    {
     "name": "stdout",
     "output_type": "stream",
     "text": [
      "\n",
      "\n",
      "Exporting 50/59: ../data/raster/AOD_REA_GEE/ZMVM/2022/aod_cli_ZMVM_2022_02_19.tif\n",
      "getting url: \n",
      " https://earthengine.googleapis.com/v1/projects/851206260265/thumbnails/c4b08e10148b8ac415ece3b0ac942e60-0d659d1b89510a5c13c30157e5ae7c3d:getPixels\n",
      "Saving at : \n",
      " ../data/raster/AOD_REA_GEE/ZMVM/2022/aod_cli_ZMVM_2022_02_19.tif\n",
      "Fill values with Nan\n",
      "\n",
      "\n",
      "Exporting 51/59: ../data/raster/AOD_REA_GEE/ZMVM/2022/aod_cli_ZMVM_2022_02_20.tif\n"
     ]
    },
    {
     "name": "stderr",
     "output_type": "stream",
     "text": [
      "Warning 1: TIFFReadDirectory:Sum of Photometric type-related color channels and ExtraSamples doesn't match SamplesPerPixel. Defining non-color channels as ExtraSamples.\n"
     ]
    },
    {
     "name": "stdout",
     "output_type": "stream",
     "text": [
      "getting url: \n",
      " https://earthengine.googleapis.com/v1/projects/851206260265/thumbnails/7c825e62df17b95a81fc0bc3c8f5688c-a0cf1c33ee0b216333cf080037e6c32e:getPixels\n",
      "Saving at : \n",
      " ../data/raster/AOD_REA_GEE/ZMVM/2022/aod_cli_ZMVM_2022_02_20.tif\n",
      "Fill values with Nan\n",
      "\n",
      "\n",
      "Exporting 52/59: ../data/raster/AOD_REA_GEE/ZMVM/2022/aod_cli_ZMVM_2022_02_21.tif\n"
     ]
    },
    {
     "name": "stderr",
     "output_type": "stream",
     "text": [
      "Warning 1: TIFFReadDirectory:Sum of Photometric type-related color channels and ExtraSamples doesn't match SamplesPerPixel. Defining non-color channels as ExtraSamples.\n"
     ]
    },
    {
     "name": "stdout",
     "output_type": "stream",
     "text": [
      "getting url: \n",
      " https://earthengine.googleapis.com/v1/projects/851206260265/thumbnails/613b14fa84ca15a45ee34a29b43e7037-4ee9ea1a3a9d6ce9bc917501e6c04e69:getPixels\n",
      "Saving at : \n",
      " ../data/raster/AOD_REA_GEE/ZMVM/2022/aod_cli_ZMVM_2022_02_21.tif\n",
      "Fill values with Nan\n",
      "\n",
      "\n",
      "Exporting 53/59: ../data/raster/AOD_REA_GEE/ZMVM/2022/aod_cli_ZMVM_2022_02_22.tif\n"
     ]
    },
    {
     "name": "stderr",
     "output_type": "stream",
     "text": [
      "Warning 1: TIFFReadDirectory:Sum of Photometric type-related color channels and ExtraSamples doesn't match SamplesPerPixel. Defining non-color channels as ExtraSamples.\n"
     ]
    },
    {
     "name": "stdout",
     "output_type": "stream",
     "text": [
      "getting url: \n",
      " https://earthengine.googleapis.com/v1/projects/851206260265/thumbnails/4e0fb72a581277f84628356de2520c63-94a94dc751d7493a8d271cdb372509ee:getPixels\n",
      "Saving at : \n",
      " ../data/raster/AOD_REA_GEE/ZMVM/2022/aod_cli_ZMVM_2022_02_22.tif\n",
      "Fill values with Nan\n",
      "\n",
      "\n",
      "Exporting 54/59: ../data/raster/AOD_REA_GEE/ZMVM/2022/aod_cli_ZMVM_2022_02_23.tif\n"
     ]
    },
    {
     "name": "stderr",
     "output_type": "stream",
     "text": [
      "Warning 1: TIFFReadDirectory:Sum of Photometric type-related color channels and ExtraSamples doesn't match SamplesPerPixel. Defining non-color channels as ExtraSamples.\n"
     ]
    },
    {
     "name": "stdout",
     "output_type": "stream",
     "text": [
      "getting url: \n",
      " https://earthengine.googleapis.com/v1/projects/851206260265/thumbnails/48434e4e1cca7258cc471c928cf5de77-1690f7a205b15fc092e1a12af75d577d:getPixels\n",
      "Saving at : \n",
      " ../data/raster/AOD_REA_GEE/ZMVM/2022/aod_cli_ZMVM_2022_02_23.tif\n",
      "Fill values with Nan\n"
     ]
    },
    {
     "name": "stderr",
     "output_type": "stream",
     "text": [
      "Warning 1: TIFFReadDirectory:Sum of Photometric type-related color channels and ExtraSamples doesn't match SamplesPerPixel. Defining non-color channels as ExtraSamples.\n"
     ]
    },
    {
     "name": "stdout",
     "output_type": "stream",
     "text": [
      "\n",
      "\n",
      "Exporting 55/59: ../data/raster/AOD_REA_GEE/ZMVM/2022/aod_cli_ZMVM_2022_02_24.tif\n",
      "getting url: \n",
      " https://earthengine.googleapis.com/v1/projects/851206260265/thumbnails/96c5727c8296d6e3f82791791205cf8a-abb5a7e93bec01e16b4c28de73256c34:getPixels\n",
      "Saving at : \n",
      " ../data/raster/AOD_REA_GEE/ZMVM/2022/aod_cli_ZMVM_2022_02_24.tif\n",
      "Fill values with Nan\n",
      "\n",
      "\n",
      "Exporting 56/59: ../data/raster/AOD_REA_GEE/ZMVM/2022/aod_cli_ZMVM_2022_02_25.tif\n"
     ]
    },
    {
     "name": "stderr",
     "output_type": "stream",
     "text": [
      "Warning 1: TIFFReadDirectory:Sum of Photometric type-related color channels and ExtraSamples doesn't match SamplesPerPixel. Defining non-color channels as ExtraSamples.\n"
     ]
    },
    {
     "name": "stdout",
     "output_type": "stream",
     "text": [
      "getting url: \n",
      " https://earthengine.googleapis.com/v1/projects/851206260265/thumbnails/ba023b09f3d750f03aabd3dd37d8e817-96d5256e755b9e1ddc647f5634480c87:getPixels\n",
      "Saving at : \n",
      " ../data/raster/AOD_REA_GEE/ZMVM/2022/aod_cli_ZMVM_2022_02_25.tif\n",
      "Fill values with Nan\n",
      "\n",
      "\n",
      "Exporting 57/59: ../data/raster/AOD_REA_GEE/ZMVM/2022/aod_cli_ZMVM_2022_02_26.tif\n"
     ]
    },
    {
     "name": "stderr",
     "output_type": "stream",
     "text": [
      "Warning 1: TIFFReadDirectory:Sum of Photometric type-related color channels and ExtraSamples doesn't match SamplesPerPixel. Defining non-color channels as ExtraSamples.\n"
     ]
    },
    {
     "name": "stdout",
     "output_type": "stream",
     "text": [
      "getting url: \n",
      " https://earthengine.googleapis.com/v1/projects/851206260265/thumbnails/5212fd5bc20caa456965c11d511563ee-26b6012b0cca985fb1df94cbcfda5d51:getPixels\n",
      "Saving at : \n",
      " ../data/raster/AOD_REA_GEE/ZMVM/2022/aod_cli_ZMVM_2022_02_26.tif\n",
      "Fill values with Nan\n",
      "\n",
      "\n",
      "Exporting 58/59: ../data/raster/AOD_REA_GEE/ZMVM/2022/aod_cli_ZMVM_2022_02_27.tif\n"
     ]
    },
    {
     "name": "stderr",
     "output_type": "stream",
     "text": [
      "Warning 1: TIFFReadDirectory:Sum of Photometric type-related color channels and ExtraSamples doesn't match SamplesPerPixel. Defining non-color channels as ExtraSamples.\n"
     ]
    },
    {
     "name": "stdout",
     "output_type": "stream",
     "text": [
      "getting url: \n",
      " https://earthengine.googleapis.com/v1/projects/851206260265/thumbnails/d8c5ac35155582009ddf90293075b697-3f65b57a6451f3d3de8c9d215df0f3d6:getPixels\n",
      "Saving at : \n",
      " ../data/raster/AOD_REA_GEE/ZMVM/2022/aod_cli_ZMVM_2022_02_27.tif\n",
      "Fill values with Nan\n",
      "\n",
      "\n",
      "Exporting 59/59: ../data/raster/AOD_REA_GEE/ZMVM/2022/aod_cli_ZMVM_2022_02_28.tif\n"
     ]
    },
    {
     "name": "stderr",
     "output_type": "stream",
     "text": [
      "Warning 1: TIFFReadDirectory:Sum of Photometric type-related color channels and ExtraSamples doesn't match SamplesPerPixel. Defining non-color channels as ExtraSamples.\n"
     ]
    },
    {
     "name": "stdout",
     "output_type": "stream",
     "text": [
      "getting url: \n",
      " https://earthengine.googleapis.com/v1/projects/851206260265/thumbnails/9caf568165af214ff3a51bcae0f68e9a-3d85d01996044e62eef77e890b7b51e4:getPixels\n",
      "Saving at : \n",
      " ../data/raster/AOD_REA_GEE/ZMVM/2022/aod_cli_ZMVM_2022_02_28.tif\n",
      "Fill values with Nan\n",
      "\n",
      "\n"
     ]
    },
    {
     "name": "stderr",
     "output_type": "stream",
     "text": [
      "Warning 1: TIFFReadDirectory:Sum of Photometric type-related color channels and ExtraSamples doesn't match SamplesPerPixel. Defining non-color channels as ExtraSamples.\n"
     ]
    }
   ],
   "source": [
    "get_year_zm(\n",
    "        \"2022-01-01\",\n",
    "        \"2022-03-01\",\n",
    "        \"ZMVM\",\n",
    "        \"../data/raster/AOD_REA_GEE/ZMVM/2022/\",\n",
    "        prefix = \"aod_cli_\")"
   ]
  },
  {
   "cell_type": "code",
   "execution_count": null,
   "id": "dd85f22c-d11a-43b2-82fa-b1fded92b691",
   "metadata": {},
   "outputs": [
    {
     "data": {
      "text/html": [
       "\n",
       "            <style>\n",
       "                .geemap-dark {\n",
       "                    --jp-widgets-color: white;\n",
       "                    --jp-widgets-label-color: white;\n",
       "                    --jp-ui-font-color1: white;\n",
       "                    --jp-layout-color2: #454545;\n",
       "                    background-color: #383838;\n",
       "                }\n",
       "\n",
       "                .geemap-dark .jupyter-button {\n",
       "                    --jp-layout-color3: #383838;\n",
       "                }\n",
       "\n",
       "                .geemap-colab {\n",
       "                    background-color: var(--colab-primary-surface-color, white);\n",
       "                }\n",
       "\n",
       "                .geemap-colab .jupyter-button {\n",
       "                    --jp-layout-color3: var(--colab-primary-surface-color, white);\n",
       "                }\n",
       "            </style>\n",
       "            "
      ],
      "text/plain": [
       "<IPython.core.display.HTML object>"
      ]
     },
     "metadata": {},
     "output_type": "display_data"
    },
    {
     "name": "stdout",
     "output_type": "stream",
     "text": [
      "['aod_cli_ZMVM_2022_03_01', 'aod_cli_ZMVM_2022_03_02', 'aod_cli_ZMVM_2022_03_03', 'aod_cli_ZMVM_2022_03_04', 'aod_cli_ZMVM_2022_03_05', 'aod_cli_ZMVM_2022_03_06', 'aod_cli_ZMVM_2022_03_07', 'aod_cli_ZMVM_2022_03_08', 'aod_cli_ZMVM_2022_03_09', 'aod_cli_ZMVM_2022_03_10', 'aod_cli_ZMVM_2022_03_11', 'aod_cli_ZMVM_2022_03_12', 'aod_cli_ZMVM_2022_03_13', 'aod_cli_ZMVM_2022_03_14', 'aod_cli_ZMVM_2022_03_15', 'aod_cli_ZMVM_2022_03_16', 'aod_cli_ZMVM_2022_03_17', 'aod_cli_ZMVM_2022_03_18', 'aod_cli_ZMVM_2022_03_19', 'aod_cli_ZMVM_2022_03_20', 'aod_cli_ZMVM_2022_03_21', 'aod_cli_ZMVM_2022_03_22', 'aod_cli_ZMVM_2022_03_23', 'aod_cli_ZMVM_2022_03_24', 'aod_cli_ZMVM_2022_03_25', 'aod_cli_ZMVM_2022_03_26', 'aod_cli_ZMVM_2022_03_27', 'aod_cli_ZMVM_2022_03_28', 'aod_cli_ZMVM_2022_03_29', 'aod_cli_ZMVM_2022_03_30', 'aod_cli_ZMVM_2022_03_31', 'aod_cli_ZMVM_2022_04_01', 'aod_cli_ZMVM_2022_04_02', 'aod_cli_ZMVM_2022_04_03', 'aod_cli_ZMVM_2022_04_04', 'aod_cli_ZMVM_2022_04_05', 'aod_cli_ZMVM_2022_04_06', 'aod_cli_ZMVM_2022_04_07', 'aod_cli_ZMVM_2022_04_08', 'aod_cli_ZMVM_2022_04_09', 'aod_cli_ZMVM_2022_04_10', 'aod_cli_ZMVM_2022_04_11', 'aod_cli_ZMVM_2022_04_12', 'aod_cli_ZMVM_2022_04_13', 'aod_cli_ZMVM_2022_04_14', 'aod_cli_ZMVM_2022_04_15', 'aod_cli_ZMVM_2022_04_16', 'aod_cli_ZMVM_2022_04_17', 'aod_cli_ZMVM_2022_04_18', 'aod_cli_ZMVM_2022_04_19', 'aod_cli_ZMVM_2022_04_20', 'aod_cli_ZMVM_2022_04_21', 'aod_cli_ZMVM_2022_04_22', 'aod_cli_ZMVM_2022_04_23', 'aod_cli_ZMVM_2022_04_24', 'aod_cli_ZMVM_2022_04_25', 'aod_cli_ZMVM_2022_04_26', 'aod_cli_ZMVM_2022_04_27', 'aod_cli_ZMVM_2022_04_28', 'aod_cli_ZMVM_2022_04_29', 'aod_cli_ZMVM_2022_04_30', 'aod_cli_ZMVM_2022_05_01', 'aod_cli_ZMVM_2022_05_02', 'aod_cli_ZMVM_2022_05_03', 'aod_cli_ZMVM_2022_05_04', 'aod_cli_ZMVM_2022_05_05', 'aod_cli_ZMVM_2022_05_06', 'aod_cli_ZMVM_2022_05_07', 'aod_cli_ZMVM_2022_05_08', 'aod_cli_ZMVM_2022_05_09', 'aod_cli_ZMVM_2022_05_10', 'aod_cli_ZMVM_2022_05_11', 'aod_cli_ZMVM_2022_05_12', 'aod_cli_ZMVM_2022_05_13', 'aod_cli_ZMVM_2022_05_14', 'aod_cli_ZMVM_2022_05_15', 'aod_cli_ZMVM_2022_05_16', 'aod_cli_ZMVM_2022_05_17', 'aod_cli_ZMVM_2022_05_18', 'aod_cli_ZMVM_2022_05_19', 'aod_cli_ZMVM_2022_05_20', 'aod_cli_ZMVM_2022_05_21', 'aod_cli_ZMVM_2022_05_22', 'aod_cli_ZMVM_2022_05_23', 'aod_cli_ZMVM_2022_05_24', 'aod_cli_ZMVM_2022_05_25', 'aod_cli_ZMVM_2022_05_26', 'aod_cli_ZMVM_2022_05_27', 'aod_cli_ZMVM_2022_05_28', 'aod_cli_ZMVM_2022_05_29', 'aod_cli_ZMVM_2022_05_30', 'aod_cli_ZMVM_2022_05_31', 'aod_cli_ZMVM_2022_06_01', 'aod_cli_ZMVM_2022_06_02', 'aod_cli_ZMVM_2022_06_03', 'aod_cli_ZMVM_2022_06_04', 'aod_cli_ZMVM_2022_06_05', 'aod_cli_ZMVM_2022_06_06', 'aod_cli_ZMVM_2022_06_07', 'aod_cli_ZMVM_2022_06_08', 'aod_cli_ZMVM_2022_06_09', 'aod_cli_ZMVM_2022_06_10', 'aod_cli_ZMVM_2022_06_11', 'aod_cli_ZMVM_2022_06_12', 'aod_cli_ZMVM_2022_06_13', 'aod_cli_ZMVM_2022_06_14', 'aod_cli_ZMVM_2022_06_15', 'aod_cli_ZMVM_2022_06_16', 'aod_cli_ZMVM_2022_06_17', 'aod_cli_ZMVM_2022_06_18', 'aod_cli_ZMVM_2022_06_19', 'aod_cli_ZMVM_2022_06_20', 'aod_cli_ZMVM_2022_06_21', 'aod_cli_ZMVM_2022_06_22', 'aod_cli_ZMVM_2022_06_23', 'aod_cli_ZMVM_2022_06_24', 'aod_cli_ZMVM_2022_06_25', 'aod_cli_ZMVM_2022_06_26', 'aod_cli_ZMVM_2022_06_27', 'aod_cli_ZMVM_2022_06_28', 'aod_cli_ZMVM_2022_06_29', 'aod_cli_ZMVM_2022_06_30', 'aod_cli_ZMVM_2022_07_01', 'aod_cli_ZMVM_2022_07_02', 'aod_cli_ZMVM_2022_07_03', 'aod_cli_ZMVM_2022_07_04', 'aod_cli_ZMVM_2022_07_05', 'aod_cli_ZMVM_2022_07_06', 'aod_cli_ZMVM_2022_07_07', 'aod_cli_ZMVM_2022_07_08', 'aod_cli_ZMVM_2022_07_09', 'aod_cli_ZMVM_2022_07_10', 'aod_cli_ZMVM_2022_07_11', 'aod_cli_ZMVM_2022_07_12', 'aod_cli_ZMVM_2022_07_13', 'aod_cli_ZMVM_2022_07_14', 'aod_cli_ZMVM_2022_07_15', 'aod_cli_ZMVM_2022_07_16', 'aod_cli_ZMVM_2022_07_17', 'aod_cli_ZMVM_2022_07_18', 'aod_cli_ZMVM_2022_07_19', 'aod_cli_ZMVM_2022_07_20', 'aod_cli_ZMVM_2022_07_21', 'aod_cli_ZMVM_2022_07_22', 'aod_cli_ZMVM_2022_07_23', 'aod_cli_ZMVM_2022_07_24', 'aod_cli_ZMVM_2022_07_25', 'aod_cli_ZMVM_2022_07_26', 'aod_cli_ZMVM_2022_07_27', 'aod_cli_ZMVM_2022_07_28', 'aod_cli_ZMVM_2022_07_29', 'aod_cli_ZMVM_2022_07_30', 'aod_cli_ZMVM_2022_07_31']\n",
      "Exporting 1/153: ../data/raster/AOD_REA_GEE/ZMVM/2022/aod_cli_ZMVM_2022_03_01.tif\n",
      "getting url: \n",
      " https://earthengine.googleapis.com/v1/projects/851206260265/thumbnails/c01e121427fde8b4f1807a2dd8a774a6-a93005ecc86e9388e278100e3b6f1d77:getPixels\n",
      "Saving at : \n",
      " ../data/raster/AOD_REA_GEE/ZMVM/2022/aod_cli_ZMVM_2022_03_01.tif\n",
      "Fill values with Nan\n",
      "\n",
      "\n",
      "Exporting 2/153: ../data/raster/AOD_REA_GEE/ZMVM/2022/aod_cli_ZMVM_2022_03_02.tif\n"
     ]
    },
    {
     "name": "stderr",
     "output_type": "stream",
     "text": [
      "Warning 1: TIFFReadDirectory:Sum of Photometric type-related color channels and ExtraSamples doesn't match SamplesPerPixel. Defining non-color channels as ExtraSamples.\n"
     ]
    },
    {
     "name": "stdout",
     "output_type": "stream",
     "text": [
      "getting url: \n",
      " https://earthengine.googleapis.com/v1/projects/851206260265/thumbnails/fa97db1f446643dd09abb1e5bd8ee6b1-740f41a60524e0748f63350db28776e2:getPixels\n",
      "Saving at : \n",
      " ../data/raster/AOD_REA_GEE/ZMVM/2022/aod_cli_ZMVM_2022_03_02.tif\n",
      "Fill values with Nan\n",
      "\n",
      "\n",
      "Exporting 3/153: ../data/raster/AOD_REA_GEE/ZMVM/2022/aod_cli_ZMVM_2022_03_03.tif\n"
     ]
    },
    {
     "name": "stderr",
     "output_type": "stream",
     "text": [
      "Warning 1: TIFFReadDirectory:Sum of Photometric type-related color channels and ExtraSamples doesn't match SamplesPerPixel. Defining non-color channels as ExtraSamples.\n"
     ]
    },
    {
     "name": "stdout",
     "output_type": "stream",
     "text": [
      "getting url: \n",
      " https://earthengine.googleapis.com/v1/projects/851206260265/thumbnails/0380ede8f57ab444a4811094329495f4-f500b5b92bb20c27c1e0e815f0964ece:getPixels\n",
      "Saving at : \n",
      " ../data/raster/AOD_REA_GEE/ZMVM/2022/aod_cli_ZMVM_2022_03_03.tif\n",
      "Fill values with Nan\n",
      "\n",
      "\n",
      "Exporting 4/153: ../data/raster/AOD_REA_GEE/ZMVM/2022/aod_cli_ZMVM_2022_03_04.tif\n"
     ]
    },
    {
     "name": "stderr",
     "output_type": "stream",
     "text": [
      "Warning 1: TIFFReadDirectory:Sum of Photometric type-related color channels and ExtraSamples doesn't match SamplesPerPixel. Defining non-color channels as ExtraSamples.\n"
     ]
    },
    {
     "name": "stdout",
     "output_type": "stream",
     "text": [
      "getting url: \n",
      " https://earthengine.googleapis.com/v1/projects/851206260265/thumbnails/e074e26f75b73f90daad8859f56b5b7d-06f0d471da07af8c2a84017372bbdbba:getPixels\n",
      "Saving at : \n",
      " ../data/raster/AOD_REA_GEE/ZMVM/2022/aod_cli_ZMVM_2022_03_04.tif\n",
      "Fill values with Nan\n",
      "\n",
      "\n",
      "Exporting 5/153: ../data/raster/AOD_REA_GEE/ZMVM/2022/aod_cli_ZMVM_2022_03_05.tif\n"
     ]
    },
    {
     "name": "stderr",
     "output_type": "stream",
     "text": [
      "Warning 1: TIFFReadDirectory:Sum of Photometric type-related color channels and ExtraSamples doesn't match SamplesPerPixel. Defining non-color channels as ExtraSamples.\n"
     ]
    },
    {
     "name": "stdout",
     "output_type": "stream",
     "text": [
      "getting url: \n",
      " https://earthengine.googleapis.com/v1/projects/851206260265/thumbnails/37d0c6ab1d38e0508ca83a38480f2760-38f5f7f5174dbcf2a5117999132c0c07:getPixels\n",
      "Saving at : \n",
      " ../data/raster/AOD_REA_GEE/ZMVM/2022/aod_cli_ZMVM_2022_03_05.tif\n",
      "Fill values with Nan\n",
      "\n",
      "\n",
      "Exporting 6/153: ../data/raster/AOD_REA_GEE/ZMVM/2022/aod_cli_ZMVM_2022_03_06.tif\n"
     ]
    },
    {
     "name": "stderr",
     "output_type": "stream",
     "text": [
      "Warning 1: TIFFReadDirectory:Sum of Photometric type-related color channels and ExtraSamples doesn't match SamplesPerPixel. Defining non-color channels as ExtraSamples.\n"
     ]
    },
    {
     "name": "stdout",
     "output_type": "stream",
     "text": [
      "getting url: \n",
      " https://earthengine.googleapis.com/v1/projects/851206260265/thumbnails/911832516c6cffb498776d81f61cb7b6-b1c5cfd54459c3dc779de9a3e3016a90:getPixels\n",
      "Saving at : \n",
      " ../data/raster/AOD_REA_GEE/ZMVM/2022/aod_cli_ZMVM_2022_03_06.tif\n",
      "Fill values with Nan\n",
      "\n",
      "\n",
      "Exporting 7/153: ../data/raster/AOD_REA_GEE/ZMVM/2022/aod_cli_ZMVM_2022_03_07.tif\n"
     ]
    },
    {
     "name": "stderr",
     "output_type": "stream",
     "text": [
      "Warning 1: TIFFReadDirectory:Sum of Photometric type-related color channels and ExtraSamples doesn't match SamplesPerPixel. Defining non-color channels as ExtraSamples.\n"
     ]
    },
    {
     "name": "stdout",
     "output_type": "stream",
     "text": [
      "getting url: \n",
      " https://earthengine.googleapis.com/v1/projects/851206260265/thumbnails/b987c4f63d1f8b4a81e93b89d4d0d2c5-3fa35cf1c1316a787f333a2166af754b:getPixels\n",
      "Saving at : \n",
      " ../data/raster/AOD_REA_GEE/ZMVM/2022/aod_cli_ZMVM_2022_03_07.tif\n",
      "Fill values with Nan\n",
      "\n",
      "\n",
      "Exporting 8/153: ../data/raster/AOD_REA_GEE/ZMVM/2022/aod_cli_ZMVM_2022_03_08.tif\n"
     ]
    },
    {
     "name": "stderr",
     "output_type": "stream",
     "text": [
      "Warning 1: TIFFReadDirectory:Sum of Photometric type-related color channels and ExtraSamples doesn't match SamplesPerPixel. Defining non-color channels as ExtraSamples.\n"
     ]
    },
    {
     "name": "stdout",
     "output_type": "stream",
     "text": [
      "getting url: \n",
      " https://earthengine.googleapis.com/v1/projects/851206260265/thumbnails/b9938ada50ec3c92aa8e0a97c3ed6a5b-7c83fb696260744c7f526fc45445a9ab:getPixels\n",
      "Saving at : \n",
      " ../data/raster/AOD_REA_GEE/ZMVM/2022/aod_cli_ZMVM_2022_03_08.tif\n",
      "Fill values with Nan\n",
      "\n",
      "\n",
      "Exporting 9/153: ../data/raster/AOD_REA_GEE/ZMVM/2022/aod_cli_ZMVM_2022_03_09.tif\n"
     ]
    },
    {
     "name": "stderr",
     "output_type": "stream",
     "text": [
      "Warning 1: TIFFReadDirectory:Sum of Photometric type-related color channels and ExtraSamples doesn't match SamplesPerPixel. Defining non-color channels as ExtraSamples.\n"
     ]
    },
    {
     "name": "stdout",
     "output_type": "stream",
     "text": [
      "getting url: \n",
      " https://earthengine.googleapis.com/v1/projects/851206260265/thumbnails/b7b81d98bb684f23eac4dea8a042fa36-b5ca37631f361486c72858039ede9333:getPixels\n",
      "Saving at : \n",
      " ../data/raster/AOD_REA_GEE/ZMVM/2022/aod_cli_ZMVM_2022_03_09.tif\n",
      "Fill values with Nan\n",
      "\n",
      "\n",
      "Exporting 10/153: ../data/raster/AOD_REA_GEE/ZMVM/2022/aod_cli_ZMVM_2022_03_10.tif\n"
     ]
    },
    {
     "name": "stderr",
     "output_type": "stream",
     "text": [
      "Warning 1: TIFFReadDirectory:Sum of Photometric type-related color channels and ExtraSamples doesn't match SamplesPerPixel. Defining non-color channels as ExtraSamples.\n"
     ]
    },
    {
     "name": "stdout",
     "output_type": "stream",
     "text": [
      "getting url: \n",
      " https://earthengine.googleapis.com/v1/projects/851206260265/thumbnails/f306175756ee946ef78e3cbb225461b0-9c708a776c2bad590004f05b50ed0087:getPixels\n",
      "Saving at : \n",
      " ../data/raster/AOD_REA_GEE/ZMVM/2022/aod_cli_ZMVM_2022_03_10.tif\n",
      "Fill values with Nan\n",
      "\n",
      "\n",
      "Exporting 11/153: ../data/raster/AOD_REA_GEE/ZMVM/2022/aod_cli_ZMVM_2022_03_11.tif\n"
     ]
    },
    {
     "name": "stderr",
     "output_type": "stream",
     "text": [
      "Warning 1: TIFFReadDirectory:Sum of Photometric type-related color channels and ExtraSamples doesn't match SamplesPerPixel. Defining non-color channels as ExtraSamples.\n"
     ]
    },
    {
     "name": "stdout",
     "output_type": "stream",
     "text": [
      "getting url: \n",
      " https://earthengine.googleapis.com/v1/projects/851206260265/thumbnails/e9877ac08b702aa1922578321c4ce962-80816ae063c9f2280a6b41b317d05c03:getPixels\n",
      "Saving at : \n",
      " ../data/raster/AOD_REA_GEE/ZMVM/2022/aod_cli_ZMVM_2022_03_11.tif\n",
      "Fill values with Nan\n",
      "\n",
      "\n",
      "Exporting 12/153: ../data/raster/AOD_REA_GEE/ZMVM/2022/aod_cli_ZMVM_2022_03_12.tif\n"
     ]
    },
    {
     "name": "stderr",
     "output_type": "stream",
     "text": [
      "Warning 1: TIFFReadDirectory:Sum of Photometric type-related color channels and ExtraSamples doesn't match SamplesPerPixel. Defining non-color channels as ExtraSamples.\n"
     ]
    },
    {
     "name": "stdout",
     "output_type": "stream",
     "text": [
      "getting url: \n",
      " https://earthengine.googleapis.com/v1/projects/851206260265/thumbnails/b87880ef5a48777c15e87c2acbc43433-042c3212c93f5b413366b18a19fc1fb4:getPixels\n",
      "Saving at : \n",
      " ../data/raster/AOD_REA_GEE/ZMVM/2022/aod_cli_ZMVM_2022_03_12.tif\n",
      "Fill values with Nan\n",
      "\n",
      "\n",
      "Exporting 13/153: ../data/raster/AOD_REA_GEE/ZMVM/2022/aod_cli_ZMVM_2022_03_13.tif\n"
     ]
    },
    {
     "name": "stderr",
     "output_type": "stream",
     "text": [
      "Warning 1: TIFFReadDirectory:Sum of Photometric type-related color channels and ExtraSamples doesn't match SamplesPerPixel. Defining non-color channels as ExtraSamples.\n"
     ]
    },
    {
     "name": "stdout",
     "output_type": "stream",
     "text": [
      "getting url: \n",
      " https://earthengine.googleapis.com/v1/projects/851206260265/thumbnails/1c97f8dd8d7941b64e0fa3cd3c8d3cef-b1daf6b44730e0017af5f2df3ccdc093:getPixels\n",
      "Saving at : \n",
      " ../data/raster/AOD_REA_GEE/ZMVM/2022/aod_cli_ZMVM_2022_03_13.tif\n",
      "Fill values with Nan\n",
      "\n",
      "\n",
      "Exporting 14/153: ../data/raster/AOD_REA_GEE/ZMVM/2022/aod_cli_ZMVM_2022_03_14.tif\n"
     ]
    },
    {
     "name": "stderr",
     "output_type": "stream",
     "text": [
      "Warning 1: TIFFReadDirectory:Sum of Photometric type-related color channels and ExtraSamples doesn't match SamplesPerPixel. Defining non-color channels as ExtraSamples.\n"
     ]
    },
    {
     "name": "stdout",
     "output_type": "stream",
     "text": [
      "getting url: \n",
      " https://earthengine.googleapis.com/v1/projects/851206260265/thumbnails/659dadc1f7c6fb1614a08cefa46678d0-a8aeca04c430666a443dea6190d7dd08:getPixels\n",
      "Saving at : \n",
      " ../data/raster/AOD_REA_GEE/ZMVM/2022/aod_cli_ZMVM_2022_03_14.tif\n",
      "Fill values with Nan\n",
      "\n",
      "\n",
      "Exporting 15/153: ../data/raster/AOD_REA_GEE/ZMVM/2022/aod_cli_ZMVM_2022_03_15.tif\n"
     ]
    },
    {
     "name": "stderr",
     "output_type": "stream",
     "text": [
      "Warning 1: TIFFReadDirectory:Sum of Photometric type-related color channels and ExtraSamples doesn't match SamplesPerPixel. Defining non-color channels as ExtraSamples.\n"
     ]
    },
    {
     "name": "stdout",
     "output_type": "stream",
     "text": [
      "getting url: \n",
      " https://earthengine.googleapis.com/v1/projects/851206260265/thumbnails/95aab47eee1b4f02e5383bf9da8d8ff1-4f083167d67c1a741279954a57a28465:getPixels\n",
      "Saving at : \n",
      " ../data/raster/AOD_REA_GEE/ZMVM/2022/aod_cli_ZMVM_2022_03_15.tif\n",
      "Fill values with Nan\n"
     ]
    },
    {
     "name": "stderr",
     "output_type": "stream",
     "text": [
      "Warning 1: TIFFReadDirectory:Sum of Photometric type-related color channels and ExtraSamples doesn't match SamplesPerPixel. Defining non-color channels as ExtraSamples.\n"
     ]
    },
    {
     "name": "stdout",
     "output_type": "stream",
     "text": [
      "\n",
      "\n",
      "Exporting 16/153: ../data/raster/AOD_REA_GEE/ZMVM/2022/aod_cli_ZMVM_2022_03_16.tif\n",
      "getting url: \n",
      " https://earthengine.googleapis.com/v1/projects/851206260265/thumbnails/62b692b7e08632ebe6cca4ddd00c1263-96b74c9610d4d93b14a8a02f4dc1eb6a:getPixels\n",
      "Saving at : \n",
      " ../data/raster/AOD_REA_GEE/ZMVM/2022/aod_cli_ZMVM_2022_03_16.tif\n",
      "Fill values with Nan\n",
      "\n",
      "\n",
      "Exporting 17/153: ../data/raster/AOD_REA_GEE/ZMVM/2022/aod_cli_ZMVM_2022_03_17.tif\n"
     ]
    },
    {
     "name": "stderr",
     "output_type": "stream",
     "text": [
      "Warning 1: TIFFReadDirectory:Sum of Photometric type-related color channels and ExtraSamples doesn't match SamplesPerPixel. Defining non-color channels as ExtraSamples.\n"
     ]
    },
    {
     "name": "stdout",
     "output_type": "stream",
     "text": [
      "getting url: \n",
      " https://earthengine.googleapis.com/v1/projects/851206260265/thumbnails/24992ada57424b3e58af108b6191d9f3-60073e7318ad05a062766f8b6a0b895e:getPixels\n",
      "Saving at : \n",
      " ../data/raster/AOD_REA_GEE/ZMVM/2022/aod_cli_ZMVM_2022_03_17.tif\n",
      "Fill values with Nan\n",
      "\n",
      "\n",
      "Exporting 18/153: ../data/raster/AOD_REA_GEE/ZMVM/2022/aod_cli_ZMVM_2022_03_18.tif\n"
     ]
    },
    {
     "name": "stderr",
     "output_type": "stream",
     "text": [
      "Warning 1: TIFFReadDirectory:Sum of Photometric type-related color channels and ExtraSamples doesn't match SamplesPerPixel. Defining non-color channels as ExtraSamples.\n"
     ]
    },
    {
     "name": "stdout",
     "output_type": "stream",
     "text": [
      "getting url: \n",
      " https://earthengine.googleapis.com/v1/projects/851206260265/thumbnails/9030fe879c643a71d90916ebdb1a0206-3a732d88c8beb99a301bc50449653bd5:getPixels\n",
      "Saving at : \n",
      " ../data/raster/AOD_REA_GEE/ZMVM/2022/aod_cli_ZMVM_2022_03_18.tif\n",
      "Fill values with Nan\n",
      "\n",
      "\n",
      "Exporting 19/153: ../data/raster/AOD_REA_GEE/ZMVM/2022/aod_cli_ZMVM_2022_03_19.tif\n"
     ]
    },
    {
     "name": "stderr",
     "output_type": "stream",
     "text": [
      "Warning 1: TIFFReadDirectory:Sum of Photometric type-related color channels and ExtraSamples doesn't match SamplesPerPixel. Defining non-color channels as ExtraSamples.\n"
     ]
    },
    {
     "name": "stdout",
     "output_type": "stream",
     "text": [
      "getting url: \n",
      " https://earthengine.googleapis.com/v1/projects/851206260265/thumbnails/de4a6b3d37c37c638078253b3e60f00d-5b16e51d010ed4589a755182f94230f9:getPixels\n",
      "Saving at : \n",
      " ../data/raster/AOD_REA_GEE/ZMVM/2022/aod_cli_ZMVM_2022_03_19.tif\n",
      "Fill values with Nan\n",
      "\n",
      "\n",
      "Exporting 20/153: ../data/raster/AOD_REA_GEE/ZMVM/2022/aod_cli_ZMVM_2022_03_20.tif\n"
     ]
    },
    {
     "name": "stderr",
     "output_type": "stream",
     "text": [
      "Warning 1: TIFFReadDirectory:Sum of Photometric type-related color channels and ExtraSamples doesn't match SamplesPerPixel. Defining non-color channels as ExtraSamples.\n"
     ]
    },
    {
     "name": "stdout",
     "output_type": "stream",
     "text": [
      "getting url: \n",
      " https://earthengine.googleapis.com/v1/projects/851206260265/thumbnails/b0ef7f9ed248e0f2a6ee7f8e9b2edf99-8bfb1581218cd978aeb4e7995f5067ff:getPixels\n",
      "Saving at : \n",
      " ../data/raster/AOD_REA_GEE/ZMVM/2022/aod_cli_ZMVM_2022_03_20.tif\n",
      "Fill values with Nan\n",
      "\n",
      "\n",
      "Exporting 21/153: ../data/raster/AOD_REA_GEE/ZMVM/2022/aod_cli_ZMVM_2022_03_21.tif\n"
     ]
    },
    {
     "name": "stderr",
     "output_type": "stream",
     "text": [
      "Warning 1: TIFFReadDirectory:Sum of Photometric type-related color channels and ExtraSamples doesn't match SamplesPerPixel. Defining non-color channels as ExtraSamples.\n"
     ]
    },
    {
     "name": "stdout",
     "output_type": "stream",
     "text": [
      "getting url: \n",
      " https://earthengine.googleapis.com/v1/projects/851206260265/thumbnails/b43056b0112394815b2ca85da1291004-4f207ee7a32c5ff93592df8a0ed5937a:getPixels\n",
      "Saving at : \n",
      " ../data/raster/AOD_REA_GEE/ZMVM/2022/aod_cli_ZMVM_2022_03_21.tif\n",
      "Fill values with Nan\n",
      "\n",
      "\n",
      "Exporting 22/153: ../data/raster/AOD_REA_GEE/ZMVM/2022/aod_cli_ZMVM_2022_03_22.tif\n"
     ]
    },
    {
     "name": "stderr",
     "output_type": "stream",
     "text": [
      "Warning 1: TIFFReadDirectory:Sum of Photometric type-related color channels and ExtraSamples doesn't match SamplesPerPixel. Defining non-color channels as ExtraSamples.\n"
     ]
    },
    {
     "name": "stdout",
     "output_type": "stream",
     "text": [
      "getting url: \n",
      " https://earthengine.googleapis.com/v1/projects/851206260265/thumbnails/aeb778ddb5920b22d7506315f231cf94-7d729ea8cc0737599733519f51bb8c04:getPixels\n",
      "Saving at : \n",
      " ../data/raster/AOD_REA_GEE/ZMVM/2022/aod_cli_ZMVM_2022_03_22.tif\n",
      "Fill values with Nan\n",
      "\n",
      "\n",
      "Exporting 23/153: ../data/raster/AOD_REA_GEE/ZMVM/2022/aod_cli_ZMVM_2022_03_23.tif\n"
     ]
    },
    {
     "name": "stderr",
     "output_type": "stream",
     "text": [
      "Warning 1: TIFFReadDirectory:Sum of Photometric type-related color channels and ExtraSamples doesn't match SamplesPerPixel. Defining non-color channels as ExtraSamples.\n"
     ]
    },
    {
     "name": "stdout",
     "output_type": "stream",
     "text": [
      "getting url: \n",
      " https://earthengine.googleapis.com/v1/projects/851206260265/thumbnails/83b8b81f908af77a36120124005535fe-c90fa6d2b06adcb187e56005cd5c9a9b:getPixels\n",
      "Saving at : \n",
      " ../data/raster/AOD_REA_GEE/ZMVM/2022/aod_cli_ZMVM_2022_03_23.tif\n",
      "Fill values with Nan\n"
     ]
    },
    {
     "name": "stderr",
     "output_type": "stream",
     "text": [
      "Warning 1: TIFFReadDirectory:Sum of Photometric type-related color channels and ExtraSamples doesn't match SamplesPerPixel. Defining non-color channels as ExtraSamples.\n"
     ]
    },
    {
     "name": "stdout",
     "output_type": "stream",
     "text": [
      "\n",
      "\n",
      "Exporting 24/153: ../data/raster/AOD_REA_GEE/ZMVM/2022/aod_cli_ZMVM_2022_03_24.tif\n",
      "getting url: \n",
      " https://earthengine.googleapis.com/v1/projects/851206260265/thumbnails/0a5ee33b398e8ce23ef4a7513ea3d416-e27fb85919f8ae7540e3405d1ac59604:getPixels\n",
      "Saving at : \n",
      " ../data/raster/AOD_REA_GEE/ZMVM/2022/aod_cli_ZMVM_2022_03_24.tif\n",
      "Fill values with Nan\n",
      "\n",
      "\n",
      "Exporting 25/153: ../data/raster/AOD_REA_GEE/ZMVM/2022/aod_cli_ZMVM_2022_03_25.tif\n"
     ]
    },
    {
     "name": "stderr",
     "output_type": "stream",
     "text": [
      "Warning 1: TIFFReadDirectory:Sum of Photometric type-related color channels and ExtraSamples doesn't match SamplesPerPixel. Defining non-color channels as ExtraSamples.\n"
     ]
    },
    {
     "name": "stdout",
     "output_type": "stream",
     "text": [
      "getting url: \n",
      " https://earthengine.googleapis.com/v1/projects/851206260265/thumbnails/4855fe3a4e96f600e76927eea5c3dd86-8e8e5ac9cab6bc926cf86b11c72a2d72:getPixels\n",
      "Saving at : \n",
      " ../data/raster/AOD_REA_GEE/ZMVM/2022/aod_cli_ZMVM_2022_03_25.tif\n",
      "Fill values with Nan\n",
      "\n",
      "\n",
      "Exporting 26/153: ../data/raster/AOD_REA_GEE/ZMVM/2022/aod_cli_ZMVM_2022_03_26.tif\n"
     ]
    },
    {
     "name": "stderr",
     "output_type": "stream",
     "text": [
      "Warning 1: TIFFReadDirectory:Sum of Photometric type-related color channels and ExtraSamples doesn't match SamplesPerPixel. Defining non-color channels as ExtraSamples.\n"
     ]
    },
    {
     "name": "stdout",
     "output_type": "stream",
     "text": [
      "getting url: \n",
      " https://earthengine.googleapis.com/v1/projects/851206260265/thumbnails/aad581afb84fc6a7ce77bc10198f614e-561359c6d25a5754804da19948d08f4c:getPixels\n",
      "Saving at : \n",
      " ../data/raster/AOD_REA_GEE/ZMVM/2022/aod_cli_ZMVM_2022_03_26.tif\n",
      "Fill values with Nan\n",
      "\n",
      "\n",
      "Exporting 27/153: ../data/raster/AOD_REA_GEE/ZMVM/2022/aod_cli_ZMVM_2022_03_27.tif\n"
     ]
    },
    {
     "name": "stderr",
     "output_type": "stream",
     "text": [
      "Warning 1: TIFFReadDirectory:Sum of Photometric type-related color channels and ExtraSamples doesn't match SamplesPerPixel. Defining non-color channels as ExtraSamples.\n"
     ]
    },
    {
     "name": "stdout",
     "output_type": "stream",
     "text": [
      "getting url: \n",
      " https://earthengine.googleapis.com/v1/projects/851206260265/thumbnails/4180448d4f0c8dd9c9d9d2b0dacc7953-612de8c90d2c4244b105808d2cd3e460:getPixels\n",
      "Saving at : \n",
      " ../data/raster/AOD_REA_GEE/ZMVM/2022/aod_cli_ZMVM_2022_03_27.tif\n",
      "Fill values with Nan\n",
      "\n",
      "\n",
      "Exporting 28/153: ../data/raster/AOD_REA_GEE/ZMVM/2022/aod_cli_ZMVM_2022_03_28.tif\n"
     ]
    },
    {
     "name": "stderr",
     "output_type": "stream",
     "text": [
      "Warning 1: TIFFReadDirectory:Sum of Photometric type-related color channels and ExtraSamples doesn't match SamplesPerPixel. Defining non-color channels as ExtraSamples.\n"
     ]
    },
    {
     "name": "stdout",
     "output_type": "stream",
     "text": [
      "getting url: \n",
      " https://earthengine.googleapis.com/v1/projects/851206260265/thumbnails/2d207161b81fd39627b0252a12a04f69-f7d3332e43a7117329de7ae74f7fc8d4:getPixels\n",
      "Saving at : \n",
      " ../data/raster/AOD_REA_GEE/ZMVM/2022/aod_cli_ZMVM_2022_03_28.tif\n",
      "Fill values with Nan\n",
      "\n",
      "\n",
      "Exporting 29/153: ../data/raster/AOD_REA_GEE/ZMVM/2022/aod_cli_ZMVM_2022_03_29.tif\n"
     ]
    },
    {
     "name": "stderr",
     "output_type": "stream",
     "text": [
      "Warning 1: TIFFReadDirectory:Sum of Photometric type-related color channels and ExtraSamples doesn't match SamplesPerPixel. Defining non-color channels as ExtraSamples.\n"
     ]
    },
    {
     "name": "stdout",
     "output_type": "stream",
     "text": [
      "getting url: \n",
      " https://earthengine.googleapis.com/v1/projects/851206260265/thumbnails/b8fb661a3f678cd0b03b625a2ec25dac-4140ba6d0b5af2c6637d2140ade7306a:getPixels\n",
      "Saving at : \n",
      " ../data/raster/AOD_REA_GEE/ZMVM/2022/aod_cli_ZMVM_2022_03_29.tif\n",
      "Fill values with Nan\n",
      "\n",
      "\n",
      "Exporting 30/153: ../data/raster/AOD_REA_GEE/ZMVM/2022/aod_cli_ZMVM_2022_03_30.tif\n"
     ]
    },
    {
     "name": "stderr",
     "output_type": "stream",
     "text": [
      "Warning 1: TIFFReadDirectory:Sum of Photometric type-related color channels and ExtraSamples doesn't match SamplesPerPixel. Defining non-color channels as ExtraSamples.\n"
     ]
    },
    {
     "name": "stdout",
     "output_type": "stream",
     "text": [
      "getting url: \n",
      " https://earthengine.googleapis.com/v1/projects/851206260265/thumbnails/ebcd7bdf3499b572a683916131e0cbcb-feec44747dc90cbb511670d6b7125386:getPixels\n",
      "Saving at : \n",
      " ../data/raster/AOD_REA_GEE/ZMVM/2022/aod_cli_ZMVM_2022_03_30.tif\n",
      "Fill values with Nan\n",
      "\n",
      "\n",
      "Exporting 31/153: ../data/raster/AOD_REA_GEE/ZMVM/2022/aod_cli_ZMVM_2022_03_31.tif\n"
     ]
    },
    {
     "name": "stderr",
     "output_type": "stream",
     "text": [
      "Warning 1: TIFFReadDirectory:Sum of Photometric type-related color channels and ExtraSamples doesn't match SamplesPerPixel. Defining non-color channels as ExtraSamples.\n"
     ]
    },
    {
     "name": "stdout",
     "output_type": "stream",
     "text": [
      "getting url: \n",
      " https://earthengine.googleapis.com/v1/projects/851206260265/thumbnails/6d32bca1f4e3a97bdc2de29e0b36bb42-20390692391a9689162e8908de24eadd:getPixels\n",
      "Saving at : \n",
      " ../data/raster/AOD_REA_GEE/ZMVM/2022/aod_cli_ZMVM_2022_03_31.tif\n",
      "Fill values with Nan\n",
      "\n",
      "\n",
      "Exporting 32/153: ../data/raster/AOD_REA_GEE/ZMVM/2022/aod_cli_ZMVM_2022_04_01.tif\n"
     ]
    },
    {
     "name": "stderr",
     "output_type": "stream",
     "text": [
      "Warning 1: TIFFReadDirectory:Sum of Photometric type-related color channels and ExtraSamples doesn't match SamplesPerPixel. Defining non-color channels as ExtraSamples.\n"
     ]
    },
    {
     "name": "stdout",
     "output_type": "stream",
     "text": [
      "getting url: \n",
      " https://earthengine.googleapis.com/v1/projects/851206260265/thumbnails/ac922ca5e16441c0ae3b8b8d7da72343-1aaf33e3162aba5bc014a89a2e8f5ace:getPixels\n",
      "Saving at : \n",
      " ../data/raster/AOD_REA_GEE/ZMVM/2022/aod_cli_ZMVM_2022_04_01.tif\n",
      "Fill values with Nan\n",
      "\n",
      "\n",
      "Exporting 33/153: ../data/raster/AOD_REA_GEE/ZMVM/2022/aod_cli_ZMVM_2022_04_02.tif\n"
     ]
    },
    {
     "name": "stderr",
     "output_type": "stream",
     "text": [
      "Warning 1: TIFFReadDirectory:Sum of Photometric type-related color channels and ExtraSamples doesn't match SamplesPerPixel. Defining non-color channels as ExtraSamples.\n"
     ]
    },
    {
     "name": "stdout",
     "output_type": "stream",
     "text": [
      "getting url: \n",
      " https://earthengine.googleapis.com/v1/projects/851206260265/thumbnails/d35f1eef087fc1e6b31bdf8e45240a18-8343206a43b4cdec86259cdb45fd8c79:getPixels\n",
      "Saving at : \n",
      " ../data/raster/AOD_REA_GEE/ZMVM/2022/aod_cli_ZMVM_2022_04_02.tif\n",
      "Fill values with Nan\n",
      "\n",
      "\n",
      "Exporting 34/153: ../data/raster/AOD_REA_GEE/ZMVM/2022/aod_cli_ZMVM_2022_04_03.tif\n"
     ]
    },
    {
     "name": "stderr",
     "output_type": "stream",
     "text": [
      "Warning 1: TIFFReadDirectory:Sum of Photometric type-related color channels and ExtraSamples doesn't match SamplesPerPixel. Defining non-color channels as ExtraSamples.\n"
     ]
    },
    {
     "name": "stdout",
     "output_type": "stream",
     "text": [
      "getting url: \n",
      " https://earthengine.googleapis.com/v1/projects/851206260265/thumbnails/5cfaa078a25edb5c4dbba4e92abbff32-71b21ab0bfe7c90b78e7ef783938882e:getPixels\n",
      "Saving at : \n",
      " ../data/raster/AOD_REA_GEE/ZMVM/2022/aod_cli_ZMVM_2022_04_03.tif\n",
      "Fill values with Nan\n",
      "\n",
      "\n",
      "Exporting 35/153: ../data/raster/AOD_REA_GEE/ZMVM/2022/aod_cli_ZMVM_2022_04_04.tif\n"
     ]
    },
    {
     "name": "stderr",
     "output_type": "stream",
     "text": [
      "Warning 1: TIFFReadDirectory:Sum of Photometric type-related color channels and ExtraSamples doesn't match SamplesPerPixel. Defining non-color channels as ExtraSamples.\n"
     ]
    },
    {
     "name": "stdout",
     "output_type": "stream",
     "text": [
      "getting url: \n",
      " https://earthengine.googleapis.com/v1/projects/851206260265/thumbnails/f1611764196fb8553e57c2b83e2cdbf5-1f86143cfb6704d535880772a678ce5e:getPixels\n",
      "Saving at : \n",
      " ../data/raster/AOD_REA_GEE/ZMVM/2022/aod_cli_ZMVM_2022_04_04.tif\n",
      "Fill values with Nan\n",
      "\n",
      "\n",
      "Exporting 36/153: ../data/raster/AOD_REA_GEE/ZMVM/2022/aod_cli_ZMVM_2022_04_05.tif\n"
     ]
    },
    {
     "name": "stderr",
     "output_type": "stream",
     "text": [
      "Warning 1: TIFFReadDirectory:Sum of Photometric type-related color channels and ExtraSamples doesn't match SamplesPerPixel. Defining non-color channels as ExtraSamples.\n"
     ]
    },
    {
     "name": "stdout",
     "output_type": "stream",
     "text": [
      "getting url: \n",
      " https://earthengine.googleapis.com/v1/projects/851206260265/thumbnails/f9c9cf2bc5f9be45a901b61cb46badc7-9f165482d9fab756c13b8f60fd927a9d:getPixels\n",
      "Saving at : \n",
      " ../data/raster/AOD_REA_GEE/ZMVM/2022/aod_cli_ZMVM_2022_04_05.tif\n",
      "Fill values with Nan\n",
      "\n",
      "\n",
      "Exporting 37/153: ../data/raster/AOD_REA_GEE/ZMVM/2022/aod_cli_ZMVM_2022_04_06.tif\n"
     ]
    },
    {
     "name": "stderr",
     "output_type": "stream",
     "text": [
      "Warning 1: TIFFReadDirectory:Sum of Photometric type-related color channels and ExtraSamples doesn't match SamplesPerPixel. Defining non-color channels as ExtraSamples.\n"
     ]
    },
    {
     "name": "stdout",
     "output_type": "stream",
     "text": [
      "getting url: \n",
      " https://earthengine.googleapis.com/v1/projects/851206260265/thumbnails/ac45087860d92434aef24d93f9e697d2-f2905dd0448a34c03bb78a7bcc15ce9d:getPixels\n",
      "Saving at : \n",
      " ../data/raster/AOD_REA_GEE/ZMVM/2022/aod_cli_ZMVM_2022_04_06.tif\n",
      "Fill values with Nan\n",
      "\n",
      "\n",
      "Exporting 38/153: ../data/raster/AOD_REA_GEE/ZMVM/2022/aod_cli_ZMVM_2022_04_07.tif\n"
     ]
    },
    {
     "name": "stderr",
     "output_type": "stream",
     "text": [
      "Warning 1: TIFFReadDirectory:Sum of Photometric type-related color channels and ExtraSamples doesn't match SamplesPerPixel. Defining non-color channels as ExtraSamples.\n"
     ]
    },
    {
     "name": "stdout",
     "output_type": "stream",
     "text": [
      "getting url: \n",
      " https://earthengine.googleapis.com/v1/projects/851206260265/thumbnails/bb53dce7517c5de3f87dd3a71a56635c-344fe53a5432b603dde1ba16a37abafd:getPixels\n",
      "Saving at : \n",
      " ../data/raster/AOD_REA_GEE/ZMVM/2022/aod_cli_ZMVM_2022_04_07.tif\n",
      "Fill values with Nan\n",
      "\n",
      "\n",
      "Exporting 39/153: ../data/raster/AOD_REA_GEE/ZMVM/2022/aod_cli_ZMVM_2022_04_08.tif\n"
     ]
    },
    {
     "name": "stderr",
     "output_type": "stream",
     "text": [
      "Warning 1: TIFFReadDirectory:Sum of Photometric type-related color channels and ExtraSamples doesn't match SamplesPerPixel. Defining non-color channels as ExtraSamples.\n"
     ]
    },
    {
     "name": "stdout",
     "output_type": "stream",
     "text": [
      "getting url: \n",
      " https://earthengine.googleapis.com/v1/projects/851206260265/thumbnails/1a3e20d36cb57285098bd07d360860ae-cf617f14dbf2a02dcd3e70841b89f595:getPixels\n",
      "Saving at : \n",
      " ../data/raster/AOD_REA_GEE/ZMVM/2022/aod_cli_ZMVM_2022_04_08.tif\n",
      "Fill values with Nan\n",
      "\n",
      "\n",
      "Exporting 40/153: ../data/raster/AOD_REA_GEE/ZMVM/2022/aod_cli_ZMVM_2022_04_09.tif\n"
     ]
    },
    {
     "name": "stderr",
     "output_type": "stream",
     "text": [
      "Warning 1: TIFFReadDirectory:Sum of Photometric type-related color channels and ExtraSamples doesn't match SamplesPerPixel. Defining non-color channels as ExtraSamples.\n"
     ]
    },
    {
     "name": "stdout",
     "output_type": "stream",
     "text": [
      "getting url: \n",
      " https://earthengine.googleapis.com/v1/projects/851206260265/thumbnails/db32754dd235cddc9f8049f43c70d6df-0c595bbb36f1052258b79293e7726fa3:getPixels\n",
      "Saving at : \n",
      " ../data/raster/AOD_REA_GEE/ZMVM/2022/aod_cli_ZMVM_2022_04_09.tif\n",
      "Fill values with Nan\n",
      "\n",
      "\n",
      "Exporting 41/153: ../data/raster/AOD_REA_GEE/ZMVM/2022/aod_cli_ZMVM_2022_04_10.tif\n"
     ]
    },
    {
     "name": "stderr",
     "output_type": "stream",
     "text": [
      "Warning 1: TIFFReadDirectory:Sum of Photometric type-related color channels and ExtraSamples doesn't match SamplesPerPixel. Defining non-color channels as ExtraSamples.\n"
     ]
    },
    {
     "name": "stdout",
     "output_type": "stream",
     "text": [
      "getting url: \n",
      " https://earthengine.googleapis.com/v1/projects/851206260265/thumbnails/cb6f2c6238ed5730670bbbbe937750ee-881a20d60e270a8d6db2a4ac914f4b95:getPixels\n",
      "Saving at : \n",
      " ../data/raster/AOD_REA_GEE/ZMVM/2022/aod_cli_ZMVM_2022_04_10.tif\n",
      "Fill values with Nan\n",
      "\n",
      "\n",
      "Exporting 42/153: ../data/raster/AOD_REA_GEE/ZMVM/2022/aod_cli_ZMVM_2022_04_11.tif\n"
     ]
    },
    {
     "name": "stderr",
     "output_type": "stream",
     "text": [
      "Warning 1: TIFFReadDirectory:Sum of Photometric type-related color channels and ExtraSamples doesn't match SamplesPerPixel. Defining non-color channels as ExtraSamples.\n"
     ]
    },
    {
     "name": "stdout",
     "output_type": "stream",
     "text": [
      "getting url: \n",
      " https://earthengine.googleapis.com/v1/projects/851206260265/thumbnails/83a1f7b50e82be32c204ddd0cf62d314-d1bc013f7dd7b010c599d5d24f4cb2c3:getPixels\n",
      "Saving at : \n",
      " ../data/raster/AOD_REA_GEE/ZMVM/2022/aod_cli_ZMVM_2022_04_11.tif\n",
      "Fill values with Nan\n",
      "\n",
      "\n",
      "Exporting 43/153: ../data/raster/AOD_REA_GEE/ZMVM/2022/aod_cli_ZMVM_2022_04_12.tif\n"
     ]
    },
    {
     "name": "stderr",
     "output_type": "stream",
     "text": [
      "Warning 1: TIFFReadDirectory:Sum of Photometric type-related color channels and ExtraSamples doesn't match SamplesPerPixel. Defining non-color channels as ExtraSamples.\n"
     ]
    },
    {
     "name": "stdout",
     "output_type": "stream",
     "text": [
      "getting url: \n",
      " https://earthengine.googleapis.com/v1/projects/851206260265/thumbnails/d4f473133879d0cc7027c2435ff73c0c-dad6f491c49eb3bac92fc76a3a3eb918:getPixels\n",
      "Saving at : \n",
      " ../data/raster/AOD_REA_GEE/ZMVM/2022/aod_cli_ZMVM_2022_04_12.tif\n",
      "Fill values with Nan\n",
      "\n",
      "\n",
      "Exporting 44/153: ../data/raster/AOD_REA_GEE/ZMVM/2022/aod_cli_ZMVM_2022_04_13.tif\n"
     ]
    },
    {
     "name": "stderr",
     "output_type": "stream",
     "text": [
      "Warning 1: TIFFReadDirectory:Sum of Photometric type-related color channels and ExtraSamples doesn't match SamplesPerPixel. Defining non-color channels as ExtraSamples.\n"
     ]
    },
    {
     "name": "stdout",
     "output_type": "stream",
     "text": [
      "getting url: \n",
      " https://earthengine.googleapis.com/v1/projects/851206260265/thumbnails/4d0dc19853c72936bcec3eb887a28ae2-102def2dafb9df416328b7a70e45cc74:getPixels\n",
      "Saving at : \n",
      " ../data/raster/AOD_REA_GEE/ZMVM/2022/aod_cli_ZMVM_2022_04_13.tif\n",
      "Fill values with Nan\n",
      "\n",
      "\n",
      "Exporting 45/153: ../data/raster/AOD_REA_GEE/ZMVM/2022/aod_cli_ZMVM_2022_04_14.tif\n"
     ]
    },
    {
     "name": "stderr",
     "output_type": "stream",
     "text": [
      "Warning 1: TIFFReadDirectory:Sum of Photometric type-related color channels and ExtraSamples doesn't match SamplesPerPixel. Defining non-color channels as ExtraSamples.\n"
     ]
    },
    {
     "name": "stdout",
     "output_type": "stream",
     "text": [
      "getting url: \n",
      " https://earthengine.googleapis.com/v1/projects/851206260265/thumbnails/4f418f107b47949be02cddb6b39085ba-79e07bb752a74f03d1429f89fc621122:getPixels\n",
      "Saving at : \n",
      " ../data/raster/AOD_REA_GEE/ZMVM/2022/aod_cli_ZMVM_2022_04_14.tif\n",
      "Fill values with Nan\n",
      "\n",
      "\n",
      "Exporting 46/153: ../data/raster/AOD_REA_GEE/ZMVM/2022/aod_cli_ZMVM_2022_04_15.tif\n"
     ]
    },
    {
     "name": "stderr",
     "output_type": "stream",
     "text": [
      "Warning 1: TIFFReadDirectory:Sum of Photometric type-related color channels and ExtraSamples doesn't match SamplesPerPixel. Defining non-color channels as ExtraSamples.\n"
     ]
    },
    {
     "name": "stdout",
     "output_type": "stream",
     "text": [
      "getting url: \n",
      " https://earthengine.googleapis.com/v1/projects/851206260265/thumbnails/b24b6f085b418c1def331b2a81a869e9-cf3cde7c6895eadb4f356be1c9e64f0e:getPixels\n",
      "Saving at : \n",
      " ../data/raster/AOD_REA_GEE/ZMVM/2022/aod_cli_ZMVM_2022_04_15.tif\n",
      "Fill values with Nan\n",
      "\n",
      "\n",
      "Exporting 47/153: ../data/raster/AOD_REA_GEE/ZMVM/2022/aod_cli_ZMVM_2022_04_16.tif\n"
     ]
    },
    {
     "name": "stderr",
     "output_type": "stream",
     "text": [
      "Warning 1: TIFFReadDirectory:Sum of Photometric type-related color channels and ExtraSamples doesn't match SamplesPerPixel. Defining non-color channels as ExtraSamples.\n"
     ]
    },
    {
     "name": "stdout",
     "output_type": "stream",
     "text": [
      "getting url: \n",
      " https://earthengine.googleapis.com/v1/projects/851206260265/thumbnails/37cbd67158e1a6c575cbf41a9bb28d95-e0af4d990f004329ffe091d00e9931b2:getPixels\n",
      "Saving at : \n",
      " ../data/raster/AOD_REA_GEE/ZMVM/2022/aod_cli_ZMVM_2022_04_16.tif\n",
      "Fill values with Nan\n",
      "\n",
      "\n",
      "Exporting 48/153: ../data/raster/AOD_REA_GEE/ZMVM/2022/aod_cli_ZMVM_2022_04_17.tif\n"
     ]
    },
    {
     "name": "stderr",
     "output_type": "stream",
     "text": [
      "Warning 1: TIFFReadDirectory:Sum of Photometric type-related color channels and ExtraSamples doesn't match SamplesPerPixel. Defining non-color channels as ExtraSamples.\n"
     ]
    },
    {
     "name": "stdout",
     "output_type": "stream",
     "text": [
      "getting url: \n",
      " https://earthengine.googleapis.com/v1/projects/851206260265/thumbnails/ccaf9a805bba20668b58745a1d535b39-8ca82b8a8b002206ecbfe3249543ac48:getPixels\n",
      "Saving at : \n",
      " ../data/raster/AOD_REA_GEE/ZMVM/2022/aod_cli_ZMVM_2022_04_17.tif\n",
      "Fill values with Nan\n",
      "\n",
      "\n",
      "Exporting 49/153: ../data/raster/AOD_REA_GEE/ZMVM/2022/aod_cli_ZMVM_2022_04_18.tif\n"
     ]
    },
    {
     "name": "stderr",
     "output_type": "stream",
     "text": [
      "Warning 1: TIFFReadDirectory:Sum of Photometric type-related color channels and ExtraSamples doesn't match SamplesPerPixel. Defining non-color channels as ExtraSamples.\n"
     ]
    },
    {
     "name": "stdout",
     "output_type": "stream",
     "text": [
      "getting url: \n",
      " https://earthengine.googleapis.com/v1/projects/851206260265/thumbnails/590dc796f77f755b89bce0352806896a-0ab790e632663e33e24e927b67502d92:getPixels\n",
      "Saving at : \n",
      " ../data/raster/AOD_REA_GEE/ZMVM/2022/aod_cli_ZMVM_2022_04_18.tif\n",
      "Fill values with Nan\n",
      "\n",
      "\n",
      "Exporting 50/153: ../data/raster/AOD_REA_GEE/ZMVM/2022/aod_cli_ZMVM_2022_04_19.tif\n"
     ]
    },
    {
     "name": "stderr",
     "output_type": "stream",
     "text": [
      "Warning 1: TIFFReadDirectory:Sum of Photometric type-related color channels and ExtraSamples doesn't match SamplesPerPixel. Defining non-color channels as ExtraSamples.\n"
     ]
    },
    {
     "name": "stdout",
     "output_type": "stream",
     "text": [
      "getting url: \n",
      " https://earthengine.googleapis.com/v1/projects/851206260265/thumbnails/5fe2ae56cdf240af86809852e2632a86-eca9a13f77846f3579fa7e7793a17710:getPixels\n",
      "Saving at : \n",
      " ../data/raster/AOD_REA_GEE/ZMVM/2022/aod_cli_ZMVM_2022_04_19.tif\n",
      "Fill values with Nan\n",
      "\n",
      "\n",
      "Exporting 51/153: ../data/raster/AOD_REA_GEE/ZMVM/2022/aod_cli_ZMVM_2022_04_20.tif\n"
     ]
    },
    {
     "name": "stderr",
     "output_type": "stream",
     "text": [
      "Warning 1: TIFFReadDirectory:Sum of Photometric type-related color channels and ExtraSamples doesn't match SamplesPerPixel. Defining non-color channels as ExtraSamples.\n"
     ]
    },
    {
     "name": "stdout",
     "output_type": "stream",
     "text": [
      "getting url: \n",
      " https://earthengine.googleapis.com/v1/projects/851206260265/thumbnails/bc325a51d5bed2c70c05a0ca491d1077-eeede6e79f58647afd656ce311c6d352:getPixels\n",
      "Saving at : \n",
      " ../data/raster/AOD_REA_GEE/ZMVM/2022/aod_cli_ZMVM_2022_04_20.tif\n",
      "Fill values with Nan\n",
      "\n",
      "\n",
      "Exporting 52/153: ../data/raster/AOD_REA_GEE/ZMVM/2022/aod_cli_ZMVM_2022_04_21.tif\n"
     ]
    },
    {
     "name": "stderr",
     "output_type": "stream",
     "text": [
      "Warning 1: TIFFReadDirectory:Sum of Photometric type-related color channels and ExtraSamples doesn't match SamplesPerPixel. Defining non-color channels as ExtraSamples.\n"
     ]
    },
    {
     "name": "stdout",
     "output_type": "stream",
     "text": [
      "getting url: \n",
      " https://earthengine.googleapis.com/v1/projects/851206260265/thumbnails/f3e2282a29fbea10711fc758996f6ba0-303bc3aebc7dc0a4d8b7786c9a8211a9:getPixels\n",
      "Saving at : \n",
      " ../data/raster/AOD_REA_GEE/ZMVM/2022/aod_cli_ZMVM_2022_04_21.tif\n",
      "Fill values with Nan\n",
      "\n",
      "\n",
      "Exporting 53/153: ../data/raster/AOD_REA_GEE/ZMVM/2022/aod_cli_ZMVM_2022_04_22.tif\n"
     ]
    },
    {
     "name": "stderr",
     "output_type": "stream",
     "text": [
      "Warning 1: TIFFReadDirectory:Sum of Photometric type-related color channels and ExtraSamples doesn't match SamplesPerPixel. Defining non-color channels as ExtraSamples.\n"
     ]
    },
    {
     "name": "stdout",
     "output_type": "stream",
     "text": [
      "getting url: \n",
      " https://earthengine.googleapis.com/v1/projects/851206260265/thumbnails/193aa1e9cc249c58c907d320f8cf4e38-9572e54348a8f8bf563f5e7df5e48ce7:getPixels\n",
      "Saving at : \n",
      " ../data/raster/AOD_REA_GEE/ZMVM/2022/aod_cli_ZMVM_2022_04_22.tif\n",
      "Fill values with Nan\n",
      "\n",
      "\n",
      "Exporting 54/153: ../data/raster/AOD_REA_GEE/ZMVM/2022/aod_cli_ZMVM_2022_04_23.tif\n"
     ]
    },
    {
     "name": "stderr",
     "output_type": "stream",
     "text": [
      "Warning 1: TIFFReadDirectory:Sum of Photometric type-related color channels and ExtraSamples doesn't match SamplesPerPixel. Defining non-color channels as ExtraSamples.\n"
     ]
    },
    {
     "name": "stdout",
     "output_type": "stream",
     "text": [
      "getting url: \n",
      " https://earthengine.googleapis.com/v1/projects/851206260265/thumbnails/85ed2a9cccbbc75162b3887f509610fe-203bc54786e1e3610b26a09ede6ad63f:getPixels\n",
      "Saving at : \n",
      " ../data/raster/AOD_REA_GEE/ZMVM/2022/aod_cli_ZMVM_2022_04_23.tif\n",
      "Fill values with Nan\n",
      "\n",
      "\n",
      "Exporting 55/153: ../data/raster/AOD_REA_GEE/ZMVM/2022/aod_cli_ZMVM_2022_04_24.tif\n"
     ]
    },
    {
     "name": "stderr",
     "output_type": "stream",
     "text": [
      "Warning 1: TIFFReadDirectory:Sum of Photometric type-related color channels and ExtraSamples doesn't match SamplesPerPixel. Defining non-color channels as ExtraSamples.\n"
     ]
    },
    {
     "name": "stdout",
     "output_type": "stream",
     "text": [
      "getting url: \n",
      " https://earthengine.googleapis.com/v1/projects/851206260265/thumbnails/4503c42c0b7bd8702978f6c80265c82a-4b335690d487c2741dd91aa85045d2d2:getPixels\n",
      "Saving at : \n",
      " ../data/raster/AOD_REA_GEE/ZMVM/2022/aod_cli_ZMVM_2022_04_24.tif\n",
      "Fill values with Nan\n",
      "\n",
      "\n",
      "Exporting 56/153: ../data/raster/AOD_REA_GEE/ZMVM/2022/aod_cli_ZMVM_2022_04_25.tif\n"
     ]
    },
    {
     "name": "stderr",
     "output_type": "stream",
     "text": [
      "Warning 1: TIFFReadDirectory:Sum of Photometric type-related color channels and ExtraSamples doesn't match SamplesPerPixel. Defining non-color channels as ExtraSamples.\n"
     ]
    },
    {
     "name": "stdout",
     "output_type": "stream",
     "text": [
      "getting url: \n",
      " https://earthengine.googleapis.com/v1/projects/851206260265/thumbnails/98674aa48371e89744ee22327fe220b5-b57da210b58d24e66c07712a5c756d27:getPixels\n",
      "Saving at : \n",
      " ../data/raster/AOD_REA_GEE/ZMVM/2022/aod_cli_ZMVM_2022_04_25.tif\n",
      "Fill values with Nan\n",
      "\n",
      "\n",
      "Exporting 57/153: ../data/raster/AOD_REA_GEE/ZMVM/2022/aod_cli_ZMVM_2022_04_26.tif\n"
     ]
    },
    {
     "name": "stderr",
     "output_type": "stream",
     "text": [
      "Warning 1: TIFFReadDirectory:Sum of Photometric type-related color channels and ExtraSamples doesn't match SamplesPerPixel. Defining non-color channels as ExtraSamples.\n"
     ]
    },
    {
     "name": "stdout",
     "output_type": "stream",
     "text": [
      "getting url: \n",
      " https://earthengine.googleapis.com/v1/projects/851206260265/thumbnails/3e1dd1f756d9c49622296e7ac02202a2-918eece1b3f9c56817a4947f97fc8aac:getPixels\n",
      "Saving at : \n",
      " ../data/raster/AOD_REA_GEE/ZMVM/2022/aod_cli_ZMVM_2022_04_26.tif\n",
      "Fill values with Nan\n",
      "\n",
      "\n",
      "Exporting 58/153: ../data/raster/AOD_REA_GEE/ZMVM/2022/aod_cli_ZMVM_2022_04_27.tif\n"
     ]
    },
    {
     "name": "stderr",
     "output_type": "stream",
     "text": [
      "Warning 1: TIFFReadDirectory:Sum of Photometric type-related color channels and ExtraSamples doesn't match SamplesPerPixel. Defining non-color channels as ExtraSamples.\n"
     ]
    },
    {
     "name": "stdout",
     "output_type": "stream",
     "text": [
      "getting url: \n",
      " https://earthengine.googleapis.com/v1/projects/851206260265/thumbnails/5b493c91272ca014dc70e04a71eee0c4-5798ef120d07d4d2830098c98520bb7e:getPixels\n",
      "Saving at : \n",
      " ../data/raster/AOD_REA_GEE/ZMVM/2022/aod_cli_ZMVM_2022_04_27.tif\n",
      "Fill values with Nan\n",
      "\n",
      "\n",
      "Exporting 59/153: ../data/raster/AOD_REA_GEE/ZMVM/2022/aod_cli_ZMVM_2022_04_28.tif\n"
     ]
    },
    {
     "name": "stderr",
     "output_type": "stream",
     "text": [
      "Warning 1: TIFFReadDirectory:Sum of Photometric type-related color channels and ExtraSamples doesn't match SamplesPerPixel. Defining non-color channels as ExtraSamples.\n"
     ]
    },
    {
     "name": "stdout",
     "output_type": "stream",
     "text": [
      "getting url: \n",
      " https://earthengine.googleapis.com/v1/projects/851206260265/thumbnails/79699dde9f406dafd081be7ced9d31fe-29bb386e9730c87140e7b55c92698a25:getPixels\n",
      "Saving at : \n",
      " ../data/raster/AOD_REA_GEE/ZMVM/2022/aod_cli_ZMVM_2022_04_28.tif\n",
      "Fill values with Nan\n",
      "\n",
      "\n",
      "Exporting 60/153: ../data/raster/AOD_REA_GEE/ZMVM/2022/aod_cli_ZMVM_2022_04_29.tif\n"
     ]
    },
    {
     "name": "stderr",
     "output_type": "stream",
     "text": [
      "Warning 1: TIFFReadDirectory:Sum of Photometric type-related color channels and ExtraSamples doesn't match SamplesPerPixel. Defining non-color channels as ExtraSamples.\n"
     ]
    },
    {
     "name": "stdout",
     "output_type": "stream",
     "text": [
      "getting url: \n",
      " https://earthengine.googleapis.com/v1/projects/851206260265/thumbnails/96d2889271db78f1627ae9faa5638504-1a460de8ca23d0b549245ddbef45876b:getPixels\n",
      "Saving at : \n",
      " ../data/raster/AOD_REA_GEE/ZMVM/2022/aod_cli_ZMVM_2022_04_29.tif\n",
      "Fill values with Nan\n",
      "\n",
      "\n",
      "Exporting 61/153: ../data/raster/AOD_REA_GEE/ZMVM/2022/aod_cli_ZMVM_2022_04_30.tif\n"
     ]
    },
    {
     "name": "stderr",
     "output_type": "stream",
     "text": [
      "Warning 1: TIFFReadDirectory:Sum of Photometric type-related color channels and ExtraSamples doesn't match SamplesPerPixel. Defining non-color channels as ExtraSamples.\n"
     ]
    },
    {
     "name": "stdout",
     "output_type": "stream",
     "text": [
      "getting url: \n",
      " https://earthengine.googleapis.com/v1/projects/851206260265/thumbnails/b935053041419d7c34c9ffdb9ff82183-f21439d8d9d33608c8a49f99f21dd47b:getPixels\n",
      "Saving at : \n",
      " ../data/raster/AOD_REA_GEE/ZMVM/2022/aod_cli_ZMVM_2022_04_30.tif\n",
      "Fill values with Nan\n",
      "\n",
      "\n",
      "Exporting 62/153: ../data/raster/AOD_REA_GEE/ZMVM/2022/aod_cli_ZMVM_2022_05_01.tif\n"
     ]
    },
    {
     "name": "stderr",
     "output_type": "stream",
     "text": [
      "Warning 1: TIFFReadDirectory:Sum of Photometric type-related color channels and ExtraSamples doesn't match SamplesPerPixel. Defining non-color channels as ExtraSamples.\n"
     ]
    },
    {
     "name": "stdout",
     "output_type": "stream",
     "text": [
      "getting url: \n",
      " https://earthengine.googleapis.com/v1/projects/851206260265/thumbnails/dbc9e7d0d3b6cdb88d86211d32c0f457-f98c0d3b63b9484ca4cef71c431475e9:getPixels\n",
      "Saving at : \n",
      " ../data/raster/AOD_REA_GEE/ZMVM/2022/aod_cli_ZMVM_2022_05_01.tif\n",
      "Fill values with Nan\n",
      "\n",
      "\n",
      "Exporting 63/153: ../data/raster/AOD_REA_GEE/ZMVM/2022/aod_cli_ZMVM_2022_05_02.tif\n"
     ]
    },
    {
     "name": "stderr",
     "output_type": "stream",
     "text": [
      "Warning 1: TIFFReadDirectory:Sum of Photometric type-related color channels and ExtraSamples doesn't match SamplesPerPixel. Defining non-color channels as ExtraSamples.\n"
     ]
    },
    {
     "name": "stdout",
     "output_type": "stream",
     "text": [
      "getting url: \n",
      " https://earthengine.googleapis.com/v1/projects/851206260265/thumbnails/692b9040d39028a0feea049c1db92804-6486ec2e7b7333dbd9abe853f598bd23:getPixels\n",
      "Saving at : \n",
      " ../data/raster/AOD_REA_GEE/ZMVM/2022/aod_cli_ZMVM_2022_05_02.tif\n",
      "Fill values with Nan\n",
      "\n",
      "\n",
      "Exporting 64/153: ../data/raster/AOD_REA_GEE/ZMVM/2022/aod_cli_ZMVM_2022_05_03.tif\n"
     ]
    },
    {
     "name": "stderr",
     "output_type": "stream",
     "text": [
      "Warning 1: TIFFReadDirectory:Sum of Photometric type-related color channels and ExtraSamples doesn't match SamplesPerPixel. Defining non-color channels as ExtraSamples.\n"
     ]
    },
    {
     "name": "stdout",
     "output_type": "stream",
     "text": [
      "getting url: \n",
      " https://earthengine.googleapis.com/v1/projects/851206260265/thumbnails/e62724a973ba5e9de13115188c6f0dbd-bb97fdd6826d2f0318cbb160bcba94f2:getPixels\n",
      "Saving at : \n",
      " ../data/raster/AOD_REA_GEE/ZMVM/2022/aod_cli_ZMVM_2022_05_03.tif\n",
      "Fill values with Nan\n",
      "\n",
      "\n",
      "Exporting 65/153: ../data/raster/AOD_REA_GEE/ZMVM/2022/aod_cli_ZMVM_2022_05_04.tif\n"
     ]
    },
    {
     "name": "stderr",
     "output_type": "stream",
     "text": [
      "Warning 1: TIFFReadDirectory:Sum of Photometric type-related color channels and ExtraSamples doesn't match SamplesPerPixel. Defining non-color channels as ExtraSamples.\n"
     ]
    },
    {
     "name": "stdout",
     "output_type": "stream",
     "text": [
      "getting url: \n",
      " https://earthengine.googleapis.com/v1/projects/851206260265/thumbnails/fbd7904a36b3a81598156eeb99df3246-33844ec4d8b9fa76634f983e07fd8e20:getPixels\n",
      "Saving at : \n",
      " ../data/raster/AOD_REA_GEE/ZMVM/2022/aod_cli_ZMVM_2022_05_04.tif\n",
      "Fill values with Nan\n",
      "\n",
      "\n",
      "Exporting 66/153: ../data/raster/AOD_REA_GEE/ZMVM/2022/aod_cli_ZMVM_2022_05_05.tif\n"
     ]
    },
    {
     "name": "stderr",
     "output_type": "stream",
     "text": [
      "Warning 1: TIFFReadDirectory:Sum of Photometric type-related color channels and ExtraSamples doesn't match SamplesPerPixel. Defining non-color channels as ExtraSamples.\n"
     ]
    },
    {
     "name": "stdout",
     "output_type": "stream",
     "text": [
      "getting url: \n",
      " https://earthengine.googleapis.com/v1/projects/851206260265/thumbnails/d081ced185568e19b38576760995b9e3-c07acc8870a302f17996ef8f878c5d4f:getPixels\n",
      "Saving at : \n",
      " ../data/raster/AOD_REA_GEE/ZMVM/2022/aod_cli_ZMVM_2022_05_05.tif\n",
      "Fill values with Nan\n",
      "\n",
      "\n",
      "Exporting 67/153: ../data/raster/AOD_REA_GEE/ZMVM/2022/aod_cli_ZMVM_2022_05_06.tif\n"
     ]
    },
    {
     "name": "stderr",
     "output_type": "stream",
     "text": [
      "Warning 1: TIFFReadDirectory:Sum of Photometric type-related color channels and ExtraSamples doesn't match SamplesPerPixel. Defining non-color channels as ExtraSamples.\n"
     ]
    },
    {
     "name": "stdout",
     "output_type": "stream",
     "text": [
      "getting url: \n",
      " https://earthengine.googleapis.com/v1/projects/851206260265/thumbnails/ee9c981ce6ee4969bbb6382c4d500b42-cb75cc4aae41301601a5b83fdc08b108:getPixels\n",
      "Saving at : \n",
      " ../data/raster/AOD_REA_GEE/ZMVM/2022/aod_cli_ZMVM_2022_05_06.tif\n",
      "Fill values with Nan\n",
      "\n",
      "\n",
      "Exporting 68/153: ../data/raster/AOD_REA_GEE/ZMVM/2022/aod_cli_ZMVM_2022_05_07.tif\n"
     ]
    },
    {
     "name": "stderr",
     "output_type": "stream",
     "text": [
      "Warning 1: TIFFReadDirectory:Sum of Photometric type-related color channels and ExtraSamples doesn't match SamplesPerPixel. Defining non-color channels as ExtraSamples.\n"
     ]
    },
    {
     "name": "stdout",
     "output_type": "stream",
     "text": [
      "getting url: \n",
      " https://earthengine.googleapis.com/v1/projects/851206260265/thumbnails/41eb1c4cb76a5c9670f5654a85f6fcb0-104bcd31863d7dee6a039b1a17f600b5:getPixels\n",
      "Saving at : \n",
      " ../data/raster/AOD_REA_GEE/ZMVM/2022/aod_cli_ZMVM_2022_05_07.tif\n",
      "Fill values with Nan\n",
      "\n",
      "\n",
      "Exporting 69/153: ../data/raster/AOD_REA_GEE/ZMVM/2022/aod_cli_ZMVM_2022_05_08.tif\n"
     ]
    },
    {
     "name": "stderr",
     "output_type": "stream",
     "text": [
      "Warning 1: TIFFReadDirectory:Sum of Photometric type-related color channels and ExtraSamples doesn't match SamplesPerPixel. Defining non-color channels as ExtraSamples.\n"
     ]
    },
    {
     "name": "stdout",
     "output_type": "stream",
     "text": [
      "getting url: \n",
      " https://earthengine.googleapis.com/v1/projects/851206260265/thumbnails/34099bd80d118fff6a4a91d6f6cebdf1-a995ee79d08ae9c2b32a25e001ee2b89:getPixels\n",
      "Saving at : \n",
      " ../data/raster/AOD_REA_GEE/ZMVM/2022/aod_cli_ZMVM_2022_05_08.tif\n",
      "Fill values with Nan\n",
      "\n",
      "\n",
      "Exporting 70/153: ../data/raster/AOD_REA_GEE/ZMVM/2022/aod_cli_ZMVM_2022_05_09.tif\n"
     ]
    },
    {
     "name": "stderr",
     "output_type": "stream",
     "text": [
      "Warning 1: TIFFReadDirectory:Sum of Photometric type-related color channels and ExtraSamples doesn't match SamplesPerPixel. Defining non-color channels as ExtraSamples.\n"
     ]
    },
    {
     "name": "stdout",
     "output_type": "stream",
     "text": [
      "getting url: \n",
      " https://earthengine.googleapis.com/v1/projects/851206260265/thumbnails/b6be62bbc90667fe9e33291596024b1d-3bbc5414a924bf2103aedb7ef402dd79:getPixels\n",
      "Saving at : \n",
      " ../data/raster/AOD_REA_GEE/ZMVM/2022/aod_cli_ZMVM_2022_05_09.tif\n",
      "Fill values with Nan\n",
      "\n",
      "\n",
      "Exporting 71/153: ../data/raster/AOD_REA_GEE/ZMVM/2022/aod_cli_ZMVM_2022_05_10.tif\n"
     ]
    },
    {
     "name": "stderr",
     "output_type": "stream",
     "text": [
      "Warning 1: TIFFReadDirectory:Sum of Photometric type-related color channels and ExtraSamples doesn't match SamplesPerPixel. Defining non-color channels as ExtraSamples.\n"
     ]
    },
    {
     "name": "stdout",
     "output_type": "stream",
     "text": [
      "getting url: \n",
      " https://earthengine.googleapis.com/v1/projects/851206260265/thumbnails/8ef742ead76a5eca6852f60da54c5ec5-2a2ef650e432bfc5477b4f37b0eaaf8c:getPixels\n",
      "Saving at : \n",
      " ../data/raster/AOD_REA_GEE/ZMVM/2022/aod_cli_ZMVM_2022_05_10.tif\n",
      "Fill values with Nan\n",
      "\n",
      "\n",
      "Exporting 72/153: ../data/raster/AOD_REA_GEE/ZMVM/2022/aod_cli_ZMVM_2022_05_11.tif\n"
     ]
    },
    {
     "name": "stderr",
     "output_type": "stream",
     "text": [
      "Warning 1: TIFFReadDirectory:Sum of Photometric type-related color channels and ExtraSamples doesn't match SamplesPerPixel. Defining non-color channels as ExtraSamples.\n"
     ]
    },
    {
     "name": "stdout",
     "output_type": "stream",
     "text": [
      "getting url: \n",
      " https://earthengine.googleapis.com/v1/projects/851206260265/thumbnails/4f56ff26d9e327fdf4e12d80c52fd61c-523bd96ed02361d0cc5e340bbc548f6d:getPixels\n",
      "Saving at : \n",
      " ../data/raster/AOD_REA_GEE/ZMVM/2022/aod_cli_ZMVM_2022_05_11.tif\n",
      "Fill values with Nan\n",
      "\n",
      "\n",
      "Exporting 73/153: ../data/raster/AOD_REA_GEE/ZMVM/2022/aod_cli_ZMVM_2022_05_12.tif\n"
     ]
    },
    {
     "name": "stderr",
     "output_type": "stream",
     "text": [
      "Warning 1: TIFFReadDirectory:Sum of Photometric type-related color channels and ExtraSamples doesn't match SamplesPerPixel. Defining non-color channels as ExtraSamples.\n"
     ]
    },
    {
     "name": "stdout",
     "output_type": "stream",
     "text": [
      "getting url: \n",
      " https://earthengine.googleapis.com/v1/projects/851206260265/thumbnails/216baa4ed967f6c2fad616d7d98212a1-57eb01cf8332ab8eb186ec93f6e69ab1:getPixels\n",
      "Saving at : \n",
      " ../data/raster/AOD_REA_GEE/ZMVM/2022/aod_cli_ZMVM_2022_05_12.tif\n",
      "Fill values with Nan\n",
      "\n",
      "\n",
      "Exporting 74/153: ../data/raster/AOD_REA_GEE/ZMVM/2022/aod_cli_ZMVM_2022_05_13.tif\n"
     ]
    },
    {
     "name": "stderr",
     "output_type": "stream",
     "text": [
      "Warning 1: TIFFReadDirectory:Sum of Photometric type-related color channels and ExtraSamples doesn't match SamplesPerPixel. Defining non-color channels as ExtraSamples.\n"
     ]
    },
    {
     "name": "stdout",
     "output_type": "stream",
     "text": [
      "getting url: \n",
      " https://earthengine.googleapis.com/v1/projects/851206260265/thumbnails/a0695915f9c9665608ba401212ab1bf7-e8c1b75741bafc5649b4937e21d99f0c:getPixels\n",
      "Saving at : \n",
      " ../data/raster/AOD_REA_GEE/ZMVM/2022/aod_cli_ZMVM_2022_05_13.tif\n",
      "Fill values with Nan\n",
      "\n",
      "\n",
      "Exporting 75/153: ../data/raster/AOD_REA_GEE/ZMVM/2022/aod_cli_ZMVM_2022_05_14.tif\n"
     ]
    },
    {
     "name": "stderr",
     "output_type": "stream",
     "text": [
      "Warning 1: TIFFReadDirectory:Sum of Photometric type-related color channels and ExtraSamples doesn't match SamplesPerPixel. Defining non-color channels as ExtraSamples.\n"
     ]
    },
    {
     "name": "stdout",
     "output_type": "stream",
     "text": [
      "getting url: \n",
      " https://earthengine.googleapis.com/v1/projects/851206260265/thumbnails/8befb2217b91f487512137f6a6f57576-1eccf3770ff0d03f66ff20bf40406a3c:getPixels\n",
      "Saving at : \n",
      " ../data/raster/AOD_REA_GEE/ZMVM/2022/aod_cli_ZMVM_2022_05_14.tif\n",
      "Fill values with Nan\n",
      "\n",
      "\n",
      "Exporting 76/153: ../data/raster/AOD_REA_GEE/ZMVM/2022/aod_cli_ZMVM_2022_05_15.tif\n"
     ]
    },
    {
     "name": "stderr",
     "output_type": "stream",
     "text": [
      "Warning 1: TIFFReadDirectory:Sum of Photometric type-related color channels and ExtraSamples doesn't match SamplesPerPixel. Defining non-color channels as ExtraSamples.\n"
     ]
    },
    {
     "name": "stdout",
     "output_type": "stream",
     "text": [
      "getting url: \n",
      " https://earthengine.googleapis.com/v1/projects/851206260265/thumbnails/7a6f297258fc833044eae22d0844670a-7050c43c68e1f39113b09a06433f906f:getPixels\n",
      "Saving at : \n",
      " ../data/raster/AOD_REA_GEE/ZMVM/2022/aod_cli_ZMVM_2022_05_15.tif\n",
      "Fill values with Nan\n",
      "\n",
      "\n",
      "Exporting 77/153: ../data/raster/AOD_REA_GEE/ZMVM/2022/aod_cli_ZMVM_2022_05_16.tif\n"
     ]
    },
    {
     "name": "stderr",
     "output_type": "stream",
     "text": [
      "Warning 1: TIFFReadDirectory:Sum of Photometric type-related color channels and ExtraSamples doesn't match SamplesPerPixel. Defining non-color channels as ExtraSamples.\n"
     ]
    },
    {
     "name": "stdout",
     "output_type": "stream",
     "text": [
      "getting url: \n",
      " https://earthengine.googleapis.com/v1/projects/851206260265/thumbnails/46f59b3444eae4e148ef64f7b3c1237a-84c3d08088611044f65194ab8ec7bcf3:getPixels\n",
      "Saving at : \n",
      " ../data/raster/AOD_REA_GEE/ZMVM/2022/aod_cli_ZMVM_2022_05_16.tif\n",
      "Fill values with Nan\n"
     ]
    },
    {
     "name": "stderr",
     "output_type": "stream",
     "text": [
      "Warning 1: TIFFReadDirectory:Sum of Photometric type-related color channels and ExtraSamples doesn't match SamplesPerPixel. Defining non-color channels as ExtraSamples.\n"
     ]
    },
    {
     "name": "stdout",
     "output_type": "stream",
     "text": [
      "\n",
      "\n",
      "Exporting 78/153: ../data/raster/AOD_REA_GEE/ZMVM/2022/aod_cli_ZMVM_2022_05_17.tif\n",
      "getting url: \n",
      " https://earthengine.googleapis.com/v1/projects/851206260265/thumbnails/f41da7e197c2ca01a8df10530d49aa8b-520b49e5a50b491f225d8c7604232e90:getPixels\n",
      "Saving at : \n",
      " ../data/raster/AOD_REA_GEE/ZMVM/2022/aod_cli_ZMVM_2022_05_17.tif\n",
      "Fill values with Nan\n",
      "\n",
      "\n",
      "Exporting 79/153: ../data/raster/AOD_REA_GEE/ZMVM/2022/aod_cli_ZMVM_2022_05_18.tif\n"
     ]
    },
    {
     "name": "stderr",
     "output_type": "stream",
     "text": [
      "Warning 1: TIFFReadDirectory:Sum of Photometric type-related color channels and ExtraSamples doesn't match SamplesPerPixel. Defining non-color channels as ExtraSamples.\n"
     ]
    },
    {
     "name": "stdout",
     "output_type": "stream",
     "text": [
      "getting url: \n",
      " https://earthengine.googleapis.com/v1/projects/851206260265/thumbnails/88ef08666f132c6ec6b29462746a2b14-83b485b4788e62563967d681c2c01b06:getPixels\n",
      "Saving at : \n",
      " ../data/raster/AOD_REA_GEE/ZMVM/2022/aod_cli_ZMVM_2022_05_18.tif\n",
      "Fill values with Nan\n",
      "\n",
      "\n",
      "Exporting 80/153: ../data/raster/AOD_REA_GEE/ZMVM/2022/aod_cli_ZMVM_2022_05_19.tif\n"
     ]
    },
    {
     "name": "stderr",
     "output_type": "stream",
     "text": [
      "Warning 1: TIFFReadDirectory:Sum of Photometric type-related color channels and ExtraSamples doesn't match SamplesPerPixel. Defining non-color channels as ExtraSamples.\n"
     ]
    },
    {
     "name": "stdout",
     "output_type": "stream",
     "text": [
      "getting url: \n",
      " https://earthengine.googleapis.com/v1/projects/851206260265/thumbnails/276bf952c9cb7adddf9a88c9003e4320-d770cb23f4d33ffddc6a0e9cbde0a352:getPixels\n",
      "Saving at : \n",
      " ../data/raster/AOD_REA_GEE/ZMVM/2022/aod_cli_ZMVM_2022_05_19.tif\n",
      "Fill values with Nan\n"
     ]
    },
    {
     "name": "stderr",
     "output_type": "stream",
     "text": [
      "Warning 1: TIFFReadDirectory:Sum of Photometric type-related color channels and ExtraSamples doesn't match SamplesPerPixel. Defining non-color channels as ExtraSamples.\n"
     ]
    },
    {
     "name": "stdout",
     "output_type": "stream",
     "text": [
      "\n",
      "\n",
      "Exporting 81/153: ../data/raster/AOD_REA_GEE/ZMVM/2022/aod_cli_ZMVM_2022_05_20.tif\n",
      "getting url: \n",
      " https://earthengine.googleapis.com/v1/projects/851206260265/thumbnails/8dd49c8b0baf81ba7a993a196571e818-aeb9df3ff4936a01575ac16900d98a31:getPixels\n",
      "Saving at : \n",
      " ../data/raster/AOD_REA_GEE/ZMVM/2022/aod_cli_ZMVM_2022_05_20.tif\n",
      "Fill values with Nan\n",
      "\n",
      "\n",
      "Exporting 82/153: ../data/raster/AOD_REA_GEE/ZMVM/2022/aod_cli_ZMVM_2022_05_21.tif\n"
     ]
    },
    {
     "name": "stderr",
     "output_type": "stream",
     "text": [
      "Warning 1: TIFFReadDirectory:Sum of Photometric type-related color channels and ExtraSamples doesn't match SamplesPerPixel. Defining non-color channels as ExtraSamples.\n"
     ]
    },
    {
     "name": "stdout",
     "output_type": "stream",
     "text": [
      "getting url: \n",
      " https://earthengine.googleapis.com/v1/projects/851206260265/thumbnails/48b6cfe88c9b6a4b8167327d59710d2f-756e4e91e6b89293216421af5de0b1f1:getPixels\n",
      "Saving at : \n",
      " ../data/raster/AOD_REA_GEE/ZMVM/2022/aod_cli_ZMVM_2022_05_21.tif\n",
      "Fill values with Nan\n",
      "\n",
      "\n",
      "Exporting 83/153: ../data/raster/AOD_REA_GEE/ZMVM/2022/aod_cli_ZMVM_2022_05_22.tif\n"
     ]
    },
    {
     "name": "stderr",
     "output_type": "stream",
     "text": [
      "Warning 1: TIFFReadDirectory:Sum of Photometric type-related color channels and ExtraSamples doesn't match SamplesPerPixel. Defining non-color channels as ExtraSamples.\n"
     ]
    },
    {
     "name": "stdout",
     "output_type": "stream",
     "text": [
      "getting url: \n",
      " https://earthengine.googleapis.com/v1/projects/851206260265/thumbnails/b57e2c9bbd08d79a313a1c816c112368-dcf0f50aa06c33f56a5b0e9dd842ad99:getPixels\n",
      "Saving at : \n",
      " ../data/raster/AOD_REA_GEE/ZMVM/2022/aod_cli_ZMVM_2022_05_22.tif\n",
      "Fill values with Nan\n",
      "\n",
      "\n",
      "Exporting 84/153: ../data/raster/AOD_REA_GEE/ZMVM/2022/aod_cli_ZMVM_2022_05_23.tif\n"
     ]
    },
    {
     "name": "stderr",
     "output_type": "stream",
     "text": [
      "Warning 1: TIFFReadDirectory:Sum of Photometric type-related color channels and ExtraSamples doesn't match SamplesPerPixel. Defining non-color channels as ExtraSamples.\n"
     ]
    },
    {
     "name": "stdout",
     "output_type": "stream",
     "text": [
      "getting url: \n",
      " https://earthengine.googleapis.com/v1/projects/851206260265/thumbnails/c2b397c063ac7d00bd7bab30ddde9c92-7cc7e4495a8d94b25582aa4a6c9bc786:getPixels\n",
      "Saving at : \n",
      " ../data/raster/AOD_REA_GEE/ZMVM/2022/aod_cli_ZMVM_2022_05_23.tif\n",
      "Fill values with Nan\n",
      "\n",
      "\n",
      "Exporting 85/153: ../data/raster/AOD_REA_GEE/ZMVM/2022/aod_cli_ZMVM_2022_05_24.tif\n"
     ]
    },
    {
     "name": "stderr",
     "output_type": "stream",
     "text": [
      "Warning 1: TIFFReadDirectory:Sum of Photometric type-related color channels and ExtraSamples doesn't match SamplesPerPixel. Defining non-color channels as ExtraSamples.\n"
     ]
    },
    {
     "name": "stdout",
     "output_type": "stream",
     "text": [
      "getting url: \n",
      " https://earthengine.googleapis.com/v1/projects/851206260265/thumbnails/5920faa1188be0209ef9c5c912056f7f-55cdeeaf5f63e366ffc131cc9423cdda:getPixels\n",
      "Saving at : \n",
      " ../data/raster/AOD_REA_GEE/ZMVM/2022/aod_cli_ZMVM_2022_05_24.tif\n",
      "Fill values with Nan\n",
      "\n",
      "\n",
      "Exporting 86/153: ../data/raster/AOD_REA_GEE/ZMVM/2022/aod_cli_ZMVM_2022_05_25.tif\n"
     ]
    },
    {
     "name": "stderr",
     "output_type": "stream",
     "text": [
      "Warning 1: TIFFReadDirectory:Sum of Photometric type-related color channels and ExtraSamples doesn't match SamplesPerPixel. Defining non-color channels as ExtraSamples.\n"
     ]
    },
    {
     "name": "stdout",
     "output_type": "stream",
     "text": [
      "getting url: \n",
      " https://earthengine.googleapis.com/v1/projects/851206260265/thumbnails/fc7c1d63a18c75a81be888bcfaeb2162-2488775c61c82d19d1b2ea1e508c3c8b:getPixels\n",
      "Saving at : \n",
      " ../data/raster/AOD_REA_GEE/ZMVM/2022/aod_cli_ZMVM_2022_05_25.tif\n",
      "Fill values with Nan\n",
      "\n",
      "\n",
      "Exporting 87/153: ../data/raster/AOD_REA_GEE/ZMVM/2022/aod_cli_ZMVM_2022_05_26.tif\n"
     ]
    },
    {
     "name": "stderr",
     "output_type": "stream",
     "text": [
      "Warning 1: TIFFReadDirectory:Sum of Photometric type-related color channels and ExtraSamples doesn't match SamplesPerPixel. Defining non-color channels as ExtraSamples.\n"
     ]
    },
    {
     "name": "stdout",
     "output_type": "stream",
     "text": [
      "getting url: \n",
      " https://earthengine.googleapis.com/v1/projects/851206260265/thumbnails/0e3f9d39fb30a132b73d67f4f1f5ab14-48079313e349c44a70867dfba37dcd14:getPixels\n",
      "Saving at : \n",
      " ../data/raster/AOD_REA_GEE/ZMVM/2022/aod_cli_ZMVM_2022_05_26.tif\n",
      "Fill values with Nan\n",
      "\n",
      "\n",
      "Exporting 88/153: ../data/raster/AOD_REA_GEE/ZMVM/2022/aod_cli_ZMVM_2022_05_27.tif\n"
     ]
    },
    {
     "name": "stderr",
     "output_type": "stream",
     "text": [
      "Warning 1: TIFFReadDirectory:Sum of Photometric type-related color channels and ExtraSamples doesn't match SamplesPerPixel. Defining non-color channels as ExtraSamples.\n"
     ]
    },
    {
     "name": "stdout",
     "output_type": "stream",
     "text": [
      "getting url: \n",
      " https://earthengine.googleapis.com/v1/projects/851206260265/thumbnails/24a925be377b5c2ba87c1ab96adab795-45e673c58296dc1e95921d83f79248ae:getPixels\n",
      "Saving at : \n",
      " ../data/raster/AOD_REA_GEE/ZMVM/2022/aod_cli_ZMVM_2022_05_27.tif\n",
      "Fill values with Nan\n"
     ]
    },
    {
     "name": "stderr",
     "output_type": "stream",
     "text": [
      "Warning 1: TIFFReadDirectory:Sum of Photometric type-related color channels and ExtraSamples doesn't match SamplesPerPixel. Defining non-color channels as ExtraSamples.\n"
     ]
    },
    {
     "name": "stdout",
     "output_type": "stream",
     "text": [
      "\n",
      "\n",
      "Exporting 89/153: ../data/raster/AOD_REA_GEE/ZMVM/2022/aod_cli_ZMVM_2022_05_28.tif\n",
      "getting url: \n",
      " https://earthengine.googleapis.com/v1/projects/851206260265/thumbnails/1247dc39152b990d5d41fdf72782e7a8-556031c4ab9b778b9ede54b0e55f86cc:getPixels\n",
      "Saving at : \n",
      " ../data/raster/AOD_REA_GEE/ZMVM/2022/aod_cli_ZMVM_2022_05_28.tif\n",
      "Fill values with Nan\n",
      "\n",
      "\n",
      "Exporting 90/153: ../data/raster/AOD_REA_GEE/ZMVM/2022/aod_cli_ZMVM_2022_05_29.tif\n"
     ]
    },
    {
     "name": "stderr",
     "output_type": "stream",
     "text": [
      "Warning 1: TIFFReadDirectory:Sum of Photometric type-related color channels and ExtraSamples doesn't match SamplesPerPixel. Defining non-color channels as ExtraSamples.\n"
     ]
    },
    {
     "name": "stdout",
     "output_type": "stream",
     "text": [
      "getting url: \n",
      " https://earthengine.googleapis.com/v1/projects/851206260265/thumbnails/3edb506be3f969985eb21ecaeff4ccbd-b9553d588e9f11e8155047b4ca951a75:getPixels\n",
      "Saving at : \n",
      " ../data/raster/AOD_REA_GEE/ZMVM/2022/aod_cli_ZMVM_2022_05_29.tif\n",
      "Fill values with Nan\n",
      "\n",
      "\n",
      "Exporting 91/153: ../data/raster/AOD_REA_GEE/ZMVM/2022/aod_cli_ZMVM_2022_05_30.tif\n"
     ]
    },
    {
     "name": "stderr",
     "output_type": "stream",
     "text": [
      "Warning 1: TIFFReadDirectory:Sum of Photometric type-related color channels and ExtraSamples doesn't match SamplesPerPixel. Defining non-color channels as ExtraSamples.\n"
     ]
    },
    {
     "name": "stdout",
     "output_type": "stream",
     "text": [
      "getting url: \n",
      " https://earthengine.googleapis.com/v1/projects/851206260265/thumbnails/4c5f621f51f7f4c5ad4aecb95d44730a-82f0f4e7a2f7f4bf3a56901173754101:getPixels\n",
      "Saving at : \n",
      " ../data/raster/AOD_REA_GEE/ZMVM/2022/aod_cli_ZMVM_2022_05_30.tif\n",
      "Fill values with Nan\n",
      "\n",
      "\n",
      "Exporting 92/153: ../data/raster/AOD_REA_GEE/ZMVM/2022/aod_cli_ZMVM_2022_05_31.tif\n"
     ]
    },
    {
     "name": "stderr",
     "output_type": "stream",
     "text": [
      "Warning 1: TIFFReadDirectory:Sum of Photometric type-related color channels and ExtraSamples doesn't match SamplesPerPixel. Defining non-color channels as ExtraSamples.\n"
     ]
    },
    {
     "name": "stdout",
     "output_type": "stream",
     "text": [
      "getting url: \n",
      " https://earthengine.googleapis.com/v1/projects/851206260265/thumbnails/e9b335668fd2c15327b9785dc933d5d5-534aa65d5d96a23e373aa378ddc54ab9:getPixels\n",
      "Saving at : \n",
      " ../data/raster/AOD_REA_GEE/ZMVM/2022/aod_cli_ZMVM_2022_05_31.tif\n",
      "Fill values with Nan\n"
     ]
    },
    {
     "name": "stderr",
     "output_type": "stream",
     "text": [
      "Warning 1: TIFFReadDirectory:Sum of Photometric type-related color channels and ExtraSamples doesn't match SamplesPerPixel. Defining non-color channels as ExtraSamples.\n"
     ]
    },
    {
     "name": "stdout",
     "output_type": "stream",
     "text": [
      "\n",
      "\n",
      "Exporting 93/153: ../data/raster/AOD_REA_GEE/ZMVM/2022/aod_cli_ZMVM_2022_06_01.tif\n",
      "getting url: \n",
      " https://earthengine.googleapis.com/v1/projects/851206260265/thumbnails/f44e0bbc4acf283b9da8f8bc907e4cf1-530df0b7a7448f09dd99941f945d11c2:getPixels\n",
      "Saving at : \n",
      " ../data/raster/AOD_REA_GEE/ZMVM/2022/aod_cli_ZMVM_2022_06_01.tif\n",
      "Fill values with Nan\n",
      "\n",
      "\n",
      "Exporting 94/153: ../data/raster/AOD_REA_GEE/ZMVM/2022/aod_cli_ZMVM_2022_06_02.tif\n"
     ]
    },
    {
     "name": "stderr",
     "output_type": "stream",
     "text": [
      "Warning 1: TIFFReadDirectory:Sum of Photometric type-related color channels and ExtraSamples doesn't match SamplesPerPixel. Defining non-color channels as ExtraSamples.\n"
     ]
    },
    {
     "name": "stdout",
     "output_type": "stream",
     "text": [
      "getting url: \n",
      " https://earthengine.googleapis.com/v1/projects/851206260265/thumbnails/4cfe6b566c8217027f5fbb0a9b9433e4-4aad6185087dc4ce897e1a98a871f691:getPixels\n",
      "Saving at : \n",
      " ../data/raster/AOD_REA_GEE/ZMVM/2022/aod_cli_ZMVM_2022_06_02.tif\n",
      "Fill values with Nan\n",
      "\n",
      "\n",
      "Exporting 95/153: ../data/raster/AOD_REA_GEE/ZMVM/2022/aod_cli_ZMVM_2022_06_03.tif\n"
     ]
    },
    {
     "name": "stderr",
     "output_type": "stream",
     "text": [
      "Warning 1: TIFFReadDirectory:Sum of Photometric type-related color channels and ExtraSamples doesn't match SamplesPerPixel. Defining non-color channels as ExtraSamples.\n"
     ]
    },
    {
     "name": "stdout",
     "output_type": "stream",
     "text": [
      "getting url: \n",
      " https://earthengine.googleapis.com/v1/projects/851206260265/thumbnails/6f123d9ed59bb6487ec94142731aa114-c9ecc8758ff776b7251dc859f4cf69c1:getPixels\n",
      "Saving at : \n",
      " ../data/raster/AOD_REA_GEE/ZMVM/2022/aod_cli_ZMVM_2022_06_03.tif\n",
      "Fill values with Nan\n",
      "\n",
      "\n",
      "Exporting 96/153: ../data/raster/AOD_REA_GEE/ZMVM/2022/aod_cli_ZMVM_2022_06_04.tif\n"
     ]
    },
    {
     "name": "stderr",
     "output_type": "stream",
     "text": [
      "Warning 1: TIFFReadDirectory:Sum of Photometric type-related color channels and ExtraSamples doesn't match SamplesPerPixel. Defining non-color channels as ExtraSamples.\n"
     ]
    },
    {
     "name": "stdout",
     "output_type": "stream",
     "text": [
      "getting url: \n",
      " https://earthengine.googleapis.com/v1/projects/851206260265/thumbnails/8d87afd10671b5bb4eb63a0e4967cc82-af22ecebb55e9a7af9076e7ab7d4c6ed:getPixels\n",
      "Saving at : \n",
      " ../data/raster/AOD_REA_GEE/ZMVM/2022/aod_cli_ZMVM_2022_06_04.tif\n",
      "Fill values with Nan\n",
      "\n",
      "\n",
      "Exporting 97/153: ../data/raster/AOD_REA_GEE/ZMVM/2022/aod_cli_ZMVM_2022_06_05.tif\n"
     ]
    },
    {
     "name": "stderr",
     "output_type": "stream",
     "text": [
      "Warning 1: TIFFReadDirectory:Sum of Photometric type-related color channels and ExtraSamples doesn't match SamplesPerPixel. Defining non-color channels as ExtraSamples.\n"
     ]
    },
    {
     "name": "stdout",
     "output_type": "stream",
     "text": [
      "getting url: \n",
      " https://earthengine.googleapis.com/v1/projects/851206260265/thumbnails/531cf5112dbea96bed118cf9432ff4d4-142e7b16d18945ff4670aae077f33384:getPixels\n",
      "Saving at : \n",
      " ../data/raster/AOD_REA_GEE/ZMVM/2022/aod_cli_ZMVM_2022_06_05.tif\n",
      "Fill values with Nan\n",
      "\n",
      "\n",
      "Exporting 98/153: ../data/raster/AOD_REA_GEE/ZMVM/2022/aod_cli_ZMVM_2022_06_06.tif\n"
     ]
    },
    {
     "name": "stderr",
     "output_type": "stream",
     "text": [
      "Warning 1: TIFFReadDirectory:Sum of Photometric type-related color channels and ExtraSamples doesn't match SamplesPerPixel. Defining non-color channels as ExtraSamples.\n"
     ]
    },
    {
     "name": "stdout",
     "output_type": "stream",
     "text": [
      "getting url: \n",
      " https://earthengine.googleapis.com/v1/projects/851206260265/thumbnails/b375fe6ac5eca872c3a39207eb621aab-c373bb95afd4990e7880e2a2dc9d2f87:getPixels\n",
      "Saving at : \n",
      " ../data/raster/AOD_REA_GEE/ZMVM/2022/aod_cli_ZMVM_2022_06_06.tif\n",
      "Fill values with Nan\n",
      "\n",
      "\n",
      "Exporting 99/153: ../data/raster/AOD_REA_GEE/ZMVM/2022/aod_cli_ZMVM_2022_06_07.tif\n"
     ]
    },
    {
     "name": "stderr",
     "output_type": "stream",
     "text": [
      "Warning 1: TIFFReadDirectory:Sum of Photometric type-related color channels and ExtraSamples doesn't match SamplesPerPixel. Defining non-color channels as ExtraSamples.\n"
     ]
    },
    {
     "name": "stdout",
     "output_type": "stream",
     "text": [
      "getting url: \n",
      " https://earthengine.googleapis.com/v1/projects/851206260265/thumbnails/908a3a7443337b8aa80c643660dd72bc-fec17b640625e6c025da0dab19dfd06f:getPixels\n",
      "Saving at : \n",
      " ../data/raster/AOD_REA_GEE/ZMVM/2022/aod_cli_ZMVM_2022_06_07.tif\n",
      "Fill values with Nan\n",
      "\n",
      "\n",
      "Exporting 100/153: ../data/raster/AOD_REA_GEE/ZMVM/2022/aod_cli_ZMVM_2022_06_08.tif\n"
     ]
    },
    {
     "name": "stderr",
     "output_type": "stream",
     "text": [
      "Warning 1: TIFFReadDirectory:Sum of Photometric type-related color channels and ExtraSamples doesn't match SamplesPerPixel. Defining non-color channels as ExtraSamples.\n"
     ]
    },
    {
     "name": "stdout",
     "output_type": "stream",
     "text": [
      "getting url: \n",
      " https://earthengine.googleapis.com/v1/projects/851206260265/thumbnails/0c23500d7836e063bd025f0a329a9859-ce53cfd2e24716af47fb94e9175ad584:getPixels\n",
      "Saving at : \n",
      " ../data/raster/AOD_REA_GEE/ZMVM/2022/aod_cli_ZMVM_2022_06_08.tif\n",
      "Fill values with Nan\n",
      "\n",
      "\n",
      "Exporting 101/153: ../data/raster/AOD_REA_GEE/ZMVM/2022/aod_cli_ZMVM_2022_06_09.tif\n"
     ]
    },
    {
     "name": "stderr",
     "output_type": "stream",
     "text": [
      "Warning 1: TIFFReadDirectory:Sum of Photometric type-related color channels and ExtraSamples doesn't match SamplesPerPixel. Defining non-color channels as ExtraSamples.\n"
     ]
    },
    {
     "name": "stdout",
     "output_type": "stream",
     "text": [
      "getting url: \n",
      " https://earthengine.googleapis.com/v1/projects/851206260265/thumbnails/ea4370ee8e5ecce8a896af34985ca32a-7370f6209c5de291a54e36160caecfaf:getPixels\n",
      "Saving at : \n",
      " ../data/raster/AOD_REA_GEE/ZMVM/2022/aod_cli_ZMVM_2022_06_09.tif\n",
      "Fill values with Nan\n",
      "\n",
      "\n",
      "Exporting 102/153: ../data/raster/AOD_REA_GEE/ZMVM/2022/aod_cli_ZMVM_2022_06_10.tif\n"
     ]
    },
    {
     "name": "stderr",
     "output_type": "stream",
     "text": [
      "Warning 1: TIFFReadDirectory:Sum of Photometric type-related color channels and ExtraSamples doesn't match SamplesPerPixel. Defining non-color channels as ExtraSamples.\n"
     ]
    },
    {
     "name": "stdout",
     "output_type": "stream",
     "text": [
      "getting url: \n",
      " https://earthengine.googleapis.com/v1/projects/851206260265/thumbnails/09755d990ce24f4cca22dbf648cd9898-e4af8889f77e05a36e68ca1081f099e4:getPixels\n",
      "Saving at : \n",
      " ../data/raster/AOD_REA_GEE/ZMVM/2022/aod_cli_ZMVM_2022_06_10.tif\n",
      "Fill values with Nan\n",
      "\n",
      "\n",
      "Exporting 103/153: ../data/raster/AOD_REA_GEE/ZMVM/2022/aod_cli_ZMVM_2022_06_11.tif\n"
     ]
    },
    {
     "name": "stderr",
     "output_type": "stream",
     "text": [
      "Warning 1: TIFFReadDirectory:Sum of Photometric type-related color channels and ExtraSamples doesn't match SamplesPerPixel. Defining non-color channels as ExtraSamples.\n"
     ]
    },
    {
     "name": "stdout",
     "output_type": "stream",
     "text": [
      "getting url: \n",
      " https://earthengine.googleapis.com/v1/projects/851206260265/thumbnails/f82fe3e132dec89d4bda24ff680222a6-40498c8654385bd3c7923bdafd437873:getPixels\n",
      "Saving at : \n",
      " ../data/raster/AOD_REA_GEE/ZMVM/2022/aod_cli_ZMVM_2022_06_11.tif\n",
      "Fill values with Nan\n",
      "\n",
      "\n",
      "Exporting 104/153: ../data/raster/AOD_REA_GEE/ZMVM/2022/aod_cli_ZMVM_2022_06_12.tif\n"
     ]
    },
    {
     "name": "stderr",
     "output_type": "stream",
     "text": [
      "Warning 1: TIFFReadDirectory:Sum of Photometric type-related color channels and ExtraSamples doesn't match SamplesPerPixel. Defining non-color channels as ExtraSamples.\n"
     ]
    },
    {
     "name": "stdout",
     "output_type": "stream",
     "text": [
      "getting url: \n",
      " https://earthengine.googleapis.com/v1/projects/851206260265/thumbnails/fbbc353bdec47f18ab01e836011b6b7e-f9a8f9aba56313179bdb1f79f4f9a0c7:getPixels\n",
      "Saving at : \n",
      " ../data/raster/AOD_REA_GEE/ZMVM/2022/aod_cli_ZMVM_2022_06_12.tif\n",
      "Fill values with Nan\n",
      "\n",
      "\n",
      "Exporting 105/153: ../data/raster/AOD_REA_GEE/ZMVM/2022/aod_cli_ZMVM_2022_06_13.tif\n"
     ]
    },
    {
     "name": "stderr",
     "output_type": "stream",
     "text": [
      "Warning 1: TIFFReadDirectory:Sum of Photometric type-related color channels and ExtraSamples doesn't match SamplesPerPixel. Defining non-color channels as ExtraSamples.\n"
     ]
    },
    {
     "name": "stdout",
     "output_type": "stream",
     "text": [
      "getting url: \n",
      " https://earthengine.googleapis.com/v1/projects/851206260265/thumbnails/5f9a9bebeae6832698e995e120759cb4-2efadc41e389355b451ac7836bee80e5:getPixels\n",
      "Saving at : \n",
      " ../data/raster/AOD_REA_GEE/ZMVM/2022/aod_cli_ZMVM_2022_06_13.tif\n",
      "Fill values with Nan\n",
      "\n",
      "\n",
      "Exporting 106/153: ../data/raster/AOD_REA_GEE/ZMVM/2022/aod_cli_ZMVM_2022_06_14.tif\n"
     ]
    },
    {
     "name": "stderr",
     "output_type": "stream",
     "text": [
      "Warning 1: TIFFReadDirectory:Sum of Photometric type-related color channels and ExtraSamples doesn't match SamplesPerPixel. Defining non-color channels as ExtraSamples.\n"
     ]
    },
    {
     "name": "stdout",
     "output_type": "stream",
     "text": [
      "getting url: \n",
      " https://earthengine.googleapis.com/v1/projects/851206260265/thumbnails/5c0b8ebeeef905a44a01c6434d662ec7-70355525dcd15b19d6d49371bd8f724b:getPixels\n",
      "Saving at : \n",
      " ../data/raster/AOD_REA_GEE/ZMVM/2022/aod_cli_ZMVM_2022_06_14.tif\n",
      "Fill values with Nan\n",
      "\n",
      "\n",
      "Exporting 107/153: ../data/raster/AOD_REA_GEE/ZMVM/2022/aod_cli_ZMVM_2022_06_15.tif\n"
     ]
    },
    {
     "name": "stderr",
     "output_type": "stream",
     "text": [
      "Warning 1: TIFFReadDirectory:Sum of Photometric type-related color channels and ExtraSamples doesn't match SamplesPerPixel. Defining non-color channels as ExtraSamples.\n"
     ]
    },
    {
     "name": "stdout",
     "output_type": "stream",
     "text": [
      "getting url: \n",
      " https://earthengine.googleapis.com/v1/projects/851206260265/thumbnails/60e5831f9c1bed4793e080a04d4cb048-e31700489a30685358614a58698c6f58:getPixels\n",
      "Saving at : \n",
      " ../data/raster/AOD_REA_GEE/ZMVM/2022/aod_cli_ZMVM_2022_06_15.tif\n",
      "Fill values with Nan\n",
      "\n",
      "\n",
      "Exporting 108/153: ../data/raster/AOD_REA_GEE/ZMVM/2022/aod_cli_ZMVM_2022_06_16.tif\n"
     ]
    },
    {
     "name": "stderr",
     "output_type": "stream",
     "text": [
      "Warning 1: TIFFReadDirectory:Sum of Photometric type-related color channels and ExtraSamples doesn't match SamplesPerPixel. Defining non-color channels as ExtraSamples.\n"
     ]
    },
    {
     "name": "stdout",
     "output_type": "stream",
     "text": [
      "getting url: \n",
      " https://earthengine.googleapis.com/v1/projects/851206260265/thumbnails/ba382b4a9353e9b82003fd0f0b5f91e6-30bc8d531ff83e06262394f84290ee1e:getPixels\n",
      "Saving at : \n",
      " ../data/raster/AOD_REA_GEE/ZMVM/2022/aod_cli_ZMVM_2022_06_16.tif\n",
      "Fill values with Nan\n",
      "\n",
      "\n",
      "Exporting 109/153: ../data/raster/AOD_REA_GEE/ZMVM/2022/aod_cli_ZMVM_2022_06_17.tif\n"
     ]
    },
    {
     "name": "stderr",
     "output_type": "stream",
     "text": [
      "Warning 1: TIFFReadDirectory:Sum of Photometric type-related color channels and ExtraSamples doesn't match SamplesPerPixel. Defining non-color channels as ExtraSamples.\n"
     ]
    },
    {
     "name": "stdout",
     "output_type": "stream",
     "text": [
      "getting url: \n",
      " https://earthengine.googleapis.com/v1/projects/851206260265/thumbnails/cdac61c786450f2ec7611c8c37447403-fe4263b3fca73c505e004f42b84ad4fe:getPixels\n",
      "Saving at : \n",
      " ../data/raster/AOD_REA_GEE/ZMVM/2022/aod_cli_ZMVM_2022_06_17.tif\n",
      "Fill values with Nan\n",
      "\n",
      "\n",
      "Exporting 110/153: ../data/raster/AOD_REA_GEE/ZMVM/2022/aod_cli_ZMVM_2022_06_18.tif\n"
     ]
    },
    {
     "name": "stderr",
     "output_type": "stream",
     "text": [
      "Warning 1: TIFFReadDirectory:Sum of Photometric type-related color channels and ExtraSamples doesn't match SamplesPerPixel. Defining non-color channels as ExtraSamples.\n"
     ]
    },
    {
     "name": "stdout",
     "output_type": "stream",
     "text": [
      "getting url: \n",
      " https://earthengine.googleapis.com/v1/projects/851206260265/thumbnails/53906950920d1a740aba3507fcd2a9b1-9941860f5d69992035bb983ce74b5c37:getPixels\n",
      "Saving at : \n",
      " ../data/raster/AOD_REA_GEE/ZMVM/2022/aod_cli_ZMVM_2022_06_18.tif\n",
      "Fill values with Nan\n",
      "\n",
      "\n",
      "Exporting 111/153: ../data/raster/AOD_REA_GEE/ZMVM/2022/aod_cli_ZMVM_2022_06_19.tif\n"
     ]
    },
    {
     "name": "stderr",
     "output_type": "stream",
     "text": [
      "Warning 1: TIFFReadDirectory:Sum of Photometric type-related color channels and ExtraSamples doesn't match SamplesPerPixel. Defining non-color channels as ExtraSamples.\n"
     ]
    },
    {
     "name": "stdout",
     "output_type": "stream",
     "text": [
      "getting url: \n",
      " https://earthengine.googleapis.com/v1/projects/851206260265/thumbnails/f0cdc044164b2e68c63298745c99816c-04ec21381be97afe2a7ddd23222051d6:getPixels\n",
      "Saving at : \n",
      " ../data/raster/AOD_REA_GEE/ZMVM/2022/aod_cli_ZMVM_2022_06_19.tif\n",
      "Fill values with Nan\n",
      "\n",
      "\n",
      "Exporting 112/153: ../data/raster/AOD_REA_GEE/ZMVM/2022/aod_cli_ZMVM_2022_06_20.tif\n"
     ]
    },
    {
     "name": "stderr",
     "output_type": "stream",
     "text": [
      "Warning 1: TIFFReadDirectory:Sum of Photometric type-related color channels and ExtraSamples doesn't match SamplesPerPixel. Defining non-color channels as ExtraSamples.\n"
     ]
    },
    {
     "name": "stdout",
     "output_type": "stream",
     "text": [
      "getting url: \n",
      " https://earthengine.googleapis.com/v1/projects/851206260265/thumbnails/96f01747a2417b144bf6c361db88ffa3-25ba033bfa5ab34c5758e63d1364ef74:getPixels\n",
      "Saving at : \n",
      " ../data/raster/AOD_REA_GEE/ZMVM/2022/aod_cli_ZMVM_2022_06_20.tif\n",
      "Fill values with Nan\n",
      "\n",
      "\n",
      "Exporting 113/153: ../data/raster/AOD_REA_GEE/ZMVM/2022/aod_cli_ZMVM_2022_06_21.tif\n"
     ]
    },
    {
     "name": "stderr",
     "output_type": "stream",
     "text": [
      "Warning 1: TIFFReadDirectory:Sum of Photometric type-related color channels and ExtraSamples doesn't match SamplesPerPixel. Defining non-color channels as ExtraSamples.\n"
     ]
    },
    {
     "name": "stdout",
     "output_type": "stream",
     "text": [
      "getting url: \n",
      " https://earthengine.googleapis.com/v1/projects/851206260265/thumbnails/bd4aadf08d62b38f7c241075fa94103c-05d63bb81e75a47c9729644e3b2da1b4:getPixels\n",
      "Saving at : \n",
      " ../data/raster/AOD_REA_GEE/ZMVM/2022/aod_cli_ZMVM_2022_06_21.tif\n",
      "Fill values with Nan\n",
      "\n",
      "\n",
      "Exporting 114/153: ../data/raster/AOD_REA_GEE/ZMVM/2022/aod_cli_ZMVM_2022_06_22.tif\n"
     ]
    },
    {
     "name": "stderr",
     "output_type": "stream",
     "text": [
      "Warning 1: TIFFReadDirectory:Sum of Photometric type-related color channels and ExtraSamples doesn't match SamplesPerPixel. Defining non-color channels as ExtraSamples.\n"
     ]
    },
    {
     "name": "stdout",
     "output_type": "stream",
     "text": [
      "getting url: \n",
      " https://earthengine.googleapis.com/v1/projects/851206260265/thumbnails/85ed3e15702c96119fff1c5ca6e20c9c-3fb7b795b631742cb2507c3fb3c36375:getPixels\n",
      "Saving at : \n",
      " ../data/raster/AOD_REA_GEE/ZMVM/2022/aod_cli_ZMVM_2022_06_22.tif\n",
      "Fill values with Nan\n",
      "\n",
      "\n",
      "Exporting 115/153: ../data/raster/AOD_REA_GEE/ZMVM/2022/aod_cli_ZMVM_2022_06_23.tif\n"
     ]
    },
    {
     "name": "stderr",
     "output_type": "stream",
     "text": [
      "Warning 1: TIFFReadDirectory:Sum of Photometric type-related color channels and ExtraSamples doesn't match SamplesPerPixel. Defining non-color channels as ExtraSamples.\n"
     ]
    },
    {
     "name": "stdout",
     "output_type": "stream",
     "text": [
      "getting url: \n",
      " https://earthengine.googleapis.com/v1/projects/851206260265/thumbnails/91917075a0bd98220ce78c7d052e91fb-90effce4bb431c524ac7c25ea820ade8:getPixels\n",
      "Saving at : \n",
      " ../data/raster/AOD_REA_GEE/ZMVM/2022/aod_cli_ZMVM_2022_06_23.tif\n",
      "Fill values with Nan\n",
      "\n",
      "\n",
      "Exporting 116/153: ../data/raster/AOD_REA_GEE/ZMVM/2022/aod_cli_ZMVM_2022_06_24.tif\n"
     ]
    },
    {
     "name": "stderr",
     "output_type": "stream",
     "text": [
      "Warning 1: TIFFReadDirectory:Sum of Photometric type-related color channels and ExtraSamples doesn't match SamplesPerPixel. Defining non-color channels as ExtraSamples.\n"
     ]
    },
    {
     "name": "stdout",
     "output_type": "stream",
     "text": [
      "getting url: \n",
      " https://earthengine.googleapis.com/v1/projects/851206260265/thumbnails/be0050434bea04d089730bc27aefccbd-cb920998f245df1657fe2200a494b051:getPixels\n",
      "Saving at : \n",
      " ../data/raster/AOD_REA_GEE/ZMVM/2022/aod_cli_ZMVM_2022_06_24.tif\n",
      "Fill values with Nan\n",
      "\n",
      "\n",
      "Exporting 117/153: ../data/raster/AOD_REA_GEE/ZMVM/2022/aod_cli_ZMVM_2022_06_25.tif\n"
     ]
    },
    {
     "name": "stderr",
     "output_type": "stream",
     "text": [
      "Warning 1: TIFFReadDirectory:Sum of Photometric type-related color channels and ExtraSamples doesn't match SamplesPerPixel. Defining non-color channels as ExtraSamples.\n"
     ]
    },
    {
     "name": "stdout",
     "output_type": "stream",
     "text": [
      "getting url: \n",
      " https://earthengine.googleapis.com/v1/projects/851206260265/thumbnails/236449be2fdf72e4ea3e8cef1f1fcb47-fcf101f06a5d9a0120aba117f1c11ff5:getPixels\n",
      "Saving at : \n",
      " ../data/raster/AOD_REA_GEE/ZMVM/2022/aod_cli_ZMVM_2022_06_25.tif\n",
      "Fill values with Nan\n",
      "\n",
      "\n",
      "Exporting 118/153: ../data/raster/AOD_REA_GEE/ZMVM/2022/aod_cli_ZMVM_2022_06_26.tif\n"
     ]
    },
    {
     "name": "stderr",
     "output_type": "stream",
     "text": [
      "Warning 1: TIFFReadDirectory:Sum of Photometric type-related color channels and ExtraSamples doesn't match SamplesPerPixel. Defining non-color channels as ExtraSamples.\n"
     ]
    },
    {
     "name": "stdout",
     "output_type": "stream",
     "text": [
      "getting url: \n",
      " https://earthengine.googleapis.com/v1/projects/851206260265/thumbnails/4f5279acae234eba50c76c0aad901896-6468deb9dc13f699c53226960297c882:getPixels\n",
      "Saving at : \n",
      " ../data/raster/AOD_REA_GEE/ZMVM/2022/aod_cli_ZMVM_2022_06_26.tif\n",
      "Fill values with Nan\n",
      "\n",
      "\n",
      "Exporting 119/153: ../data/raster/AOD_REA_GEE/ZMVM/2022/aod_cli_ZMVM_2022_06_27.tif\n"
     ]
    },
    {
     "name": "stderr",
     "output_type": "stream",
     "text": [
      "Warning 1: TIFFReadDirectory:Sum of Photometric type-related color channels and ExtraSamples doesn't match SamplesPerPixel. Defining non-color channels as ExtraSamples.\n"
     ]
    },
    {
     "name": "stdout",
     "output_type": "stream",
     "text": [
      "getting url: \n",
      " https://earthengine.googleapis.com/v1/projects/851206260265/thumbnails/8aa5c83c2488bc920ef55e55373bc313-687e3fdbfa82165502eef0f977e15589:getPixels\n",
      "Saving at : \n",
      " ../data/raster/AOD_REA_GEE/ZMVM/2022/aod_cli_ZMVM_2022_06_27.tif\n",
      "Fill values with Nan\n",
      "\n",
      "\n",
      "Exporting 120/153: ../data/raster/AOD_REA_GEE/ZMVM/2022/aod_cli_ZMVM_2022_06_28.tif\n"
     ]
    },
    {
     "name": "stderr",
     "output_type": "stream",
     "text": [
      "Warning 1: TIFFReadDirectory:Sum of Photometric type-related color channels and ExtraSamples doesn't match SamplesPerPixel. Defining non-color channels as ExtraSamples.\n"
     ]
    },
    {
     "name": "stdout",
     "output_type": "stream",
     "text": [
      "getting url: \n",
      " https://earthengine.googleapis.com/v1/projects/851206260265/thumbnails/db37ea794b3bb97377d3b08d4b3cea98-924942c38ac9ecbcd518f121aae454bb:getPixels\n",
      "Saving at : \n",
      " ../data/raster/AOD_REA_GEE/ZMVM/2022/aod_cli_ZMVM_2022_06_28.tif\n",
      "Fill values with Nan\n",
      "\n",
      "\n",
      "Exporting 121/153: ../data/raster/AOD_REA_GEE/ZMVM/2022/aod_cli_ZMVM_2022_06_29.tif\n"
     ]
    },
    {
     "name": "stderr",
     "output_type": "stream",
     "text": [
      "Warning 1: TIFFReadDirectory:Sum of Photometric type-related color channels and ExtraSamples doesn't match SamplesPerPixel. Defining non-color channels as ExtraSamples.\n"
     ]
    },
    {
     "name": "stdout",
     "output_type": "stream",
     "text": [
      "getting url: \n",
      " https://earthengine.googleapis.com/v1/projects/851206260265/thumbnails/e38fd20b7803e207cee1a022ee80a6b4-7b05782a454383fdebf9dd193720fabd:getPixels\n",
      "Saving at : \n",
      " ../data/raster/AOD_REA_GEE/ZMVM/2022/aod_cli_ZMVM_2022_06_29.tif\n",
      "Fill values with Nan\n",
      "\n",
      "\n",
      "Exporting 122/153: ../data/raster/AOD_REA_GEE/ZMVM/2022/aod_cli_ZMVM_2022_06_30.tif\n"
     ]
    },
    {
     "name": "stderr",
     "output_type": "stream",
     "text": [
      "Warning 1: TIFFReadDirectory:Sum of Photometric type-related color channels and ExtraSamples doesn't match SamplesPerPixel. Defining non-color channels as ExtraSamples.\n"
     ]
    },
    {
     "name": "stdout",
     "output_type": "stream",
     "text": [
      "getting url: \n",
      " https://earthengine.googleapis.com/v1/projects/851206260265/thumbnails/4babd527b9ae02fed102163a3fb7d33c-2989f97cdd934b10ca3eec958dc53f87:getPixels\n",
      "Saving at : \n",
      " ../data/raster/AOD_REA_GEE/ZMVM/2022/aod_cli_ZMVM_2022_06_30.tif\n",
      "Fill values with Nan\n",
      "\n",
      "\n",
      "Exporting 123/153: ../data/raster/AOD_REA_GEE/ZMVM/2022/aod_cli_ZMVM_2022_07_01.tif\n"
     ]
    },
    {
     "name": "stderr",
     "output_type": "stream",
     "text": [
      "Warning 1: TIFFReadDirectory:Sum of Photometric type-related color channels and ExtraSamples doesn't match SamplesPerPixel. Defining non-color channels as ExtraSamples.\n"
     ]
    },
    {
     "name": "stdout",
     "output_type": "stream",
     "text": [
      "getting url: \n",
      " https://earthengine.googleapis.com/v1/projects/851206260265/thumbnails/325585a703fb4f5c2616b0c326116f3f-2f8206e48653dbc94e2a708a4b097ebe:getPixels\n",
      "Saving at : \n",
      " ../data/raster/AOD_REA_GEE/ZMVM/2022/aod_cli_ZMVM_2022_07_01.tif\n",
      "Fill values with Nan\n",
      "\n",
      "\n",
      "Exporting 124/153: ../data/raster/AOD_REA_GEE/ZMVM/2022/aod_cli_ZMVM_2022_07_02.tif\n"
     ]
    },
    {
     "name": "stderr",
     "output_type": "stream",
     "text": [
      "Warning 1: TIFFReadDirectory:Sum of Photometric type-related color channels and ExtraSamples doesn't match SamplesPerPixel. Defining non-color channels as ExtraSamples.\n"
     ]
    },
    {
     "name": "stdout",
     "output_type": "stream",
     "text": [
      "getting url: \n",
      " https://earthengine.googleapis.com/v1/projects/851206260265/thumbnails/1bb401b70a13b26be013b092f1e3a575-7670045d047573f61731cd8f0e17812c:getPixels\n",
      "Saving at : \n",
      " ../data/raster/AOD_REA_GEE/ZMVM/2022/aod_cli_ZMVM_2022_07_02.tif\n",
      "Fill values with Nan\n"
     ]
    },
    {
     "name": "stderr",
     "output_type": "stream",
     "text": [
      "Warning 1: TIFFReadDirectory:Sum of Photometric type-related color channels and ExtraSamples doesn't match SamplesPerPixel. Defining non-color channels as ExtraSamples.\n"
     ]
    },
    {
     "name": "stdout",
     "output_type": "stream",
     "text": [
      "\n",
      "\n",
      "Exporting 125/153: ../data/raster/AOD_REA_GEE/ZMVM/2022/aod_cli_ZMVM_2022_07_03.tif\n",
      "getting url: \n",
      " https://earthengine.googleapis.com/v1/projects/851206260265/thumbnails/2dc5ab16d2b8e03f273b1ad4f04970ce-454bc8181e17b3d1d4da204a2287f00a:getPixels\n",
      "Saving at : \n",
      " ../data/raster/AOD_REA_GEE/ZMVM/2022/aod_cli_ZMVM_2022_07_03.tif\n",
      "Fill values with Nan\n"
     ]
    },
    {
     "name": "stderr",
     "output_type": "stream",
     "text": [
      "Warning 1: TIFFReadDirectory:Sum of Photometric type-related color channels and ExtraSamples doesn't match SamplesPerPixel. Defining non-color channels as ExtraSamples.\n"
     ]
    },
    {
     "name": "stdout",
     "output_type": "stream",
     "text": [
      "\n",
      "\n",
      "Exporting 126/153: ../data/raster/AOD_REA_GEE/ZMVM/2022/aod_cli_ZMVM_2022_07_04.tif\n",
      "getting url: \n",
      " https://earthengine.googleapis.com/v1/projects/851206260265/thumbnails/5ae322b39f3a721c04640bfc9e5c7b5a-f8a3b25af86e392f57d8455b67202ff4:getPixels\n",
      "Saving at : \n",
      " ../data/raster/AOD_REA_GEE/ZMVM/2022/aod_cli_ZMVM_2022_07_04.tif\n",
      "Fill values with Nan\n",
      "\n",
      "\n",
      "Exporting 127/153: ../data/raster/AOD_REA_GEE/ZMVM/2022/aod_cli_ZMVM_2022_07_05.tif\n"
     ]
    },
    {
     "name": "stderr",
     "output_type": "stream",
     "text": [
      "Warning 1: TIFFReadDirectory:Sum of Photometric type-related color channels and ExtraSamples doesn't match SamplesPerPixel. Defining non-color channels as ExtraSamples.\n"
     ]
    },
    {
     "name": "stdout",
     "output_type": "stream",
     "text": [
      "getting url: \n",
      " https://earthengine.googleapis.com/v1/projects/851206260265/thumbnails/f50ddbe814c0dc61f91d00822edaa1be-66fb5b8c976fd3b6859dd38bff397bc5:getPixels\n",
      "Saving at : \n",
      " ../data/raster/AOD_REA_GEE/ZMVM/2022/aod_cli_ZMVM_2022_07_05.tif\n",
      "Fill values with Nan\n",
      "\n",
      "\n",
      "Exporting 128/153: ../data/raster/AOD_REA_GEE/ZMVM/2022/aod_cli_ZMVM_2022_07_06.tif\n"
     ]
    },
    {
     "name": "stderr",
     "output_type": "stream",
     "text": [
      "Warning 1: TIFFReadDirectory:Sum of Photometric type-related color channels and ExtraSamples doesn't match SamplesPerPixel. Defining non-color channels as ExtraSamples.\n"
     ]
    },
    {
     "name": "stdout",
     "output_type": "stream",
     "text": [
      "getting url: \n",
      " https://earthengine.googleapis.com/v1/projects/851206260265/thumbnails/b315072bfd8a84631ea6ea1951f6690d-a48f3bdf339477f79ae576c3c1d6bedc:getPixels\n",
      "Saving at : \n",
      " ../data/raster/AOD_REA_GEE/ZMVM/2022/aod_cli_ZMVM_2022_07_06.tif\n",
      "Fill values with Nan\n",
      "\n",
      "\n",
      "Exporting 129/153: ../data/raster/AOD_REA_GEE/ZMVM/2022/aod_cli_ZMVM_2022_07_07.tif\n"
     ]
    },
    {
     "name": "stderr",
     "output_type": "stream",
     "text": [
      "Warning 1: TIFFReadDirectory:Sum of Photometric type-related color channels and ExtraSamples doesn't match SamplesPerPixel. Defining non-color channels as ExtraSamples.\n"
     ]
    },
    {
     "name": "stdout",
     "output_type": "stream",
     "text": [
      "getting url: \n",
      " https://earthengine.googleapis.com/v1/projects/851206260265/thumbnails/b5b35a9350c8eeaf325795d36eb447de-59eb4b9b7be3af94e6c493e24ff14e92:getPixels\n",
      "Saving at : \n",
      " ../data/raster/AOD_REA_GEE/ZMVM/2022/aod_cli_ZMVM_2022_07_07.tif\n",
      "Fill values with Nan\n",
      "\n",
      "\n",
      "Exporting 130/153: ../data/raster/AOD_REA_GEE/ZMVM/2022/aod_cli_ZMVM_2022_07_08.tif\n"
     ]
    },
    {
     "name": "stderr",
     "output_type": "stream",
     "text": [
      "Warning 1: TIFFReadDirectory:Sum of Photometric type-related color channels and ExtraSamples doesn't match SamplesPerPixel. Defining non-color channels as ExtraSamples.\n"
     ]
    },
    {
     "name": "stdout",
     "output_type": "stream",
     "text": [
      "getting url: \n",
      " https://earthengine.googleapis.com/v1/projects/851206260265/thumbnails/3f002f8aa9c6711f2ff13f524e89abfe-6e7113d2d6afe9cd84d97de14a3c2387:getPixels\n",
      "Saving at : \n",
      " ../data/raster/AOD_REA_GEE/ZMVM/2022/aod_cli_ZMVM_2022_07_08.tif\n",
      "Fill values with Nan\n",
      "\n",
      "\n",
      "Exporting 131/153: ../data/raster/AOD_REA_GEE/ZMVM/2022/aod_cli_ZMVM_2022_07_09.tif\n"
     ]
    },
    {
     "name": "stderr",
     "output_type": "stream",
     "text": [
      "Warning 1: TIFFReadDirectory:Sum of Photometric type-related color channels and ExtraSamples doesn't match SamplesPerPixel. Defining non-color channels as ExtraSamples.\n"
     ]
    },
    {
     "name": "stdout",
     "output_type": "stream",
     "text": [
      "getting url: \n",
      " https://earthengine.googleapis.com/v1/projects/851206260265/thumbnails/8e9c5fa295b9de77a64e86b646f60e37-690963ae5a0e78801b394501c4f07e40:getPixels\n",
      "Saving at : \n",
      " ../data/raster/AOD_REA_GEE/ZMVM/2022/aod_cli_ZMVM_2022_07_09.tif\n",
      "Fill values with Nan\n",
      "\n",
      "\n",
      "Exporting 132/153: ../data/raster/AOD_REA_GEE/ZMVM/2022/aod_cli_ZMVM_2022_07_10.tif\n"
     ]
    },
    {
     "name": "stderr",
     "output_type": "stream",
     "text": [
      "Warning 1: TIFFReadDirectory:Sum of Photometric type-related color channels and ExtraSamples doesn't match SamplesPerPixel. Defining non-color channels as ExtraSamples.\n"
     ]
    },
    {
     "name": "stdout",
     "output_type": "stream",
     "text": [
      "getting url: \n",
      " https://earthengine.googleapis.com/v1/projects/851206260265/thumbnails/c724522ca899e5aedaabd5dd1ae3435c-6173c51ccb3ba3c38457178b9269c318:getPixels\n",
      "Saving at : \n",
      " ../data/raster/AOD_REA_GEE/ZMVM/2022/aod_cli_ZMVM_2022_07_10.tif\n",
      "Fill values with Nan\n",
      "\n",
      "\n",
      "Exporting 133/153: ../data/raster/AOD_REA_GEE/ZMVM/2022/aod_cli_ZMVM_2022_07_11.tif\n"
     ]
    },
    {
     "name": "stderr",
     "output_type": "stream",
     "text": [
      "Warning 1: TIFFReadDirectory:Sum of Photometric type-related color channels and ExtraSamples doesn't match SamplesPerPixel. Defining non-color channels as ExtraSamples.\n"
     ]
    },
    {
     "name": "stdout",
     "output_type": "stream",
     "text": [
      "getting url: \n",
      " https://earthengine.googleapis.com/v1/projects/851206260265/thumbnails/01a212cb663ce1ca7e04e41544a436a7-015bd234d5d9ac556bafe29a4ce0389f:getPixels\n",
      "Saving at : \n",
      " ../data/raster/AOD_REA_GEE/ZMVM/2022/aod_cli_ZMVM_2022_07_11.tif\n",
      "Fill values with Nan\n",
      "\n",
      "\n",
      "Exporting 134/153: ../data/raster/AOD_REA_GEE/ZMVM/2022/aod_cli_ZMVM_2022_07_12.tif\n"
     ]
    },
    {
     "name": "stderr",
     "output_type": "stream",
     "text": [
      "Warning 1: TIFFReadDirectory:Sum of Photometric type-related color channels and ExtraSamples doesn't match SamplesPerPixel. Defining non-color channels as ExtraSamples.\n"
     ]
    },
    {
     "name": "stdout",
     "output_type": "stream",
     "text": [
      "getting url: \n",
      " https://earthengine.googleapis.com/v1/projects/851206260265/thumbnails/51375303beade699bc95b5073d2c4e99-46b15855104a21f6a2a7b60819c68bdc:getPixels\n",
      "Saving at : \n",
      " ../data/raster/AOD_REA_GEE/ZMVM/2022/aod_cli_ZMVM_2022_07_12.tif\n",
      "Fill values with Nan\n",
      "\n",
      "\n",
      "Exporting 135/153: ../data/raster/AOD_REA_GEE/ZMVM/2022/aod_cli_ZMVM_2022_07_13.tif\n"
     ]
    },
    {
     "name": "stderr",
     "output_type": "stream",
     "text": [
      "Warning 1: TIFFReadDirectory:Sum of Photometric type-related color channels and ExtraSamples doesn't match SamplesPerPixel. Defining non-color channels as ExtraSamples.\n"
     ]
    },
    {
     "name": "stdout",
     "output_type": "stream",
     "text": [
      "getting url: \n",
      " https://earthengine.googleapis.com/v1/projects/851206260265/thumbnails/c5f4262c2d7c83fcfd3c3ebb074136cf-f5b13f2639a33e97ca6b4f126d825dd4:getPixels\n",
      "Saving at : \n",
      " ../data/raster/AOD_REA_GEE/ZMVM/2022/aod_cli_ZMVM_2022_07_13.tif\n",
      "Fill values with Nan\n",
      "\n",
      "\n",
      "Exporting 136/153: ../data/raster/AOD_REA_GEE/ZMVM/2022/aod_cli_ZMVM_2022_07_14.tif\n"
     ]
    },
    {
     "name": "stderr",
     "output_type": "stream",
     "text": [
      "Warning 1: TIFFReadDirectory:Sum of Photometric type-related color channels and ExtraSamples doesn't match SamplesPerPixel. Defining non-color channels as ExtraSamples.\n"
     ]
    },
    {
     "name": "stdout",
     "output_type": "stream",
     "text": [
      "getting url: \n",
      " https://earthengine.googleapis.com/v1/projects/851206260265/thumbnails/bd66c212f66e737872a808b49ff8a471-7a62d1363485965193e6a57f884cd849:getPixels\n",
      "Saving at : \n",
      " ../data/raster/AOD_REA_GEE/ZMVM/2022/aod_cli_ZMVM_2022_07_14.tif\n",
      "Fill values with Nan\n",
      "\n",
      "\n",
      "Exporting 137/153: ../data/raster/AOD_REA_GEE/ZMVM/2022/aod_cli_ZMVM_2022_07_15.tif\n"
     ]
    },
    {
     "name": "stderr",
     "output_type": "stream",
     "text": [
      "Warning 1: TIFFReadDirectory:Sum of Photometric type-related color channels and ExtraSamples doesn't match SamplesPerPixel. Defining non-color channels as ExtraSamples.\n"
     ]
    },
    {
     "name": "stdout",
     "output_type": "stream",
     "text": [
      "getting url: \n",
      " https://earthengine.googleapis.com/v1/projects/851206260265/thumbnails/9e0720c66864024a36784af07740fafd-c5c1d60a6cd0b60e8d726f81e7dabb6b:getPixels\n",
      "Saving at : \n",
      " ../data/raster/AOD_REA_GEE/ZMVM/2022/aod_cli_ZMVM_2022_07_15.tif\n",
      "Fill values with Nan\n",
      "\n",
      "\n",
      "Exporting 138/153: ../data/raster/AOD_REA_GEE/ZMVM/2022/aod_cli_ZMVM_2022_07_16.tif\n"
     ]
    },
    {
     "name": "stderr",
     "output_type": "stream",
     "text": [
      "Warning 1: TIFFReadDirectory:Sum of Photometric type-related color channels and ExtraSamples doesn't match SamplesPerPixel. Defining non-color channels as ExtraSamples.\n"
     ]
    },
    {
     "name": "stdout",
     "output_type": "stream",
     "text": [
      "getting url: \n",
      " https://earthengine.googleapis.com/v1/projects/851206260265/thumbnails/e4a1307b366d1bb13615b8e603a538d9-7f121b10d64438ba6c41b99af3a4ef4d:getPixels\n",
      "Saving at : \n",
      " ../data/raster/AOD_REA_GEE/ZMVM/2022/aod_cli_ZMVM_2022_07_16.tif\n",
      "Fill values with Nan\n",
      "\n",
      "\n",
      "Exporting 139/153: ../data/raster/AOD_REA_GEE/ZMVM/2022/aod_cli_ZMVM_2022_07_17.tif\n"
     ]
    },
    {
     "name": "stderr",
     "output_type": "stream",
     "text": [
      "Warning 1: TIFFReadDirectory:Sum of Photometric type-related color channels and ExtraSamples doesn't match SamplesPerPixel. Defining non-color channels as ExtraSamples.\n"
     ]
    },
    {
     "name": "stdout",
     "output_type": "stream",
     "text": [
      "getting url: \n",
      " https://earthengine.googleapis.com/v1/projects/851206260265/thumbnails/229cbc3de7a241242fbe3b68c46ea771-ef2ba97c4a3b4ed7b6e8a7d2af554050:getPixels\n",
      "Saving at : \n",
      " ../data/raster/AOD_REA_GEE/ZMVM/2022/aod_cli_ZMVM_2022_07_17.tif\n",
      "Fill values with Nan\n",
      "\n",
      "\n",
      "Exporting 140/153: ../data/raster/AOD_REA_GEE/ZMVM/2022/aod_cli_ZMVM_2022_07_18.tif\n"
     ]
    },
    {
     "name": "stderr",
     "output_type": "stream",
     "text": [
      "Warning 1: TIFFReadDirectory:Sum of Photometric type-related color channels and ExtraSamples doesn't match SamplesPerPixel. Defining non-color channels as ExtraSamples.\n"
     ]
    },
    {
     "name": "stdout",
     "output_type": "stream",
     "text": [
      "getting url: \n",
      " https://earthengine.googleapis.com/v1/projects/851206260265/thumbnails/8fd3681bede170be64386ad1badb7f58-1be3c53e765500558bf72e19af0aa9e4:getPixels\n",
      "Saving at : \n",
      " ../data/raster/AOD_REA_GEE/ZMVM/2022/aod_cli_ZMVM_2022_07_18.tif\n",
      "Fill values with Nan\n",
      "\n",
      "\n",
      "Exporting 141/153: ../data/raster/AOD_REA_GEE/ZMVM/2022/aod_cli_ZMVM_2022_07_19.tif\n"
     ]
    },
    {
     "name": "stderr",
     "output_type": "stream",
     "text": [
      "Warning 1: TIFFReadDirectory:Sum of Photometric type-related color channels and ExtraSamples doesn't match SamplesPerPixel. Defining non-color channels as ExtraSamples.\n"
     ]
    },
    {
     "name": "stdout",
     "output_type": "stream",
     "text": [
      "getting url: \n",
      " https://earthengine.googleapis.com/v1/projects/851206260265/thumbnails/57d7d32490b7b02bfeaab40b9e287de2-826074929532654ee4f2ee90818846b2:getPixels\n",
      "Saving at : \n",
      " ../data/raster/AOD_REA_GEE/ZMVM/2022/aod_cli_ZMVM_2022_07_19.tif\n",
      "Fill values with Nan\n",
      "\n",
      "\n",
      "Exporting 142/153: ../data/raster/AOD_REA_GEE/ZMVM/2022/aod_cli_ZMVM_2022_07_20.tif\n"
     ]
    },
    {
     "name": "stderr",
     "output_type": "stream",
     "text": [
      "Warning 1: TIFFReadDirectory:Sum of Photometric type-related color channels and ExtraSamples doesn't match SamplesPerPixel. Defining non-color channels as ExtraSamples.\n"
     ]
    },
    {
     "name": "stdout",
     "output_type": "stream",
     "text": [
      "getting url: \n",
      " https://earthengine.googleapis.com/v1/projects/851206260265/thumbnails/78d4b056029e52068ea59e432559520c-df56bf92b1f7aabdbcd9746bcba39455:getPixels\n",
      "Saving at : \n",
      " ../data/raster/AOD_REA_GEE/ZMVM/2022/aod_cli_ZMVM_2022_07_20.tif\n",
      "Fill values with Nan\n",
      "\n",
      "\n",
      "Exporting 143/153: ../data/raster/AOD_REA_GEE/ZMVM/2022/aod_cli_ZMVM_2022_07_21.tif\n"
     ]
    },
    {
     "name": "stderr",
     "output_type": "stream",
     "text": [
      "Warning 1: TIFFReadDirectory:Sum of Photometric type-related color channels and ExtraSamples doesn't match SamplesPerPixel. Defining non-color channels as ExtraSamples.\n"
     ]
    },
    {
     "name": "stdout",
     "output_type": "stream",
     "text": [
      "getting url: \n",
      " https://earthengine.googleapis.com/v1/projects/851206260265/thumbnails/2d41ecbcb428ecaec065ac35b0c37c6e-18020bcc569a2b2e7380c7409632587d:getPixels\n",
      "Saving at : \n",
      " ../data/raster/AOD_REA_GEE/ZMVM/2022/aod_cli_ZMVM_2022_07_21.tif\n",
      "Fill values with Nan\n",
      "\n",
      "\n",
      "Exporting 144/153: ../data/raster/AOD_REA_GEE/ZMVM/2022/aod_cli_ZMVM_2022_07_22.tif\n"
     ]
    },
    {
     "name": "stderr",
     "output_type": "stream",
     "text": [
      "Warning 1: TIFFReadDirectory:Sum of Photometric type-related color channels and ExtraSamples doesn't match SamplesPerPixel. Defining non-color channels as ExtraSamples.\n"
     ]
    },
    {
     "name": "stdout",
     "output_type": "stream",
     "text": [
      "getting url: \n",
      " https://earthengine.googleapis.com/v1/projects/851206260265/thumbnails/bf823fa195643652f594768f396d1f2a-5fd479f5082a9c270ecdc3f1c60b46c3:getPixels\n",
      "Saving at : \n",
      " ../data/raster/AOD_REA_GEE/ZMVM/2022/aod_cli_ZMVM_2022_07_22.tif\n",
      "Fill values with Nan\n",
      "\n",
      "\n",
      "Exporting 145/153: ../data/raster/AOD_REA_GEE/ZMVM/2022/aod_cli_ZMVM_2022_07_23.tif\n"
     ]
    },
    {
     "name": "stderr",
     "output_type": "stream",
     "text": [
      "Warning 1: TIFFReadDirectory:Sum of Photometric type-related color channels and ExtraSamples doesn't match SamplesPerPixel. Defining non-color channels as ExtraSamples.\n"
     ]
    },
    {
     "name": "stdout",
     "output_type": "stream",
     "text": [
      "getting url: \n",
      " https://earthengine.googleapis.com/v1/projects/851206260265/thumbnails/003a0b07f424ac5944220c8effee54bf-2abc53428f678aadc484fccad8250ecc:getPixels\n",
      "Saving at : \n",
      " ../data/raster/AOD_REA_GEE/ZMVM/2022/aod_cli_ZMVM_2022_07_23.tif\n",
      "Fill values with Nan\n",
      "\n",
      "\n",
      "Exporting 146/153: ../data/raster/AOD_REA_GEE/ZMVM/2022/aod_cli_ZMVM_2022_07_24.tif\n"
     ]
    },
    {
     "name": "stderr",
     "output_type": "stream",
     "text": [
      "Warning 1: TIFFReadDirectory:Sum of Photometric type-related color channels and ExtraSamples doesn't match SamplesPerPixel. Defining non-color channels as ExtraSamples.\n"
     ]
    },
    {
     "name": "stdout",
     "output_type": "stream",
     "text": [
      "getting url: \n",
      " https://earthengine.googleapis.com/v1/projects/851206260265/thumbnails/79dfd6591004c63231d45cc7b63dd20a-e53b2e243ce6e2116666e2538224c40f:getPixels\n",
      "Saving at : \n",
      " ../data/raster/AOD_REA_GEE/ZMVM/2022/aod_cli_ZMVM_2022_07_24.tif\n",
      "Fill values with Nan\n",
      "\n",
      "\n",
      "Exporting 147/153: ../data/raster/AOD_REA_GEE/ZMVM/2022/aod_cli_ZMVM_2022_07_25.tif\n"
     ]
    },
    {
     "name": "stderr",
     "output_type": "stream",
     "text": [
      "Warning 1: TIFFReadDirectory:Sum of Photometric type-related color channels and ExtraSamples doesn't match SamplesPerPixel. Defining non-color channels as ExtraSamples.\n"
     ]
    },
    {
     "name": "stdout",
     "output_type": "stream",
     "text": [
      "getting url: \n",
      " https://earthengine.googleapis.com/v1/projects/851206260265/thumbnails/46e665781a18f2f78aeff70c2ebeb48d-ca6ea3fc5d7a3719bb17c49329927f7f:getPixels\n",
      "Saving at : \n",
      " ../data/raster/AOD_REA_GEE/ZMVM/2022/aod_cli_ZMVM_2022_07_25.tif\n",
      "Fill values with Nan\n",
      "\n",
      "\n",
      "Exporting 148/153: ../data/raster/AOD_REA_GEE/ZMVM/2022/aod_cli_ZMVM_2022_07_26.tif\n"
     ]
    },
    {
     "name": "stderr",
     "output_type": "stream",
     "text": [
      "Warning 1: TIFFReadDirectory:Sum of Photometric type-related color channels and ExtraSamples doesn't match SamplesPerPixel. Defining non-color channels as ExtraSamples.\n"
     ]
    },
    {
     "name": "stdout",
     "output_type": "stream",
     "text": [
      "getting url: \n",
      " https://earthengine.googleapis.com/v1/projects/851206260265/thumbnails/6ebbcabd15cfa29d77fd825b38a503b2-97bac2def5f09645b173e43a5a50d3de:getPixels\n",
      "Saving at : \n",
      " ../data/raster/AOD_REA_GEE/ZMVM/2022/aod_cli_ZMVM_2022_07_26.tif\n",
      "Fill values with Nan\n",
      "\n",
      "\n",
      "Exporting 149/153: ../data/raster/AOD_REA_GEE/ZMVM/2022/aod_cli_ZMVM_2022_07_27.tif\n"
     ]
    },
    {
     "name": "stderr",
     "output_type": "stream",
     "text": [
      "Warning 1: TIFFReadDirectory:Sum of Photometric type-related color channels and ExtraSamples doesn't match SamplesPerPixel. Defining non-color channels as ExtraSamples.\n"
     ]
    },
    {
     "name": "stdout",
     "output_type": "stream",
     "text": [
      "getting url: \n",
      " https://earthengine.googleapis.com/v1/projects/851206260265/thumbnails/a51d5e964e5ed8ce61222ab230b7e127-63d4911f35260d77daf08d81fccd2dc5:getPixels\n",
      "Saving at : \n",
      " ../data/raster/AOD_REA_GEE/ZMVM/2022/aod_cli_ZMVM_2022_07_27.tif\n",
      "Fill values with Nan\n",
      "\n",
      "\n",
      "Exporting 150/153: ../data/raster/AOD_REA_GEE/ZMVM/2022/aod_cli_ZMVM_2022_07_28.tif\n"
     ]
    },
    {
     "name": "stderr",
     "output_type": "stream",
     "text": [
      "Warning 1: TIFFReadDirectory:Sum of Photometric type-related color channels and ExtraSamples doesn't match SamplesPerPixel. Defining non-color channels as ExtraSamples.\n"
     ]
    },
    {
     "name": "stdout",
     "output_type": "stream",
     "text": [
      "getting url: \n",
      " https://earthengine.googleapis.com/v1/projects/851206260265/thumbnails/c9ad114b23d2ff21b916efa3fdb6719e-dc59e23e5003251876c320e5935015ce:getPixels\n",
      "Saving at : \n",
      " ../data/raster/AOD_REA_GEE/ZMVM/2022/aod_cli_ZMVM_2022_07_28.tif\n",
      "Fill values with Nan\n",
      "\n",
      "\n",
      "Exporting 151/153: ../data/raster/AOD_REA_GEE/ZMVM/2022/aod_cli_ZMVM_2022_07_29.tif\n"
     ]
    },
    {
     "name": "stderr",
     "output_type": "stream",
     "text": [
      "Warning 1: TIFFReadDirectory:Sum of Photometric type-related color channels and ExtraSamples doesn't match SamplesPerPixel. Defining non-color channels as ExtraSamples.\n"
     ]
    },
    {
     "name": "stdout",
     "output_type": "stream",
     "text": [
      "getting url: \n",
      " https://earthengine.googleapis.com/v1/projects/851206260265/thumbnails/46d9d1c477767054a819496e8528b701-322a5539a5681fe05e2612c9d99c832c:getPixels\n",
      "Saving at : \n",
      " ../data/raster/AOD_REA_GEE/ZMVM/2022/aod_cli_ZMVM_2022_07_29.tif\n",
      "Fill values with Nan\n",
      "\n",
      "\n",
      "Exporting 152/153: ../data/raster/AOD_REA_GEE/ZMVM/2022/aod_cli_ZMVM_2022_07_30.tif\n"
     ]
    },
    {
     "name": "stderr",
     "output_type": "stream",
     "text": [
      "Warning 1: TIFFReadDirectory:Sum of Photometric type-related color channels and ExtraSamples doesn't match SamplesPerPixel. Defining non-color channels as ExtraSamples.\n"
     ]
    },
    {
     "name": "stdout",
     "output_type": "stream",
     "text": [
      "getting url: \n",
      " https://earthengine.googleapis.com/v1/projects/851206260265/thumbnails/44325d0199371eaa4d00e49bed66e9f1-912f9071084cd1be2f90772b92a092b1:getPixels\n",
      "Saving at : \n",
      " ../data/raster/AOD_REA_GEE/ZMVM/2022/aod_cli_ZMVM_2022_07_30.tif\n",
      "Fill values with Nan\n",
      "\n",
      "\n",
      "Exporting 153/153: ../data/raster/AOD_REA_GEE/ZMVM/2022/aod_cli_ZMVM_2022_07_31.tif\n"
     ]
    },
    {
     "name": "stderr",
     "output_type": "stream",
     "text": [
      "Warning 1: TIFFReadDirectory:Sum of Photometric type-related color channels and ExtraSamples doesn't match SamplesPerPixel. Defining non-color channels as ExtraSamples.\n"
     ]
    },
    {
     "name": "stdout",
     "output_type": "stream",
     "text": [
      "getting url: \n",
      " https://earthengine.googleapis.com/v1/projects/851206260265/thumbnails/3859e53eed3e909f7f1c37f1e99d64c2-d5c4d6e2fbd1130f9c01d137faa82f9a:getPixels\n",
      "Saving at : \n",
      " ../data/raster/AOD_REA_GEE/ZMVM/2022/aod_cli_ZMVM_2022_07_31.tif\n",
      "Fill values with Nan\n",
      "\n",
      "\n"
     ]
    },
    {
     "name": "stderr",
     "output_type": "stream",
     "text": [
      "Warning 1: TIFFReadDirectory:Sum of Photometric type-related color channels and ExtraSamples doesn't match SamplesPerPixel. Defining non-color channels as ExtraSamples.\n"
     ]
    }
   ],
   "source": [
    "get_year_zm(\n",
    "        \"2022-03-01\",\n",
    "        \"2022-08-01\",\n",
    "        \"ZMVM\",\n",
    "        \"../data/raster/AOD_REA_GEE/ZMVM/2022/\",\n",
    "        prefix = \"aod_cli_\")"
   ]
  },
  {
   "cell_type": "code",
   "execution_count": null,
   "id": "2472520f-bdef-4e0d-b7be-17c5985d25c3",
   "metadata": {},
   "outputs": [
    {
     "data": {
      "text/html": [
       "\n",
       "            <style>\n",
       "                .geemap-dark {\n",
       "                    --jp-widgets-color: white;\n",
       "                    --jp-widgets-label-color: white;\n",
       "                    --jp-ui-font-color1: white;\n",
       "                    --jp-layout-color2: #454545;\n",
       "                    background-color: #383838;\n",
       "                }\n",
       "\n",
       "                .geemap-dark .jupyter-button {\n",
       "                    --jp-layout-color3: #383838;\n",
       "                }\n",
       "\n",
       "                .geemap-colab {\n",
       "                    background-color: var(--colab-primary-surface-color, white);\n",
       "                }\n",
       "\n",
       "                .geemap-colab .jupyter-button {\n",
       "                    --jp-layout-color3: var(--colab-primary-surface-color, white);\n",
       "                }\n",
       "            </style>\n",
       "            "
      ],
      "text/plain": [
       "<IPython.core.display.HTML object>"
      ]
     },
     "metadata": {},
     "output_type": "display_data"
    },
    {
     "name": "stdout",
     "output_type": "stream",
     "text": [
      "['aod_cli_ZMVM_2022_08_01', 'aod_cli_ZMVM_2022_08_02', 'aod_cli_ZMVM_2022_08_03', 'aod_cli_ZMVM_2022_08_04', 'aod_cli_ZMVM_2022_08_05', 'aod_cli_ZMVM_2022_08_06', 'aod_cli_ZMVM_2022_08_07', 'aod_cli_ZMVM_2022_08_08', 'aod_cli_ZMVM_2022_08_09', 'aod_cli_ZMVM_2022_08_10', 'aod_cli_ZMVM_2022_08_11', 'aod_cli_ZMVM_2022_08_12', 'aod_cli_ZMVM_2022_08_13', 'aod_cli_ZMVM_2022_08_14', 'aod_cli_ZMVM_2022_08_15', 'aod_cli_ZMVM_2022_08_16', 'aod_cli_ZMVM_2022_08_17', 'aod_cli_ZMVM_2022_08_18', 'aod_cli_ZMVM_2022_08_19', 'aod_cli_ZMVM_2022_08_20', 'aod_cli_ZMVM_2022_08_21', 'aod_cli_ZMVM_2022_08_22', 'aod_cli_ZMVM_2022_08_23', 'aod_cli_ZMVM_2022_08_24', 'aod_cli_ZMVM_2022_08_25', 'aod_cli_ZMVM_2022_08_26', 'aod_cli_ZMVM_2022_08_27', 'aod_cli_ZMVM_2022_08_28', 'aod_cli_ZMVM_2022_08_29', 'aod_cli_ZMVM_2022_08_30', 'aod_cli_ZMVM_2022_08_31', 'aod_cli_ZMVM_2022_09_01', 'aod_cli_ZMVM_2022_09_02', 'aod_cli_ZMVM_2022_09_03', 'aod_cli_ZMVM_2022_09_04', 'aod_cli_ZMVM_2022_09_05', 'aod_cli_ZMVM_2022_09_06', 'aod_cli_ZMVM_2022_09_07', 'aod_cli_ZMVM_2022_09_08', 'aod_cli_ZMVM_2022_09_09', 'aod_cli_ZMVM_2022_09_10', 'aod_cli_ZMVM_2022_09_11', 'aod_cli_ZMVM_2022_09_12', 'aod_cli_ZMVM_2022_09_13', 'aod_cli_ZMVM_2022_09_14', 'aod_cli_ZMVM_2022_09_15', 'aod_cli_ZMVM_2022_09_16', 'aod_cli_ZMVM_2022_09_17', 'aod_cli_ZMVM_2022_09_18', 'aod_cli_ZMVM_2022_09_19', 'aod_cli_ZMVM_2022_09_20', 'aod_cli_ZMVM_2022_09_21', 'aod_cli_ZMVM_2022_09_22', 'aod_cli_ZMVM_2022_09_23', 'aod_cli_ZMVM_2022_09_24', 'aod_cli_ZMVM_2022_09_25', 'aod_cli_ZMVM_2022_09_26', 'aod_cli_ZMVM_2022_09_27', 'aod_cli_ZMVM_2022_09_28', 'aod_cli_ZMVM_2022_09_29', 'aod_cli_ZMVM_2022_09_30', 'aod_cli_ZMVM_2022_10_01', 'aod_cli_ZMVM_2022_10_02', 'aod_cli_ZMVM_2022_10_03', 'aod_cli_ZMVM_2022_10_04', 'aod_cli_ZMVM_2022_10_05', 'aod_cli_ZMVM_2022_10_06', 'aod_cli_ZMVM_2022_10_07', 'aod_cli_ZMVM_2022_10_08', 'aod_cli_ZMVM_2022_10_09', 'aod_cli_ZMVM_2022_10_10', 'aod_cli_ZMVM_2022_10_11', 'aod_cli_ZMVM_2022_10_12', 'aod_cli_ZMVM_2022_10_13', 'aod_cli_ZMVM_2022_10_14', 'aod_cli_ZMVM_2022_10_15', 'aod_cli_ZMVM_2022_10_16', 'aod_cli_ZMVM_2022_10_17', 'aod_cli_ZMVM_2022_10_18', 'aod_cli_ZMVM_2022_10_19', 'aod_cli_ZMVM_2022_10_20', 'aod_cli_ZMVM_2022_10_21', 'aod_cli_ZMVM_2022_10_22', 'aod_cli_ZMVM_2022_10_23', 'aod_cli_ZMVM_2022_10_24', 'aod_cli_ZMVM_2022_10_25', 'aod_cli_ZMVM_2022_10_26', 'aod_cli_ZMVM_2022_10_27', 'aod_cli_ZMVM_2022_10_28', 'aod_cli_ZMVM_2022_10_29', 'aod_cli_ZMVM_2022_10_30', 'aod_cli_ZMVM_2022_10_31', 'aod_cli_ZMVM_2022_11_01', 'aod_cli_ZMVM_2022_11_02', 'aod_cli_ZMVM_2022_11_03', 'aod_cli_ZMVM_2022_11_04', 'aod_cli_ZMVM_2022_11_05', 'aod_cli_ZMVM_2022_11_06', 'aod_cli_ZMVM_2022_11_07', 'aod_cli_ZMVM_2022_11_08', 'aod_cli_ZMVM_2022_11_09', 'aod_cli_ZMVM_2022_11_10', 'aod_cli_ZMVM_2022_11_11', 'aod_cli_ZMVM_2022_11_12', 'aod_cli_ZMVM_2022_11_13', 'aod_cli_ZMVM_2022_11_14', 'aod_cli_ZMVM_2022_11_15', 'aod_cli_ZMVM_2022_11_16', 'aod_cli_ZMVM_2022_11_17', 'aod_cli_ZMVM_2022_11_18', 'aod_cli_ZMVM_2022_11_19', 'aod_cli_ZMVM_2022_11_20', 'aod_cli_ZMVM_2022_11_21', 'aod_cli_ZMVM_2022_11_22', 'aod_cli_ZMVM_2022_11_23', 'aod_cli_ZMVM_2022_11_24', 'aod_cli_ZMVM_2022_11_25', 'aod_cli_ZMVM_2022_11_26', 'aod_cli_ZMVM_2022_11_27', 'aod_cli_ZMVM_2022_11_28', 'aod_cli_ZMVM_2022_11_29', 'aod_cli_ZMVM_2022_11_30', 'aod_cli_ZMVM_2022_12_01', 'aod_cli_ZMVM_2022_12_02', 'aod_cli_ZMVM_2022_12_03', 'aod_cli_ZMVM_2022_12_04', 'aod_cli_ZMVM_2022_12_05', 'aod_cli_ZMVM_2022_12_06', 'aod_cli_ZMVM_2022_12_07', 'aod_cli_ZMVM_2022_12_08', 'aod_cli_ZMVM_2022_12_09', 'aod_cli_ZMVM_2022_12_10', 'aod_cli_ZMVM_2022_12_11', 'aod_cli_ZMVM_2022_12_12', 'aod_cli_ZMVM_2022_12_13', 'aod_cli_ZMVM_2022_12_14', 'aod_cli_ZMVM_2022_12_15', 'aod_cli_ZMVM_2022_12_16', 'aod_cli_ZMVM_2022_12_17', 'aod_cli_ZMVM_2022_12_18', 'aod_cli_ZMVM_2022_12_19', 'aod_cli_ZMVM_2022_12_20', 'aod_cli_ZMVM_2022_12_21', 'aod_cli_ZMVM_2022_12_22', 'aod_cli_ZMVM_2022_12_23', 'aod_cli_ZMVM_2022_12_24', 'aod_cli_ZMVM_2022_12_25', 'aod_cli_ZMVM_2022_12_26', 'aod_cli_ZMVM_2022_12_27', 'aod_cli_ZMVM_2022_12_28', 'aod_cli_ZMVM_2022_12_29', 'aod_cli_ZMVM_2022_12_30', 'aod_cli_ZMVM_2022_12_31']\n",
      "Exporting 1/153: ../data/raster/AOD_REA_GEE/ZMVM/2022/aod_cli_ZMVM_2022_08_01.tif\n",
      "getting url: \n",
      " https://earthengine.googleapis.com/v1/projects/851206260265/thumbnails/0ffdded44a2b865a38f907c559a2896a-4e13873980c9f64c7aee98a1d9ddb82d:getPixels\n",
      "Saving at : \n",
      " ../data/raster/AOD_REA_GEE/ZMVM/2022/aod_cli_ZMVM_2022_08_01.tif\n",
      "Fill values with Nan\n",
      "\n",
      "\n",
      "Exporting 2/153: ../data/raster/AOD_REA_GEE/ZMVM/2022/aod_cli_ZMVM_2022_08_02.tif\n"
     ]
    },
    {
     "name": "stderr",
     "output_type": "stream",
     "text": [
      "Warning 1: TIFFReadDirectory:Sum of Photometric type-related color channels and ExtraSamples doesn't match SamplesPerPixel. Defining non-color channels as ExtraSamples.\n"
     ]
    },
    {
     "name": "stdout",
     "output_type": "stream",
     "text": [
      "getting url: \n",
      " https://earthengine.googleapis.com/v1/projects/851206260265/thumbnails/8ea6c32218495bf9c2bce0ab103c498c-8990cf333a552aaabefc7911e3e5a736:getPixels\n",
      "Saving at : \n",
      " ../data/raster/AOD_REA_GEE/ZMVM/2022/aod_cli_ZMVM_2022_08_02.tif\n",
      "Fill values with Nan\n",
      "\n",
      "\n",
      "Exporting 3/153: ../data/raster/AOD_REA_GEE/ZMVM/2022/aod_cli_ZMVM_2022_08_03.tif\n"
     ]
    },
    {
     "name": "stderr",
     "output_type": "stream",
     "text": [
      "Warning 1: TIFFReadDirectory:Sum of Photometric type-related color channels and ExtraSamples doesn't match SamplesPerPixel. Defining non-color channels as ExtraSamples.\n"
     ]
    },
    {
     "name": "stdout",
     "output_type": "stream",
     "text": [
      "getting url: \n",
      " https://earthengine.googleapis.com/v1/projects/851206260265/thumbnails/cfdc7ebeabd48f760986ea7e4b38274b-7e2583ea6615800c06be7f40b74a116f:getPixels\n",
      "Saving at : \n",
      " ../data/raster/AOD_REA_GEE/ZMVM/2022/aod_cli_ZMVM_2022_08_03.tif\n",
      "Fill values with Nan\n",
      "\n",
      "\n",
      "Exporting 4/153: ../data/raster/AOD_REA_GEE/ZMVM/2022/aod_cli_ZMVM_2022_08_04.tif\n"
     ]
    },
    {
     "name": "stderr",
     "output_type": "stream",
     "text": [
      "Warning 1: TIFFReadDirectory:Sum of Photometric type-related color channels and ExtraSamples doesn't match SamplesPerPixel. Defining non-color channels as ExtraSamples.\n"
     ]
    },
    {
     "name": "stdout",
     "output_type": "stream",
     "text": [
      "getting url: \n",
      " https://earthengine.googleapis.com/v1/projects/851206260265/thumbnails/2d4799f5a90d47272d984f2afcc9c876-e38ae2a6d04dd0d3acbd891a1da40af8:getPixels\n",
      "Saving at : \n",
      " ../data/raster/AOD_REA_GEE/ZMVM/2022/aod_cli_ZMVM_2022_08_04.tif\n",
      "Fill values with Nan\n",
      "\n",
      "\n",
      "Exporting 5/153: ../data/raster/AOD_REA_GEE/ZMVM/2022/aod_cli_ZMVM_2022_08_05.tif\n"
     ]
    },
    {
     "name": "stderr",
     "output_type": "stream",
     "text": [
      "Warning 1: TIFFReadDirectory:Sum of Photometric type-related color channels and ExtraSamples doesn't match SamplesPerPixel. Defining non-color channels as ExtraSamples.\n"
     ]
    },
    {
     "name": "stdout",
     "output_type": "stream",
     "text": [
      "getting url: \n",
      " https://earthengine.googleapis.com/v1/projects/851206260265/thumbnails/84f3707c33235aafb3cd7a4b02fb65e7-8f297a3678ad61ea9f5e3c4722b39f71:getPixels\n",
      "Saving at : \n",
      " ../data/raster/AOD_REA_GEE/ZMVM/2022/aod_cli_ZMVM_2022_08_05.tif\n",
      "Fill values with Nan\n",
      "\n",
      "\n",
      "Exporting 6/153: ../data/raster/AOD_REA_GEE/ZMVM/2022/aod_cli_ZMVM_2022_08_06.tif\n"
     ]
    },
    {
     "name": "stderr",
     "output_type": "stream",
     "text": [
      "Warning 1: TIFFReadDirectory:Sum of Photometric type-related color channels and ExtraSamples doesn't match SamplesPerPixel. Defining non-color channels as ExtraSamples.\n"
     ]
    },
    {
     "name": "stdout",
     "output_type": "stream",
     "text": [
      "getting url: \n",
      " https://earthengine.googleapis.com/v1/projects/851206260265/thumbnails/688134a7b4364fa3cf3f65721c1d78bd-d04d35bfa88173d0b0fc17b51602e2a1:getPixels\n",
      "Saving at : \n",
      " ../data/raster/AOD_REA_GEE/ZMVM/2022/aod_cli_ZMVM_2022_08_06.tif\n",
      "Fill values with Nan\n",
      "\n",
      "\n",
      "Exporting 7/153: ../data/raster/AOD_REA_GEE/ZMVM/2022/aod_cli_ZMVM_2022_08_07.tif\n"
     ]
    },
    {
     "name": "stderr",
     "output_type": "stream",
     "text": [
      "Warning 1: TIFFReadDirectory:Sum of Photometric type-related color channels and ExtraSamples doesn't match SamplesPerPixel. Defining non-color channels as ExtraSamples.\n"
     ]
    },
    {
     "name": "stdout",
     "output_type": "stream",
     "text": [
      "getting url: \n",
      " https://earthengine.googleapis.com/v1/projects/851206260265/thumbnails/d3d6f663df578983d6ace4ab0d35ef05-ba44f2bd4a09fd3bd45db006ac555928:getPixels\n",
      "Saving at : \n",
      " ../data/raster/AOD_REA_GEE/ZMVM/2022/aod_cli_ZMVM_2022_08_07.tif\n",
      "Fill values with Nan\n",
      "\n",
      "\n",
      "Exporting 8/153: ../data/raster/AOD_REA_GEE/ZMVM/2022/aod_cli_ZMVM_2022_08_08.tif\n"
     ]
    },
    {
     "name": "stderr",
     "output_type": "stream",
     "text": [
      "Warning 1: TIFFReadDirectory:Sum of Photometric type-related color channels and ExtraSamples doesn't match SamplesPerPixel. Defining non-color channels as ExtraSamples.\n"
     ]
    },
    {
     "name": "stdout",
     "output_type": "stream",
     "text": [
      "getting url: \n",
      " https://earthengine.googleapis.com/v1/projects/851206260265/thumbnails/147ae027ce4a7afe0a7c3f072375e4c4-c4aa5c78b4576778195d443e1f14f7ce:getPixels\n",
      "Saving at : \n",
      " ../data/raster/AOD_REA_GEE/ZMVM/2022/aod_cli_ZMVM_2022_08_08.tif\n",
      "Fill values with Nan\n",
      "\n",
      "\n",
      "Exporting 9/153: ../data/raster/AOD_REA_GEE/ZMVM/2022/aod_cli_ZMVM_2022_08_09.tif\n"
     ]
    },
    {
     "name": "stderr",
     "output_type": "stream",
     "text": [
      "Warning 1: TIFFReadDirectory:Sum of Photometric type-related color channels and ExtraSamples doesn't match SamplesPerPixel. Defining non-color channels as ExtraSamples.\n"
     ]
    },
    {
     "name": "stdout",
     "output_type": "stream",
     "text": [
      "getting url: \n",
      " https://earthengine.googleapis.com/v1/projects/851206260265/thumbnails/6f47fd58e99b916ebfaf25947bddb223-bedd7e3ac60c262669a167c8fd9f81ba:getPixels\n",
      "Saving at : \n",
      " ../data/raster/AOD_REA_GEE/ZMVM/2022/aod_cli_ZMVM_2022_08_09.tif\n",
      "Fill values with Nan\n",
      "\n",
      "\n",
      "Exporting 10/153: ../data/raster/AOD_REA_GEE/ZMVM/2022/aod_cli_ZMVM_2022_08_10.tif\n"
     ]
    },
    {
     "name": "stderr",
     "output_type": "stream",
     "text": [
      "Warning 1: TIFFReadDirectory:Sum of Photometric type-related color channels and ExtraSamples doesn't match SamplesPerPixel. Defining non-color channels as ExtraSamples.\n"
     ]
    },
    {
     "name": "stdout",
     "output_type": "stream",
     "text": [
      "getting url: \n",
      " https://earthengine.googleapis.com/v1/projects/851206260265/thumbnails/88e31ecfca4cda7ca099b65f731a0d80-540d51bd26dcda786522ca0421a2ad76:getPixels\n",
      "Saving at : \n",
      " ../data/raster/AOD_REA_GEE/ZMVM/2022/aod_cli_ZMVM_2022_08_10.tif\n",
      "Fill values with Nan\n",
      "\n",
      "\n",
      "Exporting 11/153: ../data/raster/AOD_REA_GEE/ZMVM/2022/aod_cli_ZMVM_2022_08_11.tif\n"
     ]
    },
    {
     "name": "stderr",
     "output_type": "stream",
     "text": [
      "Warning 1: TIFFReadDirectory:Sum of Photometric type-related color channels and ExtraSamples doesn't match SamplesPerPixel. Defining non-color channels as ExtraSamples.\n"
     ]
    },
    {
     "name": "stdout",
     "output_type": "stream",
     "text": [
      "getting url: \n",
      " https://earthengine.googleapis.com/v1/projects/851206260265/thumbnails/31fdd835c3b120952d1b549a4e7d96c5-f09fd3a03e3148877925c5c28643386e:getPixels\n",
      "Saving at : \n",
      " ../data/raster/AOD_REA_GEE/ZMVM/2022/aod_cli_ZMVM_2022_08_11.tif\n",
      "Fill values with Nan\n",
      "\n",
      "\n",
      "Exporting 12/153: ../data/raster/AOD_REA_GEE/ZMVM/2022/aod_cli_ZMVM_2022_08_12.tif\n"
     ]
    },
    {
     "name": "stderr",
     "output_type": "stream",
     "text": [
      "Warning 1: TIFFReadDirectory:Sum of Photometric type-related color channels and ExtraSamples doesn't match SamplesPerPixel. Defining non-color channels as ExtraSamples.\n"
     ]
    },
    {
     "name": "stdout",
     "output_type": "stream",
     "text": [
      "getting url: \n",
      " https://earthengine.googleapis.com/v1/projects/851206260265/thumbnails/c88f34a817d9601fbdc7e83f93a17324-3a2cb41e7051197b5bf8356633aa631f:getPixels\n",
      "Saving at : \n",
      " ../data/raster/AOD_REA_GEE/ZMVM/2022/aod_cli_ZMVM_2022_08_12.tif\n",
      "Fill values with Nan\n",
      "\n",
      "\n",
      "Exporting 13/153: ../data/raster/AOD_REA_GEE/ZMVM/2022/aod_cli_ZMVM_2022_08_13.tif\n"
     ]
    },
    {
     "name": "stderr",
     "output_type": "stream",
     "text": [
      "Warning 1: TIFFReadDirectory:Sum of Photometric type-related color channels and ExtraSamples doesn't match SamplesPerPixel. Defining non-color channels as ExtraSamples.\n"
     ]
    },
    {
     "name": "stdout",
     "output_type": "stream",
     "text": [
      "getting url: \n",
      " https://earthengine.googleapis.com/v1/projects/851206260265/thumbnails/2305086ffca87888fe2c332a4e4f6ce9-ef78069c32c94dc0e935fe8e954c862a:getPixels\n",
      "Saving at : \n",
      " ../data/raster/AOD_REA_GEE/ZMVM/2022/aod_cli_ZMVM_2022_08_13.tif\n",
      "Fill values with Nan\n",
      "\n",
      "\n",
      "Exporting 14/153: ../data/raster/AOD_REA_GEE/ZMVM/2022/aod_cli_ZMVM_2022_08_14.tif\n"
     ]
    },
    {
     "name": "stderr",
     "output_type": "stream",
     "text": [
      "Warning 1: TIFFReadDirectory:Sum of Photometric type-related color channels and ExtraSamples doesn't match SamplesPerPixel. Defining non-color channels as ExtraSamples.\n"
     ]
    },
    {
     "name": "stdout",
     "output_type": "stream",
     "text": [
      "getting url: \n",
      " https://earthengine.googleapis.com/v1/projects/851206260265/thumbnails/f17780edccbf1e52746d86362ad03635-467415ab2b2276305092631f46d2abf2:getPixels\n",
      "Saving at : \n",
      " ../data/raster/AOD_REA_GEE/ZMVM/2022/aod_cli_ZMVM_2022_08_14.tif\n",
      "Fill values with Nan\n",
      "\n",
      "\n",
      "Exporting 15/153: ../data/raster/AOD_REA_GEE/ZMVM/2022/aod_cli_ZMVM_2022_08_15.tif\n"
     ]
    },
    {
     "name": "stderr",
     "output_type": "stream",
     "text": [
      "Warning 1: TIFFReadDirectory:Sum of Photometric type-related color channels and ExtraSamples doesn't match SamplesPerPixel. Defining non-color channels as ExtraSamples.\n"
     ]
    },
    {
     "name": "stdout",
     "output_type": "stream",
     "text": [
      "getting url: \n",
      " https://earthengine.googleapis.com/v1/projects/851206260265/thumbnails/9a2267d520162a447cf7e5c37787ab2c-f6e7c7b973fa1a93058aac602d1ed7f8:getPixels\n",
      "Saving at : \n",
      " ../data/raster/AOD_REA_GEE/ZMVM/2022/aod_cli_ZMVM_2022_08_15.tif\n",
      "Fill values with Nan\n",
      "\n",
      "\n",
      "Exporting 16/153: ../data/raster/AOD_REA_GEE/ZMVM/2022/aod_cli_ZMVM_2022_08_16.tif\n"
     ]
    },
    {
     "name": "stderr",
     "output_type": "stream",
     "text": [
      "Warning 1: TIFFReadDirectory:Sum of Photometric type-related color channels and ExtraSamples doesn't match SamplesPerPixel. Defining non-color channels as ExtraSamples.\n"
     ]
    },
    {
     "name": "stdout",
     "output_type": "stream",
     "text": [
      "getting url: \n",
      " https://earthengine.googleapis.com/v1/projects/851206260265/thumbnails/36510a667c267b97964932a22fd260d1-1bb3ddcf54aa0ec9ac2c09abcb3d26bf:getPixels\n",
      "Saving at : \n",
      " ../data/raster/AOD_REA_GEE/ZMVM/2022/aod_cli_ZMVM_2022_08_16.tif\n",
      "Fill values with Nan\n",
      "\n",
      "\n",
      "Exporting 17/153: ../data/raster/AOD_REA_GEE/ZMVM/2022/aod_cli_ZMVM_2022_08_17.tif\n"
     ]
    },
    {
     "name": "stderr",
     "output_type": "stream",
     "text": [
      "Warning 1: TIFFReadDirectory:Sum of Photometric type-related color channels and ExtraSamples doesn't match SamplesPerPixel. Defining non-color channels as ExtraSamples.\n"
     ]
    },
    {
     "name": "stdout",
     "output_type": "stream",
     "text": [
      "getting url: \n",
      " https://earthengine.googleapis.com/v1/projects/851206260265/thumbnails/aec15056d19661ed36faacf87b07d767-73b1378043d6a696e6514f343d14b0b2:getPixels\n",
      "Saving at : \n",
      " ../data/raster/AOD_REA_GEE/ZMVM/2022/aod_cli_ZMVM_2022_08_17.tif\n",
      "Fill values with Nan\n",
      "\n",
      "\n",
      "Exporting 18/153: ../data/raster/AOD_REA_GEE/ZMVM/2022/aod_cli_ZMVM_2022_08_18.tif\n"
     ]
    },
    {
     "name": "stderr",
     "output_type": "stream",
     "text": [
      "Warning 1: TIFFReadDirectory:Sum of Photometric type-related color channels and ExtraSamples doesn't match SamplesPerPixel. Defining non-color channels as ExtraSamples.\n"
     ]
    },
    {
     "name": "stdout",
     "output_type": "stream",
     "text": [
      "getting url: \n",
      " https://earthengine.googleapis.com/v1/projects/851206260265/thumbnails/f8f8f0cbdf41856e547f211a109a9173-ab829331f1c139f16d976f2ccb4f785f:getPixels\n",
      "Saving at : \n",
      " ../data/raster/AOD_REA_GEE/ZMVM/2022/aod_cli_ZMVM_2022_08_18.tif\n",
      "Fill values with Nan\n",
      "\n",
      "\n",
      "Exporting 19/153: ../data/raster/AOD_REA_GEE/ZMVM/2022/aod_cli_ZMVM_2022_08_19.tif\n"
     ]
    },
    {
     "name": "stderr",
     "output_type": "stream",
     "text": [
      "Warning 1: TIFFReadDirectory:Sum of Photometric type-related color channels and ExtraSamples doesn't match SamplesPerPixel. Defining non-color channels as ExtraSamples.\n"
     ]
    },
    {
     "name": "stdout",
     "output_type": "stream",
     "text": [
      "getting url: \n",
      " https://earthengine.googleapis.com/v1/projects/851206260265/thumbnails/b4aefa81ba9764433560f1a0caf010f6-42a898b83a9620cdc43cb6644be8deec:getPixels\n",
      "Saving at : \n",
      " ../data/raster/AOD_REA_GEE/ZMVM/2022/aod_cli_ZMVM_2022_08_19.tif\n",
      "Fill values with Nan\n",
      "\n",
      "\n",
      "Exporting 20/153: ../data/raster/AOD_REA_GEE/ZMVM/2022/aod_cli_ZMVM_2022_08_20.tif\n"
     ]
    },
    {
     "name": "stderr",
     "output_type": "stream",
     "text": [
      "Warning 1: TIFFReadDirectory:Sum of Photometric type-related color channels and ExtraSamples doesn't match SamplesPerPixel. Defining non-color channels as ExtraSamples.\n"
     ]
    },
    {
     "name": "stdout",
     "output_type": "stream",
     "text": [
      "getting url: \n",
      " https://earthengine.googleapis.com/v1/projects/851206260265/thumbnails/d9b71b0756afb45ecd2874bd22289539-4e92cc07fe89b1073647fe68376eed37:getPixels\n",
      "Saving at : \n",
      " ../data/raster/AOD_REA_GEE/ZMVM/2022/aod_cli_ZMVM_2022_08_20.tif\n",
      "Fill values with Nan\n",
      "\n",
      "\n",
      "Exporting 21/153: ../data/raster/AOD_REA_GEE/ZMVM/2022/aod_cli_ZMVM_2022_08_21.tif\n"
     ]
    },
    {
     "name": "stderr",
     "output_type": "stream",
     "text": [
      "Warning 1: TIFFReadDirectory:Sum of Photometric type-related color channels and ExtraSamples doesn't match SamplesPerPixel. Defining non-color channels as ExtraSamples.\n"
     ]
    },
    {
     "name": "stdout",
     "output_type": "stream",
     "text": [
      "getting url: \n",
      " https://earthengine.googleapis.com/v1/projects/851206260265/thumbnails/ae3a7938e448af88e4117be1719460ef-024b13eaf3507f3fab3287245fe6aa57:getPixels\n",
      "Saving at : \n",
      " ../data/raster/AOD_REA_GEE/ZMVM/2022/aod_cli_ZMVM_2022_08_21.tif\n",
      "Fill values with Nan\n",
      "\n",
      "\n",
      "Exporting 22/153: ../data/raster/AOD_REA_GEE/ZMVM/2022/aod_cli_ZMVM_2022_08_22.tif\n"
     ]
    },
    {
     "name": "stderr",
     "output_type": "stream",
     "text": [
      "Warning 1: TIFFReadDirectory:Sum of Photometric type-related color channels and ExtraSamples doesn't match SamplesPerPixel. Defining non-color channels as ExtraSamples.\n"
     ]
    },
    {
     "name": "stdout",
     "output_type": "stream",
     "text": [
      "getting url: \n",
      " https://earthengine.googleapis.com/v1/projects/851206260265/thumbnails/58f3294bb2851cda7ba1a3f5ed7837ab-730e98207c4f9a18f177e114aa8ad2f6:getPixels\n",
      "Saving at : \n",
      " ../data/raster/AOD_REA_GEE/ZMVM/2022/aod_cli_ZMVM_2022_08_22.tif\n",
      "Fill values with Nan\n",
      "\n",
      "\n",
      "Exporting 23/153: ../data/raster/AOD_REA_GEE/ZMVM/2022/aod_cli_ZMVM_2022_08_23.tif\n"
     ]
    },
    {
     "name": "stderr",
     "output_type": "stream",
     "text": [
      "Warning 1: TIFFReadDirectory:Sum of Photometric type-related color channels and ExtraSamples doesn't match SamplesPerPixel. Defining non-color channels as ExtraSamples.\n"
     ]
    },
    {
     "name": "stdout",
     "output_type": "stream",
     "text": [
      "getting url: \n",
      " https://earthengine.googleapis.com/v1/projects/851206260265/thumbnails/584880df49dd970d3807fb7e4fb41a30-5e07a71ad6a5947f78a32fa9ec60fa3f:getPixels\n",
      "Saving at : \n",
      " ../data/raster/AOD_REA_GEE/ZMVM/2022/aod_cli_ZMVM_2022_08_23.tif\n",
      "Fill values with Nan\n",
      "\n",
      "\n",
      "Exporting 24/153: ../data/raster/AOD_REA_GEE/ZMVM/2022/aod_cli_ZMVM_2022_08_24.tif\n"
     ]
    },
    {
     "name": "stderr",
     "output_type": "stream",
     "text": [
      "Warning 1: TIFFReadDirectory:Sum of Photometric type-related color channels and ExtraSamples doesn't match SamplesPerPixel. Defining non-color channels as ExtraSamples.\n"
     ]
    },
    {
     "name": "stdout",
     "output_type": "stream",
     "text": [
      "getting url: \n",
      " https://earthengine.googleapis.com/v1/projects/851206260265/thumbnails/c507f0d9ed0906895057e0347d6d3d0b-4b2b0be20f96b43e1f41f082bb9e2978:getPixels\n",
      "Saving at : \n",
      " ../data/raster/AOD_REA_GEE/ZMVM/2022/aod_cli_ZMVM_2022_08_24.tif\n",
      "Fill values with Nan\n",
      "\n",
      "\n",
      "Exporting 25/153: ../data/raster/AOD_REA_GEE/ZMVM/2022/aod_cli_ZMVM_2022_08_25.tif\n"
     ]
    },
    {
     "name": "stderr",
     "output_type": "stream",
     "text": [
      "Warning 1: TIFFReadDirectory:Sum of Photometric type-related color channels and ExtraSamples doesn't match SamplesPerPixel. Defining non-color channels as ExtraSamples.\n"
     ]
    },
    {
     "name": "stdout",
     "output_type": "stream",
     "text": [
      "getting url: \n",
      " https://earthengine.googleapis.com/v1/projects/851206260265/thumbnails/164d3515ea5683e6322eb92e319ce833-68c8215283923f321821ffb9007cd0e0:getPixels\n",
      "Saving at : \n",
      " ../data/raster/AOD_REA_GEE/ZMVM/2022/aod_cli_ZMVM_2022_08_25.tif\n",
      "Fill values with Nan\n",
      "\n",
      "\n",
      "Exporting 26/153: ../data/raster/AOD_REA_GEE/ZMVM/2022/aod_cli_ZMVM_2022_08_26.tif\n"
     ]
    },
    {
     "name": "stderr",
     "output_type": "stream",
     "text": [
      "Warning 1: TIFFReadDirectory:Sum of Photometric type-related color channels and ExtraSamples doesn't match SamplesPerPixel. Defining non-color channels as ExtraSamples.\n"
     ]
    },
    {
     "name": "stdout",
     "output_type": "stream",
     "text": [
      "getting url: \n",
      " https://earthengine.googleapis.com/v1/projects/851206260265/thumbnails/cd79d07bece0f90187dab0bfbb77e73c-94dca0c1e32befe364721c2353b41bee:getPixels\n",
      "Saving at : \n",
      " ../data/raster/AOD_REA_GEE/ZMVM/2022/aod_cli_ZMVM_2022_08_26.tif\n",
      "Fill values with Nan\n",
      "\n",
      "\n",
      "Exporting 27/153: ../data/raster/AOD_REA_GEE/ZMVM/2022/aod_cli_ZMVM_2022_08_27.tif\n"
     ]
    },
    {
     "name": "stderr",
     "output_type": "stream",
     "text": [
      "Warning 1: TIFFReadDirectory:Sum of Photometric type-related color channels and ExtraSamples doesn't match SamplesPerPixel. Defining non-color channels as ExtraSamples.\n"
     ]
    },
    {
     "name": "stdout",
     "output_type": "stream",
     "text": [
      "getting url: \n",
      " https://earthengine.googleapis.com/v1/projects/851206260265/thumbnails/c09e32c8813a1ec447ab2515a960bf07-041b346169cd31a10f049267bb59a684:getPixels\n",
      "Saving at : \n",
      " ../data/raster/AOD_REA_GEE/ZMVM/2022/aod_cli_ZMVM_2022_08_27.tif\n",
      "Fill values with Nan\n",
      "\n",
      "\n",
      "Exporting 28/153: ../data/raster/AOD_REA_GEE/ZMVM/2022/aod_cli_ZMVM_2022_08_28.tif\n"
     ]
    },
    {
     "name": "stderr",
     "output_type": "stream",
     "text": [
      "Warning 1: TIFFReadDirectory:Sum of Photometric type-related color channels and ExtraSamples doesn't match SamplesPerPixel. Defining non-color channels as ExtraSamples.\n"
     ]
    },
    {
     "name": "stdout",
     "output_type": "stream",
     "text": [
      "getting url: \n",
      " https://earthengine.googleapis.com/v1/projects/851206260265/thumbnails/ef0167b64bcef1d3213dc1df5f2b2c36-0841b894d411efacf66422eb0c8af452:getPixels\n",
      "Saving at : \n",
      " ../data/raster/AOD_REA_GEE/ZMVM/2022/aod_cli_ZMVM_2022_08_28.tif\n",
      "Fill values with Nan\n",
      "\n",
      "\n",
      "Exporting 29/153: ../data/raster/AOD_REA_GEE/ZMVM/2022/aod_cli_ZMVM_2022_08_29.tif\n"
     ]
    },
    {
     "name": "stderr",
     "output_type": "stream",
     "text": [
      "Warning 1: TIFFReadDirectory:Sum of Photometric type-related color channels and ExtraSamples doesn't match SamplesPerPixel. Defining non-color channels as ExtraSamples.\n"
     ]
    },
    {
     "name": "stdout",
     "output_type": "stream",
     "text": [
      "getting url: \n",
      " https://earthengine.googleapis.com/v1/projects/851206260265/thumbnails/d2413962dcccd6dbb7185d93a7ab2894-a1099f50bf6c093fd76325425e93274a:getPixels\n",
      "Saving at : \n",
      " ../data/raster/AOD_REA_GEE/ZMVM/2022/aod_cli_ZMVM_2022_08_29.tif\n",
      "Fill values with Nan\n",
      "\n",
      "\n",
      "Exporting 30/153: ../data/raster/AOD_REA_GEE/ZMVM/2022/aod_cli_ZMVM_2022_08_30.tif\n"
     ]
    },
    {
     "name": "stderr",
     "output_type": "stream",
     "text": [
      "Warning 1: TIFFReadDirectory:Sum of Photometric type-related color channels and ExtraSamples doesn't match SamplesPerPixel. Defining non-color channels as ExtraSamples.\n"
     ]
    },
    {
     "name": "stdout",
     "output_type": "stream",
     "text": [
      "getting url: \n",
      " https://earthengine.googleapis.com/v1/projects/851206260265/thumbnails/39ea96338834fc5c4691468a15356f4a-c75b300b44812afa175e42be79944d04:getPixels\n",
      "Saving at : \n",
      " ../data/raster/AOD_REA_GEE/ZMVM/2022/aod_cli_ZMVM_2022_08_30.tif\n",
      "Fill values with Nan\n",
      "\n",
      "\n",
      "Exporting 31/153: ../data/raster/AOD_REA_GEE/ZMVM/2022/aod_cli_ZMVM_2022_08_31.tif\n"
     ]
    },
    {
     "name": "stderr",
     "output_type": "stream",
     "text": [
      "Warning 1: TIFFReadDirectory:Sum of Photometric type-related color channels and ExtraSamples doesn't match SamplesPerPixel. Defining non-color channels as ExtraSamples.\n"
     ]
    },
    {
     "name": "stdout",
     "output_type": "stream",
     "text": [
      "getting url: \n",
      " https://earthengine.googleapis.com/v1/projects/851206260265/thumbnails/de4737df1d08450bc07bf50a481b86ab-8161a9236785bdc2f85e4fdfaf75be43:getPixels\n",
      "Saving at : \n",
      " ../data/raster/AOD_REA_GEE/ZMVM/2022/aod_cli_ZMVM_2022_08_31.tif\n",
      "Fill values with Nan\n",
      "\n",
      "\n",
      "Exporting 32/153: ../data/raster/AOD_REA_GEE/ZMVM/2022/aod_cli_ZMVM_2022_09_01.tif\n"
     ]
    },
    {
     "name": "stderr",
     "output_type": "stream",
     "text": [
      "Warning 1: TIFFReadDirectory:Sum of Photometric type-related color channels and ExtraSamples doesn't match SamplesPerPixel. Defining non-color channels as ExtraSamples.\n"
     ]
    },
    {
     "name": "stdout",
     "output_type": "stream",
     "text": [
      "getting url: \n",
      " https://earthengine.googleapis.com/v1/projects/851206260265/thumbnails/ea0461e2785f22abab762efe5e3fd499-baa9e51bc0ca83671b7b1f6ad6f0fdd5:getPixels\n",
      "Saving at : \n",
      " ../data/raster/AOD_REA_GEE/ZMVM/2022/aod_cli_ZMVM_2022_09_01.tif\n",
      "Fill values with Nan\n",
      "\n",
      "\n",
      "Exporting 33/153: ../data/raster/AOD_REA_GEE/ZMVM/2022/aod_cli_ZMVM_2022_09_02.tif\n"
     ]
    },
    {
     "name": "stderr",
     "output_type": "stream",
     "text": [
      "Warning 1: TIFFReadDirectory:Sum of Photometric type-related color channels and ExtraSamples doesn't match SamplesPerPixel. Defining non-color channels as ExtraSamples.\n"
     ]
    },
    {
     "name": "stdout",
     "output_type": "stream",
     "text": [
      "getting url: \n",
      " https://earthengine.googleapis.com/v1/projects/851206260265/thumbnails/4b18fa836eed579a43bab946a14eef0d-e65d5f7099c27e14690c814fb3f2cd3f:getPixels\n",
      "Saving at : \n",
      " ../data/raster/AOD_REA_GEE/ZMVM/2022/aod_cli_ZMVM_2022_09_02.tif\n",
      "Fill values with Nan\n",
      "\n",
      "\n",
      "Exporting 34/153: ../data/raster/AOD_REA_GEE/ZMVM/2022/aod_cli_ZMVM_2022_09_03.tif\n"
     ]
    },
    {
     "name": "stderr",
     "output_type": "stream",
     "text": [
      "Warning 1: TIFFReadDirectory:Sum of Photometric type-related color channels and ExtraSamples doesn't match SamplesPerPixel. Defining non-color channels as ExtraSamples.\n"
     ]
    },
    {
     "name": "stdout",
     "output_type": "stream",
     "text": [
      "getting url: \n",
      " https://earthengine.googleapis.com/v1/projects/851206260265/thumbnails/23faf449356599455a82bc67f0b45c27-ae76ed7bb769a611eaf6652f39cdd949:getPixels\n",
      "Saving at : \n",
      " ../data/raster/AOD_REA_GEE/ZMVM/2022/aod_cli_ZMVM_2022_09_03.tif\n",
      "Fill values with Nan\n",
      "\n",
      "\n",
      "Exporting 35/153: ../data/raster/AOD_REA_GEE/ZMVM/2022/aod_cli_ZMVM_2022_09_04.tif\n"
     ]
    },
    {
     "name": "stderr",
     "output_type": "stream",
     "text": [
      "Warning 1: TIFFReadDirectory:Sum of Photometric type-related color channels and ExtraSamples doesn't match SamplesPerPixel. Defining non-color channels as ExtraSamples.\n"
     ]
    },
    {
     "name": "stdout",
     "output_type": "stream",
     "text": [
      "getting url: \n",
      " https://earthengine.googleapis.com/v1/projects/851206260265/thumbnails/96cd7ff439365efdcd1f4f1314f088d1-8fd1dc0347ed3a9a762feb1e8b5f4584:getPixels\n",
      "Saving at : \n",
      " ../data/raster/AOD_REA_GEE/ZMVM/2022/aod_cli_ZMVM_2022_09_04.tif\n",
      "Fill values with Nan\n",
      "\n",
      "\n",
      "Exporting 36/153: ../data/raster/AOD_REA_GEE/ZMVM/2022/aod_cli_ZMVM_2022_09_05.tif\n"
     ]
    },
    {
     "name": "stderr",
     "output_type": "stream",
     "text": [
      "Warning 1: TIFFReadDirectory:Sum of Photometric type-related color channels and ExtraSamples doesn't match SamplesPerPixel. Defining non-color channels as ExtraSamples.\n"
     ]
    },
    {
     "name": "stdout",
     "output_type": "stream",
     "text": [
      "getting url: \n",
      " https://earthengine.googleapis.com/v1/projects/851206260265/thumbnails/d58ce1a934ab9cc3403ae77849b1bacf-3a701fbb7795bc0e35138c66eac11d2e:getPixels\n",
      "Saving at : \n",
      " ../data/raster/AOD_REA_GEE/ZMVM/2022/aod_cli_ZMVM_2022_09_05.tif\n",
      "Fill values with Nan\n",
      "\n",
      "\n",
      "Exporting 37/153: ../data/raster/AOD_REA_GEE/ZMVM/2022/aod_cli_ZMVM_2022_09_06.tif\n"
     ]
    },
    {
     "name": "stderr",
     "output_type": "stream",
     "text": [
      "Warning 1: TIFFReadDirectory:Sum of Photometric type-related color channels and ExtraSamples doesn't match SamplesPerPixel. Defining non-color channels as ExtraSamples.\n"
     ]
    },
    {
     "name": "stdout",
     "output_type": "stream",
     "text": [
      "getting url: \n",
      " https://earthengine.googleapis.com/v1/projects/851206260265/thumbnails/5a224128813c9de3b875060759ec3735-8d82e769dfef45b81cd3ba0b23518245:getPixels\n",
      "Saving at : \n",
      " ../data/raster/AOD_REA_GEE/ZMVM/2022/aod_cli_ZMVM_2022_09_06.tif\n",
      "Fill values with Nan\n",
      "\n",
      "\n",
      "Exporting 38/153: ../data/raster/AOD_REA_GEE/ZMVM/2022/aod_cli_ZMVM_2022_09_07.tif\n"
     ]
    },
    {
     "name": "stderr",
     "output_type": "stream",
     "text": [
      "Warning 1: TIFFReadDirectory:Sum of Photometric type-related color channels and ExtraSamples doesn't match SamplesPerPixel. Defining non-color channels as ExtraSamples.\n"
     ]
    },
    {
     "name": "stdout",
     "output_type": "stream",
     "text": [
      "getting url: \n",
      " https://earthengine.googleapis.com/v1/projects/851206260265/thumbnails/f4ada31c0df95c526da512fdc9a84b33-901a724b04f18981fe78492b71d0ed29:getPixels\n",
      "Saving at : \n",
      " ../data/raster/AOD_REA_GEE/ZMVM/2022/aod_cli_ZMVM_2022_09_07.tif\n",
      "Fill values with Nan\n",
      "\n",
      "\n",
      "Exporting 39/153: ../data/raster/AOD_REA_GEE/ZMVM/2022/aod_cli_ZMVM_2022_09_08.tif\n"
     ]
    },
    {
     "name": "stderr",
     "output_type": "stream",
     "text": [
      "Warning 1: TIFFReadDirectory:Sum of Photometric type-related color channels and ExtraSamples doesn't match SamplesPerPixel. Defining non-color channels as ExtraSamples.\n"
     ]
    },
    {
     "name": "stdout",
     "output_type": "stream",
     "text": [
      "getting url: \n",
      " https://earthengine.googleapis.com/v1/projects/851206260265/thumbnails/0040569381a0bcc354b3f7d99e54df64-4c0b8720894d20482f927c8a7ba3ae44:getPixels\n",
      "Saving at : \n",
      " ../data/raster/AOD_REA_GEE/ZMVM/2022/aod_cli_ZMVM_2022_09_08.tif\n",
      "Fill values with Nan\n",
      "\n",
      "\n",
      "Exporting 40/153: ../data/raster/AOD_REA_GEE/ZMVM/2022/aod_cli_ZMVM_2022_09_09.tif\n"
     ]
    },
    {
     "name": "stderr",
     "output_type": "stream",
     "text": [
      "Warning 1: TIFFReadDirectory:Sum of Photometric type-related color channels and ExtraSamples doesn't match SamplesPerPixel. Defining non-color channels as ExtraSamples.\n"
     ]
    },
    {
     "name": "stdout",
     "output_type": "stream",
     "text": [
      "getting url: \n",
      " https://earthengine.googleapis.com/v1/projects/851206260265/thumbnails/b2c9925e6f2f12717b732a81ff80dcc2-b8369d0c23e4e59e1f16a0e627bde1d8:getPixels\n",
      "Saving at : \n",
      " ../data/raster/AOD_REA_GEE/ZMVM/2022/aod_cli_ZMVM_2022_09_09.tif\n",
      "Fill values with Nan\n",
      "\n",
      "\n",
      "Exporting 41/153: ../data/raster/AOD_REA_GEE/ZMVM/2022/aod_cli_ZMVM_2022_09_10.tif\n"
     ]
    },
    {
     "name": "stderr",
     "output_type": "stream",
     "text": [
      "Warning 1: TIFFReadDirectory:Sum of Photometric type-related color channels and ExtraSamples doesn't match SamplesPerPixel. Defining non-color channels as ExtraSamples.\n"
     ]
    },
    {
     "name": "stdout",
     "output_type": "stream",
     "text": [
      "getting url: \n",
      " https://earthengine.googleapis.com/v1/projects/851206260265/thumbnails/b33f908d4afb34b3ad6b814c8ea0d7bf-d75c664a3c3bc7c6a08c209ca130ce73:getPixels\n",
      "Saving at : \n",
      " ../data/raster/AOD_REA_GEE/ZMVM/2022/aod_cli_ZMVM_2022_09_10.tif\n",
      "Fill values with Nan\n",
      "\n",
      "\n",
      "Exporting 42/153: ../data/raster/AOD_REA_GEE/ZMVM/2022/aod_cli_ZMVM_2022_09_11.tif\n"
     ]
    },
    {
     "name": "stderr",
     "output_type": "stream",
     "text": [
      "Warning 1: TIFFReadDirectory:Sum of Photometric type-related color channels and ExtraSamples doesn't match SamplesPerPixel. Defining non-color channels as ExtraSamples.\n"
     ]
    },
    {
     "name": "stdout",
     "output_type": "stream",
     "text": [
      "getting url: \n",
      " https://earthengine.googleapis.com/v1/projects/851206260265/thumbnails/374dc3a6722048bef0c5eea2d3d4c03f-03730d2a8f413f0c42e75d660e9a3f90:getPixels\n",
      "Saving at : \n",
      " ../data/raster/AOD_REA_GEE/ZMVM/2022/aod_cli_ZMVM_2022_09_11.tif\n",
      "Fill values with Nan\n",
      "\n",
      "\n",
      "Exporting 43/153: ../data/raster/AOD_REA_GEE/ZMVM/2022/aod_cli_ZMVM_2022_09_12.tif\n"
     ]
    },
    {
     "name": "stderr",
     "output_type": "stream",
     "text": [
      "Warning 1: TIFFReadDirectory:Sum of Photometric type-related color channels and ExtraSamples doesn't match SamplesPerPixel. Defining non-color channels as ExtraSamples.\n"
     ]
    },
    {
     "name": "stdout",
     "output_type": "stream",
     "text": [
      "getting url: \n",
      " https://earthengine.googleapis.com/v1/projects/851206260265/thumbnails/a02c073ab69419f43a92c356722b3663-1ccf0c25ef700b0e194a3c89954a418a:getPixels\n",
      "Saving at : \n",
      " ../data/raster/AOD_REA_GEE/ZMVM/2022/aod_cli_ZMVM_2022_09_12.tif\n",
      "Fill values with Nan\n",
      "\n",
      "\n",
      "Exporting 44/153: ../data/raster/AOD_REA_GEE/ZMVM/2022/aod_cli_ZMVM_2022_09_13.tif\n"
     ]
    },
    {
     "name": "stderr",
     "output_type": "stream",
     "text": [
      "Warning 1: TIFFReadDirectory:Sum of Photometric type-related color channels and ExtraSamples doesn't match SamplesPerPixel. Defining non-color channels as ExtraSamples.\n"
     ]
    },
    {
     "name": "stdout",
     "output_type": "stream",
     "text": [
      "getting url: \n",
      " https://earthengine.googleapis.com/v1/projects/851206260265/thumbnails/e5d8975b0a21422a4385b1d63631a836-fb6b1b470d45eabd58ae135d1e87f4fd:getPixels\n",
      "Saving at : \n",
      " ../data/raster/AOD_REA_GEE/ZMVM/2022/aod_cli_ZMVM_2022_09_13.tif\n",
      "Fill values with Nan\n",
      "\n",
      "\n",
      "Exporting 45/153: ../data/raster/AOD_REA_GEE/ZMVM/2022/aod_cli_ZMVM_2022_09_14.tif\n"
     ]
    },
    {
     "name": "stderr",
     "output_type": "stream",
     "text": [
      "Warning 1: TIFFReadDirectory:Sum of Photometric type-related color channels and ExtraSamples doesn't match SamplesPerPixel. Defining non-color channels as ExtraSamples.\n"
     ]
    },
    {
     "name": "stdout",
     "output_type": "stream",
     "text": [
      "getting url: \n",
      " https://earthengine.googleapis.com/v1/projects/851206260265/thumbnails/e6fbfc8c485ce7ef44025f14086428fb-ce6e04c857ca1be80dd217d61810b4d2:getPixels\n",
      "Saving at : \n",
      " ../data/raster/AOD_REA_GEE/ZMVM/2022/aod_cli_ZMVM_2022_09_14.tif\n",
      "Fill values with Nan\n",
      "\n",
      "\n",
      "Exporting 46/153: ../data/raster/AOD_REA_GEE/ZMVM/2022/aod_cli_ZMVM_2022_09_15.tif\n"
     ]
    },
    {
     "name": "stderr",
     "output_type": "stream",
     "text": [
      "Warning 1: TIFFReadDirectory:Sum of Photometric type-related color channels and ExtraSamples doesn't match SamplesPerPixel. Defining non-color channels as ExtraSamples.\n"
     ]
    },
    {
     "name": "stdout",
     "output_type": "stream",
     "text": [
      "getting url: \n",
      " https://earthengine.googleapis.com/v1/projects/851206260265/thumbnails/f0670ddd9bdf56ea6f0bbcc46c70da37-920c8db62f2b834d430be9d3ec9e4727:getPixels\n",
      "Saving at : \n",
      " ../data/raster/AOD_REA_GEE/ZMVM/2022/aod_cli_ZMVM_2022_09_15.tif\n",
      "Fill values with Nan\n",
      "\n",
      "\n",
      "Exporting 47/153: ../data/raster/AOD_REA_GEE/ZMVM/2022/aod_cli_ZMVM_2022_09_16.tif\n"
     ]
    },
    {
     "name": "stderr",
     "output_type": "stream",
     "text": [
      "Warning 1: TIFFReadDirectory:Sum of Photometric type-related color channels and ExtraSamples doesn't match SamplesPerPixel. Defining non-color channels as ExtraSamples.\n"
     ]
    },
    {
     "name": "stdout",
     "output_type": "stream",
     "text": [
      "getting url: \n",
      " https://earthengine.googleapis.com/v1/projects/851206260265/thumbnails/9c756fba467a954f4f36a3197a1c5d75-712306b97d9084cacd047dc09a0a61ce:getPixels\n",
      "Saving at : \n",
      " ../data/raster/AOD_REA_GEE/ZMVM/2022/aod_cli_ZMVM_2022_09_16.tif\n",
      "Fill values with Nan\n",
      "\n",
      "\n",
      "Exporting 48/153: ../data/raster/AOD_REA_GEE/ZMVM/2022/aod_cli_ZMVM_2022_09_17.tif\n"
     ]
    },
    {
     "name": "stderr",
     "output_type": "stream",
     "text": [
      "Warning 1: TIFFReadDirectory:Sum of Photometric type-related color channels and ExtraSamples doesn't match SamplesPerPixel. Defining non-color channels as ExtraSamples.\n"
     ]
    },
    {
     "name": "stdout",
     "output_type": "stream",
     "text": [
      "getting url: \n",
      " https://earthengine.googleapis.com/v1/projects/851206260265/thumbnails/d9e59cc2d9319ba57efa850a13f1bb28-43d7dd1fc1dca43063a0ef191e00e98a:getPixels\n",
      "Saving at : \n",
      " ../data/raster/AOD_REA_GEE/ZMVM/2022/aod_cli_ZMVM_2022_09_17.tif\n",
      "Fill values with Nan\n",
      "\n",
      "\n",
      "Exporting 49/153: ../data/raster/AOD_REA_GEE/ZMVM/2022/aod_cli_ZMVM_2022_09_18.tif\n"
     ]
    },
    {
     "name": "stderr",
     "output_type": "stream",
     "text": [
      "Warning 1: TIFFReadDirectory:Sum of Photometric type-related color channels and ExtraSamples doesn't match SamplesPerPixel. Defining non-color channels as ExtraSamples.\n"
     ]
    },
    {
     "name": "stdout",
     "output_type": "stream",
     "text": [
      "getting url: \n",
      " https://earthengine.googleapis.com/v1/projects/851206260265/thumbnails/f457944aa443af4def2a27918944394d-2556de25bdc64832e17fcb04a4affca6:getPixels\n",
      "Saving at : \n",
      " ../data/raster/AOD_REA_GEE/ZMVM/2022/aod_cli_ZMVM_2022_09_18.tif\n",
      "Fill values with Nan\n",
      "\n",
      "\n",
      "Exporting 50/153: ../data/raster/AOD_REA_GEE/ZMVM/2022/aod_cli_ZMVM_2022_09_19.tif\n"
     ]
    },
    {
     "name": "stderr",
     "output_type": "stream",
     "text": [
      "Warning 1: TIFFReadDirectory:Sum of Photometric type-related color channels and ExtraSamples doesn't match SamplesPerPixel. Defining non-color channels as ExtraSamples.\n"
     ]
    },
    {
     "name": "stdout",
     "output_type": "stream",
     "text": [
      "getting url: \n",
      " https://earthengine.googleapis.com/v1/projects/851206260265/thumbnails/e0b08f854377844742fe2b68a9044311-c276b9ed6a912dd9d5c11db1b456c142:getPixels\n",
      "Saving at : \n",
      " ../data/raster/AOD_REA_GEE/ZMVM/2022/aod_cli_ZMVM_2022_09_19.tif\n",
      "Fill values with Nan\n",
      "\n",
      "\n",
      "Exporting 51/153: ../data/raster/AOD_REA_GEE/ZMVM/2022/aod_cli_ZMVM_2022_09_20.tif\n"
     ]
    },
    {
     "name": "stderr",
     "output_type": "stream",
     "text": [
      "Warning 1: TIFFReadDirectory:Sum of Photometric type-related color channels and ExtraSamples doesn't match SamplesPerPixel. Defining non-color channels as ExtraSamples.\n"
     ]
    },
    {
     "name": "stdout",
     "output_type": "stream",
     "text": [
      "getting url: \n",
      " https://earthengine.googleapis.com/v1/projects/851206260265/thumbnails/549d59054c076d43e299986081b364a5-b63ed0245a03b6053e79716304229e01:getPixels\n",
      "Saving at : \n",
      " ../data/raster/AOD_REA_GEE/ZMVM/2022/aod_cli_ZMVM_2022_09_20.tif\n",
      "Fill values with Nan\n",
      "\n",
      "\n",
      "Exporting 52/153: ../data/raster/AOD_REA_GEE/ZMVM/2022/aod_cli_ZMVM_2022_09_21.tif\n"
     ]
    },
    {
     "name": "stderr",
     "output_type": "stream",
     "text": [
      "Warning 1: TIFFReadDirectory:Sum of Photometric type-related color channels and ExtraSamples doesn't match SamplesPerPixel. Defining non-color channels as ExtraSamples.\n"
     ]
    },
    {
     "name": "stdout",
     "output_type": "stream",
     "text": [
      "getting url: \n",
      " https://earthengine.googleapis.com/v1/projects/851206260265/thumbnails/d581436da931c1d979a68b7b0f559a77-9932fcaa80f47f5f657e976060b72008:getPixels\n",
      "Saving at : \n",
      " ../data/raster/AOD_REA_GEE/ZMVM/2022/aod_cli_ZMVM_2022_09_21.tif\n",
      "Fill values with Nan\n",
      "\n",
      "\n",
      "Exporting 53/153: ../data/raster/AOD_REA_GEE/ZMVM/2022/aod_cli_ZMVM_2022_09_22.tif\n"
     ]
    },
    {
     "name": "stderr",
     "output_type": "stream",
     "text": [
      "Warning 1: TIFFReadDirectory:Sum of Photometric type-related color channels and ExtraSamples doesn't match SamplesPerPixel. Defining non-color channels as ExtraSamples.\n"
     ]
    },
    {
     "name": "stdout",
     "output_type": "stream",
     "text": [
      "getting url: \n",
      " https://earthengine.googleapis.com/v1/projects/851206260265/thumbnails/d16232d244d361df86accf8d096241db-9bf6fc244b26a3cb2e09d977d3382350:getPixels\n",
      "Saving at : \n",
      " ../data/raster/AOD_REA_GEE/ZMVM/2022/aod_cli_ZMVM_2022_09_22.tif\n",
      "Fill values with Nan\n",
      "\n",
      "\n",
      "Exporting 54/153: ../data/raster/AOD_REA_GEE/ZMVM/2022/aod_cli_ZMVM_2022_09_23.tif\n"
     ]
    },
    {
     "name": "stderr",
     "output_type": "stream",
     "text": [
      "Warning 1: TIFFReadDirectory:Sum of Photometric type-related color channels and ExtraSamples doesn't match SamplesPerPixel. Defining non-color channels as ExtraSamples.\n"
     ]
    },
    {
     "name": "stdout",
     "output_type": "stream",
     "text": [
      "getting url: \n",
      " https://earthengine.googleapis.com/v1/projects/851206260265/thumbnails/e7c1d0695b8f57fd017953a0218240c5-45bd2b094bb232923bd21693d1b275a9:getPixels\n",
      "Saving at : \n",
      " ../data/raster/AOD_REA_GEE/ZMVM/2022/aod_cli_ZMVM_2022_09_23.tif\n",
      "Fill values with Nan\n",
      "\n",
      "\n",
      "Exporting 55/153: ../data/raster/AOD_REA_GEE/ZMVM/2022/aod_cli_ZMVM_2022_09_24.tif\n"
     ]
    },
    {
     "name": "stderr",
     "output_type": "stream",
     "text": [
      "Warning 1: TIFFReadDirectory:Sum of Photometric type-related color channels and ExtraSamples doesn't match SamplesPerPixel. Defining non-color channels as ExtraSamples.\n"
     ]
    },
    {
     "name": "stdout",
     "output_type": "stream",
     "text": [
      "getting url: \n",
      " https://earthengine.googleapis.com/v1/projects/851206260265/thumbnails/0dbee1834876d1c9d99cf78b98fe0c0b-327d33db11da34ffc3fa2cf7540b0e80:getPixels\n",
      "Saving at : \n",
      " ../data/raster/AOD_REA_GEE/ZMVM/2022/aod_cli_ZMVM_2022_09_24.tif\n",
      "Fill values with Nan\n",
      "\n",
      "\n",
      "Exporting 56/153: ../data/raster/AOD_REA_GEE/ZMVM/2022/aod_cli_ZMVM_2022_09_25.tif\n"
     ]
    },
    {
     "name": "stderr",
     "output_type": "stream",
     "text": [
      "Warning 1: TIFFReadDirectory:Sum of Photometric type-related color channels and ExtraSamples doesn't match SamplesPerPixel. Defining non-color channels as ExtraSamples.\n"
     ]
    },
    {
     "name": "stdout",
     "output_type": "stream",
     "text": [
      "getting url: \n",
      " https://earthengine.googleapis.com/v1/projects/851206260265/thumbnails/22d65f6a3c766380e4a2bce3e6b58868-12a1deee4893fbb6e0fb56a3f95dd6da:getPixels\n",
      "Saving at : \n",
      " ../data/raster/AOD_REA_GEE/ZMVM/2022/aod_cli_ZMVM_2022_09_25.tif\n",
      "Fill values with Nan\n",
      "\n",
      "\n",
      "Exporting 57/153: ../data/raster/AOD_REA_GEE/ZMVM/2022/aod_cli_ZMVM_2022_09_26.tif\n"
     ]
    },
    {
     "name": "stderr",
     "output_type": "stream",
     "text": [
      "Warning 1: TIFFReadDirectory:Sum of Photometric type-related color channels and ExtraSamples doesn't match SamplesPerPixel. Defining non-color channels as ExtraSamples.\n"
     ]
    },
    {
     "name": "stdout",
     "output_type": "stream",
     "text": [
      "getting url: \n",
      " https://earthengine.googleapis.com/v1/projects/851206260265/thumbnails/c3644034fd9f5675aa43705402225ae6-5e9a7630e6a9fe2a2cd1de6c604356e2:getPixels\n",
      "Saving at : \n",
      " ../data/raster/AOD_REA_GEE/ZMVM/2022/aod_cli_ZMVM_2022_09_26.tif\n",
      "Fill values with Nan\n",
      "\n",
      "\n",
      "Exporting 58/153: ../data/raster/AOD_REA_GEE/ZMVM/2022/aod_cli_ZMVM_2022_09_27.tif\n"
     ]
    },
    {
     "name": "stderr",
     "output_type": "stream",
     "text": [
      "Warning 1: TIFFReadDirectory:Sum of Photometric type-related color channels and ExtraSamples doesn't match SamplesPerPixel. Defining non-color channels as ExtraSamples.\n"
     ]
    },
    {
     "name": "stdout",
     "output_type": "stream",
     "text": [
      "getting url: \n",
      " https://earthengine.googleapis.com/v1/projects/851206260265/thumbnails/d60feaa67fdf82d32abd1496f5c766d8-29b52027126653621e669b3d2772882a:getPixels\n",
      "Saving at : \n",
      " ../data/raster/AOD_REA_GEE/ZMVM/2022/aod_cli_ZMVM_2022_09_27.tif\n",
      "Fill values with Nan\n",
      "\n",
      "\n",
      "Exporting 59/153: ../data/raster/AOD_REA_GEE/ZMVM/2022/aod_cli_ZMVM_2022_09_28.tif\n"
     ]
    },
    {
     "name": "stderr",
     "output_type": "stream",
     "text": [
      "Warning 1: TIFFReadDirectory:Sum of Photometric type-related color channels and ExtraSamples doesn't match SamplesPerPixel. Defining non-color channels as ExtraSamples.\n"
     ]
    },
    {
     "name": "stdout",
     "output_type": "stream",
     "text": [
      "getting url: \n",
      " https://earthengine.googleapis.com/v1/projects/851206260265/thumbnails/63021ab70dceca3119cfc1d6220bd3ad-4c44b166a9e0de6179af9cf198d147d8:getPixels\n",
      "Saving at : \n",
      " ../data/raster/AOD_REA_GEE/ZMVM/2022/aod_cli_ZMVM_2022_09_28.tif\n",
      "Fill values with Nan\n",
      "\n",
      "\n",
      "Exporting 60/153: ../data/raster/AOD_REA_GEE/ZMVM/2022/aod_cli_ZMVM_2022_09_29.tif\n"
     ]
    },
    {
     "name": "stderr",
     "output_type": "stream",
     "text": [
      "Warning 1: TIFFReadDirectory:Sum of Photometric type-related color channels and ExtraSamples doesn't match SamplesPerPixel. Defining non-color channels as ExtraSamples.\n"
     ]
    },
    {
     "name": "stdout",
     "output_type": "stream",
     "text": [
      "getting url: \n",
      " https://earthengine.googleapis.com/v1/projects/851206260265/thumbnails/51a921a856df3e7f259f1932188ff966-69bf57be67b1fb7c3341e0ed1296c78a:getPixels\n",
      "Saving at : \n",
      " ../data/raster/AOD_REA_GEE/ZMVM/2022/aod_cli_ZMVM_2022_09_29.tif\n",
      "Fill values with Nan\n",
      "\n",
      "\n",
      "Exporting 61/153: ../data/raster/AOD_REA_GEE/ZMVM/2022/aod_cli_ZMVM_2022_09_30.tif\n"
     ]
    },
    {
     "name": "stderr",
     "output_type": "stream",
     "text": [
      "Warning 1: TIFFReadDirectory:Sum of Photometric type-related color channels and ExtraSamples doesn't match SamplesPerPixel. Defining non-color channels as ExtraSamples.\n"
     ]
    },
    {
     "name": "stdout",
     "output_type": "stream",
     "text": [
      "getting url: \n",
      " https://earthengine.googleapis.com/v1/projects/851206260265/thumbnails/c7d79f828593404a293bdd526aa2435f-def8bc153089fce68f88c3a284048d79:getPixels\n",
      "Saving at : \n",
      " ../data/raster/AOD_REA_GEE/ZMVM/2022/aod_cli_ZMVM_2022_09_30.tif\n",
      "Fill values with Nan\n",
      "\n",
      "\n",
      "Exporting 62/153: ../data/raster/AOD_REA_GEE/ZMVM/2022/aod_cli_ZMVM_2022_10_01.tif\n"
     ]
    },
    {
     "name": "stderr",
     "output_type": "stream",
     "text": [
      "Warning 1: TIFFReadDirectory:Sum of Photometric type-related color channels and ExtraSamples doesn't match SamplesPerPixel. Defining non-color channels as ExtraSamples.\n"
     ]
    },
    {
     "name": "stdout",
     "output_type": "stream",
     "text": [
      "getting url: \n",
      " https://earthengine.googleapis.com/v1/projects/851206260265/thumbnails/0e8a37b5a605859c77f3a0287da3003a-ec5d1bcad6c91f484e57144518c2c21f:getPixels\n",
      "Saving at : \n",
      " ../data/raster/AOD_REA_GEE/ZMVM/2022/aod_cli_ZMVM_2022_10_01.tif\n",
      "Fill values with Nan\n",
      "\n",
      "\n",
      "Exporting 63/153: ../data/raster/AOD_REA_GEE/ZMVM/2022/aod_cli_ZMVM_2022_10_02.tif\n"
     ]
    },
    {
     "name": "stderr",
     "output_type": "stream",
     "text": [
      "Warning 1: TIFFReadDirectory:Sum of Photometric type-related color channels and ExtraSamples doesn't match SamplesPerPixel. Defining non-color channels as ExtraSamples.\n"
     ]
    },
    {
     "name": "stdout",
     "output_type": "stream",
     "text": [
      "getting url: \n",
      " https://earthengine.googleapis.com/v1/projects/851206260265/thumbnails/55edd2a359e158e80aa19be7b0f0a84b-ab139ec13dc6edd0c2b2df9fff9b36a6:getPixels\n",
      "Saving at : \n",
      " ../data/raster/AOD_REA_GEE/ZMVM/2022/aod_cli_ZMVM_2022_10_02.tif\n",
      "Fill values with Nan\n",
      "\n",
      "\n",
      "Exporting 64/153: ../data/raster/AOD_REA_GEE/ZMVM/2022/aod_cli_ZMVM_2022_10_03.tif\n"
     ]
    },
    {
     "name": "stderr",
     "output_type": "stream",
     "text": [
      "Warning 1: TIFFReadDirectory:Sum of Photometric type-related color channels and ExtraSamples doesn't match SamplesPerPixel. Defining non-color channels as ExtraSamples.\n"
     ]
    },
    {
     "name": "stdout",
     "output_type": "stream",
     "text": [
      "getting url: \n",
      " https://earthengine.googleapis.com/v1/projects/851206260265/thumbnails/216bbd5e9014152c18c0cf4361448825-188c77cd4c6d102f9e61b78d830cbbda:getPixels\n",
      "Saving at : \n",
      " ../data/raster/AOD_REA_GEE/ZMVM/2022/aod_cli_ZMVM_2022_10_03.tif\n",
      "Fill values with Nan\n",
      "\n",
      "\n",
      "Exporting 65/153: ../data/raster/AOD_REA_GEE/ZMVM/2022/aod_cli_ZMVM_2022_10_04.tif\n"
     ]
    },
    {
     "name": "stderr",
     "output_type": "stream",
     "text": [
      "Warning 1: TIFFReadDirectory:Sum of Photometric type-related color channels and ExtraSamples doesn't match SamplesPerPixel. Defining non-color channels as ExtraSamples.\n"
     ]
    },
    {
     "name": "stdout",
     "output_type": "stream",
     "text": [
      "getting url: \n",
      " https://earthengine.googleapis.com/v1/projects/851206260265/thumbnails/0ff7ee5dbf53d3f70ad686f6be25371e-315b8c13026ba468791bcdd5afd6e78d:getPixels\n",
      "Saving at : \n",
      " ../data/raster/AOD_REA_GEE/ZMVM/2022/aod_cli_ZMVM_2022_10_04.tif\n",
      "Fill values with Nan\n",
      "\n",
      "\n",
      "Exporting 66/153: ../data/raster/AOD_REA_GEE/ZMVM/2022/aod_cli_ZMVM_2022_10_05.tif\n"
     ]
    },
    {
     "name": "stderr",
     "output_type": "stream",
     "text": [
      "Warning 1: TIFFReadDirectory:Sum of Photometric type-related color channels and ExtraSamples doesn't match SamplesPerPixel. Defining non-color channels as ExtraSamples.\n"
     ]
    },
    {
     "name": "stdout",
     "output_type": "stream",
     "text": [
      "getting url: \n",
      " https://earthengine.googleapis.com/v1/projects/851206260265/thumbnails/7cb7cc67428e45caacb810ac84a6b1fb-f1544d0cdd31d2f55d00ab0b1cb1e472:getPixels\n",
      "Saving at : \n",
      " ../data/raster/AOD_REA_GEE/ZMVM/2022/aod_cli_ZMVM_2022_10_05.tif\n",
      "Fill values with Nan\n",
      "\n",
      "\n",
      "Exporting 67/153: ../data/raster/AOD_REA_GEE/ZMVM/2022/aod_cli_ZMVM_2022_10_06.tif\n"
     ]
    },
    {
     "name": "stderr",
     "output_type": "stream",
     "text": [
      "Warning 1: TIFFReadDirectory:Sum of Photometric type-related color channels and ExtraSamples doesn't match SamplesPerPixel. Defining non-color channels as ExtraSamples.\n"
     ]
    },
    {
     "name": "stdout",
     "output_type": "stream",
     "text": [
      "getting url: \n",
      " https://earthengine.googleapis.com/v1/projects/851206260265/thumbnails/5407d59540da0961eaa1f499ba8b32a6-632640dfd9fa82f5fa32e2b83ab7afe6:getPixels\n",
      "Saving at : \n",
      " ../data/raster/AOD_REA_GEE/ZMVM/2022/aod_cli_ZMVM_2022_10_06.tif\n",
      "Fill values with Nan\n",
      "\n",
      "\n",
      "Exporting 68/153: ../data/raster/AOD_REA_GEE/ZMVM/2022/aod_cli_ZMVM_2022_10_07.tif\n"
     ]
    },
    {
     "name": "stderr",
     "output_type": "stream",
     "text": [
      "Warning 1: TIFFReadDirectory:Sum of Photometric type-related color channels and ExtraSamples doesn't match SamplesPerPixel. Defining non-color channels as ExtraSamples.\n"
     ]
    },
    {
     "name": "stdout",
     "output_type": "stream",
     "text": [
      "getting url: \n",
      " https://earthengine.googleapis.com/v1/projects/851206260265/thumbnails/d428b6e93096d66d421f66e84c273413-dee882e48778ebed8533c26f83c05e8e:getPixels\n",
      "Saving at : \n",
      " ../data/raster/AOD_REA_GEE/ZMVM/2022/aod_cli_ZMVM_2022_10_07.tif\n",
      "Fill values with Nan\n",
      "\n",
      "\n",
      "Exporting 69/153: ../data/raster/AOD_REA_GEE/ZMVM/2022/aod_cli_ZMVM_2022_10_08.tif\n"
     ]
    },
    {
     "name": "stderr",
     "output_type": "stream",
     "text": [
      "Warning 1: TIFFReadDirectory:Sum of Photometric type-related color channels and ExtraSamples doesn't match SamplesPerPixel. Defining non-color channels as ExtraSamples.\n"
     ]
    },
    {
     "name": "stdout",
     "output_type": "stream",
     "text": [
      "getting url: \n",
      " https://earthengine.googleapis.com/v1/projects/851206260265/thumbnails/c1a0ba8e32182ae093dbcc631bf55e3a-a21090473ca416e71bc181d78c96c168:getPixels\n",
      "Saving at : \n",
      " ../data/raster/AOD_REA_GEE/ZMVM/2022/aod_cli_ZMVM_2022_10_08.tif\n",
      "Fill values with Nan\n",
      "\n",
      "\n",
      "Exporting 70/153: ../data/raster/AOD_REA_GEE/ZMVM/2022/aod_cli_ZMVM_2022_10_09.tif\n"
     ]
    },
    {
     "name": "stderr",
     "output_type": "stream",
     "text": [
      "Warning 1: TIFFReadDirectory:Sum of Photometric type-related color channels and ExtraSamples doesn't match SamplesPerPixel. Defining non-color channels as ExtraSamples.\n"
     ]
    },
    {
     "name": "stdout",
     "output_type": "stream",
     "text": [
      "getting url: \n",
      " https://earthengine.googleapis.com/v1/projects/851206260265/thumbnails/5b239eaea41f1671689cc2139f6f6fe1-635bfd2b639bb994cc19c53c7dfa7003:getPixels\n",
      "Saving at : \n",
      " ../data/raster/AOD_REA_GEE/ZMVM/2022/aod_cli_ZMVM_2022_10_09.tif\n",
      "Fill values with Nan\n",
      "\n",
      "\n",
      "Exporting 71/153: ../data/raster/AOD_REA_GEE/ZMVM/2022/aod_cli_ZMVM_2022_10_10.tif\n"
     ]
    },
    {
     "name": "stderr",
     "output_type": "stream",
     "text": [
      "Warning 1: TIFFReadDirectory:Sum of Photometric type-related color channels and ExtraSamples doesn't match SamplesPerPixel. Defining non-color channels as ExtraSamples.\n"
     ]
    },
    {
     "name": "stdout",
     "output_type": "stream",
     "text": [
      "getting url: \n",
      " https://earthengine.googleapis.com/v1/projects/851206260265/thumbnails/2eaa3404aa9b168250c78c9cf5d732e5-9792894af07eede5b0abe03a5352ad88:getPixels\n",
      "Saving at : \n",
      " ../data/raster/AOD_REA_GEE/ZMVM/2022/aod_cli_ZMVM_2022_10_10.tif\n",
      "Fill values with Nan\n",
      "\n",
      "\n",
      "Exporting 72/153: ../data/raster/AOD_REA_GEE/ZMVM/2022/aod_cli_ZMVM_2022_10_11.tif\n"
     ]
    },
    {
     "name": "stderr",
     "output_type": "stream",
     "text": [
      "Warning 1: TIFFReadDirectory:Sum of Photometric type-related color channels and ExtraSamples doesn't match SamplesPerPixel. Defining non-color channels as ExtraSamples.\n"
     ]
    },
    {
     "name": "stdout",
     "output_type": "stream",
     "text": [
      "getting url: \n",
      " https://earthengine.googleapis.com/v1/projects/851206260265/thumbnails/efc768c1935251f867e201a2b1fdbfa2-4be424e5104d14060e0d81f62cd9479e:getPixels\n",
      "Saving at : \n",
      " ../data/raster/AOD_REA_GEE/ZMVM/2022/aod_cli_ZMVM_2022_10_11.tif\n",
      "Fill values with Nan\n",
      "\n",
      "\n",
      "Exporting 73/153: ../data/raster/AOD_REA_GEE/ZMVM/2022/aod_cli_ZMVM_2022_10_12.tif\n"
     ]
    },
    {
     "name": "stderr",
     "output_type": "stream",
     "text": [
      "Warning 1: TIFFReadDirectory:Sum of Photometric type-related color channels and ExtraSamples doesn't match SamplesPerPixel. Defining non-color channels as ExtraSamples.\n"
     ]
    },
    {
     "name": "stdout",
     "output_type": "stream",
     "text": [
      "getting url: \n",
      " https://earthengine.googleapis.com/v1/projects/851206260265/thumbnails/6a52e3eb817477208fab0a368dba95f8-1b64a7b1f1548f10583d8f5dfeffea96:getPixels\n",
      "Saving at : \n",
      " ../data/raster/AOD_REA_GEE/ZMVM/2022/aod_cli_ZMVM_2022_10_12.tif\n",
      "Fill values with Nan\n",
      "\n",
      "\n",
      "Exporting 74/153: ../data/raster/AOD_REA_GEE/ZMVM/2022/aod_cli_ZMVM_2022_10_13.tif\n"
     ]
    },
    {
     "name": "stderr",
     "output_type": "stream",
     "text": [
      "Warning 1: TIFFReadDirectory:Sum of Photometric type-related color channels and ExtraSamples doesn't match SamplesPerPixel. Defining non-color channels as ExtraSamples.\n"
     ]
    },
    {
     "name": "stdout",
     "output_type": "stream",
     "text": [
      "getting url: \n",
      " https://earthengine.googleapis.com/v1/projects/851206260265/thumbnails/e7fb33b332a636aed0376ed60568cbd3-bd813118f32ab97dd961586d7780aa3c:getPixels\n",
      "Saving at : \n",
      " ../data/raster/AOD_REA_GEE/ZMVM/2022/aod_cli_ZMVM_2022_10_13.tif\n",
      "Fill values with Nan\n",
      "\n",
      "\n",
      "Exporting 75/153: ../data/raster/AOD_REA_GEE/ZMVM/2022/aod_cli_ZMVM_2022_10_14.tif\n"
     ]
    },
    {
     "name": "stderr",
     "output_type": "stream",
     "text": [
      "Warning 1: TIFFReadDirectory:Sum of Photometric type-related color channels and ExtraSamples doesn't match SamplesPerPixel. Defining non-color channels as ExtraSamples.\n"
     ]
    },
    {
     "name": "stdout",
     "output_type": "stream",
     "text": [
      "getting url: \n",
      " https://earthengine.googleapis.com/v1/projects/851206260265/thumbnails/dce7b4216d0903cedf1cb85a460c52f3-f1665d9e250cf857df88c54c75473ef6:getPixels\n",
      "Saving at : \n",
      " ../data/raster/AOD_REA_GEE/ZMVM/2022/aod_cli_ZMVM_2022_10_14.tif\n",
      "Fill values with Nan\n",
      "\n",
      "\n",
      "Exporting 76/153: ../data/raster/AOD_REA_GEE/ZMVM/2022/aod_cli_ZMVM_2022_10_15.tif\n"
     ]
    },
    {
     "name": "stderr",
     "output_type": "stream",
     "text": [
      "Warning 1: TIFFReadDirectory:Sum of Photometric type-related color channels and ExtraSamples doesn't match SamplesPerPixel. Defining non-color channels as ExtraSamples.\n"
     ]
    },
    {
     "name": "stdout",
     "output_type": "stream",
     "text": [
      "getting url: \n",
      " https://earthengine.googleapis.com/v1/projects/851206260265/thumbnails/62e2fa4e9c32be8607679976adbec552-3140388965b6123542dce7aba8e14cce:getPixels\n",
      "Saving at : \n",
      " ../data/raster/AOD_REA_GEE/ZMVM/2022/aod_cli_ZMVM_2022_10_15.tif\n",
      "Fill values with Nan\n",
      "\n",
      "\n",
      "Exporting 77/153: ../data/raster/AOD_REA_GEE/ZMVM/2022/aod_cli_ZMVM_2022_10_16.tif\n"
     ]
    },
    {
     "name": "stderr",
     "output_type": "stream",
     "text": [
      "Warning 1: TIFFReadDirectory:Sum of Photometric type-related color channels and ExtraSamples doesn't match SamplesPerPixel. Defining non-color channels as ExtraSamples.\n"
     ]
    },
    {
     "name": "stdout",
     "output_type": "stream",
     "text": [
      "getting url: \n",
      " https://earthengine.googleapis.com/v1/projects/851206260265/thumbnails/d71f83731a9b28631551487a70f22e38-f5e444bd02e5c30cf043484f1f359be1:getPixels\n",
      "Saving at : \n",
      " ../data/raster/AOD_REA_GEE/ZMVM/2022/aod_cli_ZMVM_2022_10_16.tif\n",
      "Fill values with Nan\n",
      "\n",
      "\n",
      "Exporting 78/153: ../data/raster/AOD_REA_GEE/ZMVM/2022/aod_cli_ZMVM_2022_10_17.tif\n"
     ]
    },
    {
     "name": "stderr",
     "output_type": "stream",
     "text": [
      "Warning 1: TIFFReadDirectory:Sum of Photometric type-related color channels and ExtraSamples doesn't match SamplesPerPixel. Defining non-color channels as ExtraSamples.\n"
     ]
    },
    {
     "name": "stdout",
     "output_type": "stream",
     "text": [
      "getting url: \n",
      " https://earthengine.googleapis.com/v1/projects/851206260265/thumbnails/a08199459ecd5106d5eb9ea0bb647297-a4936d3a0e0262436b04be320795c8af:getPixels\n",
      "Saving at : \n",
      " ../data/raster/AOD_REA_GEE/ZMVM/2022/aod_cli_ZMVM_2022_10_17.tif\n",
      "Fill values with Nan\n",
      "\n",
      "\n",
      "Exporting 79/153: ../data/raster/AOD_REA_GEE/ZMVM/2022/aod_cli_ZMVM_2022_10_18.tif\n"
     ]
    },
    {
     "name": "stderr",
     "output_type": "stream",
     "text": [
      "Warning 1: TIFFReadDirectory:Sum of Photometric type-related color channels and ExtraSamples doesn't match SamplesPerPixel. Defining non-color channels as ExtraSamples.\n"
     ]
    },
    {
     "name": "stdout",
     "output_type": "stream",
     "text": [
      "getting url: \n",
      " https://earthengine.googleapis.com/v1/projects/851206260265/thumbnails/101b759a61a80f9a50881ecec2899267-7052553d65e2684c337f923504e545d3:getPixels\n",
      "Saving at : \n",
      " ../data/raster/AOD_REA_GEE/ZMVM/2022/aod_cli_ZMVM_2022_10_18.tif\n",
      "Fill values with Nan\n",
      "\n",
      "\n",
      "Exporting 80/153: ../data/raster/AOD_REA_GEE/ZMVM/2022/aod_cli_ZMVM_2022_10_19.tif\n"
     ]
    },
    {
     "name": "stderr",
     "output_type": "stream",
     "text": [
      "Warning 1: TIFFReadDirectory:Sum of Photometric type-related color channels and ExtraSamples doesn't match SamplesPerPixel. Defining non-color channels as ExtraSamples.\n"
     ]
    },
    {
     "name": "stdout",
     "output_type": "stream",
     "text": [
      "getting url: \n",
      " https://earthengine.googleapis.com/v1/projects/851206260265/thumbnails/dab4896cbf8a6cd57e4d6577f0e03a7a-ce2efe1838fe06338ddc916a91f6deb7:getPixels\n",
      "Saving at : \n",
      " ../data/raster/AOD_REA_GEE/ZMVM/2022/aod_cli_ZMVM_2022_10_19.tif\n",
      "Fill values with Nan\n",
      "\n",
      "\n",
      "Exporting 81/153: ../data/raster/AOD_REA_GEE/ZMVM/2022/aod_cli_ZMVM_2022_10_20.tif\n"
     ]
    },
    {
     "name": "stderr",
     "output_type": "stream",
     "text": [
      "Warning 1: TIFFReadDirectory:Sum of Photometric type-related color channels and ExtraSamples doesn't match SamplesPerPixel. Defining non-color channels as ExtraSamples.\n"
     ]
    },
    {
     "name": "stdout",
     "output_type": "stream",
     "text": [
      "getting url: \n",
      " https://earthengine.googleapis.com/v1/projects/851206260265/thumbnails/a03570fd2022e5bdf1400d61cd3e4faa-0e06336c36a05df9c10b60796f1697a6:getPixels\n",
      "Saving at : \n",
      " ../data/raster/AOD_REA_GEE/ZMVM/2022/aod_cli_ZMVM_2022_10_20.tif\n",
      "Fill values with Nan\n",
      "\n",
      "\n",
      "Exporting 82/153: ../data/raster/AOD_REA_GEE/ZMVM/2022/aod_cli_ZMVM_2022_10_21.tif\n"
     ]
    },
    {
     "name": "stderr",
     "output_type": "stream",
     "text": [
      "Warning 1: TIFFReadDirectory:Sum of Photometric type-related color channels and ExtraSamples doesn't match SamplesPerPixel. Defining non-color channels as ExtraSamples.\n"
     ]
    },
    {
     "name": "stdout",
     "output_type": "stream",
     "text": [
      "getting url: \n",
      " https://earthengine.googleapis.com/v1/projects/851206260265/thumbnails/aa631394a6f9450991bac3d175b9842c-bf780cbaa7b7632abbaea39edcaf5d5e:getPixels\n",
      "Saving at : \n",
      " ../data/raster/AOD_REA_GEE/ZMVM/2022/aod_cli_ZMVM_2022_10_21.tif\n",
      "Fill values with Nan\n",
      "\n",
      "\n",
      "Exporting 83/153: ../data/raster/AOD_REA_GEE/ZMVM/2022/aod_cli_ZMVM_2022_10_22.tif\n"
     ]
    },
    {
     "name": "stderr",
     "output_type": "stream",
     "text": [
      "Warning 1: TIFFReadDirectory:Sum of Photometric type-related color channels and ExtraSamples doesn't match SamplesPerPixel. Defining non-color channels as ExtraSamples.\n"
     ]
    },
    {
     "name": "stdout",
     "output_type": "stream",
     "text": [
      "getting url: \n",
      " https://earthengine.googleapis.com/v1/projects/851206260265/thumbnails/f0c08f8b089645050fd7f30693a9b5b4-34feb0c58c41de85f26be9ee037d615b:getPixels\n",
      "Saving at : \n",
      " ../data/raster/AOD_REA_GEE/ZMVM/2022/aod_cli_ZMVM_2022_10_22.tif\n",
      "Fill values with Nan\n",
      "\n",
      "\n",
      "Exporting 84/153: ../data/raster/AOD_REA_GEE/ZMVM/2022/aod_cli_ZMVM_2022_10_23.tif\n"
     ]
    },
    {
     "name": "stderr",
     "output_type": "stream",
     "text": [
      "Warning 1: TIFFReadDirectory:Sum of Photometric type-related color channels and ExtraSamples doesn't match SamplesPerPixel. Defining non-color channels as ExtraSamples.\n"
     ]
    },
    {
     "name": "stdout",
     "output_type": "stream",
     "text": [
      "getting url: \n",
      " https://earthengine.googleapis.com/v1/projects/851206260265/thumbnails/1e395785ed16dca833bcba5bc79a788d-b11fe38f3d8261a63cba26186692b488:getPixels\n",
      "Saving at : \n",
      " ../data/raster/AOD_REA_GEE/ZMVM/2022/aod_cli_ZMVM_2022_10_23.tif\n",
      "Fill values with Nan\n",
      "\n",
      "\n",
      "Exporting 85/153: ../data/raster/AOD_REA_GEE/ZMVM/2022/aod_cli_ZMVM_2022_10_24.tif\n"
     ]
    },
    {
     "name": "stderr",
     "output_type": "stream",
     "text": [
      "Warning 1: TIFFReadDirectory:Sum of Photometric type-related color channels and ExtraSamples doesn't match SamplesPerPixel. Defining non-color channels as ExtraSamples.\n"
     ]
    },
    {
     "name": "stdout",
     "output_type": "stream",
     "text": [
      "getting url: \n",
      " https://earthengine.googleapis.com/v1/projects/851206260265/thumbnails/502256a4b49b04b73f4215839574a33c-0abc21ba458e2924d3b42fc4e3485a98:getPixels\n",
      "Saving at : \n",
      " ../data/raster/AOD_REA_GEE/ZMVM/2022/aod_cli_ZMVM_2022_10_24.tif\n",
      "Fill values with Nan\n",
      "\n",
      "\n",
      "Exporting 86/153: ../data/raster/AOD_REA_GEE/ZMVM/2022/aod_cli_ZMVM_2022_10_25.tif\n"
     ]
    },
    {
     "name": "stderr",
     "output_type": "stream",
     "text": [
      "Warning 1: TIFFReadDirectory:Sum of Photometric type-related color channels and ExtraSamples doesn't match SamplesPerPixel. Defining non-color channels as ExtraSamples.\n"
     ]
    },
    {
     "name": "stdout",
     "output_type": "stream",
     "text": [
      "getting url: \n",
      " https://earthengine.googleapis.com/v1/projects/851206260265/thumbnails/a13f5e9eed368b3d1714a8ead3861a6a-aad1c05d932d5cdd312ad01b5513c15b:getPixels\n",
      "Saving at : \n",
      " ../data/raster/AOD_REA_GEE/ZMVM/2022/aod_cli_ZMVM_2022_10_25.tif\n",
      "Fill values with Nan\n",
      "\n",
      "\n",
      "Exporting 87/153: ../data/raster/AOD_REA_GEE/ZMVM/2022/aod_cli_ZMVM_2022_10_26.tif\n"
     ]
    },
    {
     "name": "stderr",
     "output_type": "stream",
     "text": [
      "Warning 1: TIFFReadDirectory:Sum of Photometric type-related color channels and ExtraSamples doesn't match SamplesPerPixel. Defining non-color channels as ExtraSamples.\n"
     ]
    },
    {
     "name": "stdout",
     "output_type": "stream",
     "text": [
      "getting url: \n",
      " https://earthengine.googleapis.com/v1/projects/851206260265/thumbnails/45a9c507a0865dc3ba89b8642857aa6d-ad3ff34492ed68f573f4b9c112e6c876:getPixels\n",
      "Saving at : \n",
      " ../data/raster/AOD_REA_GEE/ZMVM/2022/aod_cli_ZMVM_2022_10_26.tif\n",
      "Fill values with Nan\n",
      "\n",
      "\n",
      "Exporting 88/153: ../data/raster/AOD_REA_GEE/ZMVM/2022/aod_cli_ZMVM_2022_10_27.tif\n"
     ]
    },
    {
     "name": "stderr",
     "output_type": "stream",
     "text": [
      "Warning 1: TIFFReadDirectory:Sum of Photometric type-related color channels and ExtraSamples doesn't match SamplesPerPixel. Defining non-color channels as ExtraSamples.\n"
     ]
    },
    {
     "name": "stdout",
     "output_type": "stream",
     "text": [
      "getting url: \n",
      " https://earthengine.googleapis.com/v1/projects/851206260265/thumbnails/43209ac8b4327d10f3f172bc6a9af209-519924ba4fcc4ff7e138cd4d88fcd450:getPixels\n",
      "Saving at : \n",
      " ../data/raster/AOD_REA_GEE/ZMVM/2022/aod_cli_ZMVM_2022_10_27.tif\n",
      "Fill values with Nan\n",
      "\n",
      "\n",
      "Exporting 89/153: ../data/raster/AOD_REA_GEE/ZMVM/2022/aod_cli_ZMVM_2022_10_28.tif\n"
     ]
    },
    {
     "name": "stderr",
     "output_type": "stream",
     "text": [
      "Warning 1: TIFFReadDirectory:Sum of Photometric type-related color channels and ExtraSamples doesn't match SamplesPerPixel. Defining non-color channels as ExtraSamples.\n"
     ]
    },
    {
     "name": "stdout",
     "output_type": "stream",
     "text": [
      "getting url: \n",
      " https://earthengine.googleapis.com/v1/projects/851206260265/thumbnails/5832950bc2cb8e3bf494517c6fb1c8b9-9831bc3ee832ca1990241835406cd318:getPixels\n",
      "Saving at : \n",
      " ../data/raster/AOD_REA_GEE/ZMVM/2022/aod_cli_ZMVM_2022_10_28.tif\n",
      "Fill values with Nan\n"
     ]
    },
    {
     "name": "stderr",
     "output_type": "stream",
     "text": [
      "Warning 1: TIFFReadDirectory:Sum of Photometric type-related color channels and ExtraSamples doesn't match SamplesPerPixel. Defining non-color channels as ExtraSamples.\n"
     ]
    },
    {
     "name": "stdout",
     "output_type": "stream",
     "text": [
      "\n",
      "\n",
      "Exporting 90/153: ../data/raster/AOD_REA_GEE/ZMVM/2022/aod_cli_ZMVM_2022_10_29.tif\n",
      "getting url: \n",
      " https://earthengine.googleapis.com/v1/projects/851206260265/thumbnails/43aabc0df376bdee710ac43bdeed392e-df53bb75e169efc53816a23f082b7723:getPixels\n",
      "Saving at : \n",
      " ../data/raster/AOD_REA_GEE/ZMVM/2022/aod_cli_ZMVM_2022_10_29.tif\n",
      "Fill values with Nan\n"
     ]
    },
    {
     "name": "stderr",
     "output_type": "stream",
     "text": [
      "Warning 1: TIFFReadDirectory:Sum of Photometric type-related color channels and ExtraSamples doesn't match SamplesPerPixel. Defining non-color channels as ExtraSamples.\n"
     ]
    },
    {
     "name": "stdout",
     "output_type": "stream",
     "text": [
      "\n",
      "\n",
      "Exporting 91/153: ../data/raster/AOD_REA_GEE/ZMVM/2022/aod_cli_ZMVM_2022_10_30.tif\n",
      "getting url: \n",
      " https://earthengine.googleapis.com/v1/projects/851206260265/thumbnails/dde74ec758bd137429683410a2380780-0f396fd336f53c8ae69acb40f4f69528:getPixels\n",
      "Saving at : \n",
      " ../data/raster/AOD_REA_GEE/ZMVM/2022/aod_cli_ZMVM_2022_10_30.tif\n",
      "Fill values with Nan\n",
      "\n",
      "\n",
      "Exporting 92/153: ../data/raster/AOD_REA_GEE/ZMVM/2022/aod_cli_ZMVM_2022_10_31.tif\n"
     ]
    },
    {
     "name": "stderr",
     "output_type": "stream",
     "text": [
      "Warning 1: TIFFReadDirectory:Sum of Photometric type-related color channels and ExtraSamples doesn't match SamplesPerPixel. Defining non-color channels as ExtraSamples.\n"
     ]
    },
    {
     "name": "stdout",
     "output_type": "stream",
     "text": [
      "getting url: \n",
      " https://earthengine.googleapis.com/v1/projects/851206260265/thumbnails/eb31708b9f351bd76d55e0cfa4bbb271-edd982f01fae5d049a0394b4ace0ef47:getPixels\n",
      "Saving at : \n",
      " ../data/raster/AOD_REA_GEE/ZMVM/2022/aod_cli_ZMVM_2022_10_31.tif\n",
      "Fill values with Nan\n",
      "\n",
      "\n",
      "Exporting 93/153: ../data/raster/AOD_REA_GEE/ZMVM/2022/aod_cli_ZMVM_2022_11_01.tif\n"
     ]
    },
    {
     "name": "stderr",
     "output_type": "stream",
     "text": [
      "Warning 1: TIFFReadDirectory:Sum of Photometric type-related color channels and ExtraSamples doesn't match SamplesPerPixel. Defining non-color channels as ExtraSamples.\n"
     ]
    },
    {
     "name": "stdout",
     "output_type": "stream",
     "text": [
      "getting url: \n",
      " https://earthengine.googleapis.com/v1/projects/851206260265/thumbnails/cb5d17686aa44516f0c1d37194f32854-2018abb2daa976a960c42816d74040bf:getPixels\n",
      "Saving at : \n",
      " ../data/raster/AOD_REA_GEE/ZMVM/2022/aod_cli_ZMVM_2022_11_01.tif\n",
      "Fill values with Nan\n",
      "\n",
      "\n",
      "Exporting 94/153: ../data/raster/AOD_REA_GEE/ZMVM/2022/aod_cli_ZMVM_2022_11_02.tif\n"
     ]
    },
    {
     "name": "stderr",
     "output_type": "stream",
     "text": [
      "Warning 1: TIFFReadDirectory:Sum of Photometric type-related color channels and ExtraSamples doesn't match SamplesPerPixel. Defining non-color channels as ExtraSamples.\n"
     ]
    },
    {
     "name": "stdout",
     "output_type": "stream",
     "text": [
      "getting url: \n",
      " https://earthengine.googleapis.com/v1/projects/851206260265/thumbnails/b919480ad78e641d378ad8f72e7c6d32-077b8e1bf0774b696910d7a3ad2d4f38:getPixels\n",
      "Saving at : \n",
      " ../data/raster/AOD_REA_GEE/ZMVM/2022/aod_cli_ZMVM_2022_11_02.tif\n",
      "Fill values with Nan\n",
      "\n",
      "\n",
      "Exporting 95/153: ../data/raster/AOD_REA_GEE/ZMVM/2022/aod_cli_ZMVM_2022_11_03.tif\n"
     ]
    },
    {
     "name": "stderr",
     "output_type": "stream",
     "text": [
      "Warning 1: TIFFReadDirectory:Sum of Photometric type-related color channels and ExtraSamples doesn't match SamplesPerPixel. Defining non-color channels as ExtraSamples.\n"
     ]
    },
    {
     "name": "stdout",
     "output_type": "stream",
     "text": [
      "getting url: \n",
      " https://earthengine.googleapis.com/v1/projects/851206260265/thumbnails/e2f32d7021955442f642707e7cffb80f-a770eb64d0abf1d9d28413314455c751:getPixels\n",
      "Saving at : \n",
      " ../data/raster/AOD_REA_GEE/ZMVM/2022/aod_cli_ZMVM_2022_11_03.tif\n",
      "Fill values with Nan\n",
      "\n",
      "\n",
      "Exporting 96/153: ../data/raster/AOD_REA_GEE/ZMVM/2022/aod_cli_ZMVM_2022_11_04.tif\n"
     ]
    },
    {
     "name": "stderr",
     "output_type": "stream",
     "text": [
      "Warning 1: TIFFReadDirectory:Sum of Photometric type-related color channels and ExtraSamples doesn't match SamplesPerPixel. Defining non-color channels as ExtraSamples.\n"
     ]
    },
    {
     "name": "stdout",
     "output_type": "stream",
     "text": [
      "getting url: \n",
      " https://earthengine.googleapis.com/v1/projects/851206260265/thumbnails/d31e7327ac95470075b7705bcc03067c-ff66ec8fafc2642aba44d62229ba99b0:getPixels\n",
      "Saving at : \n",
      " ../data/raster/AOD_REA_GEE/ZMVM/2022/aod_cli_ZMVM_2022_11_04.tif\n",
      "Fill values with Nan\n",
      "\n",
      "\n",
      "Exporting 97/153: ../data/raster/AOD_REA_GEE/ZMVM/2022/aod_cli_ZMVM_2022_11_05.tif\n"
     ]
    },
    {
     "name": "stderr",
     "output_type": "stream",
     "text": [
      "Warning 1: TIFFReadDirectory:Sum of Photometric type-related color channels and ExtraSamples doesn't match SamplesPerPixel. Defining non-color channels as ExtraSamples.\n"
     ]
    },
    {
     "name": "stdout",
     "output_type": "stream",
     "text": [
      "getting url: \n",
      " https://earthengine.googleapis.com/v1/projects/851206260265/thumbnails/c898d048f6ca61140f835233559f0a27-1c8360d3ab365c957d0f4f95b4aacc5a:getPixels\n",
      "Saving at : \n",
      " ../data/raster/AOD_REA_GEE/ZMVM/2022/aod_cli_ZMVM_2022_11_05.tif\n",
      "Fill values with Nan\n",
      "\n",
      "\n",
      "Exporting 98/153: ../data/raster/AOD_REA_GEE/ZMVM/2022/aod_cli_ZMVM_2022_11_06.tif\n"
     ]
    },
    {
     "name": "stderr",
     "output_type": "stream",
     "text": [
      "Warning 1: TIFFReadDirectory:Sum of Photometric type-related color channels and ExtraSamples doesn't match SamplesPerPixel. Defining non-color channels as ExtraSamples.\n"
     ]
    },
    {
     "name": "stdout",
     "output_type": "stream",
     "text": [
      "getting url: \n",
      " https://earthengine.googleapis.com/v1/projects/851206260265/thumbnails/b88288192a580183261be19b89540628-282efd71d9939f7e6d0455eff1aa7dc8:getPixels\n",
      "Saving at : \n",
      " ../data/raster/AOD_REA_GEE/ZMVM/2022/aod_cli_ZMVM_2022_11_06.tif\n",
      "Fill values with Nan\n",
      "\n",
      "\n",
      "Exporting 99/153: ../data/raster/AOD_REA_GEE/ZMVM/2022/aod_cli_ZMVM_2022_11_07.tif\n"
     ]
    },
    {
     "name": "stderr",
     "output_type": "stream",
     "text": [
      "Warning 1: TIFFReadDirectory:Sum of Photometric type-related color channels and ExtraSamples doesn't match SamplesPerPixel. Defining non-color channels as ExtraSamples.\n"
     ]
    },
    {
     "name": "stdout",
     "output_type": "stream",
     "text": [
      "getting url: \n",
      " https://earthengine.googleapis.com/v1/projects/851206260265/thumbnails/84a6e37c2b27b1c6448868ef0167598b-7694768024821c118519a1ad6d429acd:getPixels\n",
      "Saving at : \n",
      " ../data/raster/AOD_REA_GEE/ZMVM/2022/aod_cli_ZMVM_2022_11_07.tif\n",
      "Fill values with Nan\n",
      "\n",
      "\n",
      "Exporting 100/153: ../data/raster/AOD_REA_GEE/ZMVM/2022/aod_cli_ZMVM_2022_11_08.tif\n"
     ]
    },
    {
     "name": "stderr",
     "output_type": "stream",
     "text": [
      "Warning 1: TIFFReadDirectory:Sum of Photometric type-related color channels and ExtraSamples doesn't match SamplesPerPixel. Defining non-color channels as ExtraSamples.\n"
     ]
    },
    {
     "name": "stdout",
     "output_type": "stream",
     "text": [
      "getting url: \n",
      " https://earthengine.googleapis.com/v1/projects/851206260265/thumbnails/e0e5cfb1228e978fc0067d955cef6b4c-07c828eec1b602b9baec28f6db06c817:getPixels\n",
      "Saving at : \n",
      " ../data/raster/AOD_REA_GEE/ZMVM/2022/aod_cli_ZMVM_2022_11_08.tif\n",
      "Fill values with Nan\n",
      "\n",
      "\n",
      "Exporting 101/153: ../data/raster/AOD_REA_GEE/ZMVM/2022/aod_cli_ZMVM_2022_11_09.tif\n"
     ]
    },
    {
     "name": "stderr",
     "output_type": "stream",
     "text": [
      "Warning 1: TIFFReadDirectory:Sum of Photometric type-related color channels and ExtraSamples doesn't match SamplesPerPixel. Defining non-color channels as ExtraSamples.\n"
     ]
    },
    {
     "name": "stdout",
     "output_type": "stream",
     "text": [
      "getting url: \n",
      " https://earthengine.googleapis.com/v1/projects/851206260265/thumbnails/2b8bd35849191f126af24fe4538148f0-1833b8486b3526ba803e3741fb63a246:getPixels\n",
      "Saving at : \n",
      " ../data/raster/AOD_REA_GEE/ZMVM/2022/aod_cli_ZMVM_2022_11_09.tif\n",
      "Fill values with Nan\n",
      "\n",
      "\n",
      "Exporting 102/153: ../data/raster/AOD_REA_GEE/ZMVM/2022/aod_cli_ZMVM_2022_11_10.tif\n"
     ]
    },
    {
     "name": "stderr",
     "output_type": "stream",
     "text": [
      "Warning 1: TIFFReadDirectory:Sum of Photometric type-related color channels and ExtraSamples doesn't match SamplesPerPixel. Defining non-color channels as ExtraSamples.\n"
     ]
    },
    {
     "name": "stdout",
     "output_type": "stream",
     "text": [
      "getting url: \n",
      " https://earthengine.googleapis.com/v1/projects/851206260265/thumbnails/40c57c34c2a0b6f51b5e4c8e0ed5f1b9-7d5f4ce63ab64c175ac5bdd8781ac6b1:getPixels\n",
      "Saving at : \n",
      " ../data/raster/AOD_REA_GEE/ZMVM/2022/aod_cli_ZMVM_2022_11_10.tif\n",
      "Fill values with Nan\n",
      "\n",
      "\n",
      "Exporting 103/153: ../data/raster/AOD_REA_GEE/ZMVM/2022/aod_cli_ZMVM_2022_11_11.tif\n"
     ]
    },
    {
     "name": "stderr",
     "output_type": "stream",
     "text": [
      "Warning 1: TIFFReadDirectory:Sum of Photometric type-related color channels and ExtraSamples doesn't match SamplesPerPixel. Defining non-color channels as ExtraSamples.\n"
     ]
    },
    {
     "name": "stdout",
     "output_type": "stream",
     "text": [
      "getting url: \n",
      " https://earthengine.googleapis.com/v1/projects/851206260265/thumbnails/345111c97044917e0cdf9283b02cf600-d155eb57a77db74f94cde4a9d635f6f9:getPixels\n",
      "Saving at : \n",
      " ../data/raster/AOD_REA_GEE/ZMVM/2022/aod_cli_ZMVM_2022_11_11.tif\n",
      "Fill values with Nan\n",
      "\n",
      "\n",
      "Exporting 104/153: ../data/raster/AOD_REA_GEE/ZMVM/2022/aod_cli_ZMVM_2022_11_12.tif\n"
     ]
    },
    {
     "name": "stderr",
     "output_type": "stream",
     "text": [
      "Warning 1: TIFFReadDirectory:Sum of Photometric type-related color channels and ExtraSamples doesn't match SamplesPerPixel. Defining non-color channels as ExtraSamples.\n"
     ]
    },
    {
     "name": "stdout",
     "output_type": "stream",
     "text": [
      "getting url: \n",
      " https://earthengine.googleapis.com/v1/projects/851206260265/thumbnails/a30c6310782ce082be6a5526dd628312-f93aaf6eee80b4304fbb8097f3c345d8:getPixels\n",
      "Saving at : \n",
      " ../data/raster/AOD_REA_GEE/ZMVM/2022/aod_cli_ZMVM_2022_11_12.tif\n",
      "Fill values with Nan\n",
      "\n",
      "\n",
      "Exporting 105/153: ../data/raster/AOD_REA_GEE/ZMVM/2022/aod_cli_ZMVM_2022_11_13.tif\n"
     ]
    },
    {
     "name": "stderr",
     "output_type": "stream",
     "text": [
      "Warning 1: TIFFReadDirectory:Sum of Photometric type-related color channels and ExtraSamples doesn't match SamplesPerPixel. Defining non-color channels as ExtraSamples.\n"
     ]
    },
    {
     "name": "stdout",
     "output_type": "stream",
     "text": [
      "getting url: \n",
      " https://earthengine.googleapis.com/v1/projects/851206260265/thumbnails/ff12740b79ab865c9755d5b6980b72ce-f2c7214a49e9787975afeb6a36c4bb56:getPixels\n",
      "Saving at : \n",
      " ../data/raster/AOD_REA_GEE/ZMVM/2022/aod_cli_ZMVM_2022_11_13.tif\n",
      "Fill values with Nan\n",
      "\n",
      "\n",
      "Exporting 106/153: ../data/raster/AOD_REA_GEE/ZMVM/2022/aod_cli_ZMVM_2022_11_14.tif\n"
     ]
    },
    {
     "name": "stderr",
     "output_type": "stream",
     "text": [
      "Warning 1: TIFFReadDirectory:Sum of Photometric type-related color channels and ExtraSamples doesn't match SamplesPerPixel. Defining non-color channels as ExtraSamples.\n"
     ]
    },
    {
     "name": "stdout",
     "output_type": "stream",
     "text": [
      "getting url: \n",
      " https://earthengine.googleapis.com/v1/projects/851206260265/thumbnails/672a8b77d2d13ece974055bae29b0eab-45d507624b20904486b5990e0554bf54:getPixels\n",
      "Saving at : \n",
      " ../data/raster/AOD_REA_GEE/ZMVM/2022/aod_cli_ZMVM_2022_11_14.tif\n",
      "Fill values with Nan\n",
      "\n",
      "\n",
      "Exporting 107/153: ../data/raster/AOD_REA_GEE/ZMVM/2022/aod_cli_ZMVM_2022_11_15.tif\n"
     ]
    },
    {
     "name": "stderr",
     "output_type": "stream",
     "text": [
      "Warning 1: TIFFReadDirectory:Sum of Photometric type-related color channels and ExtraSamples doesn't match SamplesPerPixel. Defining non-color channels as ExtraSamples.\n"
     ]
    },
    {
     "name": "stdout",
     "output_type": "stream",
     "text": [
      "getting url: \n",
      " https://earthengine.googleapis.com/v1/projects/851206260265/thumbnails/b8598849b8a4bfdc5ff267980c9a808f-2acf8bddfc619976518eb5a925889fa8:getPixels\n",
      "Saving at : \n",
      " ../data/raster/AOD_REA_GEE/ZMVM/2022/aod_cli_ZMVM_2022_11_15.tif\n",
      "Fill values with Nan\n",
      "\n",
      "\n",
      "Exporting 108/153: ../data/raster/AOD_REA_GEE/ZMVM/2022/aod_cli_ZMVM_2022_11_16.tif\n"
     ]
    },
    {
     "name": "stderr",
     "output_type": "stream",
     "text": [
      "Warning 1: TIFFReadDirectory:Sum of Photometric type-related color channels and ExtraSamples doesn't match SamplesPerPixel. Defining non-color channels as ExtraSamples.\n"
     ]
    },
    {
     "name": "stdout",
     "output_type": "stream",
     "text": [
      "getting url: \n",
      " https://earthengine.googleapis.com/v1/projects/851206260265/thumbnails/8d9d543fd59d506695950f5302b4a8a9-a0ec5317a0d227704eaf0ac8f912970e:getPixels\n",
      "Saving at : \n",
      " ../data/raster/AOD_REA_GEE/ZMVM/2022/aod_cli_ZMVM_2022_11_16.tif\n",
      "Fill values with Nan\n",
      "\n",
      "\n",
      "Exporting 109/153: ../data/raster/AOD_REA_GEE/ZMVM/2022/aod_cli_ZMVM_2022_11_17.tif\n"
     ]
    },
    {
     "name": "stderr",
     "output_type": "stream",
     "text": [
      "Warning 1: TIFFReadDirectory:Sum of Photometric type-related color channels and ExtraSamples doesn't match SamplesPerPixel. Defining non-color channels as ExtraSamples.\n"
     ]
    },
    {
     "name": "stdout",
     "output_type": "stream",
     "text": [
      "getting url: \n",
      " https://earthengine.googleapis.com/v1/projects/851206260265/thumbnails/d16c3b3e027f31d987f16bb0c677ff1a-1aeb87dd305c3a104614e71ba440dd50:getPixels\n",
      "Saving at : \n",
      " ../data/raster/AOD_REA_GEE/ZMVM/2022/aod_cli_ZMVM_2022_11_17.tif\n",
      "Fill values with Nan\n",
      "\n",
      "\n",
      "Exporting 110/153: ../data/raster/AOD_REA_GEE/ZMVM/2022/aod_cli_ZMVM_2022_11_18.tif\n"
     ]
    },
    {
     "name": "stderr",
     "output_type": "stream",
     "text": [
      "Warning 1: TIFFReadDirectory:Sum of Photometric type-related color channels and ExtraSamples doesn't match SamplesPerPixel. Defining non-color channels as ExtraSamples.\n"
     ]
    },
    {
     "name": "stdout",
     "output_type": "stream",
     "text": [
      "getting url: \n",
      " https://earthengine.googleapis.com/v1/projects/851206260265/thumbnails/3efbe161531498bddd0164a5226c5db8-4cdea5c38ba2f79e18b5ec24d6d74f70:getPixels\n",
      "Saving at : \n",
      " ../data/raster/AOD_REA_GEE/ZMVM/2022/aod_cli_ZMVM_2022_11_18.tif\n",
      "Fill values with Nan\n",
      "\n",
      "\n",
      "Exporting 111/153: ../data/raster/AOD_REA_GEE/ZMVM/2022/aod_cli_ZMVM_2022_11_19.tif\n"
     ]
    },
    {
     "name": "stderr",
     "output_type": "stream",
     "text": [
      "Warning 1: TIFFReadDirectory:Sum of Photometric type-related color channels and ExtraSamples doesn't match SamplesPerPixel. Defining non-color channels as ExtraSamples.\n"
     ]
    },
    {
     "name": "stdout",
     "output_type": "stream",
     "text": [
      "getting url: \n",
      " https://earthengine.googleapis.com/v1/projects/851206260265/thumbnails/eff29596532f3e2757358442ba3955f2-10cb21d6ba39c0b433d9061b9705306b:getPixels\n",
      "Saving at : \n",
      " ../data/raster/AOD_REA_GEE/ZMVM/2022/aod_cli_ZMVM_2022_11_19.tif\n",
      "Fill values with Nan\n",
      "\n",
      "\n",
      "Exporting 112/153: ../data/raster/AOD_REA_GEE/ZMVM/2022/aod_cli_ZMVM_2022_11_20.tif\n"
     ]
    },
    {
     "name": "stderr",
     "output_type": "stream",
     "text": [
      "Warning 1: TIFFReadDirectory:Sum of Photometric type-related color channels and ExtraSamples doesn't match SamplesPerPixel. Defining non-color channels as ExtraSamples.\n"
     ]
    },
    {
     "name": "stdout",
     "output_type": "stream",
     "text": [
      "getting url: \n",
      " https://earthengine.googleapis.com/v1/projects/851206260265/thumbnails/81532c01f047d8f3ea80d9535792ac31-bafd22e2f1cf51d49b2e0850bc55f675:getPixels\n",
      "Saving at : \n",
      " ../data/raster/AOD_REA_GEE/ZMVM/2022/aod_cli_ZMVM_2022_11_20.tif\n",
      "Fill values with Nan\n",
      "\n",
      "\n",
      "Exporting 113/153: ../data/raster/AOD_REA_GEE/ZMVM/2022/aod_cli_ZMVM_2022_11_21.tif\n"
     ]
    },
    {
     "name": "stderr",
     "output_type": "stream",
     "text": [
      "Warning 1: TIFFReadDirectory:Sum of Photometric type-related color channels and ExtraSamples doesn't match SamplesPerPixel. Defining non-color channels as ExtraSamples.\n"
     ]
    },
    {
     "name": "stdout",
     "output_type": "stream",
     "text": [
      "getting url: \n",
      " https://earthengine.googleapis.com/v1/projects/851206260265/thumbnails/39cfb52bf8743cf4a4500bf1b0081288-a6b5f74b32e162c3cff8c444ab34c78c:getPixels\n",
      "Saving at : \n",
      " ../data/raster/AOD_REA_GEE/ZMVM/2022/aod_cli_ZMVM_2022_11_21.tif\n",
      "Fill values with Nan\n",
      "\n",
      "\n",
      "Exporting 114/153: ../data/raster/AOD_REA_GEE/ZMVM/2022/aod_cli_ZMVM_2022_11_22.tif\n"
     ]
    },
    {
     "name": "stderr",
     "output_type": "stream",
     "text": [
      "Warning 1: TIFFReadDirectory:Sum of Photometric type-related color channels and ExtraSamples doesn't match SamplesPerPixel. Defining non-color channels as ExtraSamples.\n"
     ]
    },
    {
     "name": "stdout",
     "output_type": "stream",
     "text": [
      "getting url: \n",
      " https://earthengine.googleapis.com/v1/projects/851206260265/thumbnails/cc658e6e7d3303fe5d1be226ab40d20f-fa3787b518708bb2dccd2012a9042ccd:getPixels\n",
      "Saving at : \n",
      " ../data/raster/AOD_REA_GEE/ZMVM/2022/aod_cli_ZMVM_2022_11_22.tif\n",
      "Fill values with Nan\n",
      "\n",
      "\n",
      "Exporting 115/153: ../data/raster/AOD_REA_GEE/ZMVM/2022/aod_cli_ZMVM_2022_11_23.tif\n"
     ]
    },
    {
     "name": "stderr",
     "output_type": "stream",
     "text": [
      "Warning 1: TIFFReadDirectory:Sum of Photometric type-related color channels and ExtraSamples doesn't match SamplesPerPixel. Defining non-color channels as ExtraSamples.\n"
     ]
    },
    {
     "name": "stdout",
     "output_type": "stream",
     "text": [
      "getting url: \n",
      " https://earthengine.googleapis.com/v1/projects/851206260265/thumbnails/1d9eb13871a2f8094f43dcbbd955c213-a17b92d895ee9a324f3d81370af7bd7d:getPixels\n",
      "Saving at : \n",
      " ../data/raster/AOD_REA_GEE/ZMVM/2022/aod_cli_ZMVM_2022_11_23.tif\n",
      "Fill values with Nan\n",
      "\n",
      "\n",
      "Exporting 116/153: ../data/raster/AOD_REA_GEE/ZMVM/2022/aod_cli_ZMVM_2022_11_24.tif\n"
     ]
    },
    {
     "name": "stderr",
     "output_type": "stream",
     "text": [
      "Warning 1: TIFFReadDirectory:Sum of Photometric type-related color channels and ExtraSamples doesn't match SamplesPerPixel. Defining non-color channels as ExtraSamples.\n"
     ]
    },
    {
     "name": "stdout",
     "output_type": "stream",
     "text": [
      "getting url: \n",
      " https://earthengine.googleapis.com/v1/projects/851206260265/thumbnails/9f657800b7a136e35bb07110e8f5e0db-715b0fb9f0f8e4aa6a2b67fe48787a63:getPixels\n",
      "Saving at : \n",
      " ../data/raster/AOD_REA_GEE/ZMVM/2022/aod_cli_ZMVM_2022_11_24.tif\n",
      "Fill values with Nan\n",
      "\n",
      "\n",
      "Exporting 117/153: ../data/raster/AOD_REA_GEE/ZMVM/2022/aod_cli_ZMVM_2022_11_25.tif\n"
     ]
    },
    {
     "name": "stderr",
     "output_type": "stream",
     "text": [
      "Warning 1: TIFFReadDirectory:Sum of Photometric type-related color channels and ExtraSamples doesn't match SamplesPerPixel. Defining non-color channels as ExtraSamples.\n"
     ]
    },
    {
     "name": "stdout",
     "output_type": "stream",
     "text": [
      "getting url: \n",
      " https://earthengine.googleapis.com/v1/projects/851206260265/thumbnails/070d856b15a048bf2d2b2940a8c912d8-2c34efc23ed79875ea83212ab4ac4fc0:getPixels\n",
      "Saving at : \n",
      " ../data/raster/AOD_REA_GEE/ZMVM/2022/aod_cli_ZMVM_2022_11_25.tif\n",
      "Fill values with Nan\n",
      "\n",
      "\n",
      "Exporting 118/153: ../data/raster/AOD_REA_GEE/ZMVM/2022/aod_cli_ZMVM_2022_11_26.tif\n"
     ]
    },
    {
     "name": "stderr",
     "output_type": "stream",
     "text": [
      "Warning 1: TIFFReadDirectory:Sum of Photometric type-related color channels and ExtraSamples doesn't match SamplesPerPixel. Defining non-color channels as ExtraSamples.\n"
     ]
    },
    {
     "name": "stdout",
     "output_type": "stream",
     "text": [
      "getting url: \n",
      " https://earthengine.googleapis.com/v1/projects/851206260265/thumbnails/d65098c5d2c5eecea83e6b1ed5dea85b-2b84899758aa436b73ca747649ca0068:getPixels\n",
      "Saving at : \n",
      " ../data/raster/AOD_REA_GEE/ZMVM/2022/aod_cli_ZMVM_2022_11_26.tif\n",
      "Fill values with Nan\n",
      "\n",
      "\n",
      "Exporting 119/153: ../data/raster/AOD_REA_GEE/ZMVM/2022/aod_cli_ZMVM_2022_11_27.tif\n"
     ]
    },
    {
     "name": "stderr",
     "output_type": "stream",
     "text": [
      "Warning 1: TIFFReadDirectory:Sum of Photometric type-related color channels and ExtraSamples doesn't match SamplesPerPixel. Defining non-color channels as ExtraSamples.\n"
     ]
    },
    {
     "name": "stdout",
     "output_type": "stream",
     "text": [
      "getting url: \n",
      " https://earthengine.googleapis.com/v1/projects/851206260265/thumbnails/1670e199b96eafa7b3ec1bea81efc0d6-e430b334828b228b85aee1ef5b9114df:getPixels\n",
      "Saving at : \n",
      " ../data/raster/AOD_REA_GEE/ZMVM/2022/aod_cli_ZMVM_2022_11_27.tif\n",
      "Fill values with Nan\n",
      "\n",
      "\n",
      "Exporting 120/153: ../data/raster/AOD_REA_GEE/ZMVM/2022/aod_cli_ZMVM_2022_11_28.tif\n"
     ]
    },
    {
     "name": "stderr",
     "output_type": "stream",
     "text": [
      "Warning 1: TIFFReadDirectory:Sum of Photometric type-related color channels and ExtraSamples doesn't match SamplesPerPixel. Defining non-color channels as ExtraSamples.\n"
     ]
    },
    {
     "name": "stdout",
     "output_type": "stream",
     "text": [
      "getting url: \n",
      " https://earthengine.googleapis.com/v1/projects/851206260265/thumbnails/bc25f288a5975aafbe0b05718ae3a716-7e2bf7d48a96d0006744c51f9671e4c8:getPixels\n",
      "Saving at : \n",
      " ../data/raster/AOD_REA_GEE/ZMVM/2022/aod_cli_ZMVM_2022_11_28.tif\n",
      "Fill values with Nan\n",
      "\n",
      "\n",
      "Exporting 121/153: ../data/raster/AOD_REA_GEE/ZMVM/2022/aod_cli_ZMVM_2022_11_29.tif\n"
     ]
    },
    {
     "name": "stderr",
     "output_type": "stream",
     "text": [
      "Warning 1: TIFFReadDirectory:Sum of Photometric type-related color channels and ExtraSamples doesn't match SamplesPerPixel. Defining non-color channels as ExtraSamples.\n"
     ]
    },
    {
     "name": "stdout",
     "output_type": "stream",
     "text": [
      "getting url: \n",
      " https://earthengine.googleapis.com/v1/projects/851206260265/thumbnails/a2b57bc2c58118e0c8f93fafb3a49328-bffdfb67d89d09f921f59637f2f23a31:getPixels\n",
      "Saving at : \n",
      " ../data/raster/AOD_REA_GEE/ZMVM/2022/aod_cli_ZMVM_2022_11_29.tif\n",
      "Fill values with Nan\n"
     ]
    },
    {
     "name": "stderr",
     "output_type": "stream",
     "text": [
      "Warning 1: TIFFReadDirectory:Sum of Photometric type-related color channels and ExtraSamples doesn't match SamplesPerPixel. Defining non-color channels as ExtraSamples.\n"
     ]
    },
    {
     "name": "stdout",
     "output_type": "stream",
     "text": [
      "\n",
      "\n",
      "Exporting 122/153: ../data/raster/AOD_REA_GEE/ZMVM/2022/aod_cli_ZMVM_2022_11_30.tif\n",
      "getting url: \n",
      " https://earthengine.googleapis.com/v1/projects/851206260265/thumbnails/3ed6769aac1e80acd3eb1a2a1106c351-0adb070e0bb62a86c4be184141668d9f:getPixels\n",
      "Saving at : \n",
      " ../data/raster/AOD_REA_GEE/ZMVM/2022/aod_cli_ZMVM_2022_11_30.tif\n",
      "Fill values with Nan\n",
      "\n",
      "\n",
      "Exporting 123/153: ../data/raster/AOD_REA_GEE/ZMVM/2022/aod_cli_ZMVM_2022_12_01.tif\n"
     ]
    },
    {
     "name": "stderr",
     "output_type": "stream",
     "text": [
      "Warning 1: TIFFReadDirectory:Sum of Photometric type-related color channels and ExtraSamples doesn't match SamplesPerPixel. Defining non-color channels as ExtraSamples.\n"
     ]
    },
    {
     "name": "stdout",
     "output_type": "stream",
     "text": [
      "getting url: \n",
      " https://earthengine.googleapis.com/v1/projects/851206260265/thumbnails/c990bbe1d94b6742e9ba902c34dbe96f-a045fafacd698e7f1c7d3f4c5bf83f34:getPixels\n",
      "Saving at : \n",
      " ../data/raster/AOD_REA_GEE/ZMVM/2022/aod_cli_ZMVM_2022_12_01.tif\n",
      "Fill values with Nan\n",
      "\n",
      "\n",
      "Exporting 124/153: ../data/raster/AOD_REA_GEE/ZMVM/2022/aod_cli_ZMVM_2022_12_02.tif\n"
     ]
    },
    {
     "name": "stderr",
     "output_type": "stream",
     "text": [
      "Warning 1: TIFFReadDirectory:Sum of Photometric type-related color channels and ExtraSamples doesn't match SamplesPerPixel. Defining non-color channels as ExtraSamples.\n"
     ]
    },
    {
     "name": "stdout",
     "output_type": "stream",
     "text": [
      "getting url: \n",
      " https://earthengine.googleapis.com/v1/projects/851206260265/thumbnails/ce3b972023876b8dc4f864849b5a6b21-f96ecccf29dd833fd0704b489494c0d8:getPixels\n",
      "Saving at : \n",
      " ../data/raster/AOD_REA_GEE/ZMVM/2022/aod_cli_ZMVM_2022_12_02.tif\n",
      "Fill values with Nan\n",
      "\n",
      "\n",
      "Exporting 125/153: ../data/raster/AOD_REA_GEE/ZMVM/2022/aod_cli_ZMVM_2022_12_03.tif\n"
     ]
    },
    {
     "name": "stderr",
     "output_type": "stream",
     "text": [
      "Warning 1: TIFFReadDirectory:Sum of Photometric type-related color channels and ExtraSamples doesn't match SamplesPerPixel. Defining non-color channels as ExtraSamples.\n"
     ]
    },
    {
     "name": "stdout",
     "output_type": "stream",
     "text": [
      "getting url: \n",
      " https://earthengine.googleapis.com/v1/projects/851206260265/thumbnails/25a0362f3c602f81720251928838f2db-83a302641f74ca01db44d867efb372b1:getPixels\n",
      "Saving at : \n",
      " ../data/raster/AOD_REA_GEE/ZMVM/2022/aod_cli_ZMVM_2022_12_03.tif\n",
      "Fill values with Nan\n",
      "\n",
      "\n",
      "Exporting 126/153: ../data/raster/AOD_REA_GEE/ZMVM/2022/aod_cli_ZMVM_2022_12_04.tif\n"
     ]
    },
    {
     "name": "stderr",
     "output_type": "stream",
     "text": [
      "Warning 1: TIFFReadDirectory:Sum of Photometric type-related color channels and ExtraSamples doesn't match SamplesPerPixel. Defining non-color channels as ExtraSamples.\n"
     ]
    },
    {
     "name": "stdout",
     "output_type": "stream",
     "text": [
      "getting url: \n",
      " https://earthengine.googleapis.com/v1/projects/851206260265/thumbnails/7910b00cb7b6dab575e7e28b9fa40a78-e08f1ba8f2f104ad42d45cfa849d3841:getPixels\n",
      "Saving at : \n",
      " ../data/raster/AOD_REA_GEE/ZMVM/2022/aod_cli_ZMVM_2022_12_04.tif\n",
      "Fill values with Nan\n"
     ]
    },
    {
     "name": "stderr",
     "output_type": "stream",
     "text": [
      "Warning 1: TIFFReadDirectory:Sum of Photometric type-related color channels and ExtraSamples doesn't match SamplesPerPixel. Defining non-color channels as ExtraSamples.\n"
     ]
    },
    {
     "name": "stdout",
     "output_type": "stream",
     "text": [
      "\n",
      "\n",
      "Exporting 127/153: ../data/raster/AOD_REA_GEE/ZMVM/2022/aod_cli_ZMVM_2022_12_05.tif\n",
      "getting url: \n",
      " https://earthengine.googleapis.com/v1/projects/851206260265/thumbnails/843677677b10350eede265c1cf47abb8-22c339ad8650d1d54d80a19a442530fc:getPixels\n",
      "Saving at : \n",
      " ../data/raster/AOD_REA_GEE/ZMVM/2022/aod_cli_ZMVM_2022_12_05.tif\n",
      "Fill values with Nan\n",
      "\n",
      "\n",
      "Exporting 128/153: ../data/raster/AOD_REA_GEE/ZMVM/2022/aod_cli_ZMVM_2022_12_06.tif\n"
     ]
    },
    {
     "name": "stderr",
     "output_type": "stream",
     "text": [
      "Warning 1: TIFFReadDirectory:Sum of Photometric type-related color channels and ExtraSamples doesn't match SamplesPerPixel. Defining non-color channels as ExtraSamples.\n"
     ]
    },
    {
     "name": "stdout",
     "output_type": "stream",
     "text": [
      "getting url: \n",
      " https://earthengine.googleapis.com/v1/projects/851206260265/thumbnails/d5b71fc34a6624908e2a125f96ccbed4-f3e164760237dba048ccc3f9c7b6e3e6:getPixels\n",
      "Saving at : \n",
      " ../data/raster/AOD_REA_GEE/ZMVM/2022/aod_cli_ZMVM_2022_12_06.tif\n",
      "Fill values with Nan\n"
     ]
    },
    {
     "name": "stderr",
     "output_type": "stream",
     "text": [
      "Warning 1: TIFFReadDirectory:Sum of Photometric type-related color channels and ExtraSamples doesn't match SamplesPerPixel. Defining non-color channels as ExtraSamples.\n"
     ]
    },
    {
     "name": "stdout",
     "output_type": "stream",
     "text": [
      "\n",
      "\n",
      "Exporting 129/153: ../data/raster/AOD_REA_GEE/ZMVM/2022/aod_cli_ZMVM_2022_12_07.tif\n",
      "getting url: \n",
      " https://earthengine.googleapis.com/v1/projects/851206260265/thumbnails/bfdffd401fbe365ae3a7eddaf9e061f5-7652646893bc4bc7ae6f5f7c5ff36ed1:getPixels\n",
      "Saving at : \n",
      " ../data/raster/AOD_REA_GEE/ZMVM/2022/aod_cli_ZMVM_2022_12_07.tif\n",
      "Fill values with Nan\n"
     ]
    },
    {
     "name": "stderr",
     "output_type": "stream",
     "text": [
      "Warning 1: TIFFReadDirectory:Sum of Photometric type-related color channels and ExtraSamples doesn't match SamplesPerPixel. Defining non-color channels as ExtraSamples.\n"
     ]
    },
    {
     "name": "stdout",
     "output_type": "stream",
     "text": [
      "\n",
      "\n",
      "Exporting 130/153: ../data/raster/AOD_REA_GEE/ZMVM/2022/aod_cli_ZMVM_2022_12_08.tif\n",
      "getting url: \n",
      " https://earthengine.googleapis.com/v1/projects/851206260265/thumbnails/928744278d90b8718aef82d684ec565f-c40a7fb920f04b23f7720968ffa3fe17:getPixels\n",
      "Saving at : \n",
      " ../data/raster/AOD_REA_GEE/ZMVM/2022/aod_cli_ZMVM_2022_12_08.tif\n",
      "Fill values with Nan\n",
      "\n",
      "\n",
      "Exporting 131/153: ../data/raster/AOD_REA_GEE/ZMVM/2022/aod_cli_ZMVM_2022_12_09.tif\n"
     ]
    },
    {
     "name": "stderr",
     "output_type": "stream",
     "text": [
      "Warning 1: TIFFReadDirectory:Sum of Photometric type-related color channels and ExtraSamples doesn't match SamplesPerPixel. Defining non-color channels as ExtraSamples.\n"
     ]
    },
    {
     "name": "stdout",
     "output_type": "stream",
     "text": [
      "getting url: \n",
      " https://earthengine.googleapis.com/v1/projects/851206260265/thumbnails/c7c430f70b335089646296445e8e4afd-8ec0937a5d5bf2c528b56548042103c9:getPixels\n",
      "Saving at : \n",
      " ../data/raster/AOD_REA_GEE/ZMVM/2022/aod_cli_ZMVM_2022_12_09.tif\n",
      "Fill values with Nan\n",
      "\n",
      "\n",
      "Exporting 132/153: ../data/raster/AOD_REA_GEE/ZMVM/2022/aod_cli_ZMVM_2022_12_10.tif\n"
     ]
    },
    {
     "name": "stderr",
     "output_type": "stream",
     "text": [
      "Warning 1: TIFFReadDirectory:Sum of Photometric type-related color channels and ExtraSamples doesn't match SamplesPerPixel. Defining non-color channels as ExtraSamples.\n"
     ]
    },
    {
     "name": "stdout",
     "output_type": "stream",
     "text": [
      "getting url: \n",
      " https://earthengine.googleapis.com/v1/projects/851206260265/thumbnails/a6b98c74258777c10721f80ed0f6f84c-925eb6a6e1c8f536b6cf5c164d68f2ec:getPixels\n",
      "Saving at : \n",
      " ../data/raster/AOD_REA_GEE/ZMVM/2022/aod_cli_ZMVM_2022_12_10.tif\n",
      "Fill values with Nan\n"
     ]
    },
    {
     "name": "stderr",
     "output_type": "stream",
     "text": [
      "Warning 1: TIFFReadDirectory:Sum of Photometric type-related color channels and ExtraSamples doesn't match SamplesPerPixel. Defining non-color channels as ExtraSamples.\n"
     ]
    },
    {
     "name": "stdout",
     "output_type": "stream",
     "text": [
      "\n",
      "\n",
      "Exporting 133/153: ../data/raster/AOD_REA_GEE/ZMVM/2022/aod_cli_ZMVM_2022_12_11.tif\n",
      "getting url: \n",
      " https://earthengine.googleapis.com/v1/projects/851206260265/thumbnails/a52409daf6ef36bf1201362c010363c4-22ac4ca5d9670cbff446f755f377824b:getPixels\n",
      "Saving at : \n",
      " ../data/raster/AOD_REA_GEE/ZMVM/2022/aod_cli_ZMVM_2022_12_11.tif\n",
      "Fill values with Nan\n",
      "\n",
      "\n",
      "Exporting 134/153: ../data/raster/AOD_REA_GEE/ZMVM/2022/aod_cli_ZMVM_2022_12_12.tif\n"
     ]
    },
    {
     "name": "stderr",
     "output_type": "stream",
     "text": [
      "Warning 1: TIFFReadDirectory:Sum of Photometric type-related color channels and ExtraSamples doesn't match SamplesPerPixel. Defining non-color channels as ExtraSamples.\n"
     ]
    },
    {
     "name": "stdout",
     "output_type": "stream",
     "text": [
      "getting url: \n",
      " https://earthengine.googleapis.com/v1/projects/851206260265/thumbnails/0ea52c6090df44f11923bb1d96b9b4a5-26373afdf94470398bf39ab073f9d777:getPixels\n",
      "Saving at : \n",
      " ../data/raster/AOD_REA_GEE/ZMVM/2022/aod_cli_ZMVM_2022_12_12.tif\n",
      "Fill values with Nan\n",
      "\n",
      "\n",
      "Exporting 135/153: ../data/raster/AOD_REA_GEE/ZMVM/2022/aod_cli_ZMVM_2022_12_13.tif\n"
     ]
    },
    {
     "name": "stderr",
     "output_type": "stream",
     "text": [
      "Warning 1: TIFFReadDirectory:Sum of Photometric type-related color channels and ExtraSamples doesn't match SamplesPerPixel. Defining non-color channels as ExtraSamples.\n"
     ]
    },
    {
     "name": "stdout",
     "output_type": "stream",
     "text": [
      "getting url: \n",
      " https://earthengine.googleapis.com/v1/projects/851206260265/thumbnails/9a4614c1facb23e9f1472845c723a9fd-60e9ce0cc3295594587203ff073f1a6c:getPixels\n",
      "Saving at : \n",
      " ../data/raster/AOD_REA_GEE/ZMVM/2022/aod_cli_ZMVM_2022_12_13.tif\n",
      "Fill values with Nan\n",
      "\n",
      "\n",
      "Exporting 136/153: ../data/raster/AOD_REA_GEE/ZMVM/2022/aod_cli_ZMVM_2022_12_14.tif\n"
     ]
    },
    {
     "name": "stderr",
     "output_type": "stream",
     "text": [
      "Warning 1: TIFFReadDirectory:Sum of Photometric type-related color channels and ExtraSamples doesn't match SamplesPerPixel. Defining non-color channels as ExtraSamples.\n"
     ]
    },
    {
     "name": "stdout",
     "output_type": "stream",
     "text": [
      "getting url: \n",
      " https://earthengine.googleapis.com/v1/projects/851206260265/thumbnails/009eee42d00ad7fd82de1cc6af4eb1bb-dbb54f0dfefac8f23f8f6234bf800743:getPixels\n",
      "Saving at : \n",
      " ../data/raster/AOD_REA_GEE/ZMVM/2022/aod_cli_ZMVM_2022_12_14.tif\n",
      "Fill values with Nan\n",
      "\n",
      "\n",
      "Exporting 137/153: ../data/raster/AOD_REA_GEE/ZMVM/2022/aod_cli_ZMVM_2022_12_15.tif\n"
     ]
    },
    {
     "name": "stderr",
     "output_type": "stream",
     "text": [
      "Warning 1: TIFFReadDirectory:Sum of Photometric type-related color channels and ExtraSamples doesn't match SamplesPerPixel. Defining non-color channels as ExtraSamples.\n"
     ]
    },
    {
     "name": "stdout",
     "output_type": "stream",
     "text": [
      "getting url: \n",
      " https://earthengine.googleapis.com/v1/projects/851206260265/thumbnails/e92fca74aa4e70a7456d32e7288aa45f-b4a42f118556d32e655e6c2ab6a691ca:getPixels\n",
      "Saving at : \n",
      " ../data/raster/AOD_REA_GEE/ZMVM/2022/aod_cli_ZMVM_2022_12_15.tif\n",
      "Fill values with Nan\n",
      "\n",
      "\n",
      "Exporting 138/153: ../data/raster/AOD_REA_GEE/ZMVM/2022/aod_cli_ZMVM_2022_12_16.tif\n"
     ]
    },
    {
     "name": "stderr",
     "output_type": "stream",
     "text": [
      "Warning 1: TIFFReadDirectory:Sum of Photometric type-related color channels and ExtraSamples doesn't match SamplesPerPixel. Defining non-color channels as ExtraSamples.\n"
     ]
    },
    {
     "name": "stdout",
     "output_type": "stream",
     "text": [
      "getting url: \n",
      " https://earthengine.googleapis.com/v1/projects/851206260265/thumbnails/1e2842d2eb881f8923b7c0df7bc29c84-124581515837c00591b7385a698ed428:getPixels\n",
      "Saving at : \n",
      " ../data/raster/AOD_REA_GEE/ZMVM/2022/aod_cli_ZMVM_2022_12_16.tif\n",
      "Fill values with Nan\n",
      "\n",
      "\n",
      "Exporting 139/153: ../data/raster/AOD_REA_GEE/ZMVM/2022/aod_cli_ZMVM_2022_12_17.tif\n"
     ]
    },
    {
     "name": "stderr",
     "output_type": "stream",
     "text": [
      "Warning 1: TIFFReadDirectory:Sum of Photometric type-related color channels and ExtraSamples doesn't match SamplesPerPixel. Defining non-color channels as ExtraSamples.\n"
     ]
    },
    {
     "name": "stdout",
     "output_type": "stream",
     "text": [
      "getting url: \n",
      " https://earthengine.googleapis.com/v1/projects/851206260265/thumbnails/02d046200d96e76aeb3e59724b9ed462-64dcae9a3208c0df900d27a948c09c44:getPixels\n",
      "Saving at : \n",
      " ../data/raster/AOD_REA_GEE/ZMVM/2022/aod_cli_ZMVM_2022_12_17.tif\n",
      "Fill values with Nan\n",
      "\n",
      "\n",
      "Exporting 140/153: ../data/raster/AOD_REA_GEE/ZMVM/2022/aod_cli_ZMVM_2022_12_18.tif\n"
     ]
    },
    {
     "name": "stderr",
     "output_type": "stream",
     "text": [
      "Warning 1: TIFFReadDirectory:Sum of Photometric type-related color channels and ExtraSamples doesn't match SamplesPerPixel. Defining non-color channels as ExtraSamples.\n"
     ]
    },
    {
     "name": "stdout",
     "output_type": "stream",
     "text": [
      "getting url: \n",
      " https://earthengine.googleapis.com/v1/projects/851206260265/thumbnails/6bff5bc3cbfa9ad33352714e153e43dc-cf3fca12b0c603288e0e7a71c365519b:getPixels\n",
      "Saving at : \n",
      " ../data/raster/AOD_REA_GEE/ZMVM/2022/aod_cli_ZMVM_2022_12_18.tif\n",
      "Fill values with Nan\n",
      "\n",
      "\n",
      "Exporting 141/153: ../data/raster/AOD_REA_GEE/ZMVM/2022/aod_cli_ZMVM_2022_12_19.tif\n"
     ]
    },
    {
     "name": "stderr",
     "output_type": "stream",
     "text": [
      "Warning 1: TIFFReadDirectory:Sum of Photometric type-related color channels and ExtraSamples doesn't match SamplesPerPixel. Defining non-color channels as ExtraSamples.\n"
     ]
    },
    {
     "name": "stdout",
     "output_type": "stream",
     "text": [
      "getting url: \n",
      " https://earthengine.googleapis.com/v1/projects/851206260265/thumbnails/5deca85045d70892b55b280be87079e7-6f53157466236cddb43c88359f91fb6f:getPixels\n",
      "Saving at : \n",
      " ../data/raster/AOD_REA_GEE/ZMVM/2022/aod_cli_ZMVM_2022_12_19.tif\n",
      "Fill values with Nan\n",
      "\n",
      "\n",
      "Exporting 142/153: ../data/raster/AOD_REA_GEE/ZMVM/2022/aod_cli_ZMVM_2022_12_20.tif\n"
     ]
    },
    {
     "name": "stderr",
     "output_type": "stream",
     "text": [
      "Warning 1: TIFFReadDirectory:Sum of Photometric type-related color channels and ExtraSamples doesn't match SamplesPerPixel. Defining non-color channels as ExtraSamples.\n"
     ]
    },
    {
     "name": "stdout",
     "output_type": "stream",
     "text": [
      "getting url: \n",
      " https://earthengine.googleapis.com/v1/projects/851206260265/thumbnails/fa1e1d28449c389097c5a00bb73e789f-014b9b7b296917128db2b3e2d0f01b4f:getPixels\n",
      "Saving at : \n",
      " ../data/raster/AOD_REA_GEE/ZMVM/2022/aod_cli_ZMVM_2022_12_20.tif\n",
      "Fill values with Nan\n",
      "\n",
      "\n",
      "Exporting 143/153: ../data/raster/AOD_REA_GEE/ZMVM/2022/aod_cli_ZMVM_2022_12_21.tif\n"
     ]
    },
    {
     "name": "stderr",
     "output_type": "stream",
     "text": [
      "Warning 1: TIFFReadDirectory:Sum of Photometric type-related color channels and ExtraSamples doesn't match SamplesPerPixel. Defining non-color channels as ExtraSamples.\n"
     ]
    },
    {
     "name": "stdout",
     "output_type": "stream",
     "text": [
      "getting url: \n",
      " https://earthengine.googleapis.com/v1/projects/851206260265/thumbnails/e545c751d0a7ccc661c6c7a385a9a085-28ace72a636854ee598653e9377214e7:getPixels\n",
      "Saving at : \n",
      " ../data/raster/AOD_REA_GEE/ZMVM/2022/aod_cli_ZMVM_2022_12_21.tif\n",
      "Fill values with Nan\n",
      "\n",
      "\n",
      "Exporting 144/153: ../data/raster/AOD_REA_GEE/ZMVM/2022/aod_cli_ZMVM_2022_12_22.tif\n"
     ]
    },
    {
     "name": "stderr",
     "output_type": "stream",
     "text": [
      "Warning 1: TIFFReadDirectory:Sum of Photometric type-related color channels and ExtraSamples doesn't match SamplesPerPixel. Defining non-color channels as ExtraSamples.\n"
     ]
    },
    {
     "name": "stdout",
     "output_type": "stream",
     "text": [
      "getting url: \n",
      " https://earthengine.googleapis.com/v1/projects/851206260265/thumbnails/4f51625a48694363f68556227b28ef9f-4d173560139148ac02dad296dc3adaa2:getPixels\n",
      "Saving at : \n",
      " ../data/raster/AOD_REA_GEE/ZMVM/2022/aod_cli_ZMVM_2022_12_22.tif\n",
      "Fill values with Nan\n",
      "\n",
      "\n",
      "Exporting 145/153: ../data/raster/AOD_REA_GEE/ZMVM/2022/aod_cli_ZMVM_2022_12_23.tif\n"
     ]
    },
    {
     "name": "stderr",
     "output_type": "stream",
     "text": [
      "Warning 1: TIFFReadDirectory:Sum of Photometric type-related color channels and ExtraSamples doesn't match SamplesPerPixel. Defining non-color channels as ExtraSamples.\n"
     ]
    },
    {
     "name": "stdout",
     "output_type": "stream",
     "text": [
      "getting url: \n",
      " https://earthengine.googleapis.com/v1/projects/851206260265/thumbnails/f40efc5634543be0f7d3e2824142f6e7-fcfa59de53b1c3423dfcfc29b06282a1:getPixels\n",
      "Saving at : \n",
      " ../data/raster/AOD_REA_GEE/ZMVM/2022/aod_cli_ZMVM_2022_12_23.tif\n",
      "Fill values with Nan\n",
      "\n",
      "\n",
      "Exporting 146/153: ../data/raster/AOD_REA_GEE/ZMVM/2022/aod_cli_ZMVM_2022_12_24.tif\n"
     ]
    },
    {
     "name": "stderr",
     "output_type": "stream",
     "text": [
      "Warning 1: TIFFReadDirectory:Sum of Photometric type-related color channels and ExtraSamples doesn't match SamplesPerPixel. Defining non-color channels as ExtraSamples.\n"
     ]
    },
    {
     "name": "stdout",
     "output_type": "stream",
     "text": [
      "getting url: \n",
      " https://earthengine.googleapis.com/v1/projects/851206260265/thumbnails/fde7a34017cee9290f9b2446d6b64213-fb5c4785108e543702a54d97298effef:getPixels\n",
      "Saving at : \n",
      " ../data/raster/AOD_REA_GEE/ZMVM/2022/aod_cli_ZMVM_2022_12_24.tif\n",
      "Fill values with Nan\n",
      "\n",
      "\n",
      "Exporting 147/153: ../data/raster/AOD_REA_GEE/ZMVM/2022/aod_cli_ZMVM_2022_12_25.tif\n"
     ]
    },
    {
     "name": "stderr",
     "output_type": "stream",
     "text": [
      "Warning 1: TIFFReadDirectory:Sum of Photometric type-related color channels and ExtraSamples doesn't match SamplesPerPixel. Defining non-color channels as ExtraSamples.\n"
     ]
    },
    {
     "name": "stdout",
     "output_type": "stream",
     "text": [
      "getting url: \n",
      " https://earthengine.googleapis.com/v1/projects/851206260265/thumbnails/23277d1791f121a5e00247f619c26437-4420412811450b8aad19404c8caf6fdb:getPixels\n",
      "Saving at : \n",
      " ../data/raster/AOD_REA_GEE/ZMVM/2022/aod_cli_ZMVM_2022_12_25.tif\n",
      "Fill values with Nan\n",
      "\n",
      "\n",
      "Exporting 148/153: ../data/raster/AOD_REA_GEE/ZMVM/2022/aod_cli_ZMVM_2022_12_26.tif\n"
     ]
    },
    {
     "name": "stderr",
     "output_type": "stream",
     "text": [
      "Warning 1: TIFFReadDirectory:Sum of Photometric type-related color channels and ExtraSamples doesn't match SamplesPerPixel. Defining non-color channels as ExtraSamples.\n"
     ]
    },
    {
     "name": "stdout",
     "output_type": "stream",
     "text": [
      "getting url: \n",
      " https://earthengine.googleapis.com/v1/projects/851206260265/thumbnails/dc15fa7fbba533408c6702cdac6eaa67-a6bad7077fcd82bcb5a51407cec6c92c:getPixels\n",
      "Saving at : \n",
      " ../data/raster/AOD_REA_GEE/ZMVM/2022/aod_cli_ZMVM_2022_12_26.tif\n",
      "Fill values with Nan\n",
      "\n",
      "\n",
      "Exporting 149/153: ../data/raster/AOD_REA_GEE/ZMVM/2022/aod_cli_ZMVM_2022_12_27.tif\n"
     ]
    },
    {
     "name": "stderr",
     "output_type": "stream",
     "text": [
      "Warning 1: TIFFReadDirectory:Sum of Photometric type-related color channels and ExtraSamples doesn't match SamplesPerPixel. Defining non-color channels as ExtraSamples.\n"
     ]
    },
    {
     "name": "stdout",
     "output_type": "stream",
     "text": [
      "getting url: \n",
      " https://earthengine.googleapis.com/v1/projects/851206260265/thumbnails/3d41b880c80eb139e2b6684c7b28f380-5d01268e153268a3152542602a0a601f:getPixels\n",
      "Saving at : \n",
      " ../data/raster/AOD_REA_GEE/ZMVM/2022/aod_cli_ZMVM_2022_12_27.tif\n",
      "Fill values with Nan\n",
      "\n",
      "\n",
      "Exporting 150/153: ../data/raster/AOD_REA_GEE/ZMVM/2022/aod_cli_ZMVM_2022_12_28.tif\n"
     ]
    },
    {
     "name": "stderr",
     "output_type": "stream",
     "text": [
      "Warning 1: TIFFReadDirectory:Sum of Photometric type-related color channels and ExtraSamples doesn't match SamplesPerPixel. Defining non-color channels as ExtraSamples.\n"
     ]
    },
    {
     "name": "stdout",
     "output_type": "stream",
     "text": [
      "getting url: \n",
      " https://earthengine.googleapis.com/v1/projects/851206260265/thumbnails/8685d6b99630a51780c15e4a48788a85-6e4c4bbf7d05f0f296ad9c1855954fb7:getPixels\n",
      "Saving at : \n",
      " ../data/raster/AOD_REA_GEE/ZMVM/2022/aod_cli_ZMVM_2022_12_28.tif\n",
      "Fill values with Nan\n",
      "\n",
      "\n",
      "Exporting 151/153: ../data/raster/AOD_REA_GEE/ZMVM/2022/aod_cli_ZMVM_2022_12_29.tif\n"
     ]
    },
    {
     "name": "stderr",
     "output_type": "stream",
     "text": [
      "Warning 1: TIFFReadDirectory:Sum of Photometric type-related color channels and ExtraSamples doesn't match SamplesPerPixel. Defining non-color channels as ExtraSamples.\n"
     ]
    },
    {
     "name": "stdout",
     "output_type": "stream",
     "text": [
      "getting url: \n",
      " https://earthengine.googleapis.com/v1/projects/851206260265/thumbnails/ab96275d99e8dc656f6041e2e3cb99ea-b0ca161ed968a03d80e6db0d51730e4d:getPixels\n",
      "Saving at : \n",
      " ../data/raster/AOD_REA_GEE/ZMVM/2022/aod_cli_ZMVM_2022_12_29.tif\n",
      "Fill values with Nan\n",
      "\n",
      "\n",
      "Exporting 152/153: ../data/raster/AOD_REA_GEE/ZMVM/2022/aod_cli_ZMVM_2022_12_30.tif\n"
     ]
    },
    {
     "name": "stderr",
     "output_type": "stream",
     "text": [
      "Warning 1: TIFFReadDirectory:Sum of Photometric type-related color channels and ExtraSamples doesn't match SamplesPerPixel. Defining non-color channels as ExtraSamples.\n"
     ]
    },
    {
     "name": "stdout",
     "output_type": "stream",
     "text": [
      "getting url: \n",
      " https://earthengine.googleapis.com/v1/projects/851206260265/thumbnails/6e55fadd9a7f68fba0b0640080cf428e-c3caf9297a7bca20a3c3eddea80f4de7:getPixels\n",
      "Saving at : \n",
      " ../data/raster/AOD_REA_GEE/ZMVM/2022/aod_cli_ZMVM_2022_12_30.tif\n",
      "Fill values with Nan\n",
      "\n",
      "\n",
      "Exporting 153/153: ../data/raster/AOD_REA_GEE/ZMVM/2022/aod_cli_ZMVM_2022_12_31.tif\n"
     ]
    },
    {
     "name": "stderr",
     "output_type": "stream",
     "text": [
      "Warning 1: TIFFReadDirectory:Sum of Photometric type-related color channels and ExtraSamples doesn't match SamplesPerPixel. Defining non-color channels as ExtraSamples.\n"
     ]
    },
    {
     "name": "stdout",
     "output_type": "stream",
     "text": [
      "getting url: \n",
      " https://earthengine.googleapis.com/v1/projects/851206260265/thumbnails/d6202823f1d6beb4bc4a7b9ec0419413-0d2c175902accfcdc4399872b61ae075:getPixels\n",
      "Saving at : \n",
      " ../data/raster/AOD_REA_GEE/ZMVM/2022/aod_cli_ZMVM_2022_12_31.tif\n",
      "Fill values with Nan\n",
      "\n",
      "\n"
     ]
    },
    {
     "name": "stderr",
     "output_type": "stream",
     "text": [
      "Warning 1: TIFFReadDirectory:Sum of Photometric type-related color channels and ExtraSamples doesn't match SamplesPerPixel. Defining non-color channels as ExtraSamples.\n"
     ]
    }
   ],
   "source": [
    "get_year_zm(\n",
    "        \"2022-08-01\",\n",
    "        \"2023-01-01\",\n",
    "        \"ZMVM\",\n",
    "        \"../data/raster/AOD_REA_GEE/ZMVM/2022/\",\n",
    "        prefix = \"aod_cli_\")"
   ]
  },
  {
   "cell_type": "code",
   "execution_count": null,
   "id": "875d2cfc-61c1-40b2-aafd-402cd27c85f4",
   "metadata": {},
   "outputs": [],
   "source": []
  },
  {
   "cell_type": "code",
   "execution_count": null,
   "id": "a6c60092-af83-49e8-b59c-816f6a9d6b76",
   "metadata": {},
   "outputs": [
    {
     "data": {
      "text/html": [
       "\n",
       "            <style>\n",
       "                .geemap-dark {\n",
       "                    --jp-widgets-color: white;\n",
       "                    --jp-widgets-label-color: white;\n",
       "                    --jp-ui-font-color1: white;\n",
       "                    --jp-layout-color2: #454545;\n",
       "                    background-color: #383838;\n",
       "                }\n",
       "\n",
       "                .geemap-dark .jupyter-button {\n",
       "                    --jp-layout-color3: #383838;\n",
       "                }\n",
       "\n",
       "                .geemap-colab {\n",
       "                    background-color: var(--colab-primary-surface-color, white);\n",
       "                }\n",
       "\n",
       "                .geemap-colab .jupyter-button {\n",
       "                    --jp-layout-color3: var(--colab-primary-surface-color, white);\n",
       "                }\n",
       "            </style>\n",
       "            "
      ],
      "text/plain": [
       "<IPython.core.display.HTML object>"
      ]
     },
     "metadata": {},
     "output_type": "display_data"
    }
   ],
   "source": [
    "import rasterio\n",
    "def set_band_names_gee(file_path):\n",
    "    \"\"\"Rename the bands in the file \"\"\"\n",
    "    dst_m= rasterio.open(file_path,'r+',  driver =  'GTiff')\n",
    "    \n",
    "    band_names = [\"dewpoint_temperature_2m\",\n",
    "                  \"total_evaporation\",\n",
    "                  \"temperature_2m\",\n",
    "                  \"total_precipitation_hourly\",\n",
    "                  \"total_precipitation\",\n",
    "                  \"relative_humidity\",\n",
    "                  \"Optical_Depth_047\",\n",
    "                  \"AOD_Uncertainty\"]\n",
    "    for num, band in enumerate(band_names ):\n",
    "        dst_m.set_band_description(num+1, band)\n",
    "    dst_m.close()\n"
   ]
  },
  {
   "cell_type": "code",
   "execution_count": null,
   "id": "3055d652-1e48-4a12-a371-4af9ec3ef573",
   "metadata": {},
   "outputs": [
    {
     "data": {
      "text/html": [
       "\n",
       "            <style>\n",
       "                .geemap-dark {\n",
       "                    --jp-widgets-color: white;\n",
       "                    --jp-widgets-label-color: white;\n",
       "                    --jp-ui-font-color1: white;\n",
       "                    --jp-layout-color2: #454545;\n",
       "                    background-color: #383838;\n",
       "                }\n",
       "\n",
       "                .geemap-dark .jupyter-button {\n",
       "                    --jp-layout-color3: #383838;\n",
       "                }\n",
       "\n",
       "                .geemap-colab {\n",
       "                    background-color: var(--colab-primary-surface-color, white);\n",
       "                }\n",
       "\n",
       "                .geemap-colab .jupyter-button {\n",
       "                    --jp-layout-color3: var(--colab-primary-surface-color, white);\n",
       "                }\n",
       "            </style>\n",
       "            "
      ],
      "text/plain": [
       "<IPython.core.display.HTML object>"
      ]
     },
     "metadata": {},
     "output_type": "display_data"
    }
   ],
   "source": [
    "\n",
    "def set_band_dir_gee(path_dir):\n",
    "    files_li = os.listdir(path_dir)\n",
    "    files_li = [fil for fil in files_li if fil[-4:] == \".tif\" ]\n",
    "    #files_li = [path_dir + '/'+fil for file in files_li]\n",
    "    print(\"Changing file band names:\")\n",
    "    for fil in  files_li:\n",
    "        set_band_names_gee(path_dir + '/'+fil)\n",
    "    return\n",
    "    "
   ]
  },
  {
   "cell_type": "code",
   "execution_count": null,
   "id": "0e2ef7b5-bbb0-4faa-b330-c70fc1b225b5",
   "metadata": {},
   "outputs": [
    {
     "data": {
      "text/html": [
       "\n",
       "            <style>\n",
       "                .geemap-dark {\n",
       "                    --jp-widgets-color: white;\n",
       "                    --jp-widgets-label-color: white;\n",
       "                    --jp-ui-font-color1: white;\n",
       "                    --jp-layout-color2: #454545;\n",
       "                    background-color: #383838;\n",
       "                }\n",
       "\n",
       "                .geemap-dark .jupyter-button {\n",
       "                    --jp-layout-color3: #383838;\n",
       "                }\n",
       "\n",
       "                .geemap-colab {\n",
       "                    background-color: var(--colab-primary-surface-color, white);\n",
       "                }\n",
       "\n",
       "                .geemap-colab .jupyter-button {\n",
       "                    --jp-layout-color3: var(--colab-primary-surface-color, white);\n",
       "                }\n",
       "            </style>\n",
       "            "
      ],
      "text/plain": [
       "<IPython.core.display.HTML object>"
      ]
     },
     "metadata": {},
     "output_type": "display_data"
    },
    {
     "name": "stdout",
     "output_type": "stream",
     "text": [
      "Changing file band names:\n"
     ]
    },
    {
     "name": "stderr",
     "output_type": "stream",
     "text": [
      "Warning 1: TIFFWriteDirectorySec:Creating TIFF with legacy Deflate codec identifier, COMPRESSION_ADOBE_DEFLATE is more widely supported\n",
      "Warning 1: TIFFReadDirectory:Sum of Photometric type-related color channels and ExtraSamples doesn't match SamplesPerPixel. Defining non-color channels as ExtraSamples.\n",
      "Warning 1: TIFFWriteDirectorySec:Creating TIFF with legacy Deflate codec identifier, COMPRESSION_ADOBE_DEFLATE is more widely supported\n",
      "Warning 1: TIFFReadDirectory:Sum of Photometric type-related color channels and ExtraSamples doesn't match SamplesPerPixel. Defining non-color channels as ExtraSamples.\n",
      "Warning 1: TIFFWriteDirectorySec:Creating TIFF with legacy Deflate codec identifier, COMPRESSION_ADOBE_DEFLATE is more widely supported\n",
      "Warning 1: TIFFReadDirectory:Sum of Photometric type-related color channels and ExtraSamples doesn't match SamplesPerPixel. Defining non-color channels as ExtraSamples.\n",
      "Warning 1: TIFFWriteDirectorySec:Creating TIFF with legacy Deflate codec identifier, COMPRESSION_ADOBE_DEFLATE is more widely supported\n",
      "Warning 1: TIFFReadDirectory:Sum of Photometric type-related color channels and ExtraSamples doesn't match SamplesPerPixel. Defining non-color channels as ExtraSamples.\n",
      "Warning 1: TIFFWriteDirectorySec:Creating TIFF with legacy Deflate codec identifier, COMPRESSION_ADOBE_DEFLATE is more widely supported\n",
      "Warning 1: TIFFReadDirectory:Sum of Photometric type-related color channels and ExtraSamples doesn't match SamplesPerPixel. Defining non-color channels as ExtraSamples.\n",
      "Warning 1: TIFFWriteDirectorySec:Creating TIFF with legacy Deflate codec identifier, COMPRESSION_ADOBE_DEFLATE is more widely supported\n",
      "Warning 1: TIFFReadDirectory:Sum of Photometric type-related color channels and ExtraSamples doesn't match SamplesPerPixel. Defining non-color channels as ExtraSamples.\n",
      "Warning 1: TIFFWriteDirectorySec:Creating TIFF with legacy Deflate codec identifier, COMPRESSION_ADOBE_DEFLATE is more widely supported\n",
      "Warning 1: TIFFReadDirectory:Sum of Photometric type-related color channels and ExtraSamples doesn't match SamplesPerPixel. Defining non-color channels as ExtraSamples.\n",
      "Warning 1: TIFFWriteDirectorySec:Creating TIFF with legacy Deflate codec identifier, COMPRESSION_ADOBE_DEFLATE is more widely supported\n",
      "Warning 1: TIFFReadDirectory:Sum of Photometric type-related color channels and ExtraSamples doesn't match SamplesPerPixel. Defining non-color channels as ExtraSamples.\n",
      "Warning 1: TIFFWriteDirectorySec:Creating TIFF with legacy Deflate codec identifier, COMPRESSION_ADOBE_DEFLATE is more widely supported\n",
      "Warning 1: TIFFReadDirectory:Sum of Photometric type-related color channels and ExtraSamples doesn't match SamplesPerPixel. Defining non-color channels as ExtraSamples.\n",
      "Warning 1: TIFFWriteDirectorySec:Creating TIFF with legacy Deflate codec identifier, COMPRESSION_ADOBE_DEFLATE is more widely supported\n",
      "Warning 1: TIFFReadDirectory:Sum of Photometric type-related color channels and ExtraSamples doesn't match SamplesPerPixel. Defining non-color channels as ExtraSamples.\n",
      "Warning 1: TIFFWriteDirectorySec:Creating TIFF with legacy Deflate codec identifier, COMPRESSION_ADOBE_DEFLATE is more widely supported\n",
      "Warning 1: TIFFReadDirectory:Sum of Photometric type-related color channels and ExtraSamples doesn't match SamplesPerPixel. Defining non-color channels as ExtraSamples.\n",
      "Warning 1: TIFFWriteDirectorySec:Creating TIFF with legacy Deflate codec identifier, COMPRESSION_ADOBE_DEFLATE is more widely supported\n",
      "Warning 1: TIFFReadDirectory:Sum of Photometric type-related color channels and ExtraSamples doesn't match SamplesPerPixel. Defining non-color channels as ExtraSamples.\n",
      "Warning 1: TIFFWriteDirectorySec:Creating TIFF with legacy Deflate codec identifier, COMPRESSION_ADOBE_DEFLATE is more widely supported\n",
      "Warning 1: TIFFReadDirectory:Sum of Photometric type-related color channels and ExtraSamples doesn't match SamplesPerPixel. Defining non-color channels as ExtraSamples.\n",
      "Warning 1: TIFFWriteDirectorySec:Creating TIFF with legacy Deflate codec identifier, COMPRESSION_ADOBE_DEFLATE is more widely supported\n",
      "Warning 1: TIFFReadDirectory:Sum of Photometric type-related color channels and ExtraSamples doesn't match SamplesPerPixel. Defining non-color channels as ExtraSamples.\n",
      "Warning 1: TIFFWriteDirectorySec:Creating TIFF with legacy Deflate codec identifier, COMPRESSION_ADOBE_DEFLATE is more widely supported\n",
      "Warning 1: TIFFReadDirectory:Sum of Photometric type-related color channels and ExtraSamples doesn't match SamplesPerPixel. Defining non-color channels as ExtraSamples.\n",
      "Warning 1: TIFFWriteDirectorySec:Creating TIFF with legacy Deflate codec identifier, COMPRESSION_ADOBE_DEFLATE is more widely supported\n",
      "Warning 1: TIFFReadDirectory:Sum of Photometric type-related color channels and ExtraSamples doesn't match SamplesPerPixel. Defining non-color channels as ExtraSamples.\n",
      "Warning 1: TIFFWriteDirectorySec:Creating TIFF with legacy Deflate codec identifier, COMPRESSION_ADOBE_DEFLATE is more widely supported\n",
      "Warning 1: TIFFReadDirectory:Sum of Photometric type-related color channels and ExtraSamples doesn't match SamplesPerPixel. Defining non-color channels as ExtraSamples.\n",
      "Warning 1: TIFFWriteDirectorySec:Creating TIFF with legacy Deflate codec identifier, COMPRESSION_ADOBE_DEFLATE is more widely supported\n",
      "Warning 1: TIFFReadDirectory:Sum of Photometric type-related color channels and ExtraSamples doesn't match SamplesPerPixel. Defining non-color channels as ExtraSamples.\n",
      "Warning 1: TIFFWriteDirectorySec:Creating TIFF with legacy Deflate codec identifier, COMPRESSION_ADOBE_DEFLATE is more widely supported\n",
      "Warning 1: TIFFReadDirectory:Sum of Photometric type-related color channels and ExtraSamples doesn't match SamplesPerPixel. Defining non-color channels as ExtraSamples.\n",
      "Warning 1: TIFFWriteDirectorySec:Creating TIFF with legacy Deflate codec identifier, COMPRESSION_ADOBE_DEFLATE is more widely supported\n",
      "Warning 1: TIFFReadDirectory:Sum of Photometric type-related color channels and ExtraSamples doesn't match SamplesPerPixel. Defining non-color channels as ExtraSamples.\n",
      "Warning 1: TIFFWriteDirectorySec:Creating TIFF with legacy Deflate codec identifier, COMPRESSION_ADOBE_DEFLATE is more widely supported\n",
      "Warning 1: TIFFReadDirectory:Sum of Photometric type-related color channels and ExtraSamples doesn't match SamplesPerPixel. Defining non-color channels as ExtraSamples.\n",
      "Warning 1: TIFFWriteDirectorySec:Creating TIFF with legacy Deflate codec identifier, COMPRESSION_ADOBE_DEFLATE is more widely supported\n",
      "Warning 1: TIFFReadDirectory:Sum of Photometric type-related color channels and ExtraSamples doesn't match SamplesPerPixel. Defining non-color channels as ExtraSamples.\n",
      "Warning 1: TIFFWriteDirectorySec:Creating TIFF with legacy Deflate codec identifier, COMPRESSION_ADOBE_DEFLATE is more widely supported\n",
      "Warning 1: TIFFReadDirectory:Sum of Photometric type-related color channels and ExtraSamples doesn't match SamplesPerPixel. Defining non-color channels as ExtraSamples.\n",
      "Warning 1: TIFFWriteDirectorySec:Creating TIFF with legacy Deflate codec identifier, COMPRESSION_ADOBE_DEFLATE is more widely supported\n",
      "Warning 1: TIFFReadDirectory:Sum of Photometric type-related color channels and ExtraSamples doesn't match SamplesPerPixel. Defining non-color channels as ExtraSamples.\n",
      "Warning 1: TIFFWriteDirectorySec:Creating TIFF with legacy Deflate codec identifier, COMPRESSION_ADOBE_DEFLATE is more widely supported\n",
      "Warning 1: TIFFReadDirectory:Sum of Photometric type-related color channels and ExtraSamples doesn't match SamplesPerPixel. Defining non-color channels as ExtraSamples.\n",
      "Warning 1: TIFFWriteDirectorySec:Creating TIFF with legacy Deflate codec identifier, COMPRESSION_ADOBE_DEFLATE is more widely supported\n",
      "Warning 1: TIFFReadDirectory:Sum of Photometric type-related color channels and ExtraSamples doesn't match SamplesPerPixel. Defining non-color channels as ExtraSamples.\n",
      "Warning 1: TIFFWriteDirectorySec:Creating TIFF with legacy Deflate codec identifier, COMPRESSION_ADOBE_DEFLATE is more widely supported\n",
      "Warning 1: TIFFReadDirectory:Sum of Photometric type-related color channels and ExtraSamples doesn't match SamplesPerPixel. Defining non-color channels as ExtraSamples.\n",
      "Warning 1: TIFFWriteDirectorySec:Creating TIFF with legacy Deflate codec identifier, COMPRESSION_ADOBE_DEFLATE is more widely supported\n",
      "Warning 1: TIFFReadDirectory:Sum of Photometric type-related color channels and ExtraSamples doesn't match SamplesPerPixel. Defining non-color channels as ExtraSamples.\n",
      "Warning 1: TIFFWriteDirectorySec:Creating TIFF with legacy Deflate codec identifier, COMPRESSION_ADOBE_DEFLATE is more widely supported\n",
      "Warning 1: TIFFReadDirectory:Sum of Photometric type-related color channels and ExtraSamples doesn't match SamplesPerPixel. Defining non-color channels as ExtraSamples.\n",
      "Warning 1: TIFFWriteDirectorySec:Creating TIFF with legacy Deflate codec identifier, COMPRESSION_ADOBE_DEFLATE is more widely supported\n",
      "Warning 1: TIFFReadDirectory:Sum of Photometric type-related color channels and ExtraSamples doesn't match SamplesPerPixel. Defining non-color channels as ExtraSamples.\n",
      "Warning 1: TIFFWriteDirectorySec:Creating TIFF with legacy Deflate codec identifier, COMPRESSION_ADOBE_DEFLATE is more widely supported\n",
      "Warning 1: TIFFReadDirectory:Sum of Photometric type-related color channels and ExtraSamples doesn't match SamplesPerPixel. Defining non-color channels as ExtraSamples.\n",
      "Warning 1: TIFFWriteDirectorySec:Creating TIFF with legacy Deflate codec identifier, COMPRESSION_ADOBE_DEFLATE is more widely supported\n",
      "Warning 1: TIFFReadDirectory:Sum of Photometric type-related color channels and ExtraSamples doesn't match SamplesPerPixel. Defining non-color channels as ExtraSamples.\n",
      "Warning 1: TIFFWriteDirectorySec:Creating TIFF with legacy Deflate codec identifier, COMPRESSION_ADOBE_DEFLATE is more widely supported\n",
      "Warning 1: TIFFReadDirectory:Sum of Photometric type-related color channels and ExtraSamples doesn't match SamplesPerPixel. Defining non-color channels as ExtraSamples.\n",
      "Warning 1: TIFFWriteDirectorySec:Creating TIFF with legacy Deflate codec identifier, COMPRESSION_ADOBE_DEFLATE is more widely supported\n",
      "Warning 1: TIFFReadDirectory:Sum of Photometric type-related color channels and ExtraSamples doesn't match SamplesPerPixel. Defining non-color channels as ExtraSamples.\n",
      "Warning 1: TIFFWriteDirectorySec:Creating TIFF with legacy Deflate codec identifier, COMPRESSION_ADOBE_DEFLATE is more widely supported\n",
      "Warning 1: TIFFReadDirectory:Sum of Photometric type-related color channels and ExtraSamples doesn't match SamplesPerPixel. Defining non-color channels as ExtraSamples.\n",
      "Warning 1: TIFFWriteDirectorySec:Creating TIFF with legacy Deflate codec identifier, COMPRESSION_ADOBE_DEFLATE is more widely supported\n",
      "Warning 1: TIFFReadDirectory:Sum of Photometric type-related color channels and ExtraSamples doesn't match SamplesPerPixel. Defining non-color channels as ExtraSamples.\n",
      "Warning 1: TIFFWriteDirectorySec:Creating TIFF with legacy Deflate codec identifier, COMPRESSION_ADOBE_DEFLATE is more widely supported\n",
      "Warning 1: TIFFReadDirectory:Sum of Photometric type-related color channels and ExtraSamples doesn't match SamplesPerPixel. Defining non-color channels as ExtraSamples.\n",
      "Warning 1: TIFFWriteDirectorySec:Creating TIFF with legacy Deflate codec identifier, COMPRESSION_ADOBE_DEFLATE is more widely supported\n",
      "Warning 1: TIFFReadDirectory:Sum of Photometric type-related color channels and ExtraSamples doesn't match SamplesPerPixel. Defining non-color channels as ExtraSamples.\n",
      "Warning 1: TIFFWriteDirectorySec:Creating TIFF with legacy Deflate codec identifier, COMPRESSION_ADOBE_DEFLATE is more widely supported\n",
      "Warning 1: TIFFReadDirectory:Sum of Photometric type-related color channels and ExtraSamples doesn't match SamplesPerPixel. Defining non-color channels as ExtraSamples.\n",
      "Warning 1: TIFFWriteDirectorySec:Creating TIFF with legacy Deflate codec identifier, COMPRESSION_ADOBE_DEFLATE is more widely supported\n",
      "Warning 1: TIFFReadDirectory:Sum of Photometric type-related color channels and ExtraSamples doesn't match SamplesPerPixel. Defining non-color channels as ExtraSamples.\n",
      "Warning 1: TIFFWriteDirectorySec:Creating TIFF with legacy Deflate codec identifier, COMPRESSION_ADOBE_DEFLATE is more widely supported\n",
      "Warning 1: TIFFReadDirectory:Sum of Photometric type-related color channels and ExtraSamples doesn't match SamplesPerPixel. Defining non-color channels as ExtraSamples.\n",
      "Warning 1: TIFFWriteDirectorySec:Creating TIFF with legacy Deflate codec identifier, COMPRESSION_ADOBE_DEFLATE is more widely supported\n",
      "Warning 1: TIFFReadDirectory:Sum of Photometric type-related color channels and ExtraSamples doesn't match SamplesPerPixel. Defining non-color channels as ExtraSamples.\n",
      "Warning 1: TIFFWriteDirectorySec:Creating TIFF with legacy Deflate codec identifier, COMPRESSION_ADOBE_DEFLATE is more widely supported\n",
      "Warning 1: TIFFReadDirectory:Sum of Photometric type-related color channels and ExtraSamples doesn't match SamplesPerPixel. Defining non-color channels as ExtraSamples.\n",
      "Warning 1: TIFFWriteDirectorySec:Creating TIFF with legacy Deflate codec identifier, COMPRESSION_ADOBE_DEFLATE is more widely supported\n",
      "Warning 1: TIFFReadDirectory:Sum of Photometric type-related color channels and ExtraSamples doesn't match SamplesPerPixel. Defining non-color channels as ExtraSamples.\n",
      "Warning 1: TIFFWriteDirectorySec:Creating TIFF with legacy Deflate codec identifier, COMPRESSION_ADOBE_DEFLATE is more widely supported\n",
      "Warning 1: TIFFReadDirectory:Sum of Photometric type-related color channels and ExtraSamples doesn't match SamplesPerPixel. Defining non-color channels as ExtraSamples.\n",
      "Warning 1: TIFFWriteDirectorySec:Creating TIFF with legacy Deflate codec identifier, COMPRESSION_ADOBE_DEFLATE is more widely supported\n",
      "Warning 1: TIFFReadDirectory:Sum of Photometric type-related color channels and ExtraSamples doesn't match SamplesPerPixel. Defining non-color channels as ExtraSamples.\n",
      "Warning 1: TIFFWriteDirectorySec:Creating TIFF with legacy Deflate codec identifier, COMPRESSION_ADOBE_DEFLATE is more widely supported\n",
      "Warning 1: TIFFReadDirectory:Sum of Photometric type-related color channels and ExtraSamples doesn't match SamplesPerPixel. Defining non-color channels as ExtraSamples.\n",
      "Warning 1: TIFFWriteDirectorySec:Creating TIFF with legacy Deflate codec identifier, COMPRESSION_ADOBE_DEFLATE is more widely supported\n",
      "Warning 1: TIFFReadDirectory:Sum of Photometric type-related color channels and ExtraSamples doesn't match SamplesPerPixel. Defining non-color channels as ExtraSamples.\n",
      "Warning 1: TIFFWriteDirectorySec:Creating TIFF with legacy Deflate codec identifier, COMPRESSION_ADOBE_DEFLATE is more widely supported\n",
      "Warning 1: TIFFReadDirectory:Sum of Photometric type-related color channels and ExtraSamples doesn't match SamplesPerPixel. Defining non-color channels as ExtraSamples.\n",
      "Warning 1: TIFFWriteDirectorySec:Creating TIFF with legacy Deflate codec identifier, COMPRESSION_ADOBE_DEFLATE is more widely supported\n",
      "Warning 1: TIFFReadDirectory:Sum of Photometric type-related color channels and ExtraSamples doesn't match SamplesPerPixel. Defining non-color channels as ExtraSamples.\n",
      "Warning 1: TIFFWriteDirectorySec:Creating TIFF with legacy Deflate codec identifier, COMPRESSION_ADOBE_DEFLATE is more widely supported\n",
      "Warning 1: TIFFReadDirectory:Sum of Photometric type-related color channels and ExtraSamples doesn't match SamplesPerPixel. Defining non-color channels as ExtraSamples.\n",
      "Warning 1: TIFFWriteDirectorySec:Creating TIFF with legacy Deflate codec identifier, COMPRESSION_ADOBE_DEFLATE is more widely supported\n",
      "Warning 1: TIFFReadDirectory:Sum of Photometric type-related color channels and ExtraSamples doesn't match SamplesPerPixel. Defining non-color channels as ExtraSamples.\n",
      "Warning 1: TIFFWriteDirectorySec:Creating TIFF with legacy Deflate codec identifier, COMPRESSION_ADOBE_DEFLATE is more widely supported\n",
      "Warning 1: TIFFReadDirectory:Sum of Photometric type-related color channels and ExtraSamples doesn't match SamplesPerPixel. Defining non-color channels as ExtraSamples.\n",
      "Warning 1: TIFFWriteDirectorySec:Creating TIFF with legacy Deflate codec identifier, COMPRESSION_ADOBE_DEFLATE is more widely supported\n",
      "Warning 1: TIFFReadDirectory:Sum of Photometric type-related color channels and ExtraSamples doesn't match SamplesPerPixel. Defining non-color channels as ExtraSamples.\n",
      "Warning 1: TIFFWriteDirectorySec:Creating TIFF with legacy Deflate codec identifier, COMPRESSION_ADOBE_DEFLATE is more widely supported\n",
      "Warning 1: TIFFReadDirectory:Sum of Photometric type-related color channels and ExtraSamples doesn't match SamplesPerPixel. Defining non-color channels as ExtraSamples.\n",
      "Warning 1: TIFFWriteDirectorySec:Creating TIFF with legacy Deflate codec identifier, COMPRESSION_ADOBE_DEFLATE is more widely supported\n",
      "Warning 1: TIFFReadDirectory:Sum of Photometric type-related color channels and ExtraSamples doesn't match SamplesPerPixel. Defining non-color channels as ExtraSamples.\n",
      "Warning 1: TIFFWriteDirectorySec:Creating TIFF with legacy Deflate codec identifier, COMPRESSION_ADOBE_DEFLATE is more widely supported\n",
      "Warning 1: TIFFReadDirectory:Sum of Photometric type-related color channels and ExtraSamples doesn't match SamplesPerPixel. Defining non-color channels as ExtraSamples.\n",
      "Warning 1: TIFFWriteDirectorySec:Creating TIFF with legacy Deflate codec identifier, COMPRESSION_ADOBE_DEFLATE is more widely supported\n",
      "Warning 1: TIFFReadDirectory:Sum of Photometric type-related color channels and ExtraSamples doesn't match SamplesPerPixel. Defining non-color channels as ExtraSamples.\n",
      "Warning 1: TIFFWriteDirectorySec:Creating TIFF with legacy Deflate codec identifier, COMPRESSION_ADOBE_DEFLATE is more widely supported\n",
      "Warning 1: TIFFReadDirectory:Sum of Photometric type-related color channels and ExtraSamples doesn't match SamplesPerPixel. Defining non-color channels as ExtraSamples.\n",
      "Warning 1: TIFFWriteDirectorySec:Creating TIFF with legacy Deflate codec identifier, COMPRESSION_ADOBE_DEFLATE is more widely supported\n",
      "Warning 1: TIFFReadDirectory:Sum of Photometric type-related color channels and ExtraSamples doesn't match SamplesPerPixel. Defining non-color channels as ExtraSamples.\n",
      "Warning 1: TIFFWriteDirectorySec:Creating TIFF with legacy Deflate codec identifier, COMPRESSION_ADOBE_DEFLATE is more widely supported\n",
      "Warning 1: TIFFReadDirectory:Sum of Photometric type-related color channels and ExtraSamples doesn't match SamplesPerPixel. Defining non-color channels as ExtraSamples.\n",
      "Warning 1: TIFFWriteDirectorySec:Creating TIFF with legacy Deflate codec identifier, COMPRESSION_ADOBE_DEFLATE is more widely supported\n",
      "Warning 1: TIFFReadDirectory:Sum of Photometric type-related color channels and ExtraSamples doesn't match SamplesPerPixel. Defining non-color channels as ExtraSamples.\n",
      "Warning 1: TIFFWriteDirectorySec:Creating TIFF with legacy Deflate codec identifier, COMPRESSION_ADOBE_DEFLATE is more widely supported\n",
      "Warning 1: TIFFReadDirectory:Sum of Photometric type-related color channels and ExtraSamples doesn't match SamplesPerPixel. Defining non-color channels as ExtraSamples.\n",
      "Warning 1: TIFFWriteDirectorySec:Creating TIFF with legacy Deflate codec identifier, COMPRESSION_ADOBE_DEFLATE is more widely supported\n",
      "Warning 1: TIFFReadDirectory:Sum of Photometric type-related color channels and ExtraSamples doesn't match SamplesPerPixel. Defining non-color channels as ExtraSamples.\n",
      "Warning 1: TIFFWriteDirectorySec:Creating TIFF with legacy Deflate codec identifier, COMPRESSION_ADOBE_DEFLATE is more widely supported\n",
      "Warning 1: TIFFReadDirectory:Sum of Photometric type-related color channels and ExtraSamples doesn't match SamplesPerPixel. Defining non-color channels as ExtraSamples.\n",
      "Warning 1: TIFFWriteDirectorySec:Creating TIFF with legacy Deflate codec identifier, COMPRESSION_ADOBE_DEFLATE is more widely supported\n",
      "Warning 1: TIFFReadDirectory:Sum of Photometric type-related color channels and ExtraSamples doesn't match SamplesPerPixel. Defining non-color channels as ExtraSamples.\n",
      "Warning 1: TIFFWriteDirectorySec:Creating TIFF with legacy Deflate codec identifier, COMPRESSION_ADOBE_DEFLATE is more widely supported\n",
      "Warning 1: TIFFReadDirectory:Sum of Photometric type-related color channels and ExtraSamples doesn't match SamplesPerPixel. Defining non-color channels as ExtraSamples.\n",
      "Warning 1: TIFFWriteDirectorySec:Creating TIFF with legacy Deflate codec identifier, COMPRESSION_ADOBE_DEFLATE is more widely supported\n",
      "Warning 1: TIFFReadDirectory:Sum of Photometric type-related color channels and ExtraSamples doesn't match SamplesPerPixel. Defining non-color channels as ExtraSamples.\n",
      "Warning 1: TIFFWriteDirectorySec:Creating TIFF with legacy Deflate codec identifier, COMPRESSION_ADOBE_DEFLATE is more widely supported\n",
      "Warning 1: TIFFReadDirectory:Sum of Photometric type-related color channels and ExtraSamples doesn't match SamplesPerPixel. Defining non-color channels as ExtraSamples.\n",
      "Warning 1: TIFFWriteDirectorySec:Creating TIFF with legacy Deflate codec identifier, COMPRESSION_ADOBE_DEFLATE is more widely supported\n",
      "Warning 1: TIFFReadDirectory:Sum of Photometric type-related color channels and ExtraSamples doesn't match SamplesPerPixel. Defining non-color channels as ExtraSamples.\n",
      "Warning 1: TIFFWriteDirectorySec:Creating TIFF with legacy Deflate codec identifier, COMPRESSION_ADOBE_DEFLATE is more widely supported\n",
      "Warning 1: TIFFReadDirectory:Sum of Photometric type-related color channels and ExtraSamples doesn't match SamplesPerPixel. Defining non-color channels as ExtraSamples.\n",
      "Warning 1: TIFFWriteDirectorySec:Creating TIFF with legacy Deflate codec identifier, COMPRESSION_ADOBE_DEFLATE is more widely supported\n",
      "Warning 1: TIFFReadDirectory:Sum of Photometric type-related color channels and ExtraSamples doesn't match SamplesPerPixel. Defining non-color channels as ExtraSamples.\n",
      "Warning 1: TIFFWriteDirectorySec:Creating TIFF with legacy Deflate codec identifier, COMPRESSION_ADOBE_DEFLATE is more widely supported\n",
      "Warning 1: TIFFReadDirectory:Sum of Photometric type-related color channels and ExtraSamples doesn't match SamplesPerPixel. Defining non-color channels as ExtraSamples.\n",
      "Warning 1: TIFFWriteDirectorySec:Creating TIFF with legacy Deflate codec identifier, COMPRESSION_ADOBE_DEFLATE is more widely supported\n",
      "Warning 1: TIFFReadDirectory:Sum of Photometric type-related color channels and ExtraSamples doesn't match SamplesPerPixel. Defining non-color channels as ExtraSamples.\n",
      "Warning 1: TIFFWriteDirectorySec:Creating TIFF with legacy Deflate codec identifier, COMPRESSION_ADOBE_DEFLATE is more widely supported\n",
      "Warning 1: TIFFReadDirectory:Sum of Photometric type-related color channels and ExtraSamples doesn't match SamplesPerPixel. Defining non-color channels as ExtraSamples.\n",
      "Warning 1: TIFFWriteDirectorySec:Creating TIFF with legacy Deflate codec identifier, COMPRESSION_ADOBE_DEFLATE is more widely supported\n",
      "Warning 1: TIFFReadDirectory:Sum of Photometric type-related color channels and ExtraSamples doesn't match SamplesPerPixel. Defining non-color channels as ExtraSamples.\n",
      "Warning 1: TIFFWriteDirectorySec:Creating TIFF with legacy Deflate codec identifier, COMPRESSION_ADOBE_DEFLATE is more widely supported\n",
      "Warning 1: TIFFReadDirectory:Sum of Photometric type-related color channels and ExtraSamples doesn't match SamplesPerPixel. Defining non-color channels as ExtraSamples.\n",
      "Warning 1: TIFFWriteDirectorySec:Creating TIFF with legacy Deflate codec identifier, COMPRESSION_ADOBE_DEFLATE is more widely supported\n",
      "Warning 1: TIFFReadDirectory:Sum of Photometric type-related color channels and ExtraSamples doesn't match SamplesPerPixel. Defining non-color channels as ExtraSamples.\n",
      "Warning 1: TIFFWriteDirectorySec:Creating TIFF with legacy Deflate codec identifier, COMPRESSION_ADOBE_DEFLATE is more widely supported\n",
      "Warning 1: TIFFReadDirectory:Sum of Photometric type-related color channels and ExtraSamples doesn't match SamplesPerPixel. Defining non-color channels as ExtraSamples.\n",
      "Warning 1: TIFFWriteDirectorySec:Creating TIFF with legacy Deflate codec identifier, COMPRESSION_ADOBE_DEFLATE is more widely supported\n",
      "Warning 1: TIFFReadDirectory:Sum of Photometric type-related color channels and ExtraSamples doesn't match SamplesPerPixel. Defining non-color channels as ExtraSamples.\n",
      "Warning 1: TIFFWriteDirectorySec:Creating TIFF with legacy Deflate codec identifier, COMPRESSION_ADOBE_DEFLATE is more widely supported\n",
      "Warning 1: TIFFReadDirectory:Sum of Photometric type-related color channels and ExtraSamples doesn't match SamplesPerPixel. Defining non-color channels as ExtraSamples.\n",
      "Warning 1: TIFFWriteDirectorySec:Creating TIFF with legacy Deflate codec identifier, COMPRESSION_ADOBE_DEFLATE is more widely supported\n",
      "Warning 1: TIFFReadDirectory:Sum of Photometric type-related color channels and ExtraSamples doesn't match SamplesPerPixel. Defining non-color channels as ExtraSamples.\n",
      "Warning 1: TIFFWriteDirectorySec:Creating TIFF with legacy Deflate codec identifier, COMPRESSION_ADOBE_DEFLATE is more widely supported\n",
      "Warning 1: TIFFReadDirectory:Sum of Photometric type-related color channels and ExtraSamples doesn't match SamplesPerPixel. Defining non-color channels as ExtraSamples.\n",
      "Warning 1: TIFFWriteDirectorySec:Creating TIFF with legacy Deflate codec identifier, COMPRESSION_ADOBE_DEFLATE is more widely supported\n",
      "Warning 1: TIFFReadDirectory:Sum of Photometric type-related color channels and ExtraSamples doesn't match SamplesPerPixel. Defining non-color channels as ExtraSamples.\n",
      "Warning 1: TIFFWriteDirectorySec:Creating TIFF with legacy Deflate codec identifier, COMPRESSION_ADOBE_DEFLATE is more widely supported\n",
      "Warning 1: TIFFReadDirectory:Sum of Photometric type-related color channels and ExtraSamples doesn't match SamplesPerPixel. Defining non-color channels as ExtraSamples.\n",
      "Warning 1: TIFFWriteDirectorySec:Creating TIFF with legacy Deflate codec identifier, COMPRESSION_ADOBE_DEFLATE is more widely supported\n",
      "Warning 1: TIFFReadDirectory:Sum of Photometric type-related color channels and ExtraSamples doesn't match SamplesPerPixel. Defining non-color channels as ExtraSamples.\n",
      "Warning 1: TIFFWriteDirectorySec:Creating TIFF with legacy Deflate codec identifier, COMPRESSION_ADOBE_DEFLATE is more widely supported\n",
      "Warning 1: TIFFReadDirectory:Sum of Photometric type-related color channels and ExtraSamples doesn't match SamplesPerPixel. Defining non-color channels as ExtraSamples.\n",
      "Warning 1: TIFFWriteDirectorySec:Creating TIFF with legacy Deflate codec identifier, COMPRESSION_ADOBE_DEFLATE is more widely supported\n",
      "Warning 1: TIFFReadDirectory:Sum of Photometric type-related color channels and ExtraSamples doesn't match SamplesPerPixel. Defining non-color channels as ExtraSamples.\n",
      "Warning 1: TIFFWriteDirectorySec:Creating TIFF with legacy Deflate codec identifier, COMPRESSION_ADOBE_DEFLATE is more widely supported\n",
      "Warning 1: TIFFReadDirectory:Sum of Photometric type-related color channels and ExtraSamples doesn't match SamplesPerPixel. Defining non-color channels as ExtraSamples.\n",
      "Warning 1: TIFFWriteDirectorySec:Creating TIFF with legacy Deflate codec identifier, COMPRESSION_ADOBE_DEFLATE is more widely supported\n",
      "Warning 1: TIFFReadDirectory:Sum of Photometric type-related color channels and ExtraSamples doesn't match SamplesPerPixel. Defining non-color channels as ExtraSamples.\n",
      "Warning 1: TIFFWriteDirectorySec:Creating TIFF with legacy Deflate codec identifier, COMPRESSION_ADOBE_DEFLATE is more widely supported\n",
      "Warning 1: TIFFReadDirectory:Sum of Photometric type-related color channels and ExtraSamples doesn't match SamplesPerPixel. Defining non-color channels as ExtraSamples.\n",
      "Warning 1: TIFFWriteDirectorySec:Creating TIFF with legacy Deflate codec identifier, COMPRESSION_ADOBE_DEFLATE is more widely supported\n",
      "Warning 1: TIFFReadDirectory:Sum of Photometric type-related color channels and ExtraSamples doesn't match SamplesPerPixel. Defining non-color channels as ExtraSamples.\n",
      "Warning 1: TIFFWriteDirectorySec:Creating TIFF with legacy Deflate codec identifier, COMPRESSION_ADOBE_DEFLATE is more widely supported\n",
      "Warning 1: TIFFReadDirectory:Sum of Photometric type-related color channels and ExtraSamples doesn't match SamplesPerPixel. Defining non-color channels as ExtraSamples.\n",
      "Warning 1: TIFFWriteDirectorySec:Creating TIFF with legacy Deflate codec identifier, COMPRESSION_ADOBE_DEFLATE is more widely supported\n",
      "Warning 1: TIFFReadDirectory:Sum of Photometric type-related color channels and ExtraSamples doesn't match SamplesPerPixel. Defining non-color channels as ExtraSamples.\n",
      "Warning 1: TIFFWriteDirectorySec:Creating TIFF with legacy Deflate codec identifier, COMPRESSION_ADOBE_DEFLATE is more widely supported\n",
      "Warning 1: TIFFReadDirectory:Sum of Photometric type-related color channels and ExtraSamples doesn't match SamplesPerPixel. Defining non-color channels as ExtraSamples.\n",
      "Warning 1: TIFFWriteDirectorySec:Creating TIFF with legacy Deflate codec identifier, COMPRESSION_ADOBE_DEFLATE is more widely supported\n",
      "Warning 1: TIFFReadDirectory:Sum of Photometric type-related color channels and ExtraSamples doesn't match SamplesPerPixel. Defining non-color channels as ExtraSamples.\n",
      "Warning 1: TIFFWriteDirectorySec:Creating TIFF with legacy Deflate codec identifier, COMPRESSION_ADOBE_DEFLATE is more widely supported\n",
      "Warning 1: TIFFReadDirectory:Sum of Photometric type-related color channels and ExtraSamples doesn't match SamplesPerPixel. Defining non-color channels as ExtraSamples.\n",
      "Warning 1: TIFFWriteDirectorySec:Creating TIFF with legacy Deflate codec identifier, COMPRESSION_ADOBE_DEFLATE is more widely supported\n",
      "Warning 1: TIFFReadDirectory:Sum of Photometric type-related color channels and ExtraSamples doesn't match SamplesPerPixel. Defining non-color channels as ExtraSamples.\n",
      "Warning 1: TIFFWriteDirectorySec:Creating TIFF with legacy Deflate codec identifier, COMPRESSION_ADOBE_DEFLATE is more widely supported\n",
      "Warning 1: TIFFReadDirectory:Sum of Photometric type-related color channels and ExtraSamples doesn't match SamplesPerPixel. Defining non-color channels as ExtraSamples.\n",
      "Warning 1: TIFFWriteDirectorySec:Creating TIFF with legacy Deflate codec identifier, COMPRESSION_ADOBE_DEFLATE is more widely supported\n",
      "Warning 1: TIFFReadDirectory:Sum of Photometric type-related color channels and ExtraSamples doesn't match SamplesPerPixel. Defining non-color channels as ExtraSamples.\n",
      "Warning 1: TIFFWriteDirectorySec:Creating TIFF with legacy Deflate codec identifier, COMPRESSION_ADOBE_DEFLATE is more widely supported\n",
      "Warning 1: TIFFReadDirectory:Sum of Photometric type-related color channels and ExtraSamples doesn't match SamplesPerPixel. Defining non-color channels as ExtraSamples.\n",
      "Warning 1: TIFFWriteDirectorySec:Creating TIFF with legacy Deflate codec identifier, COMPRESSION_ADOBE_DEFLATE is more widely supported\n",
      "Warning 1: TIFFReadDirectory:Sum of Photometric type-related color channels and ExtraSamples doesn't match SamplesPerPixel. Defining non-color channels as ExtraSamples.\n",
      "Warning 1: TIFFWriteDirectorySec:Creating TIFF with legacy Deflate codec identifier, COMPRESSION_ADOBE_DEFLATE is more widely supported\n",
      "Warning 1: TIFFReadDirectory:Sum of Photometric type-related color channels and ExtraSamples doesn't match SamplesPerPixel. Defining non-color channels as ExtraSamples.\n",
      "Warning 1: TIFFWriteDirectorySec:Creating TIFF with legacy Deflate codec identifier, COMPRESSION_ADOBE_DEFLATE is more widely supported\n",
      "Warning 1: TIFFReadDirectory:Sum of Photometric type-related color channels and ExtraSamples doesn't match SamplesPerPixel. Defining non-color channels as ExtraSamples.\n",
      "Warning 1: TIFFWriteDirectorySec:Creating TIFF with legacy Deflate codec identifier, COMPRESSION_ADOBE_DEFLATE is more widely supported\n",
      "Warning 1: TIFFReadDirectory:Sum of Photometric type-related color channels and ExtraSamples doesn't match SamplesPerPixel. Defining non-color channels as ExtraSamples.\n",
      "Warning 1: TIFFWriteDirectorySec:Creating TIFF with legacy Deflate codec identifier, COMPRESSION_ADOBE_DEFLATE is more widely supported\n",
      "Warning 1: TIFFReadDirectory:Sum of Photometric type-related color channels and ExtraSamples doesn't match SamplesPerPixel. Defining non-color channels as ExtraSamples.\n",
      "Warning 1: TIFFWriteDirectorySec:Creating TIFF with legacy Deflate codec identifier, COMPRESSION_ADOBE_DEFLATE is more widely supported\n",
      "Warning 1: TIFFReadDirectory:Sum of Photometric type-related color channels and ExtraSamples doesn't match SamplesPerPixel. Defining non-color channels as ExtraSamples.\n",
      "Warning 1: TIFFWriteDirectorySec:Creating TIFF with legacy Deflate codec identifier, COMPRESSION_ADOBE_DEFLATE is more widely supported\n",
      "Warning 1: TIFFReadDirectory:Sum of Photometric type-related color channels and ExtraSamples doesn't match SamplesPerPixel. Defining non-color channels as ExtraSamples.\n",
      "Warning 1: TIFFWriteDirectorySec:Creating TIFF with legacy Deflate codec identifier, COMPRESSION_ADOBE_DEFLATE is more widely supported\n",
      "Warning 1: TIFFReadDirectory:Sum of Photometric type-related color channels and ExtraSamples doesn't match SamplesPerPixel. Defining non-color channels as ExtraSamples.\n",
      "Warning 1: TIFFWriteDirectorySec:Creating TIFF with legacy Deflate codec identifier, COMPRESSION_ADOBE_DEFLATE is more widely supported\n",
      "Warning 1: TIFFReadDirectory:Sum of Photometric type-related color channels and ExtraSamples doesn't match SamplesPerPixel. Defining non-color channels as ExtraSamples.\n",
      "Warning 1: TIFFWriteDirectorySec:Creating TIFF with legacy Deflate codec identifier, COMPRESSION_ADOBE_DEFLATE is more widely supported\n",
      "Warning 1: TIFFReadDirectory:Sum of Photometric type-related color channels and ExtraSamples doesn't match SamplesPerPixel. Defining non-color channels as ExtraSamples.\n",
      "Warning 1: TIFFWriteDirectorySec:Creating TIFF with legacy Deflate codec identifier, COMPRESSION_ADOBE_DEFLATE is more widely supported\n",
      "Warning 1: TIFFReadDirectory:Sum of Photometric type-related color channels and ExtraSamples doesn't match SamplesPerPixel. Defining non-color channels as ExtraSamples.\n",
      "Warning 1: TIFFWriteDirectorySec:Creating TIFF with legacy Deflate codec identifier, COMPRESSION_ADOBE_DEFLATE is more widely supported\n",
      "Warning 1: TIFFReadDirectory:Sum of Photometric type-related color channels and ExtraSamples doesn't match SamplesPerPixel. Defining non-color channels as ExtraSamples.\n",
      "Warning 1: TIFFWriteDirectorySec:Creating TIFF with legacy Deflate codec identifier, COMPRESSION_ADOBE_DEFLATE is more widely supported\n",
      "Warning 1: TIFFReadDirectory:Sum of Photometric type-related color channels and ExtraSamples doesn't match SamplesPerPixel. Defining non-color channels as ExtraSamples.\n",
      "Warning 1: TIFFWriteDirectorySec:Creating TIFF with legacy Deflate codec identifier, COMPRESSION_ADOBE_DEFLATE is more widely supported\n",
      "Warning 1: TIFFReadDirectory:Sum of Photometric type-related color channels and ExtraSamples doesn't match SamplesPerPixel. Defining non-color channels as ExtraSamples.\n",
      "Warning 1: TIFFWriteDirectorySec:Creating TIFF with legacy Deflate codec identifier, COMPRESSION_ADOBE_DEFLATE is more widely supported\n",
      "Warning 1: TIFFReadDirectory:Sum of Photometric type-related color channels and ExtraSamples doesn't match SamplesPerPixel. Defining non-color channels as ExtraSamples.\n",
      "Warning 1: TIFFWriteDirectorySec:Creating TIFF with legacy Deflate codec identifier, COMPRESSION_ADOBE_DEFLATE is more widely supported\n",
      "Warning 1: TIFFReadDirectory:Sum of Photometric type-related color channels and ExtraSamples doesn't match SamplesPerPixel. Defining non-color channels as ExtraSamples.\n",
      "Warning 1: TIFFWriteDirectorySec:Creating TIFF with legacy Deflate codec identifier, COMPRESSION_ADOBE_DEFLATE is more widely supported\n",
      "Warning 1: TIFFReadDirectory:Sum of Photometric type-related color channels and ExtraSamples doesn't match SamplesPerPixel. Defining non-color channels as ExtraSamples.\n",
      "Warning 1: TIFFWriteDirectorySec:Creating TIFF with legacy Deflate codec identifier, COMPRESSION_ADOBE_DEFLATE is more widely supported\n",
      "Warning 1: TIFFReadDirectory:Sum of Photometric type-related color channels and ExtraSamples doesn't match SamplesPerPixel. Defining non-color channels as ExtraSamples.\n",
      "Warning 1: TIFFWriteDirectorySec:Creating TIFF with legacy Deflate codec identifier, COMPRESSION_ADOBE_DEFLATE is more widely supported\n",
      "Warning 1: TIFFReadDirectory:Sum of Photometric type-related color channels and ExtraSamples doesn't match SamplesPerPixel. Defining non-color channels as ExtraSamples.\n",
      "Warning 1: TIFFWriteDirectorySec:Creating TIFF with legacy Deflate codec identifier, COMPRESSION_ADOBE_DEFLATE is more widely supported\n",
      "Warning 1: TIFFReadDirectory:Sum of Photometric type-related color channels and ExtraSamples doesn't match SamplesPerPixel. Defining non-color channels as ExtraSamples.\n",
      "Warning 1: TIFFWriteDirectorySec:Creating TIFF with legacy Deflate codec identifier, COMPRESSION_ADOBE_DEFLATE is more widely supported\n",
      "Warning 1: TIFFReadDirectory:Sum of Photometric type-related color channels and ExtraSamples doesn't match SamplesPerPixel. Defining non-color channels as ExtraSamples.\n",
      "Warning 1: TIFFWriteDirectorySec:Creating TIFF with legacy Deflate codec identifier, COMPRESSION_ADOBE_DEFLATE is more widely supported\n",
      "Warning 1: TIFFReadDirectory:Sum of Photometric type-related color channels and ExtraSamples doesn't match SamplesPerPixel. Defining non-color channels as ExtraSamples.\n",
      "Warning 1: TIFFWriteDirectorySec:Creating TIFF with legacy Deflate codec identifier, COMPRESSION_ADOBE_DEFLATE is more widely supported\n",
      "Warning 1: TIFFReadDirectory:Sum of Photometric type-related color channels and ExtraSamples doesn't match SamplesPerPixel. Defining non-color channels as ExtraSamples.\n",
      "Warning 1: TIFFWriteDirectorySec:Creating TIFF with legacy Deflate codec identifier, COMPRESSION_ADOBE_DEFLATE is more widely supported\n",
      "Warning 1: TIFFReadDirectory:Sum of Photometric type-related color channels and ExtraSamples doesn't match SamplesPerPixel. Defining non-color channels as ExtraSamples.\n",
      "Warning 1: TIFFWriteDirectorySec:Creating TIFF with legacy Deflate codec identifier, COMPRESSION_ADOBE_DEFLATE is more widely supported\n",
      "Warning 1: TIFFReadDirectory:Sum of Photometric type-related color channels and ExtraSamples doesn't match SamplesPerPixel. Defining non-color channels as ExtraSamples.\n",
      "Warning 1: TIFFWriteDirectorySec:Creating TIFF with legacy Deflate codec identifier, COMPRESSION_ADOBE_DEFLATE is more widely supported\n",
      "Warning 1: TIFFReadDirectory:Sum of Photometric type-related color channels and ExtraSamples doesn't match SamplesPerPixel. Defining non-color channels as ExtraSamples.\n",
      "Warning 1: TIFFWriteDirectorySec:Creating TIFF with legacy Deflate codec identifier, COMPRESSION_ADOBE_DEFLATE is more widely supported\n",
      "Warning 1: TIFFReadDirectory:Sum of Photometric type-related color channels and ExtraSamples doesn't match SamplesPerPixel. Defining non-color channels as ExtraSamples.\n",
      "Warning 1: TIFFWriteDirectorySec:Creating TIFF with legacy Deflate codec identifier, COMPRESSION_ADOBE_DEFLATE is more widely supported\n",
      "Warning 1: TIFFReadDirectory:Sum of Photometric type-related color channels and ExtraSamples doesn't match SamplesPerPixel. Defining non-color channels as ExtraSamples.\n",
      "Warning 1: TIFFWriteDirectorySec:Creating TIFF with legacy Deflate codec identifier, COMPRESSION_ADOBE_DEFLATE is more widely supported\n",
      "Warning 1: TIFFReadDirectory:Sum of Photometric type-related color channels and ExtraSamples doesn't match SamplesPerPixel. Defining non-color channels as ExtraSamples.\n",
      "Warning 1: TIFFWriteDirectorySec:Creating TIFF with legacy Deflate codec identifier, COMPRESSION_ADOBE_DEFLATE is more widely supported\n",
      "Warning 1: TIFFReadDirectory:Sum of Photometric type-related color channels and ExtraSamples doesn't match SamplesPerPixel. Defining non-color channels as ExtraSamples.\n",
      "Warning 1: TIFFWriteDirectorySec:Creating TIFF with legacy Deflate codec identifier, COMPRESSION_ADOBE_DEFLATE is more widely supported\n",
      "Warning 1: TIFFReadDirectory:Sum of Photometric type-related color channels and ExtraSamples doesn't match SamplesPerPixel. Defining non-color channels as ExtraSamples.\n",
      "Warning 1: TIFFWriteDirectorySec:Creating TIFF with legacy Deflate codec identifier, COMPRESSION_ADOBE_DEFLATE is more widely supported\n",
      "Warning 1: TIFFReadDirectory:Sum of Photometric type-related color channels and ExtraSamples doesn't match SamplesPerPixel. Defining non-color channels as ExtraSamples.\n",
      "Warning 1: TIFFWriteDirectorySec:Creating TIFF with legacy Deflate codec identifier, COMPRESSION_ADOBE_DEFLATE is more widely supported\n",
      "Warning 1: TIFFReadDirectory:Sum of Photometric type-related color channels and ExtraSamples doesn't match SamplesPerPixel. Defining non-color channels as ExtraSamples.\n",
      "Warning 1: TIFFWriteDirectorySec:Creating TIFF with legacy Deflate codec identifier, COMPRESSION_ADOBE_DEFLATE is more widely supported\n",
      "Warning 1: TIFFReadDirectory:Sum of Photometric type-related color channels and ExtraSamples doesn't match SamplesPerPixel. Defining non-color channels as ExtraSamples.\n",
      "Warning 1: TIFFWriteDirectorySec:Creating TIFF with legacy Deflate codec identifier, COMPRESSION_ADOBE_DEFLATE is more widely supported\n",
      "Warning 1: TIFFReadDirectory:Sum of Photometric type-related color channels and ExtraSamples doesn't match SamplesPerPixel. Defining non-color channels as ExtraSamples.\n",
      "Warning 1: TIFFWriteDirectorySec:Creating TIFF with legacy Deflate codec identifier, COMPRESSION_ADOBE_DEFLATE is more widely supported\n",
      "Warning 1: TIFFReadDirectory:Sum of Photometric type-related color channels and ExtraSamples doesn't match SamplesPerPixel. Defining non-color channels as ExtraSamples.\n",
      "Warning 1: TIFFWriteDirectorySec:Creating TIFF with legacy Deflate codec identifier, COMPRESSION_ADOBE_DEFLATE is more widely supported\n",
      "Warning 1: TIFFReadDirectory:Sum of Photometric type-related color channels and ExtraSamples doesn't match SamplesPerPixel. Defining non-color channels as ExtraSamples.\n",
      "Warning 1: TIFFWriteDirectorySec:Creating TIFF with legacy Deflate codec identifier, COMPRESSION_ADOBE_DEFLATE is more widely supported\n",
      "Warning 1: TIFFReadDirectory:Sum of Photometric type-related color channels and ExtraSamples doesn't match SamplesPerPixel. Defining non-color channels as ExtraSamples.\n",
      "Warning 1: TIFFWriteDirectorySec:Creating TIFF with legacy Deflate codec identifier, COMPRESSION_ADOBE_DEFLATE is more widely supported\n",
      "Warning 1: TIFFReadDirectory:Sum of Photometric type-related color channels and ExtraSamples doesn't match SamplesPerPixel. Defining non-color channels as ExtraSamples.\n",
      "Warning 1: TIFFWriteDirectorySec:Creating TIFF with legacy Deflate codec identifier, COMPRESSION_ADOBE_DEFLATE is more widely supported\n",
      "Warning 1: TIFFReadDirectory:Sum of Photometric type-related color channels and ExtraSamples doesn't match SamplesPerPixel. Defining non-color channels as ExtraSamples.\n",
      "Warning 1: TIFFWriteDirectorySec:Creating TIFF with legacy Deflate codec identifier, COMPRESSION_ADOBE_DEFLATE is more widely supported\n",
      "Warning 1: TIFFReadDirectory:Sum of Photometric type-related color channels and ExtraSamples doesn't match SamplesPerPixel. Defining non-color channels as ExtraSamples.\n",
      "Warning 1: TIFFWriteDirectorySec:Creating TIFF with legacy Deflate codec identifier, COMPRESSION_ADOBE_DEFLATE is more widely supported\n",
      "Warning 1: TIFFReadDirectory:Sum of Photometric type-related color channels and ExtraSamples doesn't match SamplesPerPixel. Defining non-color channels as ExtraSamples.\n",
      "Warning 1: TIFFWriteDirectorySec:Creating TIFF with legacy Deflate codec identifier, COMPRESSION_ADOBE_DEFLATE is more widely supported\n",
      "Warning 1: TIFFReadDirectory:Sum of Photometric type-related color channels and ExtraSamples doesn't match SamplesPerPixel. Defining non-color channels as ExtraSamples.\n",
      "Warning 1: TIFFWriteDirectorySec:Creating TIFF with legacy Deflate codec identifier, COMPRESSION_ADOBE_DEFLATE is more widely supported\n",
      "Warning 1: TIFFReadDirectory:Sum of Photometric type-related color channels and ExtraSamples doesn't match SamplesPerPixel. Defining non-color channels as ExtraSamples.\n",
      "Warning 1: TIFFWriteDirectorySec:Creating TIFF with legacy Deflate codec identifier, COMPRESSION_ADOBE_DEFLATE is more widely supported\n",
      "Warning 1: TIFFReadDirectory:Sum of Photometric type-related color channels and ExtraSamples doesn't match SamplesPerPixel. Defining non-color channels as ExtraSamples.\n",
      "Warning 1: TIFFWriteDirectorySec:Creating TIFF with legacy Deflate codec identifier, COMPRESSION_ADOBE_DEFLATE is more widely supported\n",
      "Warning 1: TIFFReadDirectory:Sum of Photometric type-related color channels and ExtraSamples doesn't match SamplesPerPixel. Defining non-color channels as ExtraSamples.\n",
      "Warning 1: TIFFWriteDirectorySec:Creating TIFF with legacy Deflate codec identifier, COMPRESSION_ADOBE_DEFLATE is more widely supported\n",
      "Warning 1: TIFFReadDirectory:Sum of Photometric type-related color channels and ExtraSamples doesn't match SamplesPerPixel. Defining non-color channels as ExtraSamples.\n",
      "Warning 1: TIFFWriteDirectorySec:Creating TIFF with legacy Deflate codec identifier, COMPRESSION_ADOBE_DEFLATE is more widely supported\n",
      "Warning 1: TIFFReadDirectory:Sum of Photometric type-related color channels and ExtraSamples doesn't match SamplesPerPixel. Defining non-color channels as ExtraSamples.\n",
      "Warning 1: TIFFWriteDirectorySec:Creating TIFF with legacy Deflate codec identifier, COMPRESSION_ADOBE_DEFLATE is more widely supported\n",
      "Warning 1: TIFFReadDirectory:Sum of Photometric type-related color channels and ExtraSamples doesn't match SamplesPerPixel. Defining non-color channels as ExtraSamples.\n",
      "Warning 1: TIFFWriteDirectorySec:Creating TIFF with legacy Deflate codec identifier, COMPRESSION_ADOBE_DEFLATE is more widely supported\n",
      "Warning 1: TIFFReadDirectory:Sum of Photometric type-related color channels and ExtraSamples doesn't match SamplesPerPixel. Defining non-color channels as ExtraSamples.\n",
      "Warning 1: TIFFWriteDirectorySec:Creating TIFF with legacy Deflate codec identifier, COMPRESSION_ADOBE_DEFLATE is more widely supported\n",
      "Warning 1: TIFFReadDirectory:Sum of Photometric type-related color channels and ExtraSamples doesn't match SamplesPerPixel. Defining non-color channels as ExtraSamples.\n",
      "Warning 1: TIFFWriteDirectorySec:Creating TIFF with legacy Deflate codec identifier, COMPRESSION_ADOBE_DEFLATE is more widely supported\n",
      "Warning 1: TIFFReadDirectory:Sum of Photometric type-related color channels and ExtraSamples doesn't match SamplesPerPixel. Defining non-color channels as ExtraSamples.\n",
      "Warning 1: TIFFWriteDirectorySec:Creating TIFF with legacy Deflate codec identifier, COMPRESSION_ADOBE_DEFLATE is more widely supported\n",
      "Warning 1: TIFFReadDirectory:Sum of Photometric type-related color channels and ExtraSamples doesn't match SamplesPerPixel. Defining non-color channels as ExtraSamples.\n",
      "Warning 1: TIFFWriteDirectorySec:Creating TIFF with legacy Deflate codec identifier, COMPRESSION_ADOBE_DEFLATE is more widely supported\n",
      "Warning 1: TIFFReadDirectory:Sum of Photometric type-related color channels and ExtraSamples doesn't match SamplesPerPixel. Defining non-color channels as ExtraSamples.\n",
      "Warning 1: TIFFWriteDirectorySec:Creating TIFF with legacy Deflate codec identifier, COMPRESSION_ADOBE_DEFLATE is more widely supported\n",
      "Warning 1: TIFFReadDirectory:Sum of Photometric type-related color channels and ExtraSamples doesn't match SamplesPerPixel. Defining non-color channels as ExtraSamples.\n",
      "Warning 1: TIFFWriteDirectorySec:Creating TIFF with legacy Deflate codec identifier, COMPRESSION_ADOBE_DEFLATE is more widely supported\n",
      "Warning 1: TIFFReadDirectory:Sum of Photometric type-related color channels and ExtraSamples doesn't match SamplesPerPixel. Defining non-color channels as ExtraSamples.\n",
      "Warning 1: TIFFWriteDirectorySec:Creating TIFF with legacy Deflate codec identifier, COMPRESSION_ADOBE_DEFLATE is more widely supported\n",
      "Warning 1: TIFFReadDirectory:Sum of Photometric type-related color channels and ExtraSamples doesn't match SamplesPerPixel. Defining non-color channels as ExtraSamples.\n",
      "Warning 1: TIFFWriteDirectorySec:Creating TIFF with legacy Deflate codec identifier, COMPRESSION_ADOBE_DEFLATE is more widely supported\n",
      "Warning 1: TIFFReadDirectory:Sum of Photometric type-related color channels and ExtraSamples doesn't match SamplesPerPixel. Defining non-color channels as ExtraSamples.\n",
      "Warning 1: TIFFWriteDirectorySec:Creating TIFF with legacy Deflate codec identifier, COMPRESSION_ADOBE_DEFLATE is more widely supported\n",
      "Warning 1: TIFFReadDirectory:Sum of Photometric type-related color channels and ExtraSamples doesn't match SamplesPerPixel. Defining non-color channels as ExtraSamples.\n",
      "Warning 1: TIFFWriteDirectorySec:Creating TIFF with legacy Deflate codec identifier, COMPRESSION_ADOBE_DEFLATE is more widely supported\n",
      "Warning 1: TIFFReadDirectory:Sum of Photometric type-related color channels and ExtraSamples doesn't match SamplesPerPixel. Defining non-color channels as ExtraSamples.\n",
      "Warning 1: TIFFWriteDirectorySec:Creating TIFF with legacy Deflate codec identifier, COMPRESSION_ADOBE_DEFLATE is more widely supported\n",
      "Warning 1: TIFFReadDirectory:Sum of Photometric type-related color channels and ExtraSamples doesn't match SamplesPerPixel. Defining non-color channels as ExtraSamples.\n",
      "Warning 1: TIFFWriteDirectorySec:Creating TIFF with legacy Deflate codec identifier, COMPRESSION_ADOBE_DEFLATE is more widely supported\n",
      "Warning 1: TIFFReadDirectory:Sum of Photometric type-related color channels and ExtraSamples doesn't match SamplesPerPixel. Defining non-color channels as ExtraSamples.\n",
      "Warning 1: TIFFWriteDirectorySec:Creating TIFF with legacy Deflate codec identifier, COMPRESSION_ADOBE_DEFLATE is more widely supported\n",
      "Warning 1: TIFFReadDirectory:Sum of Photometric type-related color channels and ExtraSamples doesn't match SamplesPerPixel. Defining non-color channels as ExtraSamples.\n",
      "Warning 1: TIFFWriteDirectorySec:Creating TIFF with legacy Deflate codec identifier, COMPRESSION_ADOBE_DEFLATE is more widely supported\n",
      "Warning 1: TIFFReadDirectory:Sum of Photometric type-related color channels and ExtraSamples doesn't match SamplesPerPixel. Defining non-color channels as ExtraSamples.\n",
      "Warning 1: TIFFWriteDirectorySec:Creating TIFF with legacy Deflate codec identifier, COMPRESSION_ADOBE_DEFLATE is more widely supported\n",
      "Warning 1: TIFFReadDirectory:Sum of Photometric type-related color channels and ExtraSamples doesn't match SamplesPerPixel. Defining non-color channels as ExtraSamples.\n",
      "Warning 1: TIFFWriteDirectorySec:Creating TIFF with legacy Deflate codec identifier, COMPRESSION_ADOBE_DEFLATE is more widely supported\n",
      "Warning 1: TIFFReadDirectory:Sum of Photometric type-related color channels and ExtraSamples doesn't match SamplesPerPixel. Defining non-color channels as ExtraSamples.\n",
      "Warning 1: TIFFWriteDirectorySec:Creating TIFF with legacy Deflate codec identifier, COMPRESSION_ADOBE_DEFLATE is more widely supported\n",
      "Warning 1: TIFFReadDirectory:Sum of Photometric type-related color channels and ExtraSamples doesn't match SamplesPerPixel. Defining non-color channels as ExtraSamples.\n",
      "Warning 1: TIFFWriteDirectorySec:Creating TIFF with legacy Deflate codec identifier, COMPRESSION_ADOBE_DEFLATE is more widely supported\n",
      "Warning 1: TIFFReadDirectory:Sum of Photometric type-related color channels and ExtraSamples doesn't match SamplesPerPixel. Defining non-color channels as ExtraSamples.\n",
      "Warning 1: TIFFWriteDirectorySec:Creating TIFF with legacy Deflate codec identifier, COMPRESSION_ADOBE_DEFLATE is more widely supported\n",
      "Warning 1: TIFFReadDirectory:Sum of Photometric type-related color channels and ExtraSamples doesn't match SamplesPerPixel. Defining non-color channels as ExtraSamples.\n",
      "Warning 1: TIFFWriteDirectorySec:Creating TIFF with legacy Deflate codec identifier, COMPRESSION_ADOBE_DEFLATE is more widely supported\n",
      "Warning 1: TIFFReadDirectory:Sum of Photometric type-related color channels and ExtraSamples doesn't match SamplesPerPixel. Defining non-color channels as ExtraSamples.\n",
      "Warning 1: TIFFWriteDirectorySec:Creating TIFF with legacy Deflate codec identifier, COMPRESSION_ADOBE_DEFLATE is more widely supported\n",
      "Warning 1: TIFFReadDirectory:Sum of Photometric type-related color channels and ExtraSamples doesn't match SamplesPerPixel. Defining non-color channels as ExtraSamples.\n",
      "Warning 1: TIFFWriteDirectorySec:Creating TIFF with legacy Deflate codec identifier, COMPRESSION_ADOBE_DEFLATE is more widely supported\n",
      "Warning 1: TIFFReadDirectory:Sum of Photometric type-related color channels and ExtraSamples doesn't match SamplesPerPixel. Defining non-color channels as ExtraSamples.\n",
      "Warning 1: TIFFWriteDirectorySec:Creating TIFF with legacy Deflate codec identifier, COMPRESSION_ADOBE_DEFLATE is more widely supported\n",
      "Warning 1: TIFFReadDirectory:Sum of Photometric type-related color channels and ExtraSamples doesn't match SamplesPerPixel. Defining non-color channels as ExtraSamples.\n",
      "Warning 1: TIFFWriteDirectorySec:Creating TIFF with legacy Deflate codec identifier, COMPRESSION_ADOBE_DEFLATE is more widely supported\n",
      "Warning 1: TIFFReadDirectory:Sum of Photometric type-related color channels and ExtraSamples doesn't match SamplesPerPixel. Defining non-color channels as ExtraSamples.\n",
      "Warning 1: TIFFWriteDirectorySec:Creating TIFF with legacy Deflate codec identifier, COMPRESSION_ADOBE_DEFLATE is more widely supported\n",
      "Warning 1: TIFFReadDirectory:Sum of Photometric type-related color channels and ExtraSamples doesn't match SamplesPerPixel. Defining non-color channels as ExtraSamples.\n",
      "Warning 1: TIFFWriteDirectorySec:Creating TIFF with legacy Deflate codec identifier, COMPRESSION_ADOBE_DEFLATE is more widely supported\n",
      "Warning 1: TIFFReadDirectory:Sum of Photometric type-related color channels and ExtraSamples doesn't match SamplesPerPixel. Defining non-color channels as ExtraSamples.\n",
      "Warning 1: TIFFWriteDirectorySec:Creating TIFF with legacy Deflate codec identifier, COMPRESSION_ADOBE_DEFLATE is more widely supported\n",
      "Warning 1: TIFFReadDirectory:Sum of Photometric type-related color channels and ExtraSamples doesn't match SamplesPerPixel. Defining non-color channels as ExtraSamples.\n",
      "Warning 1: TIFFWriteDirectorySec:Creating TIFF with legacy Deflate codec identifier, COMPRESSION_ADOBE_DEFLATE is more widely supported\n",
      "Warning 1: TIFFReadDirectory:Sum of Photometric type-related color channels and ExtraSamples doesn't match SamplesPerPixel. Defining non-color channels as ExtraSamples.\n",
      "Warning 1: TIFFWriteDirectorySec:Creating TIFF with legacy Deflate codec identifier, COMPRESSION_ADOBE_DEFLATE is more widely supported\n",
      "Warning 1: TIFFReadDirectory:Sum of Photometric type-related color channels and ExtraSamples doesn't match SamplesPerPixel. Defining non-color channels as ExtraSamples.\n",
      "Warning 1: TIFFWriteDirectorySec:Creating TIFF with legacy Deflate codec identifier, COMPRESSION_ADOBE_DEFLATE is more widely supported\n",
      "Warning 1: TIFFReadDirectory:Sum of Photometric type-related color channels and ExtraSamples doesn't match SamplesPerPixel. Defining non-color channels as ExtraSamples.\n",
      "Warning 1: TIFFWriteDirectorySec:Creating TIFF with legacy Deflate codec identifier, COMPRESSION_ADOBE_DEFLATE is more widely supported\n",
      "Warning 1: TIFFReadDirectory:Sum of Photometric type-related color channels and ExtraSamples doesn't match SamplesPerPixel. Defining non-color channels as ExtraSamples.\n",
      "Warning 1: TIFFWriteDirectorySec:Creating TIFF with legacy Deflate codec identifier, COMPRESSION_ADOBE_DEFLATE is more widely supported\n",
      "Warning 1: TIFFReadDirectory:Sum of Photometric type-related color channels and ExtraSamples doesn't match SamplesPerPixel. Defining non-color channels as ExtraSamples.\n",
      "Warning 1: TIFFWriteDirectorySec:Creating TIFF with legacy Deflate codec identifier, COMPRESSION_ADOBE_DEFLATE is more widely supported\n",
      "Warning 1: TIFFReadDirectory:Sum of Photometric type-related color channels and ExtraSamples doesn't match SamplesPerPixel. Defining non-color channels as ExtraSamples.\n",
      "Warning 1: TIFFWriteDirectorySec:Creating TIFF with legacy Deflate codec identifier, COMPRESSION_ADOBE_DEFLATE is more widely supported\n",
      "Warning 1: TIFFReadDirectory:Sum of Photometric type-related color channels and ExtraSamples doesn't match SamplesPerPixel. Defining non-color channels as ExtraSamples.\n",
      "Warning 1: TIFFWriteDirectorySec:Creating TIFF with legacy Deflate codec identifier, COMPRESSION_ADOBE_DEFLATE is more widely supported\n",
      "Warning 1: TIFFReadDirectory:Sum of Photometric type-related color channels and ExtraSamples doesn't match SamplesPerPixel. Defining non-color channels as ExtraSamples.\n",
      "Warning 1: TIFFWriteDirectorySec:Creating TIFF with legacy Deflate codec identifier, COMPRESSION_ADOBE_DEFLATE is more widely supported\n",
      "Warning 1: TIFFReadDirectory:Sum of Photometric type-related color channels and ExtraSamples doesn't match SamplesPerPixel. Defining non-color channels as ExtraSamples.\n",
      "Warning 1: TIFFWriteDirectorySec:Creating TIFF with legacy Deflate codec identifier, COMPRESSION_ADOBE_DEFLATE is more widely supported\n",
      "Warning 1: TIFFReadDirectory:Sum of Photometric type-related color channels and ExtraSamples doesn't match SamplesPerPixel. Defining non-color channels as ExtraSamples.\n",
      "Warning 1: TIFFWriteDirectorySec:Creating TIFF with legacy Deflate codec identifier, COMPRESSION_ADOBE_DEFLATE is more widely supported\n",
      "Warning 1: TIFFReadDirectory:Sum of Photometric type-related color channels and ExtraSamples doesn't match SamplesPerPixel. Defining non-color channels as ExtraSamples.\n",
      "Warning 1: TIFFWriteDirectorySec:Creating TIFF with legacy Deflate codec identifier, COMPRESSION_ADOBE_DEFLATE is more widely supported\n",
      "Warning 1: TIFFReadDirectory:Sum of Photometric type-related color channels and ExtraSamples doesn't match SamplesPerPixel. Defining non-color channels as ExtraSamples.\n",
      "Warning 1: TIFFWriteDirectorySec:Creating TIFF with legacy Deflate codec identifier, COMPRESSION_ADOBE_DEFLATE is more widely supported\n",
      "Warning 1: TIFFReadDirectory:Sum of Photometric type-related color channels and ExtraSamples doesn't match SamplesPerPixel. Defining non-color channels as ExtraSamples.\n",
      "Warning 1: TIFFWriteDirectorySec:Creating TIFF with legacy Deflate codec identifier, COMPRESSION_ADOBE_DEFLATE is more widely supported\n",
      "Warning 1: TIFFReadDirectory:Sum of Photometric type-related color channels and ExtraSamples doesn't match SamplesPerPixel. Defining non-color channels as ExtraSamples.\n",
      "Warning 1: TIFFWriteDirectorySec:Creating TIFF with legacy Deflate codec identifier, COMPRESSION_ADOBE_DEFLATE is more widely supported\n",
      "Warning 1: TIFFReadDirectory:Sum of Photometric type-related color channels and ExtraSamples doesn't match SamplesPerPixel. Defining non-color channels as ExtraSamples.\n",
      "Warning 1: TIFFWriteDirectorySec:Creating TIFF with legacy Deflate codec identifier, COMPRESSION_ADOBE_DEFLATE is more widely supported\n",
      "Warning 1: TIFFReadDirectory:Sum of Photometric type-related color channels and ExtraSamples doesn't match SamplesPerPixel. Defining non-color channels as ExtraSamples.\n",
      "Warning 1: TIFFWriteDirectorySec:Creating TIFF with legacy Deflate codec identifier, COMPRESSION_ADOBE_DEFLATE is more widely supported\n",
      "Warning 1: TIFFReadDirectory:Sum of Photometric type-related color channels and ExtraSamples doesn't match SamplesPerPixel. Defining non-color channels as ExtraSamples.\n",
      "Warning 1: TIFFWriteDirectorySec:Creating TIFF with legacy Deflate codec identifier, COMPRESSION_ADOBE_DEFLATE is more widely supported\n",
      "Warning 1: TIFFReadDirectory:Sum of Photometric type-related color channels and ExtraSamples doesn't match SamplesPerPixel. Defining non-color channels as ExtraSamples.\n",
      "Warning 1: TIFFWriteDirectorySec:Creating TIFF with legacy Deflate codec identifier, COMPRESSION_ADOBE_DEFLATE is more widely supported\n",
      "Warning 1: TIFFReadDirectory:Sum of Photometric type-related color channels and ExtraSamples doesn't match SamplesPerPixel. Defining non-color channels as ExtraSamples.\n",
      "Warning 1: TIFFWriteDirectorySec:Creating TIFF with legacy Deflate codec identifier, COMPRESSION_ADOBE_DEFLATE is more widely supported\n",
      "Warning 1: TIFFReadDirectory:Sum of Photometric type-related color channels and ExtraSamples doesn't match SamplesPerPixel. Defining non-color channels as ExtraSamples.\n",
      "Warning 1: TIFFWriteDirectorySec:Creating TIFF with legacy Deflate codec identifier, COMPRESSION_ADOBE_DEFLATE is more widely supported\n",
      "Warning 1: TIFFReadDirectory:Sum of Photometric type-related color channels and ExtraSamples doesn't match SamplesPerPixel. Defining non-color channels as ExtraSamples.\n",
      "Warning 1: TIFFWriteDirectorySec:Creating TIFF with legacy Deflate codec identifier, COMPRESSION_ADOBE_DEFLATE is more widely supported\n",
      "Warning 1: TIFFReadDirectory:Sum of Photometric type-related color channels and ExtraSamples doesn't match SamplesPerPixel. Defining non-color channels as ExtraSamples.\n",
      "Warning 1: TIFFWriteDirectorySec:Creating TIFF with legacy Deflate codec identifier, COMPRESSION_ADOBE_DEFLATE is more widely supported\n",
      "Warning 1: TIFFReadDirectory:Sum of Photometric type-related color channels and ExtraSamples doesn't match SamplesPerPixel. Defining non-color channels as ExtraSamples.\n",
      "Warning 1: TIFFWriteDirectorySec:Creating TIFF with legacy Deflate codec identifier, COMPRESSION_ADOBE_DEFLATE is more widely supported\n",
      "Warning 1: TIFFReadDirectory:Sum of Photometric type-related color channels and ExtraSamples doesn't match SamplesPerPixel. Defining non-color channels as ExtraSamples.\n",
      "Warning 1: TIFFWriteDirectorySec:Creating TIFF with legacy Deflate codec identifier, COMPRESSION_ADOBE_DEFLATE is more widely supported\n",
      "Warning 1: TIFFReadDirectory:Sum of Photometric type-related color channels and ExtraSamples doesn't match SamplesPerPixel. Defining non-color channels as ExtraSamples.\n",
      "Warning 1: TIFFWriteDirectorySec:Creating TIFF with legacy Deflate codec identifier, COMPRESSION_ADOBE_DEFLATE is more widely supported\n",
      "Warning 1: TIFFReadDirectory:Sum of Photometric type-related color channels and ExtraSamples doesn't match SamplesPerPixel. Defining non-color channels as ExtraSamples.\n",
      "Warning 1: TIFFWriteDirectorySec:Creating TIFF with legacy Deflate codec identifier, COMPRESSION_ADOBE_DEFLATE is more widely supported\n",
      "Warning 1: TIFFReadDirectory:Sum of Photometric type-related color channels and ExtraSamples doesn't match SamplesPerPixel. Defining non-color channels as ExtraSamples.\n",
      "Warning 1: TIFFWriteDirectorySec:Creating TIFF with legacy Deflate codec identifier, COMPRESSION_ADOBE_DEFLATE is more widely supported\n",
      "Warning 1: TIFFReadDirectory:Sum of Photometric type-related color channels and ExtraSamples doesn't match SamplesPerPixel. Defining non-color channels as ExtraSamples.\n",
      "Warning 1: TIFFWriteDirectorySec:Creating TIFF with legacy Deflate codec identifier, COMPRESSION_ADOBE_DEFLATE is more widely supported\n",
      "Warning 1: TIFFReadDirectory:Sum of Photometric type-related color channels and ExtraSamples doesn't match SamplesPerPixel. Defining non-color channels as ExtraSamples.\n",
      "Warning 1: TIFFWriteDirectorySec:Creating TIFF with legacy Deflate codec identifier, COMPRESSION_ADOBE_DEFLATE is more widely supported\n",
      "Warning 1: TIFFReadDirectory:Sum of Photometric type-related color channels and ExtraSamples doesn't match SamplesPerPixel. Defining non-color channels as ExtraSamples.\n",
      "Warning 1: TIFFWriteDirectorySec:Creating TIFF with legacy Deflate codec identifier, COMPRESSION_ADOBE_DEFLATE is more widely supported\n",
      "Warning 1: TIFFReadDirectory:Sum of Photometric type-related color channels and ExtraSamples doesn't match SamplesPerPixel. Defining non-color channels as ExtraSamples.\n",
      "Warning 1: TIFFWriteDirectorySec:Creating TIFF with legacy Deflate codec identifier, COMPRESSION_ADOBE_DEFLATE is more widely supported\n",
      "Warning 1: TIFFReadDirectory:Sum of Photometric type-related color channels and ExtraSamples doesn't match SamplesPerPixel. Defining non-color channels as ExtraSamples.\n",
      "Warning 1: TIFFWriteDirectorySec:Creating TIFF with legacy Deflate codec identifier, COMPRESSION_ADOBE_DEFLATE is more widely supported\n",
      "Warning 1: TIFFReadDirectory:Sum of Photometric type-related color channels and ExtraSamples doesn't match SamplesPerPixel. Defining non-color channels as ExtraSamples.\n",
      "Warning 1: TIFFWriteDirectorySec:Creating TIFF with legacy Deflate codec identifier, COMPRESSION_ADOBE_DEFLATE is more widely supported\n",
      "Warning 1: TIFFReadDirectory:Sum of Photometric type-related color channels and ExtraSamples doesn't match SamplesPerPixel. Defining non-color channels as ExtraSamples.\n",
      "Warning 1: TIFFWriteDirectorySec:Creating TIFF with legacy Deflate codec identifier, COMPRESSION_ADOBE_DEFLATE is more widely supported\n",
      "Warning 1: TIFFReadDirectory:Sum of Photometric type-related color channels and ExtraSamples doesn't match SamplesPerPixel. Defining non-color channels as ExtraSamples.\n",
      "Warning 1: TIFFWriteDirectorySec:Creating TIFF with legacy Deflate codec identifier, COMPRESSION_ADOBE_DEFLATE is more widely supported\n",
      "Warning 1: TIFFReadDirectory:Sum of Photometric type-related color channels and ExtraSamples doesn't match SamplesPerPixel. Defining non-color channels as ExtraSamples.\n",
      "Warning 1: TIFFWriteDirectorySec:Creating TIFF with legacy Deflate codec identifier, COMPRESSION_ADOBE_DEFLATE is more widely supported\n",
      "Warning 1: TIFFReadDirectory:Sum of Photometric type-related color channels and ExtraSamples doesn't match SamplesPerPixel. Defining non-color channels as ExtraSamples.\n",
      "Warning 1: TIFFWriteDirectorySec:Creating TIFF with legacy Deflate codec identifier, COMPRESSION_ADOBE_DEFLATE is more widely supported\n",
      "Warning 1: TIFFReadDirectory:Sum of Photometric type-related color channels and ExtraSamples doesn't match SamplesPerPixel. Defining non-color channels as ExtraSamples.\n",
      "Warning 1: TIFFWriteDirectorySec:Creating TIFF with legacy Deflate codec identifier, COMPRESSION_ADOBE_DEFLATE is more widely supported\n",
      "Warning 1: TIFFReadDirectory:Sum of Photometric type-related color channels and ExtraSamples doesn't match SamplesPerPixel. Defining non-color channels as ExtraSamples.\n",
      "Warning 1: TIFFWriteDirectorySec:Creating TIFF with legacy Deflate codec identifier, COMPRESSION_ADOBE_DEFLATE is more widely supported\n",
      "Warning 1: TIFFReadDirectory:Sum of Photometric type-related color channels and ExtraSamples doesn't match SamplesPerPixel. Defining non-color channels as ExtraSamples.\n",
      "Warning 1: TIFFWriteDirectorySec:Creating TIFF with legacy Deflate codec identifier, COMPRESSION_ADOBE_DEFLATE is more widely supported\n",
      "Warning 1: TIFFReadDirectory:Sum of Photometric type-related color channels and ExtraSamples doesn't match SamplesPerPixel. Defining non-color channels as ExtraSamples.\n",
      "Warning 1: TIFFWriteDirectorySec:Creating TIFF with legacy Deflate codec identifier, COMPRESSION_ADOBE_DEFLATE is more widely supported\n",
      "Warning 1: TIFFReadDirectory:Sum of Photometric type-related color channels and ExtraSamples doesn't match SamplesPerPixel. Defining non-color channels as ExtraSamples.\n",
      "Warning 1: TIFFWriteDirectorySec:Creating TIFF with legacy Deflate codec identifier, COMPRESSION_ADOBE_DEFLATE is more widely supported\n",
      "Warning 1: TIFFReadDirectory:Sum of Photometric type-related color channels and ExtraSamples doesn't match SamplesPerPixel. Defining non-color channels as ExtraSamples.\n",
      "Warning 1: TIFFWriteDirectorySec:Creating TIFF with legacy Deflate codec identifier, COMPRESSION_ADOBE_DEFLATE is more widely supported\n",
      "More than 1000 errors or warnings have been reported. No more will be reported from now.\n"
     ]
    }
   ],
   "source": [
    "set_band_dir_gee('../data/raster/AOD_REA_GEE/ZMVM/2022/')"
   ]
  },
  {
   "cell_type": "code",
   "execution_count": null,
   "id": "eb39ca42-1b18-42f1-a7ae-9a663425381a",
   "metadata": {},
   "outputs": [],
   "source": []
  }
 ],
 "metadata": {
  "kernelspec": {
   "display_name": "git_aod_rea",
   "language": "python",
   "name": "python3"
  },
  "language_info": {
   "name": "python",
   "version": "3.11.13"
  }
 },
 "nbformat": 4,
 "nbformat_minor": 5
}
